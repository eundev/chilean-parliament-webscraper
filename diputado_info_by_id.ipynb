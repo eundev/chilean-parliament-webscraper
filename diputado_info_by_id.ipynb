{
 "cells": [
  {
   "cell_type": "code",
   "execution_count": 11,
   "metadata": {},
   "outputs": [],
   "source": [
    "import re\n",
    "import time\n",
    "\n",
    "import numpy as np\n",
    "from matplotlib import pyplot as plt\n",
    "import requests\n",
    "import plotly.graph_objects as go\n",
    "from bs4 import BeautifulSoup\n",
    "from selenium import webdriver\n",
    "from selenium.webdriver.chrome.options import Options\n",
    "from selenium.webdriver.support.ui import Select\n",
    "\n",
    "BASE_INFORMATION_LINK = \"https://www.camara.cl/camara/diputado_detalle.aspx?prmid=\"\n",
    "TRANSPARENCY_LINK = \"https://www.camara.cl/camara/transparencia_diputado.aspx?prmId=\"\n",
    "\n",
    "chrome_options = Options()\n",
    "chrome_options.add_argument(\"no-sandbox\")\n",
    "chrome_options.add_argument(\"headless\")\n",
    "chrome_options.add_argument(\"start-maximized\")\n",
    "chrome_options.add_argument(\"--disable-notifications\")\n",
    "    \n",
    "\n",
    "months = [\n",
    "    \"enero\",\n",
    "    \"febrero\",\n",
    "    \"marzo\",\n",
    "    \"abril\",\n",
    "    \"mayo\",\n",
    "    \"junio\",\n",
    "    \"julio\",\n",
    "    \"agosto\",\n",
    "    \"septiembre\",\n",
    "    \"octubre\",\n",
    "    \"noviembre\",\n",
    "    \"diciembre\",\n",
    "]"
   ]
  },
  {
   "cell_type": "markdown",
   "metadata": {},
   "source": [
    "# Information gathering functions"
   ]
  },
  {
   "cell_type": "code",
   "execution_count": 12,
   "metadata": {},
   "outputs": [],
   "source": [
    "def get_basic_info(driver, id):\n",
    "    PROFILE_LINK = BASE_INFORMATION_LINK + str(id)\n",
    "    diputado = {\"id\": id}\n",
    "    driver.get(PROFILE_LINK)\n",
    "    name = driver.find_element_by_tag_name(\"h3\").text\n",
    "    test = driver.find_elements_by_css_selector(\"div[class=summary] > p\")\n",
    "    diputado[\"nombre\"] = \" \".join(\n",
    "        [sname.lower().capitalize() for sname in name.split(\" \")][1:]\n",
    "    )\n",
    "    diputado[\"email\"] = driver.find_element_by_css_selector(\"li[class=email] > a\").text\n",
    "    diputado[\"comunas\"] = test[0].text\n",
    "    diputado[\"distrito\"] = test[1].text\n",
    "    diputado[\"region\"] = test[2].text\n",
    "    diputado[\"comite\"] = test[3].text\n",
    "    try:\n",
    "        facebook = driver.find_element_by_css_selector(\n",
    "            \"li[class=facebook] > a\"\n",
    "        ).get_attribute(\"href\")\n",
    "        diputado[\"facebook\"] = facebook\n",
    "    except Exception as E:\n",
    "        diputado[\"facebook\"] = None\n",
    "    # NOTE: Some have or dont have facebook\n",
    "    try:\n",
    "        twitter = driver.find_element_by_css_selector(\n",
    "            \"li[class=twitter] > a\"\n",
    "        ).get_attribute(\"href\")\n",
    "        diputado[\"twitter\"] = twitter\n",
    "    except Exception as E:\n",
    "        diputado[\"twitter\"] = None\n",
    "    print(\"Finished getting biographical data\")\n",
    "    return diputado\n",
    "\n",
    "\n",
    "def get_expenditure_data(driver, id):\n",
    "    SPECIFIC_TRANSPARENCY_LINK = TRANSPARENCY_LINK + str(id)\n",
    "\n",
    "    driver.get(SPECIFIC_TRANSPARENCY_LINK)\n",
    "    time.sleep(0.25)\n",
    "    select_dates = driver.find_elements_by_css_selector(\n",
    "        \"div[id=ctl00_mainPlaceHolder_UpdatePanel1] > p \"\n",
    "    )\n",
    "    gastos_mensuales = []\n",
    "    for x in [2018, 2019]:\n",
    "        select2 = Select(\n",
    "                driver.find_element_by_xpath(\n",
    "                    \"//select[@name='ctl00$mainPlaceHolder$ddlAno']\"\n",
    "                )\n",
    "            )\n",
    "        select2.select_by_value(str(x))\n",
    "        for i in range(1, 13):\n",
    "            time.sleep(0.25)\n",
    "            select = Select(\n",
    "                driver.find_element_by_xpath(\n",
    "                    \"//select[@name='ctl00$mainPlaceHolder$ddlMes']\"\n",
    "                )\n",
    "            )\n",
    "            select.select_by_value(str(i))\n",
    "            time.sleep(0.25)\n",
    "            table = driver.find_elements_by_css_selector(\n",
    "                \"table[id=table_gasop] > tbody > tr\"\n",
    "            )\n",
    "            costos = {}\n",
    "            costos[\"year\"] = x\n",
    "            costos[\"month\"] = months[i - 1].capitalize()\n",
    "            gasto_total = 0\n",
    "            for row in table:\n",
    "                cells = row.find_elements_by_tag_name(\"td\")\n",
    "                costos[cells[0].text.lower().capitalize()] = int(\n",
    "                    cells[1].text.replace(\".\", \"\")\n",
    "                )\n",
    "                gasto_total += int(cells[1].text.replace(\".\", \"\"))\n",
    "            costos[\"total\"] = gasto_total\n",
    "            gastos_mensuales.append(costos)\n",
    "    print(\"Finished getting expenditure\")\n",
    "    return gastos_mensuales\n",
    "\n",
    "\n"
   ]
  },
  {
   "cell_type": "markdown",
   "metadata": {},
   "source": [
    "# Main Function Call"
   ]
  },
  {
   "cell_type": "code",
   "execution_count": 31,
   "metadata": {},
   "outputs": [],
   "source": [
    "def get_all_info(id):\n",
    "    driver = webdriver.Chrome(\"./chromedriver\", options=chrome_options)\n",
    "    id_diputado = id\n",
    "    diputado = get_basic_info(driver, id_diputado)\n",
    "    gastos = get_expenditure_data(driver, id_diputado)\n",
    "    time.sleep(2)\n",
    "    driver.quit()\n",
    "    formatted_labels = ['18-'+month for month in months]\n",
    "    [formatted_labels.append('19-'+month) for month in months]\n",
    "    all_data = {}\n",
    "    keys = []\n",
    "    for gasto in gastos:\n",
    "        current_keys = gasto.keys()\n",
    "        for key in current_keys:\n",
    "            if key not in keys and key != 'year' and key != 'month' and key != 'total':\n",
    "                all_data[key] = []\n",
    "    for gasto in gastos:\n",
    "        for key in all_data.keys():\n",
    "            try:\n",
    "                all_data[key].append(gasto[key])\n",
    "            except:\n",
    "                all_data[key].append(0)\n",
    "    graph_data = []\n",
    "    fig = go.Figure()\n",
    "    for key in all_data.keys():\n",
    "        fig.add_trace(go.Bar(name=key, x=formatted_labels, y=all_data[key]))\n",
    "    graph_title = 'Gastos de %s ' % diputado[\"nombre\"]\n",
    "    fig.update_layout(barmode='stack', showlegend=False, autosize=True, title=go.layout.Title(text=graph_title))\n",
    "    fig.show()"
   ]
  },
  {
   "cell_type": "code",
   "execution_count": 32,
   "metadata": {},
   "outputs": [
    {
     "name": "stdout",
     "output_type": "stream",
     "text": [
      "Finished getting biographical data\n",
      "Finished getting expenditure\n"
     ]
    },
    {
     "data": {
      "application/vnd.plotly.v1+json": {
       "config": {
        "plotlyServerURL": "https://plot.ly"
       },
       "data": [
        {
         "name": "Oficinas parlamentarias (incluye arriendos, consumos básicos, internet, etc.)  ",
         "type": "bar",
         "x": [
          "18-enero",
          "18-febrero",
          "18-marzo",
          "18-abril",
          "18-mayo",
          "18-junio",
          "18-julio",
          "18-agosto",
          "18-septiembre",
          "18-octubre",
          "18-noviembre",
          "18-diciembre",
          "19-enero",
          "19-febrero",
          "19-marzo",
          "19-abril",
          "19-mayo",
          "19-junio",
          "19-julio",
          "19-agosto",
          "19-septiembre",
          "19-octubre",
          "19-noviembre",
          "19-diciembre"
         ],
         "y": [
          0,
          0,
          913040,
          0,
          0,
          536015,
          0,
          0,
          0,
          0,
          0,
          0,
          0,
          0,
          0,
          0,
          0,
          0,
          0,
          0,
          0,
          0,
          0,
          0
         ]
        },
        {
         "name": "Telefonía  ",
         "type": "bar",
         "x": [
          "18-enero",
          "18-febrero",
          "18-marzo",
          "18-abril",
          "18-mayo",
          "18-junio",
          "18-julio",
          "18-agosto",
          "18-septiembre",
          "18-octubre",
          "18-noviembre",
          "18-diciembre",
          "19-enero",
          "19-febrero",
          "19-marzo",
          "19-abril",
          "19-mayo",
          "19-junio",
          "19-julio",
          "19-agosto",
          "19-septiembre",
          "19-octubre",
          "19-noviembre",
          "19-diciembre"
         ],
         "y": [
          0,
          0,
          10180,
          124060,
          119871,
          162227,
          165629,
          165780,
          344258,
          206060,
          205811,
          211346,
          205395,
          205157,
          183218,
          176595,
          175047,
          222611,
          0,
          0,
          0,
          0,
          0,
          0
         ]
        },
        {
         "name": "Traslación  ",
         "type": "bar",
         "x": [
          "18-enero",
          "18-febrero",
          "18-marzo",
          "18-abril",
          "18-mayo",
          "18-junio",
          "18-julio",
          "18-agosto",
          "18-septiembre",
          "18-octubre",
          "18-noviembre",
          "18-diciembre",
          "19-enero",
          "19-febrero",
          "19-marzo",
          "19-abril",
          "19-mayo",
          "19-junio",
          "19-julio",
          "19-agosto",
          "19-septiembre",
          "19-octubre",
          "19-noviembre",
          "19-diciembre"
         ],
         "y": [
          0,
          0,
          0,
          0,
          0,
          0,
          0,
          0,
          0,
          0,
          0,
          0,
          2259917,
          537111,
          2562556,
          3300494,
          2781691,
          2215791,
          0,
          0,
          0,
          0,
          0,
          0
         ]
        },
        {
         "name": "Vehículos  ",
         "type": "bar",
         "x": [
          "18-enero",
          "18-febrero",
          "18-marzo",
          "18-abril",
          "18-mayo",
          "18-junio",
          "18-julio",
          "18-agosto",
          "18-septiembre",
          "18-octubre",
          "18-noviembre",
          "18-diciembre",
          "19-enero",
          "19-febrero",
          "19-marzo",
          "19-abril",
          "19-mayo",
          "19-junio",
          "19-julio",
          "19-agosto",
          "19-septiembre",
          "19-octubre",
          "19-noviembre",
          "19-diciembre"
         ],
         "y": [
          0,
          0,
          413179,
          193000,
          193000,
          193000,
          0,
          286358,
          0,
          0,
          0,
          549471,
          0,
          0,
          0,
          0,
          0,
          0,
          0,
          0,
          0,
          0,
          0,
          0
         ]
        },
        {
         "name": "Tag y peajes  ",
         "type": "bar",
         "x": [
          "18-enero",
          "18-febrero",
          "18-marzo",
          "18-abril",
          "18-mayo",
          "18-junio",
          "18-julio",
          "18-agosto",
          "18-septiembre",
          "18-octubre",
          "18-noviembre",
          "18-diciembre",
          "19-enero",
          "19-febrero",
          "19-marzo",
          "19-abril",
          "19-mayo",
          "19-junio",
          "19-julio",
          "19-agosto",
          "19-septiembre",
          "19-octubre",
          "19-noviembre",
          "19-diciembre"
         ],
         "y": [
          0,
          0,
          9500,
          63368,
          0,
          138997,
          22645,
          156769,
          125671,
          140093,
          160258,
          131504,
          0,
          0,
          0,
          0,
          0,
          0,
          0,
          0,
          0,
          0,
          0,
          0
         ]
        },
        {
         "name": "Combustible  ",
         "type": "bar",
         "x": [
          "18-enero",
          "18-febrero",
          "18-marzo",
          "18-abril",
          "18-mayo",
          "18-junio",
          "18-julio",
          "18-agosto",
          "18-septiembre",
          "18-octubre",
          "18-noviembre",
          "18-diciembre",
          "19-enero",
          "19-febrero",
          "19-marzo",
          "19-abril",
          "19-mayo",
          "19-junio",
          "19-julio",
          "19-agosto",
          "19-septiembre",
          "19-octubre",
          "19-noviembre",
          "19-diciembre"
         ],
         "y": [
          0,
          0,
          227552,
          363087,
          341341,
          365976,
          358120,
          366935,
          303514,
          550987,
          413631,
          476919,
          0,
          0,
          0,
          0,
          0,
          0,
          0,
          0,
          0,
          0,
          0,
          0
         ]
        },
        {
         "name": "Pasajes de movilización  ",
         "type": "bar",
         "x": [
          "18-enero",
          "18-febrero",
          "18-marzo",
          "18-abril",
          "18-mayo",
          "18-junio",
          "18-julio",
          "18-agosto",
          "18-septiembre",
          "18-octubre",
          "18-noviembre",
          "18-diciembre",
          "19-enero",
          "19-febrero",
          "19-marzo",
          "19-abril",
          "19-mayo",
          "19-junio",
          "19-julio",
          "19-agosto",
          "19-septiembre",
          "19-octubre",
          "19-noviembre",
          "19-diciembre"
         ],
         "y": [
          0,
          0,
          33580,
          47740,
          0,
          96000,
          49720,
          57760,
          33800,
          37860,
          40100,
          8800,
          0,
          0,
          0,
          0,
          0,
          0,
          0,
          0,
          0,
          0,
          0,
          0
         ]
        },
        {
         "name": "Alimentación  ",
         "type": "bar",
         "x": [
          "18-enero",
          "18-febrero",
          "18-marzo",
          "18-abril",
          "18-mayo",
          "18-junio",
          "18-julio",
          "18-agosto",
          "18-septiembre",
          "18-octubre",
          "18-noviembre",
          "18-diciembre",
          "19-enero",
          "19-febrero",
          "19-marzo",
          "19-abril",
          "19-mayo",
          "19-junio",
          "19-julio",
          "19-agosto",
          "19-septiembre",
          "19-octubre",
          "19-noviembre",
          "19-diciembre"
         ],
         "y": [
          0,
          0,
          120583,
          127364,
          0,
          327824,
          159290,
          424135,
          120651,
          596478,
          0,
          213297,
          0,
          0,
          0,
          0,
          0,
          0,
          0,
          0,
          0,
          0,
          0,
          0
         ]
        },
        {
         "name": "Viáticos  ",
         "type": "bar",
         "x": [
          "18-enero",
          "18-febrero",
          "18-marzo",
          "18-abril",
          "18-mayo",
          "18-junio",
          "18-julio",
          "18-agosto",
          "18-septiembre",
          "18-octubre",
          "18-noviembre",
          "18-diciembre",
          "19-enero",
          "19-febrero",
          "19-marzo",
          "19-abril",
          "19-mayo",
          "19-junio",
          "19-julio",
          "19-agosto",
          "19-septiembre",
          "19-octubre",
          "19-noviembre",
          "19-diciembre"
         ],
         "y": [
          0,
          0,
          613640,
          920448,
          1150560,
          786210,
          0,
          0,
          0,
          0,
          0,
          0,
          0,
          0,
          0,
          0,
          0,
          0,
          0,
          0,
          0,
          0,
          0,
          0
         ]
        },
        {
         "name": "Estacionamientos  ",
         "type": "bar",
         "x": [
          "18-enero",
          "18-febrero",
          "18-marzo",
          "18-abril",
          "18-mayo",
          "18-junio",
          "18-julio",
          "18-agosto",
          "18-septiembre",
          "18-octubre",
          "18-noviembre",
          "18-diciembre",
          "19-enero",
          "19-febrero",
          "19-marzo",
          "19-abril",
          "19-mayo",
          "19-junio",
          "19-julio",
          "19-agosto",
          "19-septiembre",
          "19-octubre",
          "19-noviembre",
          "19-diciembre"
         ],
         "y": [
          0,
          0,
          16692,
          19050,
          0,
          3450,
          0,
          0,
          0,
          0,
          0,
          0,
          0,
          0,
          0,
          0,
          0,
          0,
          0,
          0,
          0,
          0,
          0,
          0
         ]
        },
        {
         "name": "Materiales de oficina  ",
         "type": "bar",
         "x": [
          "18-enero",
          "18-febrero",
          "18-marzo",
          "18-abril",
          "18-mayo",
          "18-junio",
          "18-julio",
          "18-agosto",
          "18-septiembre",
          "18-octubre",
          "18-noviembre",
          "18-diciembre",
          "19-enero",
          "19-febrero",
          "19-marzo",
          "19-abril",
          "19-mayo",
          "19-junio",
          "19-julio",
          "19-agosto",
          "19-septiembre",
          "19-octubre",
          "19-noviembre",
          "19-diciembre"
         ],
         "y": [
          0,
          0,
          54587,
          86456,
          207619,
          44312,
          0,
          0,
          0,
          0,
          0,
          0,
          28225,
          0,
          58526,
          73886,
          154791,
          27164,
          0,
          0,
          0,
          0,
          0,
          0
         ]
        },
        {
         "name": "Difusión  ",
         "type": "bar",
         "x": [
          "18-enero",
          "18-febrero",
          "18-marzo",
          "18-abril",
          "18-mayo",
          "18-junio",
          "18-julio",
          "18-agosto",
          "18-septiembre",
          "18-octubre",
          "18-noviembre",
          "18-diciembre",
          "19-enero",
          "19-febrero",
          "19-marzo",
          "19-abril",
          "19-mayo",
          "19-junio",
          "19-julio",
          "19-agosto",
          "19-septiembre",
          "19-octubre",
          "19-noviembre",
          "19-diciembre"
         ],
         "y": [
          0,
          0,
          11700,
          455,
          0,
          108355,
          5990,
          142800,
          92392,
          524067,
          997667,
          0,
          729455,
          2100000,
          834999,
          90000,
          615124,
          247300,
          0,
          0,
          0,
          0,
          0,
          0
         ]
        },
        {
         "name": "Actividades distritales  ",
         "type": "bar",
         "x": [
          "18-enero",
          "18-febrero",
          "18-marzo",
          "18-abril",
          "18-mayo",
          "18-junio",
          "18-julio",
          "18-agosto",
          "18-septiembre",
          "18-octubre",
          "18-noviembre",
          "18-diciembre",
          "19-enero",
          "19-febrero",
          "19-marzo",
          "19-abril",
          "19-mayo",
          "19-junio",
          "19-julio",
          "19-agosto",
          "19-septiembre",
          "19-octubre",
          "19-noviembre",
          "19-diciembre"
         ],
         "y": [
          0,
          0,
          465500,
          665000,
          665000,
          665000,
          0,
          0,
          0,
          0,
          0,
          0,
          0,
          0,
          0,
          0,
          0,
          0,
          0,
          0,
          0,
          0,
          0,
          0
         ]
        },
        {
         "name": "Alojamiento  ",
         "type": "bar",
         "x": [
          "18-enero",
          "18-febrero",
          "18-marzo",
          "18-abril",
          "18-mayo",
          "18-junio",
          "18-julio",
          "18-agosto",
          "18-septiembre",
          "18-octubre",
          "18-noviembre",
          "18-diciembre",
          "19-enero",
          "19-febrero",
          "19-marzo",
          "19-abril",
          "19-mayo",
          "19-junio",
          "19-julio",
          "19-agosto",
          "19-septiembre",
          "19-octubre",
          "19-noviembre",
          "19-diciembre"
         ],
         "y": [
          0,
          0,
          0,
          433314,
          0,
          151007,
          674882,
          71970,
          71960,
          121960,
          200000,
          100000,
          0,
          0,
          0,
          0,
          0,
          0,
          0,
          0,
          0,
          0,
          0,
          0
         ]
        },
        {
         "name": "Correspondencia  ",
         "type": "bar",
         "x": [
          "18-enero",
          "18-febrero",
          "18-marzo",
          "18-abril",
          "18-mayo",
          "18-junio",
          "18-julio",
          "18-agosto",
          "18-septiembre",
          "18-octubre",
          "18-noviembre",
          "18-diciembre",
          "19-enero",
          "19-febrero",
          "19-marzo",
          "19-abril",
          "19-mayo",
          "19-junio",
          "19-julio",
          "19-agosto",
          "19-septiembre",
          "19-octubre",
          "19-noviembre",
          "19-diciembre"
         ],
         "y": [
          0,
          0,
          0,
          12800,
          28059,
          10816,
          0,
          0,
          0,
          0,
          0,
          0,
          46946,
          11597,
          10068,
          43611,
          35035,
          49606,
          0,
          0,
          0,
          0,
          0,
          0
         ]
        },
        {
         "name": "Servicios y gastos menores  ",
         "type": "bar",
         "x": [
          "18-enero",
          "18-febrero",
          "18-marzo",
          "18-abril",
          "18-mayo",
          "18-junio",
          "18-julio",
          "18-agosto",
          "18-septiembre",
          "18-octubre",
          "18-noviembre",
          "18-diciembre",
          "19-enero",
          "19-febrero",
          "19-marzo",
          "19-abril",
          "19-mayo",
          "19-junio",
          "19-julio",
          "19-agosto",
          "19-septiembre",
          "19-octubre",
          "19-noviembre",
          "19-diciembre"
         ],
         "y": [
          0,
          0,
          0,
          8330,
          0,
          0,
          0,
          0,
          0,
          0,
          0,
          0,
          0,
          0,
          0,
          0,
          0,
          0,
          0,
          0,
          0,
          0,
          0,
          0
         ]
        },
        {
         "name": "Actividades territoriales  ",
         "type": "bar",
         "x": [
          "18-enero",
          "18-febrero",
          "18-marzo",
          "18-abril",
          "18-mayo",
          "18-junio",
          "18-julio",
          "18-agosto",
          "18-septiembre",
          "18-octubre",
          "18-noviembre",
          "18-diciembre",
          "19-enero",
          "19-febrero",
          "19-marzo",
          "19-abril",
          "19-mayo",
          "19-junio",
          "19-julio",
          "19-agosto",
          "19-septiembre",
          "19-octubre",
          "19-noviembre",
          "19-diciembre"
         ],
         "y": [
          0,
          0,
          0,
          0,
          0,
          0,
          2676374,
          1760325,
          2300250,
          1238558,
          1208228,
          1132204,
          0,
          0,
          0,
          0,
          0,
          0,
          0,
          0,
          0,
          0,
          0,
          0
         ]
        },
        {
         "name": "Vehiculos- amortizacion  ",
         "type": "bar",
         "x": [
          "18-enero",
          "18-febrero",
          "18-marzo",
          "18-abril",
          "18-mayo",
          "18-junio",
          "18-julio",
          "18-agosto",
          "18-septiembre",
          "18-octubre",
          "18-noviembre",
          "18-diciembre",
          "19-enero",
          "19-febrero",
          "19-marzo",
          "19-abril",
          "19-mayo",
          "19-junio",
          "19-julio",
          "19-agosto",
          "19-septiembre",
          "19-octubre",
          "19-noviembre",
          "19-diciembre"
         ],
         "y": [
          0,
          0,
          0,
          0,
          0,
          0,
          193000,
          193000,
          193000,
          193000,
          193000,
          193000,
          0,
          0,
          0,
          0,
          0,
          0,
          0,
          0,
          0,
          0,
          0,
          0
         ]
        },
        {
         "name": "Viáticos del diputado  ",
         "type": "bar",
         "x": [
          "18-enero",
          "18-febrero",
          "18-marzo",
          "18-abril",
          "18-mayo",
          "18-junio",
          "18-julio",
          "18-agosto",
          "18-septiembre",
          "18-octubre",
          "18-noviembre",
          "18-diciembre",
          "19-enero",
          "19-febrero",
          "19-marzo",
          "19-abril",
          "19-mayo",
          "19-junio",
          "19-julio",
          "19-agosto",
          "19-septiembre",
          "19-octubre",
          "19-noviembre",
          "19-diciembre"
         ],
         "y": [
          0,
          0,
          0,
          0,
          0,
          0,
          786210,
          943452,
          943452,
          864831,
          1100694,
          1179315,
          0,
          0,
          0,
          0,
          0,
          0,
          0,
          0,
          0,
          0,
          0,
          0
         ]
        },
        {
         "name": "Traspaso desde gastos operacionales a asignación personal de apoyo  ",
         "type": "bar",
         "x": [
          "18-enero",
          "18-febrero",
          "18-marzo",
          "18-abril",
          "18-mayo",
          "18-junio",
          "18-julio",
          "18-agosto",
          "18-septiembre",
          "18-octubre",
          "18-noviembre",
          "18-diciembre",
          "19-enero",
          "19-febrero",
          "19-marzo",
          "19-abril",
          "19-mayo",
          "19-junio",
          "19-julio",
          "19-agosto",
          "19-septiembre",
          "19-octubre",
          "19-noviembre",
          "19-diciembre"
         ],
         "y": [
          0,
          0,
          0,
          0,
          0,
          0,
          0,
          0,
          0,
          0,
          0,
          0,
          12180,
          12180,
          90463,
          75153,
          75153,
          75153,
          0,
          0,
          0,
          0,
          0,
          0
         ]
        },
        {
         "name": "Actividades destinadas a la interacción con la comunidad  ",
         "type": "bar",
         "x": [
          "18-enero",
          "18-febrero",
          "18-marzo",
          "18-abril",
          "18-mayo",
          "18-junio",
          "18-julio",
          "18-agosto",
          "18-septiembre",
          "18-octubre",
          "18-noviembre",
          "18-diciembre",
          "19-enero",
          "19-febrero",
          "19-marzo",
          "19-abril",
          "19-mayo",
          "19-junio",
          "19-julio",
          "19-agosto",
          "19-septiembre",
          "19-octubre",
          "19-noviembre",
          "19-diciembre"
         ],
         "y": [
          0,
          0,
          0,
          0,
          0,
          0,
          0,
          0,
          0,
          0,
          0,
          0,
          0,
          0,
          0,
          0,
          662800,
          750000,
          0,
          0,
          0,
          0,
          0,
          0
         ]
        },
        {
         "name": "Arriendo de inmueble  ",
         "type": "bar",
         "x": [
          "18-enero",
          "18-febrero",
          "18-marzo",
          "18-abril",
          "18-mayo",
          "18-junio",
          "18-julio",
          "18-agosto",
          "18-septiembre",
          "18-octubre",
          "18-noviembre",
          "18-diciembre",
          "19-enero",
          "19-febrero",
          "19-marzo",
          "19-abril",
          "19-mayo",
          "19-junio",
          "19-julio",
          "19-agosto",
          "19-septiembre",
          "19-octubre",
          "19-noviembre",
          "19-diciembre"
         ],
         "y": [
          0,
          0,
          0,
          0,
          0,
          0,
          0,
          0,
          0,
          0,
          0,
          0,
          420000,
          420000,
          420000,
          420000,
          420000,
          428517,
          0,
          0,
          0,
          0,
          0,
          0
         ]
        },
        {
         "name": "Consumos básicos  ",
         "type": "bar",
         "x": [
          "18-enero",
          "18-febrero",
          "18-marzo",
          "18-abril",
          "18-mayo",
          "18-junio",
          "18-julio",
          "18-agosto",
          "18-septiembre",
          "18-octubre",
          "18-noviembre",
          "18-diciembre",
          "19-enero",
          "19-febrero",
          "19-marzo",
          "19-abril",
          "19-mayo",
          "19-junio",
          "19-julio",
          "19-agosto",
          "19-septiembre",
          "19-octubre",
          "19-noviembre",
          "19-diciembre"
         ],
         "y": [
          0,
          0,
          0,
          0,
          0,
          0,
          0,
          0,
          0,
          0,
          0,
          0,
          119723,
          122794,
          64825,
          126557,
          126747,
          133677,
          0,
          0,
          0,
          0,
          0,
          0
         ]
        },
        {
         "name": "Equipamiento oficina parlamentaria  ",
         "type": "bar",
         "x": [
          "18-enero",
          "18-febrero",
          "18-marzo",
          "18-abril",
          "18-mayo",
          "18-junio",
          "18-julio",
          "18-agosto",
          "18-septiembre",
          "18-octubre",
          "18-noviembre",
          "18-diciembre",
          "19-enero",
          "19-febrero",
          "19-marzo",
          "19-abril",
          "19-mayo",
          "19-junio",
          "19-julio",
          "19-agosto",
          "19-septiembre",
          "19-octubre",
          "19-noviembre",
          "19-diciembre"
         ],
         "y": [
          0,
          0,
          0,
          0,
          0,
          0,
          0,
          0,
          0,
          0,
          0,
          0,
          590451,
          0,
          0,
          0,
          0,
          0,
          0,
          0,
          0,
          0,
          0,
          0
         ]
        },
        {
         "name": "Gastos de mantención oficina parlamentaria (inmueble)  ",
         "type": "bar",
         "x": [
          "18-enero",
          "18-febrero",
          "18-marzo",
          "18-abril",
          "18-mayo",
          "18-junio",
          "18-julio",
          "18-agosto",
          "18-septiembre",
          "18-octubre",
          "18-noviembre",
          "18-diciembre",
          "19-enero",
          "19-febrero",
          "19-marzo",
          "19-abril",
          "19-mayo",
          "19-junio",
          "19-julio",
          "19-agosto",
          "19-septiembre",
          "19-octubre",
          "19-noviembre",
          "19-diciembre"
         ],
         "y": [
          0,
          0,
          0,
          0,
          0,
          0,
          0,
          0,
          0,
          0,
          0,
          0,
          77778,
          77778,
          0,
          77778,
          77778,
          77778,
          0,
          0,
          0,
          0,
          0,
          0
         ]
        },
        {
         "name": "Reparaciones locativas del inmueble  ",
         "type": "bar",
         "x": [
          "18-enero",
          "18-febrero",
          "18-marzo",
          "18-abril",
          "18-mayo",
          "18-junio",
          "18-julio",
          "18-agosto",
          "18-septiembre",
          "18-octubre",
          "18-noviembre",
          "18-diciembre",
          "19-enero",
          "19-febrero",
          "19-marzo",
          "19-abril",
          "19-mayo",
          "19-junio",
          "19-julio",
          "19-agosto",
          "19-septiembre",
          "19-octubre",
          "19-noviembre",
          "19-diciembre"
         ],
         "y": [
          0,
          0,
          0,
          0,
          0,
          0,
          0,
          0,
          0,
          0,
          0,
          0,
          54740,
          0,
          0,
          0,
          0,
          0,
          0,
          0,
          0,
          0,
          0,
          0
         ]
        },
        {
         "name": "Habilitación de sedes parlamentarias (con autorización de crap)  ",
         "type": "bar",
         "x": [
          "18-enero",
          "18-febrero",
          "18-marzo",
          "18-abril",
          "18-mayo",
          "18-junio",
          "18-julio",
          "18-agosto",
          "18-septiembre",
          "18-octubre",
          "18-noviembre",
          "18-diciembre",
          "19-enero",
          "19-febrero",
          "19-marzo",
          "19-abril",
          "19-mayo",
          "19-junio",
          "19-julio",
          "19-agosto",
          "19-septiembre",
          "19-octubre",
          "19-noviembre",
          "19-diciembre"
         ],
         "y": [
          0,
          0,
          0,
          0,
          0,
          0,
          0,
          0,
          0,
          0,
          0,
          0,
          0,
          0,
          0,
          0,
          0,
          0,
          0,
          0,
          0,
          0,
          0,
          0
         ]
        },
        {
         "name": "Seguros de bienes  ",
         "type": "bar",
         "x": [
          "18-enero",
          "18-febrero",
          "18-marzo",
          "18-abril",
          "18-mayo",
          "18-junio",
          "18-julio",
          "18-agosto",
          "18-septiembre",
          "18-octubre",
          "18-noviembre",
          "18-diciembre",
          "19-enero",
          "19-febrero",
          "19-marzo",
          "19-abril",
          "19-mayo",
          "19-junio",
          "19-julio",
          "19-agosto",
          "19-septiembre",
          "19-octubre",
          "19-noviembre",
          "19-diciembre"
         ],
         "y": [
          0,
          0,
          0,
          0,
          0,
          0,
          0,
          0,
          0,
          0,
          0,
          0,
          0,
          0,
          0,
          0,
          0,
          0,
          0,
          0,
          0,
          0,
          0,
          0
         ]
        },
        {
         "name": "Arriendo de oficinas virtuales  ",
         "type": "bar",
         "x": [
          "18-enero",
          "18-febrero",
          "18-marzo",
          "18-abril",
          "18-mayo",
          "18-junio",
          "18-julio",
          "18-agosto",
          "18-septiembre",
          "18-octubre",
          "18-noviembre",
          "18-diciembre",
          "19-enero",
          "19-febrero",
          "19-marzo",
          "19-abril",
          "19-mayo",
          "19-junio",
          "19-julio",
          "19-agosto",
          "19-septiembre",
          "19-octubre",
          "19-noviembre",
          "19-diciembre"
         ],
         "y": [
          0,
          0,
          0,
          0,
          0,
          0,
          0,
          0,
          0,
          0,
          0,
          0,
          0,
          0,
          0,
          0,
          0,
          0,
          0,
          0,
          0,
          0,
          0,
          0
         ]
        },
        {
         "name": "Servicios web  ",
         "type": "bar",
         "x": [
          "18-enero",
          "18-febrero",
          "18-marzo",
          "18-abril",
          "18-mayo",
          "18-junio",
          "18-julio",
          "18-agosto",
          "18-septiembre",
          "18-octubre",
          "18-noviembre",
          "18-diciembre",
          "19-enero",
          "19-febrero",
          "19-marzo",
          "19-abril",
          "19-mayo",
          "19-junio",
          "19-julio",
          "19-agosto",
          "19-septiembre",
          "19-octubre",
          "19-noviembre",
          "19-diciembre"
         ],
         "y": [
          0,
          0,
          0,
          0,
          0,
          0,
          0,
          0,
          0,
          0,
          0,
          0,
          0,
          13174,
          0,
          0,
          0,
          0,
          0,
          0,
          0,
          0,
          0,
          0
         ]
        },
        {
         "name": "Contratación servicio de almacenamiento  ",
         "type": "bar",
         "x": [
          "18-enero",
          "18-febrero",
          "18-marzo",
          "18-abril",
          "18-mayo",
          "18-junio",
          "18-julio",
          "18-agosto",
          "18-septiembre",
          "18-octubre",
          "18-noviembre",
          "18-diciembre",
          "19-enero",
          "19-febrero",
          "19-marzo",
          "19-abril",
          "19-mayo",
          "19-junio",
          "19-julio",
          "19-agosto",
          "19-septiembre",
          "19-octubre",
          "19-noviembre",
          "19-diciembre"
         ],
         "y": [
          0,
          0,
          0,
          0,
          0,
          0,
          0,
          0,
          0,
          0,
          0,
          0,
          0,
          0,
          0,
          0,
          0,
          0,
          0,
          0,
          0,
          0,
          0,
          0
         ]
        },
        {
         "name": "Arriendo de oficina móvil  ",
         "type": "bar",
         "x": [
          "18-enero",
          "18-febrero",
          "18-marzo",
          "18-abril",
          "18-mayo",
          "18-junio",
          "18-julio",
          "18-agosto",
          "18-septiembre",
          "18-octubre",
          "18-noviembre",
          "18-diciembre",
          "19-enero",
          "19-febrero",
          "19-marzo",
          "19-abril",
          "19-mayo",
          "19-junio",
          "19-julio",
          "19-agosto",
          "19-septiembre",
          "19-octubre",
          "19-noviembre",
          "19-diciembre"
         ],
         "y": [
          0,
          0,
          0,
          0,
          0,
          0,
          0,
          0,
          0,
          0,
          0,
          0,
          0,
          0,
          0,
          0,
          0,
          0,
          0,
          0,
          0,
          0,
          0,
          0
         ]
        },
        {
         "name": "Mantencion y reparación de oficina móvil  ",
         "type": "bar",
         "x": [
          "18-enero",
          "18-febrero",
          "18-marzo",
          "18-abril",
          "18-mayo",
          "18-junio",
          "18-julio",
          "18-agosto",
          "18-septiembre",
          "18-octubre",
          "18-noviembre",
          "18-diciembre",
          "19-enero",
          "19-febrero",
          "19-marzo",
          "19-abril",
          "19-mayo",
          "19-junio",
          "19-julio",
          "19-agosto",
          "19-septiembre",
          "19-octubre",
          "19-noviembre",
          "19-diciembre"
         ],
         "y": [
          0,
          0,
          0,
          0,
          0,
          0,
          0,
          0,
          0,
          0,
          0,
          0,
          0,
          0,
          0,
          0,
          0,
          0,
          0,
          0,
          0,
          0,
          0,
          0
         ]
        },
        {
         "name": "Servicios menores  ",
         "type": "bar",
         "x": [
          "18-enero",
          "18-febrero",
          "18-marzo",
          "18-abril",
          "18-mayo",
          "18-junio",
          "18-julio",
          "18-agosto",
          "18-septiembre",
          "18-octubre",
          "18-noviembre",
          "18-diciembre",
          "19-enero",
          "19-febrero",
          "19-marzo",
          "19-abril",
          "19-mayo",
          "19-junio",
          "19-julio",
          "19-agosto",
          "19-septiembre",
          "19-octubre",
          "19-noviembre",
          "19-diciembre"
         ],
         "y": [
          0,
          0,
          0,
          0,
          0,
          0,
          0,
          0,
          0,
          0,
          0,
          0,
          0,
          0,
          239990,
          239990,
          239990,
          239990,
          0,
          0,
          0,
          0,
          0,
          0
         ]
        }
       ],
       "layout": {
        "autosize": true,
        "barmode": "stack",
        "showlegend": false,
        "template": {
         "data": {
          "bar": [
           {
            "error_x": {
             "color": "#2a3f5f"
            },
            "error_y": {
             "color": "#2a3f5f"
            },
            "marker": {
             "line": {
              "color": "#E5ECF6",
              "width": 0.5
             }
            },
            "type": "bar"
           }
          ],
          "barpolar": [
           {
            "marker": {
             "line": {
              "color": "#E5ECF6",
              "width": 0.5
             }
            },
            "type": "barpolar"
           }
          ],
          "carpet": [
           {
            "aaxis": {
             "endlinecolor": "#2a3f5f",
             "gridcolor": "white",
             "linecolor": "white",
             "minorgridcolor": "white",
             "startlinecolor": "#2a3f5f"
            },
            "baxis": {
             "endlinecolor": "#2a3f5f",
             "gridcolor": "white",
             "linecolor": "white",
             "minorgridcolor": "white",
             "startlinecolor": "#2a3f5f"
            },
            "type": "carpet"
           }
          ],
          "choropleth": [
           {
            "colorbar": {
             "outlinewidth": 0,
             "ticks": ""
            },
            "type": "choropleth"
           }
          ],
          "contour": [
           {
            "colorbar": {
             "outlinewidth": 0,
             "ticks": ""
            },
            "colorscale": [
             [
              0,
              "#0d0887"
             ],
             [
              0.1111111111111111,
              "#46039f"
             ],
             [
              0.2222222222222222,
              "#7201a8"
             ],
             [
              0.3333333333333333,
              "#9c179e"
             ],
             [
              0.4444444444444444,
              "#bd3786"
             ],
             [
              0.5555555555555556,
              "#d8576b"
             ],
             [
              0.6666666666666666,
              "#ed7953"
             ],
             [
              0.7777777777777778,
              "#fb9f3a"
             ],
             [
              0.8888888888888888,
              "#fdca26"
             ],
             [
              1,
              "#f0f921"
             ]
            ],
            "type": "contour"
           }
          ],
          "contourcarpet": [
           {
            "colorbar": {
             "outlinewidth": 0,
             "ticks": ""
            },
            "type": "contourcarpet"
           }
          ],
          "heatmap": [
           {
            "colorbar": {
             "outlinewidth": 0,
             "ticks": ""
            },
            "colorscale": [
             [
              0,
              "#0d0887"
             ],
             [
              0.1111111111111111,
              "#46039f"
             ],
             [
              0.2222222222222222,
              "#7201a8"
             ],
             [
              0.3333333333333333,
              "#9c179e"
             ],
             [
              0.4444444444444444,
              "#bd3786"
             ],
             [
              0.5555555555555556,
              "#d8576b"
             ],
             [
              0.6666666666666666,
              "#ed7953"
             ],
             [
              0.7777777777777778,
              "#fb9f3a"
             ],
             [
              0.8888888888888888,
              "#fdca26"
             ],
             [
              1,
              "#f0f921"
             ]
            ],
            "type": "heatmap"
           }
          ],
          "heatmapgl": [
           {
            "colorbar": {
             "outlinewidth": 0,
             "ticks": ""
            },
            "colorscale": [
             [
              0,
              "#0d0887"
             ],
             [
              0.1111111111111111,
              "#46039f"
             ],
             [
              0.2222222222222222,
              "#7201a8"
             ],
             [
              0.3333333333333333,
              "#9c179e"
             ],
             [
              0.4444444444444444,
              "#bd3786"
             ],
             [
              0.5555555555555556,
              "#d8576b"
             ],
             [
              0.6666666666666666,
              "#ed7953"
             ],
             [
              0.7777777777777778,
              "#fb9f3a"
             ],
             [
              0.8888888888888888,
              "#fdca26"
             ],
             [
              1,
              "#f0f921"
             ]
            ],
            "type": "heatmapgl"
           }
          ],
          "histogram": [
           {
            "marker": {
             "colorbar": {
              "outlinewidth": 0,
              "ticks": ""
             }
            },
            "type": "histogram"
           }
          ],
          "histogram2d": [
           {
            "colorbar": {
             "outlinewidth": 0,
             "ticks": ""
            },
            "colorscale": [
             [
              0,
              "#0d0887"
             ],
             [
              0.1111111111111111,
              "#46039f"
             ],
             [
              0.2222222222222222,
              "#7201a8"
             ],
             [
              0.3333333333333333,
              "#9c179e"
             ],
             [
              0.4444444444444444,
              "#bd3786"
             ],
             [
              0.5555555555555556,
              "#d8576b"
             ],
             [
              0.6666666666666666,
              "#ed7953"
             ],
             [
              0.7777777777777778,
              "#fb9f3a"
             ],
             [
              0.8888888888888888,
              "#fdca26"
             ],
             [
              1,
              "#f0f921"
             ]
            ],
            "type": "histogram2d"
           }
          ],
          "histogram2dcontour": [
           {
            "colorbar": {
             "outlinewidth": 0,
             "ticks": ""
            },
            "colorscale": [
             [
              0,
              "#0d0887"
             ],
             [
              0.1111111111111111,
              "#46039f"
             ],
             [
              0.2222222222222222,
              "#7201a8"
             ],
             [
              0.3333333333333333,
              "#9c179e"
             ],
             [
              0.4444444444444444,
              "#bd3786"
             ],
             [
              0.5555555555555556,
              "#d8576b"
             ],
             [
              0.6666666666666666,
              "#ed7953"
             ],
             [
              0.7777777777777778,
              "#fb9f3a"
             ],
             [
              0.8888888888888888,
              "#fdca26"
             ],
             [
              1,
              "#f0f921"
             ]
            ],
            "type": "histogram2dcontour"
           }
          ],
          "mesh3d": [
           {
            "colorbar": {
             "outlinewidth": 0,
             "ticks": ""
            },
            "type": "mesh3d"
           }
          ],
          "parcoords": [
           {
            "line": {
             "colorbar": {
              "outlinewidth": 0,
              "ticks": ""
             }
            },
            "type": "parcoords"
           }
          ],
          "scatter": [
           {
            "marker": {
             "colorbar": {
              "outlinewidth": 0,
              "ticks": ""
             }
            },
            "type": "scatter"
           }
          ],
          "scatter3d": [
           {
            "line": {
             "colorbar": {
              "outlinewidth": 0,
              "ticks": ""
             }
            },
            "marker": {
             "colorbar": {
              "outlinewidth": 0,
              "ticks": ""
             }
            },
            "type": "scatter3d"
           }
          ],
          "scattercarpet": [
           {
            "marker": {
             "colorbar": {
              "outlinewidth": 0,
              "ticks": ""
             }
            },
            "type": "scattercarpet"
           }
          ],
          "scattergeo": [
           {
            "marker": {
             "colorbar": {
              "outlinewidth": 0,
              "ticks": ""
             }
            },
            "type": "scattergeo"
           }
          ],
          "scattergl": [
           {
            "marker": {
             "colorbar": {
              "outlinewidth": 0,
              "ticks": ""
             }
            },
            "type": "scattergl"
           }
          ],
          "scattermapbox": [
           {
            "marker": {
             "colorbar": {
              "outlinewidth": 0,
              "ticks": ""
             }
            },
            "type": "scattermapbox"
           }
          ],
          "scatterpolar": [
           {
            "marker": {
             "colorbar": {
              "outlinewidth": 0,
              "ticks": ""
             }
            },
            "type": "scatterpolar"
           }
          ],
          "scatterpolargl": [
           {
            "marker": {
             "colorbar": {
              "outlinewidth": 0,
              "ticks": ""
             }
            },
            "type": "scatterpolargl"
           }
          ],
          "scatterternary": [
           {
            "marker": {
             "colorbar": {
              "outlinewidth": 0,
              "ticks": ""
             }
            },
            "type": "scatterternary"
           }
          ],
          "surface": [
           {
            "colorbar": {
             "outlinewidth": 0,
             "ticks": ""
            },
            "colorscale": [
             [
              0,
              "#0d0887"
             ],
             [
              0.1111111111111111,
              "#46039f"
             ],
             [
              0.2222222222222222,
              "#7201a8"
             ],
             [
              0.3333333333333333,
              "#9c179e"
             ],
             [
              0.4444444444444444,
              "#bd3786"
             ],
             [
              0.5555555555555556,
              "#d8576b"
             ],
             [
              0.6666666666666666,
              "#ed7953"
             ],
             [
              0.7777777777777778,
              "#fb9f3a"
             ],
             [
              0.8888888888888888,
              "#fdca26"
             ],
             [
              1,
              "#f0f921"
             ]
            ],
            "type": "surface"
           }
          ],
          "table": [
           {
            "cells": {
             "fill": {
              "color": "#EBF0F8"
             },
             "line": {
              "color": "white"
             }
            },
            "header": {
             "fill": {
              "color": "#C8D4E3"
             },
             "line": {
              "color": "white"
             }
            },
            "type": "table"
           }
          ]
         },
         "layout": {
          "annotationdefaults": {
           "arrowcolor": "#2a3f5f",
           "arrowhead": 0,
           "arrowwidth": 1
          },
          "colorscale": {
           "diverging": [
            [
             0,
             "#8e0152"
            ],
            [
             0.1,
             "#c51b7d"
            ],
            [
             0.2,
             "#de77ae"
            ],
            [
             0.3,
             "#f1b6da"
            ],
            [
             0.4,
             "#fde0ef"
            ],
            [
             0.5,
             "#f7f7f7"
            ],
            [
             0.6,
             "#e6f5d0"
            ],
            [
             0.7,
             "#b8e186"
            ],
            [
             0.8,
             "#7fbc41"
            ],
            [
             0.9,
             "#4d9221"
            ],
            [
             1,
             "#276419"
            ]
           ],
           "sequential": [
            [
             0,
             "#0d0887"
            ],
            [
             0.1111111111111111,
             "#46039f"
            ],
            [
             0.2222222222222222,
             "#7201a8"
            ],
            [
             0.3333333333333333,
             "#9c179e"
            ],
            [
             0.4444444444444444,
             "#bd3786"
            ],
            [
             0.5555555555555556,
             "#d8576b"
            ],
            [
             0.6666666666666666,
             "#ed7953"
            ],
            [
             0.7777777777777778,
             "#fb9f3a"
            ],
            [
             0.8888888888888888,
             "#fdca26"
            ],
            [
             1,
             "#f0f921"
            ]
           ],
           "sequentialminus": [
            [
             0,
             "#0d0887"
            ],
            [
             0.1111111111111111,
             "#46039f"
            ],
            [
             0.2222222222222222,
             "#7201a8"
            ],
            [
             0.3333333333333333,
             "#9c179e"
            ],
            [
             0.4444444444444444,
             "#bd3786"
            ],
            [
             0.5555555555555556,
             "#d8576b"
            ],
            [
             0.6666666666666666,
             "#ed7953"
            ],
            [
             0.7777777777777778,
             "#fb9f3a"
            ],
            [
             0.8888888888888888,
             "#fdca26"
            ],
            [
             1,
             "#f0f921"
            ]
           ]
          },
          "colorway": [
           "#636efa",
           "#EF553B",
           "#00cc96",
           "#ab63fa",
           "#FFA15A",
           "#19d3f3",
           "#FF6692",
           "#B6E880",
           "#FF97FF",
           "#FECB52"
          ],
          "font": {
           "color": "#2a3f5f"
          },
          "geo": {
           "bgcolor": "white",
           "lakecolor": "white",
           "landcolor": "#E5ECF6",
           "showlakes": true,
           "showland": true,
           "subunitcolor": "white"
          },
          "hoverlabel": {
           "align": "left"
          },
          "hovermode": "closest",
          "mapbox": {
           "style": "light"
          },
          "paper_bgcolor": "white",
          "plot_bgcolor": "#E5ECF6",
          "polar": {
           "angularaxis": {
            "gridcolor": "white",
            "linecolor": "white",
            "ticks": ""
           },
           "bgcolor": "#E5ECF6",
           "radialaxis": {
            "gridcolor": "white",
            "linecolor": "white",
            "ticks": ""
           }
          },
          "scene": {
           "xaxis": {
            "backgroundcolor": "#E5ECF6",
            "gridcolor": "white",
            "gridwidth": 2,
            "linecolor": "white",
            "showbackground": true,
            "ticks": "",
            "zerolinecolor": "white"
           },
           "yaxis": {
            "backgroundcolor": "#E5ECF6",
            "gridcolor": "white",
            "gridwidth": 2,
            "linecolor": "white",
            "showbackground": true,
            "ticks": "",
            "zerolinecolor": "white"
           },
           "zaxis": {
            "backgroundcolor": "#E5ECF6",
            "gridcolor": "white",
            "gridwidth": 2,
            "linecolor": "white",
            "showbackground": true,
            "ticks": "",
            "zerolinecolor": "white"
           }
          },
          "shapedefaults": {
           "line": {
            "color": "#2a3f5f"
           }
          },
          "ternary": {
           "aaxis": {
            "gridcolor": "white",
            "linecolor": "white",
            "ticks": ""
           },
           "baxis": {
            "gridcolor": "white",
            "linecolor": "white",
            "ticks": ""
           },
           "bgcolor": "#E5ECF6",
           "caxis": {
            "gridcolor": "white",
            "linecolor": "white",
            "ticks": ""
           }
          },
          "title": {
           "x": 0.05
          },
          "xaxis": {
           "automargin": true,
           "gridcolor": "white",
           "linecolor": "white",
           "ticks": "",
           "zerolinecolor": "white",
           "zerolinewidth": 2
          },
          "yaxis": {
           "automargin": true,
           "gridcolor": "white",
           "linecolor": "white",
           "ticks": "",
           "zerolinecolor": "white",
           "zerolinewidth": 2
          }
         }
        },
        "title": {
         "text": "Gastos de Jorge Alessandri Vergara "
        }
       }
      },
      "text/html": [
       "<div>\n",
       "        \n",
       "        \n",
       "            <div id=\"13e6fa76-6f22-4cb7-9c53-5ba0cf03f908\" class=\"plotly-graph-div\" style=\"height:525px; width:100%;\"></div>\n",
       "            <script type=\"text/javascript\">\n",
       "                require([\"plotly\"], function(Plotly) {\n",
       "                    window.PLOTLYENV=window.PLOTLYENV || {};\n",
       "                    \n",
       "                if (document.getElementById(\"13e6fa76-6f22-4cb7-9c53-5ba0cf03f908\")) {\n",
       "                    Plotly.newPlot(\n",
       "                        '13e6fa76-6f22-4cb7-9c53-5ba0cf03f908',\n",
       "                        [{\"name\": \"Oficinas parlamentarias (incluye arriendos, consumos b\\u00e1sicos, internet, etc.)  \", \"type\": \"bar\", \"x\": [\"18-enero\", \"18-febrero\", \"18-marzo\", \"18-abril\", \"18-mayo\", \"18-junio\", \"18-julio\", \"18-agosto\", \"18-septiembre\", \"18-octubre\", \"18-noviembre\", \"18-diciembre\", \"19-enero\", \"19-febrero\", \"19-marzo\", \"19-abril\", \"19-mayo\", \"19-junio\", \"19-julio\", \"19-agosto\", \"19-septiembre\", \"19-octubre\", \"19-noviembre\", \"19-diciembre\"], \"y\": [0, 0, 913040, 0, 0, 536015, 0, 0, 0, 0, 0, 0, 0, 0, 0, 0, 0, 0, 0, 0, 0, 0, 0, 0]}, {\"name\": \"Telefon\\u00eda  \", \"type\": \"bar\", \"x\": [\"18-enero\", \"18-febrero\", \"18-marzo\", \"18-abril\", \"18-mayo\", \"18-junio\", \"18-julio\", \"18-agosto\", \"18-septiembre\", \"18-octubre\", \"18-noviembre\", \"18-diciembre\", \"19-enero\", \"19-febrero\", \"19-marzo\", \"19-abril\", \"19-mayo\", \"19-junio\", \"19-julio\", \"19-agosto\", \"19-septiembre\", \"19-octubre\", \"19-noviembre\", \"19-diciembre\"], \"y\": [0, 0, 10180, 124060, 119871, 162227, 165629, 165780, 344258, 206060, 205811, 211346, 205395, 205157, 183218, 176595, 175047, 222611, 0, 0, 0, 0, 0, 0]}, {\"name\": \"Traslaci\\u00f3n  \", \"type\": \"bar\", \"x\": [\"18-enero\", \"18-febrero\", \"18-marzo\", \"18-abril\", \"18-mayo\", \"18-junio\", \"18-julio\", \"18-agosto\", \"18-septiembre\", \"18-octubre\", \"18-noviembre\", \"18-diciembre\", \"19-enero\", \"19-febrero\", \"19-marzo\", \"19-abril\", \"19-mayo\", \"19-junio\", \"19-julio\", \"19-agosto\", \"19-septiembre\", \"19-octubre\", \"19-noviembre\", \"19-diciembre\"], \"y\": [0, 0, 0, 0, 0, 0, 0, 0, 0, 0, 0, 0, 2259917, 537111, 2562556, 3300494, 2781691, 2215791, 0, 0, 0, 0, 0, 0]}, {\"name\": \"Veh\\u00edculos  \", \"type\": \"bar\", \"x\": [\"18-enero\", \"18-febrero\", \"18-marzo\", \"18-abril\", \"18-mayo\", \"18-junio\", \"18-julio\", \"18-agosto\", \"18-septiembre\", \"18-octubre\", \"18-noviembre\", \"18-diciembre\", \"19-enero\", \"19-febrero\", \"19-marzo\", \"19-abril\", \"19-mayo\", \"19-junio\", \"19-julio\", \"19-agosto\", \"19-septiembre\", \"19-octubre\", \"19-noviembre\", \"19-diciembre\"], \"y\": [0, 0, 413179, 193000, 193000, 193000, 0, 286358, 0, 0, 0, 549471, 0, 0, 0, 0, 0, 0, 0, 0, 0, 0, 0, 0]}, {\"name\": \"Tag y peajes  \", \"type\": \"bar\", \"x\": [\"18-enero\", \"18-febrero\", \"18-marzo\", \"18-abril\", \"18-mayo\", \"18-junio\", \"18-julio\", \"18-agosto\", \"18-septiembre\", \"18-octubre\", \"18-noviembre\", \"18-diciembre\", \"19-enero\", \"19-febrero\", \"19-marzo\", \"19-abril\", \"19-mayo\", \"19-junio\", \"19-julio\", \"19-agosto\", \"19-septiembre\", \"19-octubre\", \"19-noviembre\", \"19-diciembre\"], \"y\": [0, 0, 9500, 63368, 0, 138997, 22645, 156769, 125671, 140093, 160258, 131504, 0, 0, 0, 0, 0, 0, 0, 0, 0, 0, 0, 0]}, {\"name\": \"Combustible  \", \"type\": \"bar\", \"x\": [\"18-enero\", \"18-febrero\", \"18-marzo\", \"18-abril\", \"18-mayo\", \"18-junio\", \"18-julio\", \"18-agosto\", \"18-septiembre\", \"18-octubre\", \"18-noviembre\", \"18-diciembre\", \"19-enero\", \"19-febrero\", \"19-marzo\", \"19-abril\", \"19-mayo\", \"19-junio\", \"19-julio\", \"19-agosto\", \"19-septiembre\", \"19-octubre\", \"19-noviembre\", \"19-diciembre\"], \"y\": [0, 0, 227552, 363087, 341341, 365976, 358120, 366935, 303514, 550987, 413631, 476919, 0, 0, 0, 0, 0, 0, 0, 0, 0, 0, 0, 0]}, {\"name\": \"Pasajes de movilizaci\\u00f3n  \", \"type\": \"bar\", \"x\": [\"18-enero\", \"18-febrero\", \"18-marzo\", \"18-abril\", \"18-mayo\", \"18-junio\", \"18-julio\", \"18-agosto\", \"18-septiembre\", \"18-octubre\", \"18-noviembre\", \"18-diciembre\", \"19-enero\", \"19-febrero\", \"19-marzo\", \"19-abril\", \"19-mayo\", \"19-junio\", \"19-julio\", \"19-agosto\", \"19-septiembre\", \"19-octubre\", \"19-noviembre\", \"19-diciembre\"], \"y\": [0, 0, 33580, 47740, 0, 96000, 49720, 57760, 33800, 37860, 40100, 8800, 0, 0, 0, 0, 0, 0, 0, 0, 0, 0, 0, 0]}, {\"name\": \"Alimentaci\\u00f3n  \", \"type\": \"bar\", \"x\": [\"18-enero\", \"18-febrero\", \"18-marzo\", \"18-abril\", \"18-mayo\", \"18-junio\", \"18-julio\", \"18-agosto\", \"18-septiembre\", \"18-octubre\", \"18-noviembre\", \"18-diciembre\", \"19-enero\", \"19-febrero\", \"19-marzo\", \"19-abril\", \"19-mayo\", \"19-junio\", \"19-julio\", \"19-agosto\", \"19-septiembre\", \"19-octubre\", \"19-noviembre\", \"19-diciembre\"], \"y\": [0, 0, 120583, 127364, 0, 327824, 159290, 424135, 120651, 596478, 0, 213297, 0, 0, 0, 0, 0, 0, 0, 0, 0, 0, 0, 0]}, {\"name\": \"Vi\\u00e1ticos  \", \"type\": \"bar\", \"x\": [\"18-enero\", \"18-febrero\", \"18-marzo\", \"18-abril\", \"18-mayo\", \"18-junio\", \"18-julio\", \"18-agosto\", \"18-septiembre\", \"18-octubre\", \"18-noviembre\", \"18-diciembre\", \"19-enero\", \"19-febrero\", \"19-marzo\", \"19-abril\", \"19-mayo\", \"19-junio\", \"19-julio\", \"19-agosto\", \"19-septiembre\", \"19-octubre\", \"19-noviembre\", \"19-diciembre\"], \"y\": [0, 0, 613640, 920448, 1150560, 786210, 0, 0, 0, 0, 0, 0, 0, 0, 0, 0, 0, 0, 0, 0, 0, 0, 0, 0]}, {\"name\": \"Estacionamientos  \", \"type\": \"bar\", \"x\": [\"18-enero\", \"18-febrero\", \"18-marzo\", \"18-abril\", \"18-mayo\", \"18-junio\", \"18-julio\", \"18-agosto\", \"18-septiembre\", \"18-octubre\", \"18-noviembre\", \"18-diciembre\", \"19-enero\", \"19-febrero\", \"19-marzo\", \"19-abril\", \"19-mayo\", \"19-junio\", \"19-julio\", \"19-agosto\", \"19-septiembre\", \"19-octubre\", \"19-noviembre\", \"19-diciembre\"], \"y\": [0, 0, 16692, 19050, 0, 3450, 0, 0, 0, 0, 0, 0, 0, 0, 0, 0, 0, 0, 0, 0, 0, 0, 0, 0]}, {\"name\": \"Materiales de oficina  \", \"type\": \"bar\", \"x\": [\"18-enero\", \"18-febrero\", \"18-marzo\", \"18-abril\", \"18-mayo\", \"18-junio\", \"18-julio\", \"18-agosto\", \"18-septiembre\", \"18-octubre\", \"18-noviembre\", \"18-diciembre\", \"19-enero\", \"19-febrero\", \"19-marzo\", \"19-abril\", \"19-mayo\", \"19-junio\", \"19-julio\", \"19-agosto\", \"19-septiembre\", \"19-octubre\", \"19-noviembre\", \"19-diciembre\"], \"y\": [0, 0, 54587, 86456, 207619, 44312, 0, 0, 0, 0, 0, 0, 28225, 0, 58526, 73886, 154791, 27164, 0, 0, 0, 0, 0, 0]}, {\"name\": \"Difusi\\u00f3n  \", \"type\": \"bar\", \"x\": [\"18-enero\", \"18-febrero\", \"18-marzo\", \"18-abril\", \"18-mayo\", \"18-junio\", \"18-julio\", \"18-agosto\", \"18-septiembre\", \"18-octubre\", \"18-noviembre\", \"18-diciembre\", \"19-enero\", \"19-febrero\", \"19-marzo\", \"19-abril\", \"19-mayo\", \"19-junio\", \"19-julio\", \"19-agosto\", \"19-septiembre\", \"19-octubre\", \"19-noviembre\", \"19-diciembre\"], \"y\": [0, 0, 11700, 455, 0, 108355, 5990, 142800, 92392, 524067, 997667, 0, 729455, 2100000, 834999, 90000, 615124, 247300, 0, 0, 0, 0, 0, 0]}, {\"name\": \"Actividades distritales  \", \"type\": \"bar\", \"x\": [\"18-enero\", \"18-febrero\", \"18-marzo\", \"18-abril\", \"18-mayo\", \"18-junio\", \"18-julio\", \"18-agosto\", \"18-septiembre\", \"18-octubre\", \"18-noviembre\", \"18-diciembre\", \"19-enero\", \"19-febrero\", \"19-marzo\", \"19-abril\", \"19-mayo\", \"19-junio\", \"19-julio\", \"19-agosto\", \"19-septiembre\", \"19-octubre\", \"19-noviembre\", \"19-diciembre\"], \"y\": [0, 0, 465500, 665000, 665000, 665000, 0, 0, 0, 0, 0, 0, 0, 0, 0, 0, 0, 0, 0, 0, 0, 0, 0, 0]}, {\"name\": \"Alojamiento  \", \"type\": \"bar\", \"x\": [\"18-enero\", \"18-febrero\", \"18-marzo\", \"18-abril\", \"18-mayo\", \"18-junio\", \"18-julio\", \"18-agosto\", \"18-septiembre\", \"18-octubre\", \"18-noviembre\", \"18-diciembre\", \"19-enero\", \"19-febrero\", \"19-marzo\", \"19-abril\", \"19-mayo\", \"19-junio\", \"19-julio\", \"19-agosto\", \"19-septiembre\", \"19-octubre\", \"19-noviembre\", \"19-diciembre\"], \"y\": [0, 0, 0, 433314, 0, 151007, 674882, 71970, 71960, 121960, 200000, 100000, 0, 0, 0, 0, 0, 0, 0, 0, 0, 0, 0, 0]}, {\"name\": \"Correspondencia  \", \"type\": \"bar\", \"x\": [\"18-enero\", \"18-febrero\", \"18-marzo\", \"18-abril\", \"18-mayo\", \"18-junio\", \"18-julio\", \"18-agosto\", \"18-septiembre\", \"18-octubre\", \"18-noviembre\", \"18-diciembre\", \"19-enero\", \"19-febrero\", \"19-marzo\", \"19-abril\", \"19-mayo\", \"19-junio\", \"19-julio\", \"19-agosto\", \"19-septiembre\", \"19-octubre\", \"19-noviembre\", \"19-diciembre\"], \"y\": [0, 0, 0, 12800, 28059, 10816, 0, 0, 0, 0, 0, 0, 46946, 11597, 10068, 43611, 35035, 49606, 0, 0, 0, 0, 0, 0]}, {\"name\": \"Servicios y gastos menores  \", \"type\": \"bar\", \"x\": [\"18-enero\", \"18-febrero\", \"18-marzo\", \"18-abril\", \"18-mayo\", \"18-junio\", \"18-julio\", \"18-agosto\", \"18-septiembre\", \"18-octubre\", \"18-noviembre\", \"18-diciembre\", \"19-enero\", \"19-febrero\", \"19-marzo\", \"19-abril\", \"19-mayo\", \"19-junio\", \"19-julio\", \"19-agosto\", \"19-septiembre\", \"19-octubre\", \"19-noviembre\", \"19-diciembre\"], \"y\": [0, 0, 0, 8330, 0, 0, 0, 0, 0, 0, 0, 0, 0, 0, 0, 0, 0, 0, 0, 0, 0, 0, 0, 0]}, {\"name\": \"Actividades territoriales  \", \"type\": \"bar\", \"x\": [\"18-enero\", \"18-febrero\", \"18-marzo\", \"18-abril\", \"18-mayo\", \"18-junio\", \"18-julio\", \"18-agosto\", \"18-septiembre\", \"18-octubre\", \"18-noviembre\", \"18-diciembre\", \"19-enero\", \"19-febrero\", \"19-marzo\", \"19-abril\", \"19-mayo\", \"19-junio\", \"19-julio\", \"19-agosto\", \"19-septiembre\", \"19-octubre\", \"19-noviembre\", \"19-diciembre\"], \"y\": [0, 0, 0, 0, 0, 0, 2676374, 1760325, 2300250, 1238558, 1208228, 1132204, 0, 0, 0, 0, 0, 0, 0, 0, 0, 0, 0, 0]}, {\"name\": \"Vehiculos- amortizacion  \", \"type\": \"bar\", \"x\": [\"18-enero\", \"18-febrero\", \"18-marzo\", \"18-abril\", \"18-mayo\", \"18-junio\", \"18-julio\", \"18-agosto\", \"18-septiembre\", \"18-octubre\", \"18-noviembre\", \"18-diciembre\", \"19-enero\", \"19-febrero\", \"19-marzo\", \"19-abril\", \"19-mayo\", \"19-junio\", \"19-julio\", \"19-agosto\", \"19-septiembre\", \"19-octubre\", \"19-noviembre\", \"19-diciembre\"], \"y\": [0, 0, 0, 0, 0, 0, 193000, 193000, 193000, 193000, 193000, 193000, 0, 0, 0, 0, 0, 0, 0, 0, 0, 0, 0, 0]}, {\"name\": \"Vi\\u00e1ticos del diputado  \", \"type\": \"bar\", \"x\": [\"18-enero\", \"18-febrero\", \"18-marzo\", \"18-abril\", \"18-mayo\", \"18-junio\", \"18-julio\", \"18-agosto\", \"18-septiembre\", \"18-octubre\", \"18-noviembre\", \"18-diciembre\", \"19-enero\", \"19-febrero\", \"19-marzo\", \"19-abril\", \"19-mayo\", \"19-junio\", \"19-julio\", \"19-agosto\", \"19-septiembre\", \"19-octubre\", \"19-noviembre\", \"19-diciembre\"], \"y\": [0, 0, 0, 0, 0, 0, 786210, 943452, 943452, 864831, 1100694, 1179315, 0, 0, 0, 0, 0, 0, 0, 0, 0, 0, 0, 0]}, {\"name\": \"Traspaso desde gastos operacionales a asignaci\\u00f3n personal de apoyo  \", \"type\": \"bar\", \"x\": [\"18-enero\", \"18-febrero\", \"18-marzo\", \"18-abril\", \"18-mayo\", \"18-junio\", \"18-julio\", \"18-agosto\", \"18-septiembre\", \"18-octubre\", \"18-noviembre\", \"18-diciembre\", \"19-enero\", \"19-febrero\", \"19-marzo\", \"19-abril\", \"19-mayo\", \"19-junio\", \"19-julio\", \"19-agosto\", \"19-septiembre\", \"19-octubre\", \"19-noviembre\", \"19-diciembre\"], \"y\": [0, 0, 0, 0, 0, 0, 0, 0, 0, 0, 0, 0, 12180, 12180, 90463, 75153, 75153, 75153, 0, 0, 0, 0, 0, 0]}, {\"name\": \"Actividades destinadas a la interacci\\u00f3n con la comunidad  \", \"type\": \"bar\", \"x\": [\"18-enero\", \"18-febrero\", \"18-marzo\", \"18-abril\", \"18-mayo\", \"18-junio\", \"18-julio\", \"18-agosto\", \"18-septiembre\", \"18-octubre\", \"18-noviembre\", \"18-diciembre\", \"19-enero\", \"19-febrero\", \"19-marzo\", \"19-abril\", \"19-mayo\", \"19-junio\", \"19-julio\", \"19-agosto\", \"19-septiembre\", \"19-octubre\", \"19-noviembre\", \"19-diciembre\"], \"y\": [0, 0, 0, 0, 0, 0, 0, 0, 0, 0, 0, 0, 0, 0, 0, 0, 662800, 750000, 0, 0, 0, 0, 0, 0]}, {\"name\": \"Arriendo de inmueble  \", \"type\": \"bar\", \"x\": [\"18-enero\", \"18-febrero\", \"18-marzo\", \"18-abril\", \"18-mayo\", \"18-junio\", \"18-julio\", \"18-agosto\", \"18-septiembre\", \"18-octubre\", \"18-noviembre\", \"18-diciembre\", \"19-enero\", \"19-febrero\", \"19-marzo\", \"19-abril\", \"19-mayo\", \"19-junio\", \"19-julio\", \"19-agosto\", \"19-septiembre\", \"19-octubre\", \"19-noviembre\", \"19-diciembre\"], \"y\": [0, 0, 0, 0, 0, 0, 0, 0, 0, 0, 0, 0, 420000, 420000, 420000, 420000, 420000, 428517, 0, 0, 0, 0, 0, 0]}, {\"name\": \"Consumos b\\u00e1sicos  \", \"type\": \"bar\", \"x\": [\"18-enero\", \"18-febrero\", \"18-marzo\", \"18-abril\", \"18-mayo\", \"18-junio\", \"18-julio\", \"18-agosto\", \"18-septiembre\", \"18-octubre\", \"18-noviembre\", \"18-diciembre\", \"19-enero\", \"19-febrero\", \"19-marzo\", \"19-abril\", \"19-mayo\", \"19-junio\", \"19-julio\", \"19-agosto\", \"19-septiembre\", \"19-octubre\", \"19-noviembre\", \"19-diciembre\"], \"y\": [0, 0, 0, 0, 0, 0, 0, 0, 0, 0, 0, 0, 119723, 122794, 64825, 126557, 126747, 133677, 0, 0, 0, 0, 0, 0]}, {\"name\": \"Equipamiento oficina parlamentaria  \", \"type\": \"bar\", \"x\": [\"18-enero\", \"18-febrero\", \"18-marzo\", \"18-abril\", \"18-mayo\", \"18-junio\", \"18-julio\", \"18-agosto\", \"18-septiembre\", \"18-octubre\", \"18-noviembre\", \"18-diciembre\", \"19-enero\", \"19-febrero\", \"19-marzo\", \"19-abril\", \"19-mayo\", \"19-junio\", \"19-julio\", \"19-agosto\", \"19-septiembre\", \"19-octubre\", \"19-noviembre\", \"19-diciembre\"], \"y\": [0, 0, 0, 0, 0, 0, 0, 0, 0, 0, 0, 0, 590451, 0, 0, 0, 0, 0, 0, 0, 0, 0, 0, 0]}, {\"name\": \"Gastos de mantenci\\u00f3n oficina parlamentaria (inmueble)  \", \"type\": \"bar\", \"x\": [\"18-enero\", \"18-febrero\", \"18-marzo\", \"18-abril\", \"18-mayo\", \"18-junio\", \"18-julio\", \"18-agosto\", \"18-septiembre\", \"18-octubre\", \"18-noviembre\", \"18-diciembre\", \"19-enero\", \"19-febrero\", \"19-marzo\", \"19-abril\", \"19-mayo\", \"19-junio\", \"19-julio\", \"19-agosto\", \"19-septiembre\", \"19-octubre\", \"19-noviembre\", \"19-diciembre\"], \"y\": [0, 0, 0, 0, 0, 0, 0, 0, 0, 0, 0, 0, 77778, 77778, 0, 77778, 77778, 77778, 0, 0, 0, 0, 0, 0]}, {\"name\": \"Reparaciones locativas del inmueble  \", \"type\": \"bar\", \"x\": [\"18-enero\", \"18-febrero\", \"18-marzo\", \"18-abril\", \"18-mayo\", \"18-junio\", \"18-julio\", \"18-agosto\", \"18-septiembre\", \"18-octubre\", \"18-noviembre\", \"18-diciembre\", \"19-enero\", \"19-febrero\", \"19-marzo\", \"19-abril\", \"19-mayo\", \"19-junio\", \"19-julio\", \"19-agosto\", \"19-septiembre\", \"19-octubre\", \"19-noviembre\", \"19-diciembre\"], \"y\": [0, 0, 0, 0, 0, 0, 0, 0, 0, 0, 0, 0, 54740, 0, 0, 0, 0, 0, 0, 0, 0, 0, 0, 0]}, {\"name\": \"Habilitaci\\u00f3n de sedes parlamentarias (con autorizaci\\u00f3n de crap)  \", \"type\": \"bar\", \"x\": [\"18-enero\", \"18-febrero\", \"18-marzo\", \"18-abril\", \"18-mayo\", \"18-junio\", \"18-julio\", \"18-agosto\", \"18-septiembre\", \"18-octubre\", \"18-noviembre\", \"18-diciembre\", \"19-enero\", \"19-febrero\", \"19-marzo\", \"19-abril\", \"19-mayo\", \"19-junio\", \"19-julio\", \"19-agosto\", \"19-septiembre\", \"19-octubre\", \"19-noviembre\", \"19-diciembre\"], \"y\": [0, 0, 0, 0, 0, 0, 0, 0, 0, 0, 0, 0, 0, 0, 0, 0, 0, 0, 0, 0, 0, 0, 0, 0]}, {\"name\": \"Seguros de bienes  \", \"type\": \"bar\", \"x\": [\"18-enero\", \"18-febrero\", \"18-marzo\", \"18-abril\", \"18-mayo\", \"18-junio\", \"18-julio\", \"18-agosto\", \"18-septiembre\", \"18-octubre\", \"18-noviembre\", \"18-diciembre\", \"19-enero\", \"19-febrero\", \"19-marzo\", \"19-abril\", \"19-mayo\", \"19-junio\", \"19-julio\", \"19-agosto\", \"19-septiembre\", \"19-octubre\", \"19-noviembre\", \"19-diciembre\"], \"y\": [0, 0, 0, 0, 0, 0, 0, 0, 0, 0, 0, 0, 0, 0, 0, 0, 0, 0, 0, 0, 0, 0, 0, 0]}, {\"name\": \"Arriendo de oficinas virtuales  \", \"type\": \"bar\", \"x\": [\"18-enero\", \"18-febrero\", \"18-marzo\", \"18-abril\", \"18-mayo\", \"18-junio\", \"18-julio\", \"18-agosto\", \"18-septiembre\", \"18-octubre\", \"18-noviembre\", \"18-diciembre\", \"19-enero\", \"19-febrero\", \"19-marzo\", \"19-abril\", \"19-mayo\", \"19-junio\", \"19-julio\", \"19-agosto\", \"19-septiembre\", \"19-octubre\", \"19-noviembre\", \"19-diciembre\"], \"y\": [0, 0, 0, 0, 0, 0, 0, 0, 0, 0, 0, 0, 0, 0, 0, 0, 0, 0, 0, 0, 0, 0, 0, 0]}, {\"name\": \"Servicios web  \", \"type\": \"bar\", \"x\": [\"18-enero\", \"18-febrero\", \"18-marzo\", \"18-abril\", \"18-mayo\", \"18-junio\", \"18-julio\", \"18-agosto\", \"18-septiembre\", \"18-octubre\", \"18-noviembre\", \"18-diciembre\", \"19-enero\", \"19-febrero\", \"19-marzo\", \"19-abril\", \"19-mayo\", \"19-junio\", \"19-julio\", \"19-agosto\", \"19-septiembre\", \"19-octubre\", \"19-noviembre\", \"19-diciembre\"], \"y\": [0, 0, 0, 0, 0, 0, 0, 0, 0, 0, 0, 0, 0, 13174, 0, 0, 0, 0, 0, 0, 0, 0, 0, 0]}, {\"name\": \"Contrataci\\u00f3n servicio de almacenamiento  \", \"type\": \"bar\", \"x\": [\"18-enero\", \"18-febrero\", \"18-marzo\", \"18-abril\", \"18-mayo\", \"18-junio\", \"18-julio\", \"18-agosto\", \"18-septiembre\", \"18-octubre\", \"18-noviembre\", \"18-diciembre\", \"19-enero\", \"19-febrero\", \"19-marzo\", \"19-abril\", \"19-mayo\", \"19-junio\", \"19-julio\", \"19-agosto\", \"19-septiembre\", \"19-octubre\", \"19-noviembre\", \"19-diciembre\"], \"y\": [0, 0, 0, 0, 0, 0, 0, 0, 0, 0, 0, 0, 0, 0, 0, 0, 0, 0, 0, 0, 0, 0, 0, 0]}, {\"name\": \"Arriendo de oficina m\\u00f3vil  \", \"type\": \"bar\", \"x\": [\"18-enero\", \"18-febrero\", \"18-marzo\", \"18-abril\", \"18-mayo\", \"18-junio\", \"18-julio\", \"18-agosto\", \"18-septiembre\", \"18-octubre\", \"18-noviembre\", \"18-diciembre\", \"19-enero\", \"19-febrero\", \"19-marzo\", \"19-abril\", \"19-mayo\", \"19-junio\", \"19-julio\", \"19-agosto\", \"19-septiembre\", \"19-octubre\", \"19-noviembre\", \"19-diciembre\"], \"y\": [0, 0, 0, 0, 0, 0, 0, 0, 0, 0, 0, 0, 0, 0, 0, 0, 0, 0, 0, 0, 0, 0, 0, 0]}, {\"name\": \"Mantencion y reparaci\\u00f3n de oficina m\\u00f3vil  \", \"type\": \"bar\", \"x\": [\"18-enero\", \"18-febrero\", \"18-marzo\", \"18-abril\", \"18-mayo\", \"18-junio\", \"18-julio\", \"18-agosto\", \"18-septiembre\", \"18-octubre\", \"18-noviembre\", \"18-diciembre\", \"19-enero\", \"19-febrero\", \"19-marzo\", \"19-abril\", \"19-mayo\", \"19-junio\", \"19-julio\", \"19-agosto\", \"19-septiembre\", \"19-octubre\", \"19-noviembre\", \"19-diciembre\"], \"y\": [0, 0, 0, 0, 0, 0, 0, 0, 0, 0, 0, 0, 0, 0, 0, 0, 0, 0, 0, 0, 0, 0, 0, 0]}, {\"name\": \"Servicios menores  \", \"type\": \"bar\", \"x\": [\"18-enero\", \"18-febrero\", \"18-marzo\", \"18-abril\", \"18-mayo\", \"18-junio\", \"18-julio\", \"18-agosto\", \"18-septiembre\", \"18-octubre\", \"18-noviembre\", \"18-diciembre\", \"19-enero\", \"19-febrero\", \"19-marzo\", \"19-abril\", \"19-mayo\", \"19-junio\", \"19-julio\", \"19-agosto\", \"19-septiembre\", \"19-octubre\", \"19-noviembre\", \"19-diciembre\"], \"y\": [0, 0, 0, 0, 0, 0, 0, 0, 0, 0, 0, 0, 0, 0, 239990, 239990, 239990, 239990, 0, 0, 0, 0, 0, 0]}],\n",
       "                        {\"autosize\": true, \"barmode\": \"stack\", \"showlegend\": false, \"template\": {\"data\": {\"bar\": [{\"error_x\": {\"color\": \"#2a3f5f\"}, \"error_y\": {\"color\": \"#2a3f5f\"}, \"marker\": {\"line\": {\"color\": \"#E5ECF6\", \"width\": 0.5}}, \"type\": \"bar\"}], \"barpolar\": [{\"marker\": {\"line\": {\"color\": \"#E5ECF6\", \"width\": 0.5}}, \"type\": \"barpolar\"}], \"carpet\": [{\"aaxis\": {\"endlinecolor\": \"#2a3f5f\", \"gridcolor\": \"white\", \"linecolor\": \"white\", \"minorgridcolor\": \"white\", \"startlinecolor\": \"#2a3f5f\"}, \"baxis\": {\"endlinecolor\": \"#2a3f5f\", \"gridcolor\": \"white\", \"linecolor\": \"white\", \"minorgridcolor\": \"white\", \"startlinecolor\": \"#2a3f5f\"}, \"type\": \"carpet\"}], \"choropleth\": [{\"colorbar\": {\"outlinewidth\": 0, \"ticks\": \"\"}, \"type\": \"choropleth\"}], \"contour\": [{\"colorbar\": {\"outlinewidth\": 0, \"ticks\": \"\"}, \"colorscale\": [[0.0, \"#0d0887\"], [0.1111111111111111, \"#46039f\"], [0.2222222222222222, \"#7201a8\"], [0.3333333333333333, \"#9c179e\"], [0.4444444444444444, \"#bd3786\"], [0.5555555555555556, \"#d8576b\"], [0.6666666666666666, \"#ed7953\"], [0.7777777777777778, \"#fb9f3a\"], [0.8888888888888888, \"#fdca26\"], [1.0, \"#f0f921\"]], \"type\": \"contour\"}], \"contourcarpet\": [{\"colorbar\": {\"outlinewidth\": 0, \"ticks\": \"\"}, \"type\": \"contourcarpet\"}], \"heatmap\": [{\"colorbar\": {\"outlinewidth\": 0, \"ticks\": \"\"}, \"colorscale\": [[0.0, \"#0d0887\"], [0.1111111111111111, \"#46039f\"], [0.2222222222222222, \"#7201a8\"], [0.3333333333333333, \"#9c179e\"], [0.4444444444444444, \"#bd3786\"], [0.5555555555555556, \"#d8576b\"], [0.6666666666666666, \"#ed7953\"], [0.7777777777777778, \"#fb9f3a\"], [0.8888888888888888, \"#fdca26\"], [1.0, \"#f0f921\"]], \"type\": \"heatmap\"}], \"heatmapgl\": [{\"colorbar\": {\"outlinewidth\": 0, \"ticks\": \"\"}, \"colorscale\": [[0.0, \"#0d0887\"], [0.1111111111111111, \"#46039f\"], [0.2222222222222222, \"#7201a8\"], [0.3333333333333333, \"#9c179e\"], [0.4444444444444444, \"#bd3786\"], [0.5555555555555556, \"#d8576b\"], [0.6666666666666666, \"#ed7953\"], [0.7777777777777778, \"#fb9f3a\"], [0.8888888888888888, \"#fdca26\"], [1.0, \"#f0f921\"]], \"type\": \"heatmapgl\"}], \"histogram\": [{\"marker\": {\"colorbar\": {\"outlinewidth\": 0, \"ticks\": \"\"}}, \"type\": \"histogram\"}], \"histogram2d\": [{\"colorbar\": {\"outlinewidth\": 0, \"ticks\": \"\"}, \"colorscale\": [[0.0, \"#0d0887\"], [0.1111111111111111, \"#46039f\"], [0.2222222222222222, \"#7201a8\"], [0.3333333333333333, \"#9c179e\"], [0.4444444444444444, \"#bd3786\"], [0.5555555555555556, \"#d8576b\"], [0.6666666666666666, \"#ed7953\"], [0.7777777777777778, \"#fb9f3a\"], [0.8888888888888888, \"#fdca26\"], [1.0, \"#f0f921\"]], \"type\": \"histogram2d\"}], \"histogram2dcontour\": [{\"colorbar\": {\"outlinewidth\": 0, \"ticks\": \"\"}, \"colorscale\": [[0.0, \"#0d0887\"], [0.1111111111111111, \"#46039f\"], [0.2222222222222222, \"#7201a8\"], [0.3333333333333333, \"#9c179e\"], [0.4444444444444444, \"#bd3786\"], [0.5555555555555556, \"#d8576b\"], [0.6666666666666666, \"#ed7953\"], [0.7777777777777778, \"#fb9f3a\"], [0.8888888888888888, \"#fdca26\"], [1.0, \"#f0f921\"]], \"type\": \"histogram2dcontour\"}], \"mesh3d\": [{\"colorbar\": {\"outlinewidth\": 0, \"ticks\": \"\"}, \"type\": \"mesh3d\"}], \"parcoords\": [{\"line\": {\"colorbar\": {\"outlinewidth\": 0, \"ticks\": \"\"}}, \"type\": \"parcoords\"}], \"scatter\": [{\"marker\": {\"colorbar\": {\"outlinewidth\": 0, \"ticks\": \"\"}}, \"type\": \"scatter\"}], \"scatter3d\": [{\"line\": {\"colorbar\": {\"outlinewidth\": 0, \"ticks\": \"\"}}, \"marker\": {\"colorbar\": {\"outlinewidth\": 0, \"ticks\": \"\"}}, \"type\": \"scatter3d\"}], \"scattercarpet\": [{\"marker\": {\"colorbar\": {\"outlinewidth\": 0, \"ticks\": \"\"}}, \"type\": \"scattercarpet\"}], \"scattergeo\": [{\"marker\": {\"colorbar\": {\"outlinewidth\": 0, \"ticks\": \"\"}}, \"type\": \"scattergeo\"}], \"scattergl\": [{\"marker\": {\"colorbar\": {\"outlinewidth\": 0, \"ticks\": \"\"}}, \"type\": \"scattergl\"}], \"scattermapbox\": [{\"marker\": {\"colorbar\": {\"outlinewidth\": 0, \"ticks\": \"\"}}, \"type\": \"scattermapbox\"}], \"scatterpolar\": [{\"marker\": {\"colorbar\": {\"outlinewidth\": 0, \"ticks\": \"\"}}, \"type\": \"scatterpolar\"}], \"scatterpolargl\": [{\"marker\": {\"colorbar\": {\"outlinewidth\": 0, \"ticks\": \"\"}}, \"type\": \"scatterpolargl\"}], \"scatterternary\": [{\"marker\": {\"colorbar\": {\"outlinewidth\": 0, \"ticks\": \"\"}}, \"type\": \"scatterternary\"}], \"surface\": [{\"colorbar\": {\"outlinewidth\": 0, \"ticks\": \"\"}, \"colorscale\": [[0.0, \"#0d0887\"], [0.1111111111111111, \"#46039f\"], [0.2222222222222222, \"#7201a8\"], [0.3333333333333333, \"#9c179e\"], [0.4444444444444444, \"#bd3786\"], [0.5555555555555556, \"#d8576b\"], [0.6666666666666666, \"#ed7953\"], [0.7777777777777778, \"#fb9f3a\"], [0.8888888888888888, \"#fdca26\"], [1.0, \"#f0f921\"]], \"type\": \"surface\"}], \"table\": [{\"cells\": {\"fill\": {\"color\": \"#EBF0F8\"}, \"line\": {\"color\": \"white\"}}, \"header\": {\"fill\": {\"color\": \"#C8D4E3\"}, \"line\": {\"color\": \"white\"}}, \"type\": \"table\"}]}, \"layout\": {\"annotationdefaults\": {\"arrowcolor\": \"#2a3f5f\", \"arrowhead\": 0, \"arrowwidth\": 1}, \"colorscale\": {\"diverging\": [[0, \"#8e0152\"], [0.1, \"#c51b7d\"], [0.2, \"#de77ae\"], [0.3, \"#f1b6da\"], [0.4, \"#fde0ef\"], [0.5, \"#f7f7f7\"], [0.6, \"#e6f5d0\"], [0.7, \"#b8e186\"], [0.8, \"#7fbc41\"], [0.9, \"#4d9221\"], [1, \"#276419\"]], \"sequential\": [[0.0, \"#0d0887\"], [0.1111111111111111, \"#46039f\"], [0.2222222222222222, \"#7201a8\"], [0.3333333333333333, \"#9c179e\"], [0.4444444444444444, \"#bd3786\"], [0.5555555555555556, \"#d8576b\"], [0.6666666666666666, \"#ed7953\"], [0.7777777777777778, \"#fb9f3a\"], [0.8888888888888888, \"#fdca26\"], [1.0, \"#f0f921\"]], \"sequentialminus\": [[0.0, \"#0d0887\"], [0.1111111111111111, \"#46039f\"], [0.2222222222222222, \"#7201a8\"], [0.3333333333333333, \"#9c179e\"], [0.4444444444444444, \"#bd3786\"], [0.5555555555555556, \"#d8576b\"], [0.6666666666666666, \"#ed7953\"], [0.7777777777777778, \"#fb9f3a\"], [0.8888888888888888, \"#fdca26\"], [1.0, \"#f0f921\"]]}, \"colorway\": [\"#636efa\", \"#EF553B\", \"#00cc96\", \"#ab63fa\", \"#FFA15A\", \"#19d3f3\", \"#FF6692\", \"#B6E880\", \"#FF97FF\", \"#FECB52\"], \"font\": {\"color\": \"#2a3f5f\"}, \"geo\": {\"bgcolor\": \"white\", \"lakecolor\": \"white\", \"landcolor\": \"#E5ECF6\", \"showlakes\": true, \"showland\": true, \"subunitcolor\": \"white\"}, \"hoverlabel\": {\"align\": \"left\"}, \"hovermode\": \"closest\", \"mapbox\": {\"style\": \"light\"}, \"paper_bgcolor\": \"white\", \"plot_bgcolor\": \"#E5ECF6\", \"polar\": {\"angularaxis\": {\"gridcolor\": \"white\", \"linecolor\": \"white\", \"ticks\": \"\"}, \"bgcolor\": \"#E5ECF6\", \"radialaxis\": {\"gridcolor\": \"white\", \"linecolor\": \"white\", \"ticks\": \"\"}}, \"scene\": {\"xaxis\": {\"backgroundcolor\": \"#E5ECF6\", \"gridcolor\": \"white\", \"gridwidth\": 2, \"linecolor\": \"white\", \"showbackground\": true, \"ticks\": \"\", \"zerolinecolor\": \"white\"}, \"yaxis\": {\"backgroundcolor\": \"#E5ECF6\", \"gridcolor\": \"white\", \"gridwidth\": 2, \"linecolor\": \"white\", \"showbackground\": true, \"ticks\": \"\", \"zerolinecolor\": \"white\"}, \"zaxis\": {\"backgroundcolor\": \"#E5ECF6\", \"gridcolor\": \"white\", \"gridwidth\": 2, \"linecolor\": \"white\", \"showbackground\": true, \"ticks\": \"\", \"zerolinecolor\": \"white\"}}, \"shapedefaults\": {\"line\": {\"color\": \"#2a3f5f\"}}, \"ternary\": {\"aaxis\": {\"gridcolor\": \"white\", \"linecolor\": \"white\", \"ticks\": \"\"}, \"baxis\": {\"gridcolor\": \"white\", \"linecolor\": \"white\", \"ticks\": \"\"}, \"bgcolor\": \"#E5ECF6\", \"caxis\": {\"gridcolor\": \"white\", \"linecolor\": \"white\", \"ticks\": \"\"}}, \"title\": {\"x\": 0.05}, \"xaxis\": {\"automargin\": true, \"gridcolor\": \"white\", \"linecolor\": \"white\", \"ticks\": \"\", \"zerolinecolor\": \"white\", \"zerolinewidth\": 2}, \"yaxis\": {\"automargin\": true, \"gridcolor\": \"white\", \"linecolor\": \"white\", \"ticks\": \"\", \"zerolinecolor\": \"white\", \"zerolinewidth\": 2}}}, \"title\": {\"text\": \"Gastos de Jorge Alessandri Vergara \"}},\n",
       "                        {\"responsive\": true}\n",
       "                    ).then(function(){\n",
       "                            \n",
       "var gd = document.getElementById('13e6fa76-6f22-4cb7-9c53-5ba0cf03f908');\n",
       "var x = new MutationObserver(function (mutations, observer) {{\n",
       "        var display = window.getComputedStyle(gd).display;\n",
       "        if (!display || display === 'none') {{\n",
       "            console.log([gd, 'removed!']);\n",
       "            Plotly.purge(gd);\n",
       "            observer.disconnect();\n",
       "        }}\n",
       "}});\n",
       "\n",
       "// Listen for the removal of the full notebook cells\n",
       "var notebookContainer = gd.closest('#notebook-container');\n",
       "if (notebookContainer) {{\n",
       "    x.observe(notebookContainer, {childList: true});\n",
       "}}\n",
       "\n",
       "// Listen for the clearing of the current output cell\n",
       "var outputEl = gd.closest('.output');\n",
       "if (outputEl) {{\n",
       "    x.observe(outputEl, {childList: true});\n",
       "}}\n",
       "\n",
       "                        })\n",
       "                };\n",
       "                });\n",
       "            </script>\n",
       "        </div>"
      ]
     },
     "metadata": {},
     "output_type": "display_data"
    }
   ],
   "source": [
    "get_all_info(1009)"
   ]
  },
  {
   "cell_type": "code",
   "execution_count": 15,
   "metadata": {},
   "outputs": [
    {
     "name": "stdout",
     "output_type": "stream",
     "text": [
      "Finished getting biographical data\n",
      "Finished getting expenditure\n"
     ]
    },
    {
     "data": {
      "application/vnd.plotly.v1+json": {
       "config": {
        "plotlyServerURL": "https://plot.ly"
       },
       "data": [
        {
         "name": "Oficinas parlamentarias (incluye arriendos, consumos básicos, internet, etc.)  ",
         "type": "bar",
         "x": [
          "18-enero",
          "18-febrero",
          "18-marzo",
          "18-abril",
          "18-mayo",
          "18-junio",
          "18-julio",
          "18-agosto",
          "18-septiembre",
          "18-octubre",
          "18-noviembre",
          "18-diciembre",
          "19-enero",
          "19-febrero",
          "19-marzo",
          "19-abril",
          "19-mayo",
          "19-junio",
          "19-julio",
          "19-agosto",
          "19-septiembre",
          "19-octubre",
          "19-noviembre",
          "19-diciembre"
         ],
         "y": [
          0,
          0,
          753256,
          413400,
          760000,
          869009,
          0,
          0,
          0,
          0,
          0,
          0,
          0,
          0,
          0,
          0,
          0,
          0,
          0,
          0,
          0,
          0,
          0,
          0
         ]
        },
        {
         "name": "Telefonía  ",
         "type": "bar",
         "x": [
          "18-enero",
          "18-febrero",
          "18-marzo",
          "18-abril",
          "18-mayo",
          "18-junio",
          "18-julio",
          "18-agosto",
          "18-septiembre",
          "18-octubre",
          "18-noviembre",
          "18-diciembre",
          "19-enero",
          "19-febrero",
          "19-marzo",
          "19-abril",
          "19-mayo",
          "19-junio",
          "19-julio",
          "19-agosto",
          "19-septiembre",
          "19-octubre",
          "19-noviembre",
          "19-diciembre"
         ],
         "y": [
          0,
          0,
          231022,
          226093,
          233852,
          222522,
          222522,
          222522,
          222522,
          222522,
          226534,
          230863,
          222522,
          222522,
          246816,
          183470,
          183470,
          183439,
          0,
          0,
          0,
          0,
          0,
          0
         ]
        },
        {
         "name": "Traslación  ",
         "type": "bar",
         "x": [
          "18-enero",
          "18-febrero",
          "18-marzo",
          "18-abril",
          "18-mayo",
          "18-junio",
          "18-julio",
          "18-agosto",
          "18-septiembre",
          "18-octubre",
          "18-noviembre",
          "18-diciembre",
          "19-enero",
          "19-febrero",
          "19-marzo",
          "19-abril",
          "19-mayo",
          "19-junio",
          "19-julio",
          "19-agosto",
          "19-septiembre",
          "19-octubre",
          "19-noviembre",
          "19-diciembre"
         ],
         "y": [
          0,
          0,
          0,
          0,
          0,
          0,
          0,
          0,
          0,
          0,
          0,
          0,
          1146239,
          1034851,
          2070716,
          1753482,
          1819996,
          1621545,
          0,
          0,
          0,
          0,
          0,
          0
         ]
        },
        {
         "name": "Vehículos  ",
         "type": "bar",
         "x": [
          "18-enero",
          "18-febrero",
          "18-marzo",
          "18-abril",
          "18-mayo",
          "18-junio",
          "18-julio",
          "18-agosto",
          "18-septiembre",
          "18-octubre",
          "18-noviembre",
          "18-diciembre",
          "19-enero",
          "19-febrero",
          "19-marzo",
          "19-abril",
          "19-mayo",
          "19-junio",
          "19-julio",
          "19-agosto",
          "19-septiembre",
          "19-octubre",
          "19-noviembre",
          "19-diciembre"
         ],
         "y": [
          0,
          0,
          721649,
          378001,
          193000,
          193000,
          0,
          10000,
          0,
          0,
          0,
          0,
          0,
          0,
          0,
          0,
          0,
          0,
          0,
          0,
          0,
          0,
          0,
          0
         ]
        },
        {
         "name": "Tag y peajes  ",
         "type": "bar",
         "x": [
          "18-enero",
          "18-febrero",
          "18-marzo",
          "18-abril",
          "18-mayo",
          "18-junio",
          "18-julio",
          "18-agosto",
          "18-septiembre",
          "18-octubre",
          "18-noviembre",
          "18-diciembre",
          "19-enero",
          "19-febrero",
          "19-marzo",
          "19-abril",
          "19-mayo",
          "19-junio",
          "19-julio",
          "19-agosto",
          "19-septiembre",
          "19-octubre",
          "19-noviembre",
          "19-diciembre"
         ],
         "y": [
          0,
          0,
          74800,
          110774,
          61766,
          139700,
          119600,
          137840,
          86630,
          104650,
          90020,
          91410,
          0,
          0,
          0,
          0,
          0,
          0,
          0,
          0,
          0,
          0,
          0,
          0
         ]
        },
        {
         "name": "Combustible  ",
         "type": "bar",
         "x": [
          "18-enero",
          "18-febrero",
          "18-marzo",
          "18-abril",
          "18-mayo",
          "18-junio",
          "18-julio",
          "18-agosto",
          "18-septiembre",
          "18-octubre",
          "18-noviembre",
          "18-diciembre",
          "19-enero",
          "19-febrero",
          "19-marzo",
          "19-abril",
          "19-mayo",
          "19-junio",
          "19-julio",
          "19-agosto",
          "19-septiembre",
          "19-octubre",
          "19-noviembre",
          "19-diciembre"
         ],
         "y": [
          0,
          0,
          340014,
          446158,
          107000,
          383279,
          657912,
          518006,
          80000,
          230000,
          60000,
          82510,
          0,
          0,
          0,
          0,
          0,
          0,
          0,
          0,
          0,
          0,
          0,
          0
         ]
        },
        {
         "name": "Pasajes de movilización  ",
         "type": "bar",
         "x": [
          "18-enero",
          "18-febrero",
          "18-marzo",
          "18-abril",
          "18-mayo",
          "18-junio",
          "18-julio",
          "18-agosto",
          "18-septiembre",
          "18-octubre",
          "18-noviembre",
          "18-diciembre",
          "19-enero",
          "19-febrero",
          "19-marzo",
          "19-abril",
          "19-mayo",
          "19-junio",
          "19-julio",
          "19-agosto",
          "19-septiembre",
          "19-octubre",
          "19-noviembre",
          "19-diciembre"
         ],
         "y": [
          0,
          0,
          21900,
          61950,
          32600,
          131300,
          81600,
          56000,
          24600,
          85400,
          86600,
          18800,
          0,
          0,
          0,
          0,
          0,
          0,
          0,
          0,
          0,
          0,
          0,
          0
         ]
        },
        {
         "name": "Alimentación  ",
         "type": "bar",
         "x": [
          "18-enero",
          "18-febrero",
          "18-marzo",
          "18-abril",
          "18-mayo",
          "18-junio",
          "18-julio",
          "18-agosto",
          "18-septiembre",
          "18-octubre",
          "18-noviembre",
          "18-diciembre",
          "19-enero",
          "19-febrero",
          "19-marzo",
          "19-abril",
          "19-mayo",
          "19-junio",
          "19-julio",
          "19-agosto",
          "19-septiembre",
          "19-octubre",
          "19-noviembre",
          "19-diciembre"
         ],
         "y": [
          0,
          0,
          133504,
          72538,
          0,
          145025,
          191215,
          276460,
          125748,
          237240,
          221954,
          394573,
          0,
          0,
          0,
          0,
          0,
          0,
          0,
          0,
          0,
          0,
          0,
          0
         ]
        },
        {
         "name": "Viáticos  ",
         "type": "bar",
         "x": [
          "18-enero",
          "18-febrero",
          "18-marzo",
          "18-abril",
          "18-mayo",
          "18-junio",
          "18-julio",
          "18-agosto",
          "18-septiembre",
          "18-octubre",
          "18-noviembre",
          "18-diciembre",
          "19-enero",
          "19-febrero",
          "19-marzo",
          "19-abril",
          "19-mayo",
          "19-junio",
          "19-julio",
          "19-agosto",
          "19-septiembre",
          "19-octubre",
          "19-noviembre",
          "19-diciembre"
         ],
         "y": [
          0,
          0,
          613640,
          920448,
          1150560,
          707589,
          0,
          0,
          0,
          0,
          0,
          0,
          0,
          0,
          0,
          0,
          0,
          0,
          0,
          0,
          0,
          0,
          0,
          0
         ]
        },
        {
         "name": "Estacionamientos  ",
         "type": "bar",
         "x": [
          "18-enero",
          "18-febrero",
          "18-marzo",
          "18-abril",
          "18-mayo",
          "18-junio",
          "18-julio",
          "18-agosto",
          "18-septiembre",
          "18-octubre",
          "18-noviembre",
          "18-diciembre",
          "19-enero",
          "19-febrero",
          "19-marzo",
          "19-abril",
          "19-mayo",
          "19-junio",
          "19-julio",
          "19-agosto",
          "19-septiembre",
          "19-octubre",
          "19-noviembre",
          "19-diciembre"
         ],
         "y": [
          0,
          0,
          39466,
          31200,
          34670,
          41344,
          0,
          0,
          0,
          0,
          0,
          0,
          0,
          0,
          0,
          0,
          0,
          0,
          0,
          0,
          0,
          0,
          0,
          0
         ]
        },
        {
         "name": "Difusión  ",
         "type": "bar",
         "x": [
          "18-enero",
          "18-febrero",
          "18-marzo",
          "18-abril",
          "18-mayo",
          "18-junio",
          "18-julio",
          "18-agosto",
          "18-septiembre",
          "18-octubre",
          "18-noviembre",
          "18-diciembre",
          "19-enero",
          "19-febrero",
          "19-marzo",
          "19-abril",
          "19-mayo",
          "19-junio",
          "19-julio",
          "19-agosto",
          "19-septiembre",
          "19-octubre",
          "19-noviembre",
          "19-diciembre"
         ],
         "y": [
          0,
          0,
          90000,
          1908000,
          245200,
          215200,
          1755000,
          1877250,
          2386350,
          1710000,
          1620100,
          466000,
          2868835,
          0,
          3282518,
          1755490,
          292550,
          6847000,
          0,
          0,
          0,
          0,
          0,
          0
         ]
        },
        {
         "name": "Actividades distritales  ",
         "type": "bar",
         "x": [
          "18-enero",
          "18-febrero",
          "18-marzo",
          "18-abril",
          "18-mayo",
          "18-junio",
          "18-julio",
          "18-agosto",
          "18-septiembre",
          "18-octubre",
          "18-noviembre",
          "18-diciembre",
          "19-enero",
          "19-febrero",
          "19-marzo",
          "19-abril",
          "19-mayo",
          "19-junio",
          "19-julio",
          "19-agosto",
          "19-septiembre",
          "19-octubre",
          "19-noviembre",
          "19-diciembre"
         ],
         "y": [
          0,
          0,
          465500,
          665000,
          665000,
          665000,
          0,
          0,
          0,
          0,
          0,
          0,
          0,
          0,
          0,
          0,
          0,
          0,
          0,
          0,
          0,
          0,
          0,
          0
         ]
        },
        {
         "name": "Alojamiento  ",
         "type": "bar",
         "x": [
          "18-enero",
          "18-febrero",
          "18-marzo",
          "18-abril",
          "18-mayo",
          "18-junio",
          "18-julio",
          "18-agosto",
          "18-septiembre",
          "18-octubre",
          "18-noviembre",
          "18-diciembre",
          "19-enero",
          "19-febrero",
          "19-marzo",
          "19-abril",
          "19-mayo",
          "19-junio",
          "19-julio",
          "19-agosto",
          "19-septiembre",
          "19-octubre",
          "19-noviembre",
          "19-diciembre"
         ],
         "y": [
          0,
          0,
          0,
          132900,
          0,
          0,
          0,
          0,
          0,
          0,
          0,
          0,
          0,
          0,
          0,
          0,
          0,
          0,
          0,
          0,
          0,
          0,
          0,
          0
         ]
        },
        {
         "name": "Servicios y gastos menores  ",
         "type": "bar",
         "x": [
          "18-enero",
          "18-febrero",
          "18-marzo",
          "18-abril",
          "18-mayo",
          "18-junio",
          "18-julio",
          "18-agosto",
          "18-septiembre",
          "18-octubre",
          "18-noviembre",
          "18-diciembre",
          "19-enero",
          "19-febrero",
          "19-marzo",
          "19-abril",
          "19-mayo",
          "19-junio",
          "19-julio",
          "19-agosto",
          "19-septiembre",
          "19-octubre",
          "19-noviembre",
          "19-diciembre"
         ],
         "y": [
          0,
          0,
          0,
          0,
          0,
          95790,
          0,
          0,
          0,
          0,
          0,
          0,
          0,
          0,
          0,
          0,
          0,
          0,
          0,
          0,
          0,
          0,
          0,
          0
         ]
        },
        {
         "name": "Actividades territoriales  ",
         "type": "bar",
         "x": [
          "18-enero",
          "18-febrero",
          "18-marzo",
          "18-abril",
          "18-mayo",
          "18-junio",
          "18-julio",
          "18-agosto",
          "18-septiembre",
          "18-octubre",
          "18-noviembre",
          "18-diciembre",
          "19-enero",
          "19-febrero",
          "19-marzo",
          "19-abril",
          "19-mayo",
          "19-junio",
          "19-julio",
          "19-agosto",
          "19-septiembre",
          "19-octubre",
          "19-noviembre",
          "19-diciembre"
         ],
         "y": [
          0,
          0,
          0,
          0,
          0,
          0,
          1289417,
          1300530,
          1359418,
          1400116,
          1036130,
          1064273,
          0,
          0,
          0,
          0,
          0,
          0,
          0,
          0,
          0,
          0,
          0,
          0
         ]
        },
        {
         "name": "Vehiculos- amortizacion  ",
         "type": "bar",
         "x": [
          "18-enero",
          "18-febrero",
          "18-marzo",
          "18-abril",
          "18-mayo",
          "18-junio",
          "18-julio",
          "18-agosto",
          "18-septiembre",
          "18-octubre",
          "18-noviembre",
          "18-diciembre",
          "19-enero",
          "19-febrero",
          "19-marzo",
          "19-abril",
          "19-mayo",
          "19-junio",
          "19-julio",
          "19-agosto",
          "19-septiembre",
          "19-octubre",
          "19-noviembre",
          "19-diciembre"
         ],
         "y": [
          0,
          0,
          0,
          0,
          0,
          0,
          193000,
          193000,
          193000,
          193000,
          193000,
          193000,
          0,
          0,
          0,
          0,
          0,
          0,
          0,
          0,
          0,
          0,
          0,
          0
         ]
        },
        {
         "name": "Estacionamientos en aeropuerto  ",
         "type": "bar",
         "x": [
          "18-enero",
          "18-febrero",
          "18-marzo",
          "18-abril",
          "18-mayo",
          "18-junio",
          "18-julio",
          "18-agosto",
          "18-septiembre",
          "18-octubre",
          "18-noviembre",
          "18-diciembre",
          "19-enero",
          "19-febrero",
          "19-marzo",
          "19-abril",
          "19-mayo",
          "19-junio",
          "19-julio",
          "19-agosto",
          "19-septiembre",
          "19-octubre",
          "19-noviembre",
          "19-diciembre"
         ],
         "y": [
          0,
          0,
          0,
          0,
          0,
          0,
          30000,
          30000,
          30000,
          30000,
          30000,
          30000,
          0,
          0,
          0,
          0,
          0,
          0,
          0,
          0,
          0,
          0,
          0,
          0
         ]
        },
        {
         "name": "Viáticos del diputado  ",
         "type": "bar",
         "x": [
          "18-enero",
          "18-febrero",
          "18-marzo",
          "18-abril",
          "18-mayo",
          "18-junio",
          "18-julio",
          "18-agosto",
          "18-septiembre",
          "18-octubre",
          "18-noviembre",
          "18-diciembre",
          "19-enero",
          "19-febrero",
          "19-marzo",
          "19-abril",
          "19-mayo",
          "19-junio",
          "19-julio",
          "19-agosto",
          "19-septiembre",
          "19-octubre",
          "19-noviembre",
          "19-diciembre"
         ],
         "y": [
          0,
          0,
          0,
          0,
          0,
          0,
          707589,
          943452,
          864831,
          550347,
          1022073,
          1179315,
          0,
          0,
          0,
          0,
          0,
          0,
          0,
          0,
          0,
          0,
          0,
          0
         ]
        },
        {
         "name": "Traspaso desde gastos operacionales a asignación personal de apoyo  ",
         "type": "bar",
         "x": [
          "18-enero",
          "18-febrero",
          "18-marzo",
          "18-abril",
          "18-mayo",
          "18-junio",
          "18-julio",
          "18-agosto",
          "18-septiembre",
          "18-octubre",
          "18-noviembre",
          "18-diciembre",
          "19-enero",
          "19-febrero",
          "19-marzo",
          "19-abril",
          "19-mayo",
          "19-junio",
          "19-julio",
          "19-agosto",
          "19-septiembre",
          "19-octubre",
          "19-noviembre",
          "19-diciembre"
         ],
         "y": [
          0,
          0,
          0,
          0,
          0,
          0,
          0,
          0,
          0,
          0,
          0,
          0,
          0,
          0,
          0,
          0,
          0,
          0,
          0,
          0,
          0,
          0,
          0,
          0
         ]
        },
        {
         "name": "Actividades destinadas a la interacción con la comunidad  ",
         "type": "bar",
         "x": [
          "18-enero",
          "18-febrero",
          "18-marzo",
          "18-abril",
          "18-mayo",
          "18-junio",
          "18-julio",
          "18-agosto",
          "18-septiembre",
          "18-octubre",
          "18-noviembre",
          "18-diciembre",
          "19-enero",
          "19-febrero",
          "19-marzo",
          "19-abril",
          "19-mayo",
          "19-junio",
          "19-julio",
          "19-agosto",
          "19-septiembre",
          "19-octubre",
          "19-noviembre",
          "19-diciembre"
         ],
         "y": [
          0,
          0,
          0,
          0,
          0,
          0,
          0,
          0,
          0,
          0,
          0,
          0,
          0,
          0,
          42201,
          240000,
          0,
          0,
          0,
          0,
          0,
          0,
          0,
          0
         ]
        },
        {
         "name": "Arriendo de inmueble  ",
         "type": "bar",
         "x": [
          "18-enero",
          "18-febrero",
          "18-marzo",
          "18-abril",
          "18-mayo",
          "18-junio",
          "18-julio",
          "18-agosto",
          "18-septiembre",
          "18-octubre",
          "18-noviembre",
          "18-diciembre",
          "19-enero",
          "19-febrero",
          "19-marzo",
          "19-abril",
          "19-mayo",
          "19-junio",
          "19-julio",
          "19-agosto",
          "19-septiembre",
          "19-octubre",
          "19-noviembre",
          "19-diciembre"
         ],
         "y": [
          0,
          0,
          0,
          0,
          0,
          0,
          0,
          0,
          0,
          0,
          0,
          0,
          770000,
          770000,
          770000,
          770000,
          770000,
          770000,
          0,
          0,
          0,
          0,
          0,
          0
         ]
        },
        {
         "name": "Consumos básicos  ",
         "type": "bar",
         "x": [
          "18-enero",
          "18-febrero",
          "18-marzo",
          "18-abril",
          "18-mayo",
          "18-junio",
          "18-julio",
          "18-agosto",
          "18-septiembre",
          "18-octubre",
          "18-noviembre",
          "18-diciembre",
          "19-enero",
          "19-febrero",
          "19-marzo",
          "19-abril",
          "19-mayo",
          "19-junio",
          "19-julio",
          "19-agosto",
          "19-septiembre",
          "19-octubre",
          "19-noviembre",
          "19-diciembre"
         ],
         "y": [
          0,
          0,
          0,
          0,
          0,
          0,
          0,
          0,
          0,
          0,
          0,
          0,
          36680,
          0,
          0,
          65131,
          77890,
          0,
          0,
          0,
          0,
          0,
          0,
          0
         ]
        },
        {
         "name": "Equipamiento oficina parlamentaria  ",
         "type": "bar",
         "x": [
          "18-enero",
          "18-febrero",
          "18-marzo",
          "18-abril",
          "18-mayo",
          "18-junio",
          "18-julio",
          "18-agosto",
          "18-septiembre",
          "18-octubre",
          "18-noviembre",
          "18-diciembre",
          "19-enero",
          "19-febrero",
          "19-marzo",
          "19-abril",
          "19-mayo",
          "19-junio",
          "19-julio",
          "19-agosto",
          "19-septiembre",
          "19-octubre",
          "19-noviembre",
          "19-diciembre"
         ],
         "y": [
          0,
          0,
          0,
          0,
          0,
          0,
          0,
          0,
          0,
          0,
          0,
          0,
          0,
          0,
          0,
          0,
          0,
          31473,
          0,
          0,
          0,
          0,
          0,
          0
         ]
        },
        {
         "name": "Materiales de oficina  ",
         "type": "bar",
         "x": [
          "18-enero",
          "18-febrero",
          "18-marzo",
          "18-abril",
          "18-mayo",
          "18-junio",
          "18-julio",
          "18-agosto",
          "18-septiembre",
          "18-octubre",
          "18-noviembre",
          "18-diciembre",
          "19-enero",
          "19-febrero",
          "19-marzo",
          "19-abril",
          "19-mayo",
          "19-junio",
          "19-julio",
          "19-agosto",
          "19-septiembre",
          "19-octubre",
          "19-noviembre",
          "19-diciembre"
         ],
         "y": [
          0,
          0,
          0,
          0,
          0,
          0,
          0,
          0,
          0,
          0,
          0,
          0,
          0,
          16789,
          0,
          31420,
          0,
          0,
          0,
          0,
          0,
          0,
          0,
          0
         ]
        },
        {
         "name": "Correspondencia  ",
         "type": "bar",
         "x": [
          "18-enero",
          "18-febrero",
          "18-marzo",
          "18-abril",
          "18-mayo",
          "18-junio",
          "18-julio",
          "18-agosto",
          "18-septiembre",
          "18-octubre",
          "18-noviembre",
          "18-diciembre",
          "19-enero",
          "19-febrero",
          "19-marzo",
          "19-abril",
          "19-mayo",
          "19-junio",
          "19-julio",
          "19-agosto",
          "19-septiembre",
          "19-octubre",
          "19-noviembre",
          "19-diciembre"
         ],
         "y": [
          0,
          0,
          0,
          0,
          0,
          0,
          0,
          0,
          0,
          0,
          0,
          0,
          6435,
          0,
          12511,
          0,
          0,
          11760,
          0,
          0,
          0,
          0,
          0,
          0
         ]
        },
        {
         "name": "Gastos de mantención oficina parlamentaria (inmueble)  ",
         "type": "bar",
         "x": [
          "18-enero",
          "18-febrero",
          "18-marzo",
          "18-abril",
          "18-mayo",
          "18-junio",
          "18-julio",
          "18-agosto",
          "18-septiembre",
          "18-octubre",
          "18-noviembre",
          "18-diciembre",
          "19-enero",
          "19-febrero",
          "19-marzo",
          "19-abril",
          "19-mayo",
          "19-junio",
          "19-julio",
          "19-agosto",
          "19-septiembre",
          "19-octubre",
          "19-noviembre",
          "19-diciembre"
         ],
         "y": [
          0,
          0,
          0,
          0,
          0,
          0,
          0,
          0,
          0,
          0,
          0,
          0,
          0,
          0,
          0,
          0,
          0,
          450000,
          0,
          0,
          0,
          0,
          0,
          0
         ]
        },
        {
         "name": "Reparaciones locativas del inmueble  ",
         "type": "bar",
         "x": [
          "18-enero",
          "18-febrero",
          "18-marzo",
          "18-abril",
          "18-mayo",
          "18-junio",
          "18-julio",
          "18-agosto",
          "18-septiembre",
          "18-octubre",
          "18-noviembre",
          "18-diciembre",
          "19-enero",
          "19-febrero",
          "19-marzo",
          "19-abril",
          "19-mayo",
          "19-junio",
          "19-julio",
          "19-agosto",
          "19-septiembre",
          "19-octubre",
          "19-noviembre",
          "19-diciembre"
         ],
         "y": [
          0,
          0,
          0,
          0,
          0,
          0,
          0,
          0,
          0,
          0,
          0,
          0,
          0,
          0,
          0,
          0,
          38679,
          0,
          0,
          0,
          0,
          0,
          0,
          0
         ]
        },
        {
         "name": "Habilitación de sedes parlamentarias (con autorización de crap)  ",
         "type": "bar",
         "x": [
          "18-enero",
          "18-febrero",
          "18-marzo",
          "18-abril",
          "18-mayo",
          "18-junio",
          "18-julio",
          "18-agosto",
          "18-septiembre",
          "18-octubre",
          "18-noviembre",
          "18-diciembre",
          "19-enero",
          "19-febrero",
          "19-marzo",
          "19-abril",
          "19-mayo",
          "19-junio",
          "19-julio",
          "19-agosto",
          "19-septiembre",
          "19-octubre",
          "19-noviembre",
          "19-diciembre"
         ],
         "y": [
          0,
          0,
          0,
          0,
          0,
          0,
          0,
          0,
          0,
          0,
          0,
          0,
          0,
          0,
          0,
          0,
          0,
          0,
          0,
          0,
          0,
          0,
          0,
          0
         ]
        },
        {
         "name": "Seguros de bienes  ",
         "type": "bar",
         "x": [
          "18-enero",
          "18-febrero",
          "18-marzo",
          "18-abril",
          "18-mayo",
          "18-junio",
          "18-julio",
          "18-agosto",
          "18-septiembre",
          "18-octubre",
          "18-noviembre",
          "18-diciembre",
          "19-enero",
          "19-febrero",
          "19-marzo",
          "19-abril",
          "19-mayo",
          "19-junio",
          "19-julio",
          "19-agosto",
          "19-septiembre",
          "19-octubre",
          "19-noviembre",
          "19-diciembre"
         ],
         "y": [
          0,
          0,
          0,
          0,
          0,
          0,
          0,
          0,
          0,
          0,
          0,
          0,
          0,
          0,
          0,
          0,
          0,
          0,
          0,
          0,
          0,
          0,
          0,
          0
         ]
        },
        {
         "name": "Arriendo de oficinas virtuales  ",
         "type": "bar",
         "x": [
          "18-enero",
          "18-febrero",
          "18-marzo",
          "18-abril",
          "18-mayo",
          "18-junio",
          "18-julio",
          "18-agosto",
          "18-septiembre",
          "18-octubre",
          "18-noviembre",
          "18-diciembre",
          "19-enero",
          "19-febrero",
          "19-marzo",
          "19-abril",
          "19-mayo",
          "19-junio",
          "19-julio",
          "19-agosto",
          "19-septiembre",
          "19-octubre",
          "19-noviembre",
          "19-diciembre"
         ],
         "y": [
          0,
          0,
          0,
          0,
          0,
          0,
          0,
          0,
          0,
          0,
          0,
          0,
          0,
          0,
          0,
          0,
          0,
          0,
          0,
          0,
          0,
          0,
          0,
          0
         ]
        },
        {
         "name": "Servicios web  ",
         "type": "bar",
         "x": [
          "18-enero",
          "18-febrero",
          "18-marzo",
          "18-abril",
          "18-mayo",
          "18-junio",
          "18-julio",
          "18-agosto",
          "18-septiembre",
          "18-octubre",
          "18-noviembre",
          "18-diciembre",
          "19-enero",
          "19-febrero",
          "19-marzo",
          "19-abril",
          "19-mayo",
          "19-junio",
          "19-julio",
          "19-agosto",
          "19-septiembre",
          "19-octubre",
          "19-noviembre",
          "19-diciembre"
         ],
         "y": [
          0,
          0,
          0,
          0,
          0,
          0,
          0,
          0,
          0,
          0,
          0,
          0,
          0,
          0,
          0,
          0,
          0,
          0,
          0,
          0,
          0,
          0,
          0,
          0
         ]
        },
        {
         "name": "Contratación servicio de almacenamiento  ",
         "type": "bar",
         "x": [
          "18-enero",
          "18-febrero",
          "18-marzo",
          "18-abril",
          "18-mayo",
          "18-junio",
          "18-julio",
          "18-agosto",
          "18-septiembre",
          "18-octubre",
          "18-noviembre",
          "18-diciembre",
          "19-enero",
          "19-febrero",
          "19-marzo",
          "19-abril",
          "19-mayo",
          "19-junio",
          "19-julio",
          "19-agosto",
          "19-septiembre",
          "19-octubre",
          "19-noviembre",
          "19-diciembre"
         ],
         "y": [
          0,
          0,
          0,
          0,
          0,
          0,
          0,
          0,
          0,
          0,
          0,
          0,
          0,
          0,
          0,
          0,
          0,
          0,
          0,
          0,
          0,
          0,
          0,
          0
         ]
        },
        {
         "name": "Arriendo de oficina móvil  ",
         "type": "bar",
         "x": [
          "18-enero",
          "18-febrero",
          "18-marzo",
          "18-abril",
          "18-mayo",
          "18-junio",
          "18-julio",
          "18-agosto",
          "18-septiembre",
          "18-octubre",
          "18-noviembre",
          "18-diciembre",
          "19-enero",
          "19-febrero",
          "19-marzo",
          "19-abril",
          "19-mayo",
          "19-junio",
          "19-julio",
          "19-agosto",
          "19-septiembre",
          "19-octubre",
          "19-noviembre",
          "19-diciembre"
         ],
         "y": [
          0,
          0,
          0,
          0,
          0,
          0,
          0,
          0,
          0,
          0,
          0,
          0,
          0,
          0,
          0,
          0,
          0,
          0,
          0,
          0,
          0,
          0,
          0,
          0
         ]
        },
        {
         "name": "Mantencion y reparación de oficina móvil  ",
         "type": "bar",
         "x": [
          "18-enero",
          "18-febrero",
          "18-marzo",
          "18-abril",
          "18-mayo",
          "18-junio",
          "18-julio",
          "18-agosto",
          "18-septiembre",
          "18-octubre",
          "18-noviembre",
          "18-diciembre",
          "19-enero",
          "19-febrero",
          "19-marzo",
          "19-abril",
          "19-mayo",
          "19-junio",
          "19-julio",
          "19-agosto",
          "19-septiembre",
          "19-octubre",
          "19-noviembre",
          "19-diciembre"
         ],
         "y": [
          0,
          0,
          0,
          0,
          0,
          0,
          0,
          0,
          0,
          0,
          0,
          0,
          0,
          0,
          0,
          0,
          0,
          0,
          0,
          0,
          0,
          0,
          0,
          0
         ]
        },
        {
         "name": "Servicios menores  ",
         "type": "bar",
         "x": [
          "18-enero",
          "18-febrero",
          "18-marzo",
          "18-abril",
          "18-mayo",
          "18-junio",
          "18-julio",
          "18-agosto",
          "18-septiembre",
          "18-octubre",
          "18-noviembre",
          "18-diciembre",
          "19-enero",
          "19-febrero",
          "19-marzo",
          "19-abril",
          "19-mayo",
          "19-junio",
          "19-julio",
          "19-agosto",
          "19-septiembre",
          "19-octubre",
          "19-noviembre",
          "19-diciembre"
         ],
         "y": [
          0,
          0,
          0,
          0,
          0,
          0,
          0,
          0,
          0,
          0,
          0,
          0,
          239000,
          239000,
          239000,
          239000,
          239000,
          239000,
          0,
          0,
          0,
          0,
          0,
          0
         ]
        }
       ],
       "layout": {
        "barmode": "stack",
        "showlegend": false,
        "template": {
         "data": {
          "bar": [
           {
            "error_x": {
             "color": "#2a3f5f"
            },
            "error_y": {
             "color": "#2a3f5f"
            },
            "marker": {
             "line": {
              "color": "#E5ECF6",
              "width": 0.5
             }
            },
            "type": "bar"
           }
          ],
          "barpolar": [
           {
            "marker": {
             "line": {
              "color": "#E5ECF6",
              "width": 0.5
             }
            },
            "type": "barpolar"
           }
          ],
          "carpet": [
           {
            "aaxis": {
             "endlinecolor": "#2a3f5f",
             "gridcolor": "white",
             "linecolor": "white",
             "minorgridcolor": "white",
             "startlinecolor": "#2a3f5f"
            },
            "baxis": {
             "endlinecolor": "#2a3f5f",
             "gridcolor": "white",
             "linecolor": "white",
             "minorgridcolor": "white",
             "startlinecolor": "#2a3f5f"
            },
            "type": "carpet"
           }
          ],
          "choropleth": [
           {
            "colorbar": {
             "outlinewidth": 0,
             "ticks": ""
            },
            "type": "choropleth"
           }
          ],
          "contour": [
           {
            "colorbar": {
             "outlinewidth": 0,
             "ticks": ""
            },
            "colorscale": [
             [
              0,
              "#0d0887"
             ],
             [
              0.1111111111111111,
              "#46039f"
             ],
             [
              0.2222222222222222,
              "#7201a8"
             ],
             [
              0.3333333333333333,
              "#9c179e"
             ],
             [
              0.4444444444444444,
              "#bd3786"
             ],
             [
              0.5555555555555556,
              "#d8576b"
             ],
             [
              0.6666666666666666,
              "#ed7953"
             ],
             [
              0.7777777777777778,
              "#fb9f3a"
             ],
             [
              0.8888888888888888,
              "#fdca26"
             ],
             [
              1,
              "#f0f921"
             ]
            ],
            "type": "contour"
           }
          ],
          "contourcarpet": [
           {
            "colorbar": {
             "outlinewidth": 0,
             "ticks": ""
            },
            "type": "contourcarpet"
           }
          ],
          "heatmap": [
           {
            "colorbar": {
             "outlinewidth": 0,
             "ticks": ""
            },
            "colorscale": [
             [
              0,
              "#0d0887"
             ],
             [
              0.1111111111111111,
              "#46039f"
             ],
             [
              0.2222222222222222,
              "#7201a8"
             ],
             [
              0.3333333333333333,
              "#9c179e"
             ],
             [
              0.4444444444444444,
              "#bd3786"
             ],
             [
              0.5555555555555556,
              "#d8576b"
             ],
             [
              0.6666666666666666,
              "#ed7953"
             ],
             [
              0.7777777777777778,
              "#fb9f3a"
             ],
             [
              0.8888888888888888,
              "#fdca26"
             ],
             [
              1,
              "#f0f921"
             ]
            ],
            "type": "heatmap"
           }
          ],
          "heatmapgl": [
           {
            "colorbar": {
             "outlinewidth": 0,
             "ticks": ""
            },
            "colorscale": [
             [
              0,
              "#0d0887"
             ],
             [
              0.1111111111111111,
              "#46039f"
             ],
             [
              0.2222222222222222,
              "#7201a8"
             ],
             [
              0.3333333333333333,
              "#9c179e"
             ],
             [
              0.4444444444444444,
              "#bd3786"
             ],
             [
              0.5555555555555556,
              "#d8576b"
             ],
             [
              0.6666666666666666,
              "#ed7953"
             ],
             [
              0.7777777777777778,
              "#fb9f3a"
             ],
             [
              0.8888888888888888,
              "#fdca26"
             ],
             [
              1,
              "#f0f921"
             ]
            ],
            "type": "heatmapgl"
           }
          ],
          "histogram": [
           {
            "marker": {
             "colorbar": {
              "outlinewidth": 0,
              "ticks": ""
             }
            },
            "type": "histogram"
           }
          ],
          "histogram2d": [
           {
            "colorbar": {
             "outlinewidth": 0,
             "ticks": ""
            },
            "colorscale": [
             [
              0,
              "#0d0887"
             ],
             [
              0.1111111111111111,
              "#46039f"
             ],
             [
              0.2222222222222222,
              "#7201a8"
             ],
             [
              0.3333333333333333,
              "#9c179e"
             ],
             [
              0.4444444444444444,
              "#bd3786"
             ],
             [
              0.5555555555555556,
              "#d8576b"
             ],
             [
              0.6666666666666666,
              "#ed7953"
             ],
             [
              0.7777777777777778,
              "#fb9f3a"
             ],
             [
              0.8888888888888888,
              "#fdca26"
             ],
             [
              1,
              "#f0f921"
             ]
            ],
            "type": "histogram2d"
           }
          ],
          "histogram2dcontour": [
           {
            "colorbar": {
             "outlinewidth": 0,
             "ticks": ""
            },
            "colorscale": [
             [
              0,
              "#0d0887"
             ],
             [
              0.1111111111111111,
              "#46039f"
             ],
             [
              0.2222222222222222,
              "#7201a8"
             ],
             [
              0.3333333333333333,
              "#9c179e"
             ],
             [
              0.4444444444444444,
              "#bd3786"
             ],
             [
              0.5555555555555556,
              "#d8576b"
             ],
             [
              0.6666666666666666,
              "#ed7953"
             ],
             [
              0.7777777777777778,
              "#fb9f3a"
             ],
             [
              0.8888888888888888,
              "#fdca26"
             ],
             [
              1,
              "#f0f921"
             ]
            ],
            "type": "histogram2dcontour"
           }
          ],
          "mesh3d": [
           {
            "colorbar": {
             "outlinewidth": 0,
             "ticks": ""
            },
            "type": "mesh3d"
           }
          ],
          "parcoords": [
           {
            "line": {
             "colorbar": {
              "outlinewidth": 0,
              "ticks": ""
             }
            },
            "type": "parcoords"
           }
          ],
          "scatter": [
           {
            "marker": {
             "colorbar": {
              "outlinewidth": 0,
              "ticks": ""
             }
            },
            "type": "scatter"
           }
          ],
          "scatter3d": [
           {
            "line": {
             "colorbar": {
              "outlinewidth": 0,
              "ticks": ""
             }
            },
            "marker": {
             "colorbar": {
              "outlinewidth": 0,
              "ticks": ""
             }
            },
            "type": "scatter3d"
           }
          ],
          "scattercarpet": [
           {
            "marker": {
             "colorbar": {
              "outlinewidth": 0,
              "ticks": ""
             }
            },
            "type": "scattercarpet"
           }
          ],
          "scattergeo": [
           {
            "marker": {
             "colorbar": {
              "outlinewidth": 0,
              "ticks": ""
             }
            },
            "type": "scattergeo"
           }
          ],
          "scattergl": [
           {
            "marker": {
             "colorbar": {
              "outlinewidth": 0,
              "ticks": ""
             }
            },
            "type": "scattergl"
           }
          ],
          "scattermapbox": [
           {
            "marker": {
             "colorbar": {
              "outlinewidth": 0,
              "ticks": ""
             }
            },
            "type": "scattermapbox"
           }
          ],
          "scatterpolar": [
           {
            "marker": {
             "colorbar": {
              "outlinewidth": 0,
              "ticks": ""
             }
            },
            "type": "scatterpolar"
           }
          ],
          "scatterpolargl": [
           {
            "marker": {
             "colorbar": {
              "outlinewidth": 0,
              "ticks": ""
             }
            },
            "type": "scatterpolargl"
           }
          ],
          "scatterternary": [
           {
            "marker": {
             "colorbar": {
              "outlinewidth": 0,
              "ticks": ""
             }
            },
            "type": "scatterternary"
           }
          ],
          "surface": [
           {
            "colorbar": {
             "outlinewidth": 0,
             "ticks": ""
            },
            "colorscale": [
             [
              0,
              "#0d0887"
             ],
             [
              0.1111111111111111,
              "#46039f"
             ],
             [
              0.2222222222222222,
              "#7201a8"
             ],
             [
              0.3333333333333333,
              "#9c179e"
             ],
             [
              0.4444444444444444,
              "#bd3786"
             ],
             [
              0.5555555555555556,
              "#d8576b"
             ],
             [
              0.6666666666666666,
              "#ed7953"
             ],
             [
              0.7777777777777778,
              "#fb9f3a"
             ],
             [
              0.8888888888888888,
              "#fdca26"
             ],
             [
              1,
              "#f0f921"
             ]
            ],
            "type": "surface"
           }
          ],
          "table": [
           {
            "cells": {
             "fill": {
              "color": "#EBF0F8"
             },
             "line": {
              "color": "white"
             }
            },
            "header": {
             "fill": {
              "color": "#C8D4E3"
             },
             "line": {
              "color": "white"
             }
            },
            "type": "table"
           }
          ]
         },
         "layout": {
          "annotationdefaults": {
           "arrowcolor": "#2a3f5f",
           "arrowhead": 0,
           "arrowwidth": 1
          },
          "colorscale": {
           "diverging": [
            [
             0,
             "#8e0152"
            ],
            [
             0.1,
             "#c51b7d"
            ],
            [
             0.2,
             "#de77ae"
            ],
            [
             0.3,
             "#f1b6da"
            ],
            [
             0.4,
             "#fde0ef"
            ],
            [
             0.5,
             "#f7f7f7"
            ],
            [
             0.6,
             "#e6f5d0"
            ],
            [
             0.7,
             "#b8e186"
            ],
            [
             0.8,
             "#7fbc41"
            ],
            [
             0.9,
             "#4d9221"
            ],
            [
             1,
             "#276419"
            ]
           ],
           "sequential": [
            [
             0,
             "#0d0887"
            ],
            [
             0.1111111111111111,
             "#46039f"
            ],
            [
             0.2222222222222222,
             "#7201a8"
            ],
            [
             0.3333333333333333,
             "#9c179e"
            ],
            [
             0.4444444444444444,
             "#bd3786"
            ],
            [
             0.5555555555555556,
             "#d8576b"
            ],
            [
             0.6666666666666666,
             "#ed7953"
            ],
            [
             0.7777777777777778,
             "#fb9f3a"
            ],
            [
             0.8888888888888888,
             "#fdca26"
            ],
            [
             1,
             "#f0f921"
            ]
           ],
           "sequentialminus": [
            [
             0,
             "#0d0887"
            ],
            [
             0.1111111111111111,
             "#46039f"
            ],
            [
             0.2222222222222222,
             "#7201a8"
            ],
            [
             0.3333333333333333,
             "#9c179e"
            ],
            [
             0.4444444444444444,
             "#bd3786"
            ],
            [
             0.5555555555555556,
             "#d8576b"
            ],
            [
             0.6666666666666666,
             "#ed7953"
            ],
            [
             0.7777777777777778,
             "#fb9f3a"
            ],
            [
             0.8888888888888888,
             "#fdca26"
            ],
            [
             1,
             "#f0f921"
            ]
           ]
          },
          "colorway": [
           "#636efa",
           "#EF553B",
           "#00cc96",
           "#ab63fa",
           "#FFA15A",
           "#19d3f3",
           "#FF6692",
           "#B6E880",
           "#FF97FF",
           "#FECB52"
          ],
          "font": {
           "color": "#2a3f5f"
          },
          "geo": {
           "bgcolor": "white",
           "lakecolor": "white",
           "landcolor": "#E5ECF6",
           "showlakes": true,
           "showland": true,
           "subunitcolor": "white"
          },
          "hoverlabel": {
           "align": "left"
          },
          "hovermode": "closest",
          "mapbox": {
           "style": "light"
          },
          "paper_bgcolor": "white",
          "plot_bgcolor": "#E5ECF6",
          "polar": {
           "angularaxis": {
            "gridcolor": "white",
            "linecolor": "white",
            "ticks": ""
           },
           "bgcolor": "#E5ECF6",
           "radialaxis": {
            "gridcolor": "white",
            "linecolor": "white",
            "ticks": ""
           }
          },
          "scene": {
           "xaxis": {
            "backgroundcolor": "#E5ECF6",
            "gridcolor": "white",
            "gridwidth": 2,
            "linecolor": "white",
            "showbackground": true,
            "ticks": "",
            "zerolinecolor": "white"
           },
           "yaxis": {
            "backgroundcolor": "#E5ECF6",
            "gridcolor": "white",
            "gridwidth": 2,
            "linecolor": "white",
            "showbackground": true,
            "ticks": "",
            "zerolinecolor": "white"
           },
           "zaxis": {
            "backgroundcolor": "#E5ECF6",
            "gridcolor": "white",
            "gridwidth": 2,
            "linecolor": "white",
            "showbackground": true,
            "ticks": "",
            "zerolinecolor": "white"
           }
          },
          "shapedefaults": {
           "line": {
            "color": "#2a3f5f"
           }
          },
          "ternary": {
           "aaxis": {
            "gridcolor": "white",
            "linecolor": "white",
            "ticks": ""
           },
           "baxis": {
            "gridcolor": "white",
            "linecolor": "white",
            "ticks": ""
           },
           "bgcolor": "#E5ECF6",
           "caxis": {
            "gridcolor": "white",
            "linecolor": "white",
            "ticks": ""
           }
          },
          "title": {
           "x": 0.05
          },
          "xaxis": {
           "automargin": true,
           "gridcolor": "white",
           "linecolor": "white",
           "ticks": "",
           "zerolinecolor": "white",
           "zerolinewidth": 2
          },
          "yaxis": {
           "automargin": true,
           "gridcolor": "white",
           "linecolor": "white",
           "ticks": "",
           "zerolinecolor": "white",
           "zerolinewidth": 2
          }
         }
        },
        "title": {
         "text": "Gastos de Loreto Carvajal Ambiado "
        }
       }
      },
      "text/html": [
       "<div>\n",
       "        \n",
       "        \n",
       "            <div id=\"79360033-5669-4040-9dd6-0774ccd29ba1\" class=\"plotly-graph-div\" style=\"height:525px; width:100%;\"></div>\n",
       "            <script type=\"text/javascript\">\n",
       "                require([\"plotly\"], function(Plotly) {\n",
       "                    window.PLOTLYENV=window.PLOTLYENV || {};\n",
       "                    \n",
       "                if (document.getElementById(\"79360033-5669-4040-9dd6-0774ccd29ba1\")) {\n",
       "                    Plotly.newPlot(\n",
       "                        '79360033-5669-4040-9dd6-0774ccd29ba1',\n",
       "                        [{\"name\": \"Oficinas parlamentarias (incluye arriendos, consumos b\\u00e1sicos, internet, etc.)  \", \"type\": \"bar\", \"x\": [\"18-enero\", \"18-febrero\", \"18-marzo\", \"18-abril\", \"18-mayo\", \"18-junio\", \"18-julio\", \"18-agosto\", \"18-septiembre\", \"18-octubre\", \"18-noviembre\", \"18-diciembre\", \"19-enero\", \"19-febrero\", \"19-marzo\", \"19-abril\", \"19-mayo\", \"19-junio\", \"19-julio\", \"19-agosto\", \"19-septiembre\", \"19-octubre\", \"19-noviembre\", \"19-diciembre\"], \"y\": [0, 0, 753256, 413400, 760000, 869009, 0, 0, 0, 0, 0, 0, 0, 0, 0, 0, 0, 0, 0, 0, 0, 0, 0, 0]}, {\"name\": \"Telefon\\u00eda  \", \"type\": \"bar\", \"x\": [\"18-enero\", \"18-febrero\", \"18-marzo\", \"18-abril\", \"18-mayo\", \"18-junio\", \"18-julio\", \"18-agosto\", \"18-septiembre\", \"18-octubre\", \"18-noviembre\", \"18-diciembre\", \"19-enero\", \"19-febrero\", \"19-marzo\", \"19-abril\", \"19-mayo\", \"19-junio\", \"19-julio\", \"19-agosto\", \"19-septiembre\", \"19-octubre\", \"19-noviembre\", \"19-diciembre\"], \"y\": [0, 0, 231022, 226093, 233852, 222522, 222522, 222522, 222522, 222522, 226534, 230863, 222522, 222522, 246816, 183470, 183470, 183439, 0, 0, 0, 0, 0, 0]}, {\"name\": \"Traslaci\\u00f3n  \", \"type\": \"bar\", \"x\": [\"18-enero\", \"18-febrero\", \"18-marzo\", \"18-abril\", \"18-mayo\", \"18-junio\", \"18-julio\", \"18-agosto\", \"18-septiembre\", \"18-octubre\", \"18-noviembre\", \"18-diciembre\", \"19-enero\", \"19-febrero\", \"19-marzo\", \"19-abril\", \"19-mayo\", \"19-junio\", \"19-julio\", \"19-agosto\", \"19-septiembre\", \"19-octubre\", \"19-noviembre\", \"19-diciembre\"], \"y\": [0, 0, 0, 0, 0, 0, 0, 0, 0, 0, 0, 0, 1146239, 1034851, 2070716, 1753482, 1819996, 1621545, 0, 0, 0, 0, 0, 0]}, {\"name\": \"Veh\\u00edculos  \", \"type\": \"bar\", \"x\": [\"18-enero\", \"18-febrero\", \"18-marzo\", \"18-abril\", \"18-mayo\", \"18-junio\", \"18-julio\", \"18-agosto\", \"18-septiembre\", \"18-octubre\", \"18-noviembre\", \"18-diciembre\", \"19-enero\", \"19-febrero\", \"19-marzo\", \"19-abril\", \"19-mayo\", \"19-junio\", \"19-julio\", \"19-agosto\", \"19-septiembre\", \"19-octubre\", \"19-noviembre\", \"19-diciembre\"], \"y\": [0, 0, 721649, 378001, 193000, 193000, 0, 10000, 0, 0, 0, 0, 0, 0, 0, 0, 0, 0, 0, 0, 0, 0, 0, 0]}, {\"name\": \"Tag y peajes  \", \"type\": \"bar\", \"x\": [\"18-enero\", \"18-febrero\", \"18-marzo\", \"18-abril\", \"18-mayo\", \"18-junio\", \"18-julio\", \"18-agosto\", \"18-septiembre\", \"18-octubre\", \"18-noviembre\", \"18-diciembre\", \"19-enero\", \"19-febrero\", \"19-marzo\", \"19-abril\", \"19-mayo\", \"19-junio\", \"19-julio\", \"19-agosto\", \"19-septiembre\", \"19-octubre\", \"19-noviembre\", \"19-diciembre\"], \"y\": [0, 0, 74800, 110774, 61766, 139700, 119600, 137840, 86630, 104650, 90020, 91410, 0, 0, 0, 0, 0, 0, 0, 0, 0, 0, 0, 0]}, {\"name\": \"Combustible  \", \"type\": \"bar\", \"x\": [\"18-enero\", \"18-febrero\", \"18-marzo\", \"18-abril\", \"18-mayo\", \"18-junio\", \"18-julio\", \"18-agosto\", \"18-septiembre\", \"18-octubre\", \"18-noviembre\", \"18-diciembre\", \"19-enero\", \"19-febrero\", \"19-marzo\", \"19-abril\", \"19-mayo\", \"19-junio\", \"19-julio\", \"19-agosto\", \"19-septiembre\", \"19-octubre\", \"19-noviembre\", \"19-diciembre\"], \"y\": [0, 0, 340014, 446158, 107000, 383279, 657912, 518006, 80000, 230000, 60000, 82510, 0, 0, 0, 0, 0, 0, 0, 0, 0, 0, 0, 0]}, {\"name\": \"Pasajes de movilizaci\\u00f3n  \", \"type\": \"bar\", \"x\": [\"18-enero\", \"18-febrero\", \"18-marzo\", \"18-abril\", \"18-mayo\", \"18-junio\", \"18-julio\", \"18-agosto\", \"18-septiembre\", \"18-octubre\", \"18-noviembre\", \"18-diciembre\", \"19-enero\", \"19-febrero\", \"19-marzo\", \"19-abril\", \"19-mayo\", \"19-junio\", \"19-julio\", \"19-agosto\", \"19-septiembre\", \"19-octubre\", \"19-noviembre\", \"19-diciembre\"], \"y\": [0, 0, 21900, 61950, 32600, 131300, 81600, 56000, 24600, 85400, 86600, 18800, 0, 0, 0, 0, 0, 0, 0, 0, 0, 0, 0, 0]}, {\"name\": \"Alimentaci\\u00f3n  \", \"type\": \"bar\", \"x\": [\"18-enero\", \"18-febrero\", \"18-marzo\", \"18-abril\", \"18-mayo\", \"18-junio\", \"18-julio\", \"18-agosto\", \"18-septiembre\", \"18-octubre\", \"18-noviembre\", \"18-diciembre\", \"19-enero\", \"19-febrero\", \"19-marzo\", \"19-abril\", \"19-mayo\", \"19-junio\", \"19-julio\", \"19-agosto\", \"19-septiembre\", \"19-octubre\", \"19-noviembre\", \"19-diciembre\"], \"y\": [0, 0, 133504, 72538, 0, 145025, 191215, 276460, 125748, 237240, 221954, 394573, 0, 0, 0, 0, 0, 0, 0, 0, 0, 0, 0, 0]}, {\"name\": \"Vi\\u00e1ticos  \", \"type\": \"bar\", \"x\": [\"18-enero\", \"18-febrero\", \"18-marzo\", \"18-abril\", \"18-mayo\", \"18-junio\", \"18-julio\", \"18-agosto\", \"18-septiembre\", \"18-octubre\", \"18-noviembre\", \"18-diciembre\", \"19-enero\", \"19-febrero\", \"19-marzo\", \"19-abril\", \"19-mayo\", \"19-junio\", \"19-julio\", \"19-agosto\", \"19-septiembre\", \"19-octubre\", \"19-noviembre\", \"19-diciembre\"], \"y\": [0, 0, 613640, 920448, 1150560, 707589, 0, 0, 0, 0, 0, 0, 0, 0, 0, 0, 0, 0, 0, 0, 0, 0, 0, 0]}, {\"name\": \"Estacionamientos  \", \"type\": \"bar\", \"x\": [\"18-enero\", \"18-febrero\", \"18-marzo\", \"18-abril\", \"18-mayo\", \"18-junio\", \"18-julio\", \"18-agosto\", \"18-septiembre\", \"18-octubre\", \"18-noviembre\", \"18-diciembre\", \"19-enero\", \"19-febrero\", \"19-marzo\", \"19-abril\", \"19-mayo\", \"19-junio\", \"19-julio\", \"19-agosto\", \"19-septiembre\", \"19-octubre\", \"19-noviembre\", \"19-diciembre\"], \"y\": [0, 0, 39466, 31200, 34670, 41344, 0, 0, 0, 0, 0, 0, 0, 0, 0, 0, 0, 0, 0, 0, 0, 0, 0, 0]}, {\"name\": \"Difusi\\u00f3n  \", \"type\": \"bar\", \"x\": [\"18-enero\", \"18-febrero\", \"18-marzo\", \"18-abril\", \"18-mayo\", \"18-junio\", \"18-julio\", \"18-agosto\", \"18-septiembre\", \"18-octubre\", \"18-noviembre\", \"18-diciembre\", \"19-enero\", \"19-febrero\", \"19-marzo\", \"19-abril\", \"19-mayo\", \"19-junio\", \"19-julio\", \"19-agosto\", \"19-septiembre\", \"19-octubre\", \"19-noviembre\", \"19-diciembre\"], \"y\": [0, 0, 90000, 1908000, 245200, 215200, 1755000, 1877250, 2386350, 1710000, 1620100, 466000, 2868835, 0, 3282518, 1755490, 292550, 6847000, 0, 0, 0, 0, 0, 0]}, {\"name\": \"Actividades distritales  \", \"type\": \"bar\", \"x\": [\"18-enero\", \"18-febrero\", \"18-marzo\", \"18-abril\", \"18-mayo\", \"18-junio\", \"18-julio\", \"18-agosto\", \"18-septiembre\", \"18-octubre\", \"18-noviembre\", \"18-diciembre\", \"19-enero\", \"19-febrero\", \"19-marzo\", \"19-abril\", \"19-mayo\", \"19-junio\", \"19-julio\", \"19-agosto\", \"19-septiembre\", \"19-octubre\", \"19-noviembre\", \"19-diciembre\"], \"y\": [0, 0, 465500, 665000, 665000, 665000, 0, 0, 0, 0, 0, 0, 0, 0, 0, 0, 0, 0, 0, 0, 0, 0, 0, 0]}, {\"name\": \"Alojamiento  \", \"type\": \"bar\", \"x\": [\"18-enero\", \"18-febrero\", \"18-marzo\", \"18-abril\", \"18-mayo\", \"18-junio\", \"18-julio\", \"18-agosto\", \"18-septiembre\", \"18-octubre\", \"18-noviembre\", \"18-diciembre\", \"19-enero\", \"19-febrero\", \"19-marzo\", \"19-abril\", \"19-mayo\", \"19-junio\", \"19-julio\", \"19-agosto\", \"19-septiembre\", \"19-octubre\", \"19-noviembre\", \"19-diciembre\"], \"y\": [0, 0, 0, 132900, 0, 0, 0, 0, 0, 0, 0, 0, 0, 0, 0, 0, 0, 0, 0, 0, 0, 0, 0, 0]}, {\"name\": \"Servicios y gastos menores  \", \"type\": \"bar\", \"x\": [\"18-enero\", \"18-febrero\", \"18-marzo\", \"18-abril\", \"18-mayo\", \"18-junio\", \"18-julio\", \"18-agosto\", \"18-septiembre\", \"18-octubre\", \"18-noviembre\", \"18-diciembre\", \"19-enero\", \"19-febrero\", \"19-marzo\", \"19-abril\", \"19-mayo\", \"19-junio\", \"19-julio\", \"19-agosto\", \"19-septiembre\", \"19-octubre\", \"19-noviembre\", \"19-diciembre\"], \"y\": [0, 0, 0, 0, 0, 95790, 0, 0, 0, 0, 0, 0, 0, 0, 0, 0, 0, 0, 0, 0, 0, 0, 0, 0]}, {\"name\": \"Actividades territoriales  \", \"type\": \"bar\", \"x\": [\"18-enero\", \"18-febrero\", \"18-marzo\", \"18-abril\", \"18-mayo\", \"18-junio\", \"18-julio\", \"18-agosto\", \"18-septiembre\", \"18-octubre\", \"18-noviembre\", \"18-diciembre\", \"19-enero\", \"19-febrero\", \"19-marzo\", \"19-abril\", \"19-mayo\", \"19-junio\", \"19-julio\", \"19-agosto\", \"19-septiembre\", \"19-octubre\", \"19-noviembre\", \"19-diciembre\"], \"y\": [0, 0, 0, 0, 0, 0, 1289417, 1300530, 1359418, 1400116, 1036130, 1064273, 0, 0, 0, 0, 0, 0, 0, 0, 0, 0, 0, 0]}, {\"name\": \"Vehiculos- amortizacion  \", \"type\": \"bar\", \"x\": [\"18-enero\", \"18-febrero\", \"18-marzo\", \"18-abril\", \"18-mayo\", \"18-junio\", \"18-julio\", \"18-agosto\", \"18-septiembre\", \"18-octubre\", \"18-noviembre\", \"18-diciembre\", \"19-enero\", \"19-febrero\", \"19-marzo\", \"19-abril\", \"19-mayo\", \"19-junio\", \"19-julio\", \"19-agosto\", \"19-septiembre\", \"19-octubre\", \"19-noviembre\", \"19-diciembre\"], \"y\": [0, 0, 0, 0, 0, 0, 193000, 193000, 193000, 193000, 193000, 193000, 0, 0, 0, 0, 0, 0, 0, 0, 0, 0, 0, 0]}, {\"name\": \"Estacionamientos en aeropuerto  \", \"type\": \"bar\", \"x\": [\"18-enero\", \"18-febrero\", \"18-marzo\", \"18-abril\", \"18-mayo\", \"18-junio\", \"18-julio\", \"18-agosto\", \"18-septiembre\", \"18-octubre\", \"18-noviembre\", \"18-diciembre\", \"19-enero\", \"19-febrero\", \"19-marzo\", \"19-abril\", \"19-mayo\", \"19-junio\", \"19-julio\", \"19-agosto\", \"19-septiembre\", \"19-octubre\", \"19-noviembre\", \"19-diciembre\"], \"y\": [0, 0, 0, 0, 0, 0, 30000, 30000, 30000, 30000, 30000, 30000, 0, 0, 0, 0, 0, 0, 0, 0, 0, 0, 0, 0]}, {\"name\": \"Vi\\u00e1ticos del diputado  \", \"type\": \"bar\", \"x\": [\"18-enero\", \"18-febrero\", \"18-marzo\", \"18-abril\", \"18-mayo\", \"18-junio\", \"18-julio\", \"18-agosto\", \"18-septiembre\", \"18-octubre\", \"18-noviembre\", \"18-diciembre\", \"19-enero\", \"19-febrero\", \"19-marzo\", \"19-abril\", \"19-mayo\", \"19-junio\", \"19-julio\", \"19-agosto\", \"19-septiembre\", \"19-octubre\", \"19-noviembre\", \"19-diciembre\"], \"y\": [0, 0, 0, 0, 0, 0, 707589, 943452, 864831, 550347, 1022073, 1179315, 0, 0, 0, 0, 0, 0, 0, 0, 0, 0, 0, 0]}, {\"name\": \"Traspaso desde gastos operacionales a asignaci\\u00f3n personal de apoyo  \", \"type\": \"bar\", \"x\": [\"18-enero\", \"18-febrero\", \"18-marzo\", \"18-abril\", \"18-mayo\", \"18-junio\", \"18-julio\", \"18-agosto\", \"18-septiembre\", \"18-octubre\", \"18-noviembre\", \"18-diciembre\", \"19-enero\", \"19-febrero\", \"19-marzo\", \"19-abril\", \"19-mayo\", \"19-junio\", \"19-julio\", \"19-agosto\", \"19-septiembre\", \"19-octubre\", \"19-noviembre\", \"19-diciembre\"], \"y\": [0, 0, 0, 0, 0, 0, 0, 0, 0, 0, 0, 0, 0, 0, 0, 0, 0, 0, 0, 0, 0, 0, 0, 0]}, {\"name\": \"Actividades destinadas a la interacci\\u00f3n con la comunidad  \", \"type\": \"bar\", \"x\": [\"18-enero\", \"18-febrero\", \"18-marzo\", \"18-abril\", \"18-mayo\", \"18-junio\", \"18-julio\", \"18-agosto\", \"18-septiembre\", \"18-octubre\", \"18-noviembre\", \"18-diciembre\", \"19-enero\", \"19-febrero\", \"19-marzo\", \"19-abril\", \"19-mayo\", \"19-junio\", \"19-julio\", \"19-agosto\", \"19-septiembre\", \"19-octubre\", \"19-noviembre\", \"19-diciembre\"], \"y\": [0, 0, 0, 0, 0, 0, 0, 0, 0, 0, 0, 0, 0, 0, 42201, 240000, 0, 0, 0, 0, 0, 0, 0, 0]}, {\"name\": \"Arriendo de inmueble  \", \"type\": \"bar\", \"x\": [\"18-enero\", \"18-febrero\", \"18-marzo\", \"18-abril\", \"18-mayo\", \"18-junio\", \"18-julio\", \"18-agosto\", \"18-septiembre\", \"18-octubre\", \"18-noviembre\", \"18-diciembre\", \"19-enero\", \"19-febrero\", \"19-marzo\", \"19-abril\", \"19-mayo\", \"19-junio\", \"19-julio\", \"19-agosto\", \"19-septiembre\", \"19-octubre\", \"19-noviembre\", \"19-diciembre\"], \"y\": [0, 0, 0, 0, 0, 0, 0, 0, 0, 0, 0, 0, 770000, 770000, 770000, 770000, 770000, 770000, 0, 0, 0, 0, 0, 0]}, {\"name\": \"Consumos b\\u00e1sicos  \", \"type\": \"bar\", \"x\": [\"18-enero\", \"18-febrero\", \"18-marzo\", \"18-abril\", \"18-mayo\", \"18-junio\", \"18-julio\", \"18-agosto\", \"18-septiembre\", \"18-octubre\", \"18-noviembre\", \"18-diciembre\", \"19-enero\", \"19-febrero\", \"19-marzo\", \"19-abril\", \"19-mayo\", \"19-junio\", \"19-julio\", \"19-agosto\", \"19-septiembre\", \"19-octubre\", \"19-noviembre\", \"19-diciembre\"], \"y\": [0, 0, 0, 0, 0, 0, 0, 0, 0, 0, 0, 0, 36680, 0, 0, 65131, 77890, 0, 0, 0, 0, 0, 0, 0]}, {\"name\": \"Equipamiento oficina parlamentaria  \", \"type\": \"bar\", \"x\": [\"18-enero\", \"18-febrero\", \"18-marzo\", \"18-abril\", \"18-mayo\", \"18-junio\", \"18-julio\", \"18-agosto\", \"18-septiembre\", \"18-octubre\", \"18-noviembre\", \"18-diciembre\", \"19-enero\", \"19-febrero\", \"19-marzo\", \"19-abril\", \"19-mayo\", \"19-junio\", \"19-julio\", \"19-agosto\", \"19-septiembre\", \"19-octubre\", \"19-noviembre\", \"19-diciembre\"], \"y\": [0, 0, 0, 0, 0, 0, 0, 0, 0, 0, 0, 0, 0, 0, 0, 0, 0, 31473, 0, 0, 0, 0, 0, 0]}, {\"name\": \"Materiales de oficina  \", \"type\": \"bar\", \"x\": [\"18-enero\", \"18-febrero\", \"18-marzo\", \"18-abril\", \"18-mayo\", \"18-junio\", \"18-julio\", \"18-agosto\", \"18-septiembre\", \"18-octubre\", \"18-noviembre\", \"18-diciembre\", \"19-enero\", \"19-febrero\", \"19-marzo\", \"19-abril\", \"19-mayo\", \"19-junio\", \"19-julio\", \"19-agosto\", \"19-septiembre\", \"19-octubre\", \"19-noviembre\", \"19-diciembre\"], \"y\": [0, 0, 0, 0, 0, 0, 0, 0, 0, 0, 0, 0, 0, 16789, 0, 31420, 0, 0, 0, 0, 0, 0, 0, 0]}, {\"name\": \"Correspondencia  \", \"type\": \"bar\", \"x\": [\"18-enero\", \"18-febrero\", \"18-marzo\", \"18-abril\", \"18-mayo\", \"18-junio\", \"18-julio\", \"18-agosto\", \"18-septiembre\", \"18-octubre\", \"18-noviembre\", \"18-diciembre\", \"19-enero\", \"19-febrero\", \"19-marzo\", \"19-abril\", \"19-mayo\", \"19-junio\", \"19-julio\", \"19-agosto\", \"19-septiembre\", \"19-octubre\", \"19-noviembre\", \"19-diciembre\"], \"y\": [0, 0, 0, 0, 0, 0, 0, 0, 0, 0, 0, 0, 6435, 0, 12511, 0, 0, 11760, 0, 0, 0, 0, 0, 0]}, {\"name\": \"Gastos de mantenci\\u00f3n oficina parlamentaria (inmueble)  \", \"type\": \"bar\", \"x\": [\"18-enero\", \"18-febrero\", \"18-marzo\", \"18-abril\", \"18-mayo\", \"18-junio\", \"18-julio\", \"18-agosto\", \"18-septiembre\", \"18-octubre\", \"18-noviembre\", \"18-diciembre\", \"19-enero\", \"19-febrero\", \"19-marzo\", \"19-abril\", \"19-mayo\", \"19-junio\", \"19-julio\", \"19-agosto\", \"19-septiembre\", \"19-octubre\", \"19-noviembre\", \"19-diciembre\"], \"y\": [0, 0, 0, 0, 0, 0, 0, 0, 0, 0, 0, 0, 0, 0, 0, 0, 0, 450000, 0, 0, 0, 0, 0, 0]}, {\"name\": \"Reparaciones locativas del inmueble  \", \"type\": \"bar\", \"x\": [\"18-enero\", \"18-febrero\", \"18-marzo\", \"18-abril\", \"18-mayo\", \"18-junio\", \"18-julio\", \"18-agosto\", \"18-septiembre\", \"18-octubre\", \"18-noviembre\", \"18-diciembre\", \"19-enero\", \"19-febrero\", \"19-marzo\", \"19-abril\", \"19-mayo\", \"19-junio\", \"19-julio\", \"19-agosto\", \"19-septiembre\", \"19-octubre\", \"19-noviembre\", \"19-diciembre\"], \"y\": [0, 0, 0, 0, 0, 0, 0, 0, 0, 0, 0, 0, 0, 0, 0, 0, 38679, 0, 0, 0, 0, 0, 0, 0]}, {\"name\": \"Habilitaci\\u00f3n de sedes parlamentarias (con autorizaci\\u00f3n de crap)  \", \"type\": \"bar\", \"x\": [\"18-enero\", \"18-febrero\", \"18-marzo\", \"18-abril\", \"18-mayo\", \"18-junio\", \"18-julio\", \"18-agosto\", \"18-septiembre\", \"18-octubre\", \"18-noviembre\", \"18-diciembre\", \"19-enero\", \"19-febrero\", \"19-marzo\", \"19-abril\", \"19-mayo\", \"19-junio\", \"19-julio\", \"19-agosto\", \"19-septiembre\", \"19-octubre\", \"19-noviembre\", \"19-diciembre\"], \"y\": [0, 0, 0, 0, 0, 0, 0, 0, 0, 0, 0, 0, 0, 0, 0, 0, 0, 0, 0, 0, 0, 0, 0, 0]}, {\"name\": \"Seguros de bienes  \", \"type\": \"bar\", \"x\": [\"18-enero\", \"18-febrero\", \"18-marzo\", \"18-abril\", \"18-mayo\", \"18-junio\", \"18-julio\", \"18-agosto\", \"18-septiembre\", \"18-octubre\", \"18-noviembre\", \"18-diciembre\", \"19-enero\", \"19-febrero\", \"19-marzo\", \"19-abril\", \"19-mayo\", \"19-junio\", \"19-julio\", \"19-agosto\", \"19-septiembre\", \"19-octubre\", \"19-noviembre\", \"19-diciembre\"], \"y\": [0, 0, 0, 0, 0, 0, 0, 0, 0, 0, 0, 0, 0, 0, 0, 0, 0, 0, 0, 0, 0, 0, 0, 0]}, {\"name\": \"Arriendo de oficinas virtuales  \", \"type\": \"bar\", \"x\": [\"18-enero\", \"18-febrero\", \"18-marzo\", \"18-abril\", \"18-mayo\", \"18-junio\", \"18-julio\", \"18-agosto\", \"18-septiembre\", \"18-octubre\", \"18-noviembre\", \"18-diciembre\", \"19-enero\", \"19-febrero\", \"19-marzo\", \"19-abril\", \"19-mayo\", \"19-junio\", \"19-julio\", \"19-agosto\", \"19-septiembre\", \"19-octubre\", \"19-noviembre\", \"19-diciembre\"], \"y\": [0, 0, 0, 0, 0, 0, 0, 0, 0, 0, 0, 0, 0, 0, 0, 0, 0, 0, 0, 0, 0, 0, 0, 0]}, {\"name\": \"Servicios web  \", \"type\": \"bar\", \"x\": [\"18-enero\", \"18-febrero\", \"18-marzo\", \"18-abril\", \"18-mayo\", \"18-junio\", \"18-julio\", \"18-agosto\", \"18-septiembre\", \"18-octubre\", \"18-noviembre\", \"18-diciembre\", \"19-enero\", \"19-febrero\", \"19-marzo\", \"19-abril\", \"19-mayo\", \"19-junio\", \"19-julio\", \"19-agosto\", \"19-septiembre\", \"19-octubre\", \"19-noviembre\", \"19-diciembre\"], \"y\": [0, 0, 0, 0, 0, 0, 0, 0, 0, 0, 0, 0, 0, 0, 0, 0, 0, 0, 0, 0, 0, 0, 0, 0]}, {\"name\": \"Contrataci\\u00f3n servicio de almacenamiento  \", \"type\": \"bar\", \"x\": [\"18-enero\", \"18-febrero\", \"18-marzo\", \"18-abril\", \"18-mayo\", \"18-junio\", \"18-julio\", \"18-agosto\", \"18-septiembre\", \"18-octubre\", \"18-noviembre\", \"18-diciembre\", \"19-enero\", \"19-febrero\", \"19-marzo\", \"19-abril\", \"19-mayo\", \"19-junio\", \"19-julio\", \"19-agosto\", \"19-septiembre\", \"19-octubre\", \"19-noviembre\", \"19-diciembre\"], \"y\": [0, 0, 0, 0, 0, 0, 0, 0, 0, 0, 0, 0, 0, 0, 0, 0, 0, 0, 0, 0, 0, 0, 0, 0]}, {\"name\": \"Arriendo de oficina m\\u00f3vil  \", \"type\": \"bar\", \"x\": [\"18-enero\", \"18-febrero\", \"18-marzo\", \"18-abril\", \"18-mayo\", \"18-junio\", \"18-julio\", \"18-agosto\", \"18-septiembre\", \"18-octubre\", \"18-noviembre\", \"18-diciembre\", \"19-enero\", \"19-febrero\", \"19-marzo\", \"19-abril\", \"19-mayo\", \"19-junio\", \"19-julio\", \"19-agosto\", \"19-septiembre\", \"19-octubre\", \"19-noviembre\", \"19-diciembre\"], \"y\": [0, 0, 0, 0, 0, 0, 0, 0, 0, 0, 0, 0, 0, 0, 0, 0, 0, 0, 0, 0, 0, 0, 0, 0]}, {\"name\": \"Mantencion y reparaci\\u00f3n de oficina m\\u00f3vil  \", \"type\": \"bar\", \"x\": [\"18-enero\", \"18-febrero\", \"18-marzo\", \"18-abril\", \"18-mayo\", \"18-junio\", \"18-julio\", \"18-agosto\", \"18-septiembre\", \"18-octubre\", \"18-noviembre\", \"18-diciembre\", \"19-enero\", \"19-febrero\", \"19-marzo\", \"19-abril\", \"19-mayo\", \"19-junio\", \"19-julio\", \"19-agosto\", \"19-septiembre\", \"19-octubre\", \"19-noviembre\", \"19-diciembre\"], \"y\": [0, 0, 0, 0, 0, 0, 0, 0, 0, 0, 0, 0, 0, 0, 0, 0, 0, 0, 0, 0, 0, 0, 0, 0]}, {\"name\": \"Servicios menores  \", \"type\": \"bar\", \"x\": [\"18-enero\", \"18-febrero\", \"18-marzo\", \"18-abril\", \"18-mayo\", \"18-junio\", \"18-julio\", \"18-agosto\", \"18-septiembre\", \"18-octubre\", \"18-noviembre\", \"18-diciembre\", \"19-enero\", \"19-febrero\", \"19-marzo\", \"19-abril\", \"19-mayo\", \"19-junio\", \"19-julio\", \"19-agosto\", \"19-septiembre\", \"19-octubre\", \"19-noviembre\", \"19-diciembre\"], \"y\": [0, 0, 0, 0, 0, 0, 0, 0, 0, 0, 0, 0, 239000, 239000, 239000, 239000, 239000, 239000, 0, 0, 0, 0, 0, 0]}],\n",
       "                        {\"barmode\": \"stack\", \"showlegend\": false, \"template\": {\"data\": {\"bar\": [{\"error_x\": {\"color\": \"#2a3f5f\"}, \"error_y\": {\"color\": \"#2a3f5f\"}, \"marker\": {\"line\": {\"color\": \"#E5ECF6\", \"width\": 0.5}}, \"type\": \"bar\"}], \"barpolar\": [{\"marker\": {\"line\": {\"color\": \"#E5ECF6\", \"width\": 0.5}}, \"type\": \"barpolar\"}], \"carpet\": [{\"aaxis\": {\"endlinecolor\": \"#2a3f5f\", \"gridcolor\": \"white\", \"linecolor\": \"white\", \"minorgridcolor\": \"white\", \"startlinecolor\": \"#2a3f5f\"}, \"baxis\": {\"endlinecolor\": \"#2a3f5f\", \"gridcolor\": \"white\", \"linecolor\": \"white\", \"minorgridcolor\": \"white\", \"startlinecolor\": \"#2a3f5f\"}, \"type\": \"carpet\"}], \"choropleth\": [{\"colorbar\": {\"outlinewidth\": 0, \"ticks\": \"\"}, \"type\": \"choropleth\"}], \"contour\": [{\"colorbar\": {\"outlinewidth\": 0, \"ticks\": \"\"}, \"colorscale\": [[0.0, \"#0d0887\"], [0.1111111111111111, \"#46039f\"], [0.2222222222222222, \"#7201a8\"], [0.3333333333333333, \"#9c179e\"], [0.4444444444444444, \"#bd3786\"], [0.5555555555555556, \"#d8576b\"], [0.6666666666666666, \"#ed7953\"], [0.7777777777777778, \"#fb9f3a\"], [0.8888888888888888, \"#fdca26\"], [1.0, \"#f0f921\"]], \"type\": \"contour\"}], \"contourcarpet\": [{\"colorbar\": {\"outlinewidth\": 0, \"ticks\": \"\"}, \"type\": \"contourcarpet\"}], \"heatmap\": [{\"colorbar\": {\"outlinewidth\": 0, \"ticks\": \"\"}, \"colorscale\": [[0.0, \"#0d0887\"], [0.1111111111111111, \"#46039f\"], [0.2222222222222222, \"#7201a8\"], [0.3333333333333333, \"#9c179e\"], [0.4444444444444444, \"#bd3786\"], [0.5555555555555556, \"#d8576b\"], [0.6666666666666666, \"#ed7953\"], [0.7777777777777778, \"#fb9f3a\"], [0.8888888888888888, \"#fdca26\"], [1.0, \"#f0f921\"]], \"type\": \"heatmap\"}], \"heatmapgl\": [{\"colorbar\": {\"outlinewidth\": 0, \"ticks\": \"\"}, \"colorscale\": [[0.0, \"#0d0887\"], [0.1111111111111111, \"#46039f\"], [0.2222222222222222, \"#7201a8\"], [0.3333333333333333, \"#9c179e\"], [0.4444444444444444, \"#bd3786\"], [0.5555555555555556, \"#d8576b\"], [0.6666666666666666, \"#ed7953\"], [0.7777777777777778, \"#fb9f3a\"], [0.8888888888888888, \"#fdca26\"], [1.0, \"#f0f921\"]], \"type\": \"heatmapgl\"}], \"histogram\": [{\"marker\": {\"colorbar\": {\"outlinewidth\": 0, \"ticks\": \"\"}}, \"type\": \"histogram\"}], \"histogram2d\": [{\"colorbar\": {\"outlinewidth\": 0, \"ticks\": \"\"}, \"colorscale\": [[0.0, \"#0d0887\"], [0.1111111111111111, \"#46039f\"], [0.2222222222222222, \"#7201a8\"], [0.3333333333333333, \"#9c179e\"], [0.4444444444444444, \"#bd3786\"], [0.5555555555555556, \"#d8576b\"], [0.6666666666666666, \"#ed7953\"], [0.7777777777777778, \"#fb9f3a\"], [0.8888888888888888, \"#fdca26\"], [1.0, \"#f0f921\"]], \"type\": \"histogram2d\"}], \"histogram2dcontour\": [{\"colorbar\": {\"outlinewidth\": 0, \"ticks\": \"\"}, \"colorscale\": [[0.0, \"#0d0887\"], [0.1111111111111111, \"#46039f\"], [0.2222222222222222, \"#7201a8\"], [0.3333333333333333, \"#9c179e\"], [0.4444444444444444, \"#bd3786\"], [0.5555555555555556, \"#d8576b\"], [0.6666666666666666, \"#ed7953\"], [0.7777777777777778, \"#fb9f3a\"], [0.8888888888888888, \"#fdca26\"], [1.0, \"#f0f921\"]], \"type\": \"histogram2dcontour\"}], \"mesh3d\": [{\"colorbar\": {\"outlinewidth\": 0, \"ticks\": \"\"}, \"type\": \"mesh3d\"}], \"parcoords\": [{\"line\": {\"colorbar\": {\"outlinewidth\": 0, \"ticks\": \"\"}}, \"type\": \"parcoords\"}], \"scatter\": [{\"marker\": {\"colorbar\": {\"outlinewidth\": 0, \"ticks\": \"\"}}, \"type\": \"scatter\"}], \"scatter3d\": [{\"line\": {\"colorbar\": {\"outlinewidth\": 0, \"ticks\": \"\"}}, \"marker\": {\"colorbar\": {\"outlinewidth\": 0, \"ticks\": \"\"}}, \"type\": \"scatter3d\"}], \"scattercarpet\": [{\"marker\": {\"colorbar\": {\"outlinewidth\": 0, \"ticks\": \"\"}}, \"type\": \"scattercarpet\"}], \"scattergeo\": [{\"marker\": {\"colorbar\": {\"outlinewidth\": 0, \"ticks\": \"\"}}, \"type\": \"scattergeo\"}], \"scattergl\": [{\"marker\": {\"colorbar\": {\"outlinewidth\": 0, \"ticks\": \"\"}}, \"type\": \"scattergl\"}], \"scattermapbox\": [{\"marker\": {\"colorbar\": {\"outlinewidth\": 0, \"ticks\": \"\"}}, \"type\": \"scattermapbox\"}], \"scatterpolar\": [{\"marker\": {\"colorbar\": {\"outlinewidth\": 0, \"ticks\": \"\"}}, \"type\": \"scatterpolar\"}], \"scatterpolargl\": [{\"marker\": {\"colorbar\": {\"outlinewidth\": 0, \"ticks\": \"\"}}, \"type\": \"scatterpolargl\"}], \"scatterternary\": [{\"marker\": {\"colorbar\": {\"outlinewidth\": 0, \"ticks\": \"\"}}, \"type\": \"scatterternary\"}], \"surface\": [{\"colorbar\": {\"outlinewidth\": 0, \"ticks\": \"\"}, \"colorscale\": [[0.0, \"#0d0887\"], [0.1111111111111111, \"#46039f\"], [0.2222222222222222, \"#7201a8\"], [0.3333333333333333, \"#9c179e\"], [0.4444444444444444, \"#bd3786\"], [0.5555555555555556, \"#d8576b\"], [0.6666666666666666, \"#ed7953\"], [0.7777777777777778, \"#fb9f3a\"], [0.8888888888888888, \"#fdca26\"], [1.0, \"#f0f921\"]], \"type\": \"surface\"}], \"table\": [{\"cells\": {\"fill\": {\"color\": \"#EBF0F8\"}, \"line\": {\"color\": \"white\"}}, \"header\": {\"fill\": {\"color\": \"#C8D4E3\"}, \"line\": {\"color\": \"white\"}}, \"type\": \"table\"}]}, \"layout\": {\"annotationdefaults\": {\"arrowcolor\": \"#2a3f5f\", \"arrowhead\": 0, \"arrowwidth\": 1}, \"colorscale\": {\"diverging\": [[0, \"#8e0152\"], [0.1, \"#c51b7d\"], [0.2, \"#de77ae\"], [0.3, \"#f1b6da\"], [0.4, \"#fde0ef\"], [0.5, \"#f7f7f7\"], [0.6, \"#e6f5d0\"], [0.7, \"#b8e186\"], [0.8, \"#7fbc41\"], [0.9, \"#4d9221\"], [1, \"#276419\"]], \"sequential\": [[0.0, \"#0d0887\"], [0.1111111111111111, \"#46039f\"], [0.2222222222222222, \"#7201a8\"], [0.3333333333333333, \"#9c179e\"], [0.4444444444444444, \"#bd3786\"], [0.5555555555555556, \"#d8576b\"], [0.6666666666666666, \"#ed7953\"], [0.7777777777777778, \"#fb9f3a\"], [0.8888888888888888, \"#fdca26\"], [1.0, \"#f0f921\"]], \"sequentialminus\": [[0.0, \"#0d0887\"], [0.1111111111111111, \"#46039f\"], [0.2222222222222222, \"#7201a8\"], [0.3333333333333333, \"#9c179e\"], [0.4444444444444444, \"#bd3786\"], [0.5555555555555556, \"#d8576b\"], [0.6666666666666666, \"#ed7953\"], [0.7777777777777778, \"#fb9f3a\"], [0.8888888888888888, \"#fdca26\"], [1.0, \"#f0f921\"]]}, \"colorway\": [\"#636efa\", \"#EF553B\", \"#00cc96\", \"#ab63fa\", \"#FFA15A\", \"#19d3f3\", \"#FF6692\", \"#B6E880\", \"#FF97FF\", \"#FECB52\"], \"font\": {\"color\": \"#2a3f5f\"}, \"geo\": {\"bgcolor\": \"white\", \"lakecolor\": \"white\", \"landcolor\": \"#E5ECF6\", \"showlakes\": true, \"showland\": true, \"subunitcolor\": \"white\"}, \"hoverlabel\": {\"align\": \"left\"}, \"hovermode\": \"closest\", \"mapbox\": {\"style\": \"light\"}, \"paper_bgcolor\": \"white\", \"plot_bgcolor\": \"#E5ECF6\", \"polar\": {\"angularaxis\": {\"gridcolor\": \"white\", \"linecolor\": \"white\", \"ticks\": \"\"}, \"bgcolor\": \"#E5ECF6\", \"radialaxis\": {\"gridcolor\": \"white\", \"linecolor\": \"white\", \"ticks\": \"\"}}, \"scene\": {\"xaxis\": {\"backgroundcolor\": \"#E5ECF6\", \"gridcolor\": \"white\", \"gridwidth\": 2, \"linecolor\": \"white\", \"showbackground\": true, \"ticks\": \"\", \"zerolinecolor\": \"white\"}, \"yaxis\": {\"backgroundcolor\": \"#E5ECF6\", \"gridcolor\": \"white\", \"gridwidth\": 2, \"linecolor\": \"white\", \"showbackground\": true, \"ticks\": \"\", \"zerolinecolor\": \"white\"}, \"zaxis\": {\"backgroundcolor\": \"#E5ECF6\", \"gridcolor\": \"white\", \"gridwidth\": 2, \"linecolor\": \"white\", \"showbackground\": true, \"ticks\": \"\", \"zerolinecolor\": \"white\"}}, \"shapedefaults\": {\"line\": {\"color\": \"#2a3f5f\"}}, \"ternary\": {\"aaxis\": {\"gridcolor\": \"white\", \"linecolor\": \"white\", \"ticks\": \"\"}, \"baxis\": {\"gridcolor\": \"white\", \"linecolor\": \"white\", \"ticks\": \"\"}, \"bgcolor\": \"#E5ECF6\", \"caxis\": {\"gridcolor\": \"white\", \"linecolor\": \"white\", \"ticks\": \"\"}}, \"title\": {\"x\": 0.05}, \"xaxis\": {\"automargin\": true, \"gridcolor\": \"white\", \"linecolor\": \"white\", \"ticks\": \"\", \"zerolinecolor\": \"white\", \"zerolinewidth\": 2}, \"yaxis\": {\"automargin\": true, \"gridcolor\": \"white\", \"linecolor\": \"white\", \"ticks\": \"\", \"zerolinecolor\": \"white\", \"zerolinewidth\": 2}}}, \"title\": {\"text\": \"Gastos de Loreto Carvajal Ambiado \"}},\n",
       "                        {\"responsive\": true}\n",
       "                    ).then(function(){\n",
       "                            \n",
       "var gd = document.getElementById('79360033-5669-4040-9dd6-0774ccd29ba1');\n",
       "var x = new MutationObserver(function (mutations, observer) {{\n",
       "        var display = window.getComputedStyle(gd).display;\n",
       "        if (!display || display === 'none') {{\n",
       "            console.log([gd, 'removed!']);\n",
       "            Plotly.purge(gd);\n",
       "            observer.disconnect();\n",
       "        }}\n",
       "}});\n",
       "\n",
       "// Listen for the removal of the full notebook cells\n",
       "var notebookContainer = gd.closest('#notebook-container');\n",
       "if (notebookContainer) {{\n",
       "    x.observe(notebookContainer, {childList: true});\n",
       "}}\n",
       "\n",
       "// Listen for the clearing of the current output cell\n",
       "var outputEl = gd.closest('.output');\n",
       "if (outputEl) {{\n",
       "    x.observe(outputEl, {childList: true});\n",
       "}}\n",
       "\n",
       "                        })\n",
       "                };\n",
       "                });\n",
       "            </script>\n",
       "        </div>"
      ]
     },
     "metadata": {},
     "output_type": "display_data"
    }
   ],
   "source": [
    "get_all_info(974)"
   ]
  },
  {
   "cell_type": "code",
   "execution_count": 16,
   "metadata": {},
   "outputs": [
    {
     "name": "stdout",
     "output_type": "stream",
     "text": [
      "Finished getting biographical data\n",
      "Finished getting expenditure\n"
     ]
    },
    {
     "data": {
      "application/vnd.plotly.v1+json": {
       "config": {
        "plotlyServerURL": "https://plot.ly"
       },
       "data": [
        {
         "name": "Oficinas parlamentarias (incluye arriendos, consumos básicos, internet, etc.)  ",
         "type": "bar",
         "x": [
          "18-enero",
          "18-febrero",
          "18-marzo",
          "18-abril",
          "18-mayo",
          "18-junio",
          "18-julio",
          "18-agosto",
          "18-septiembre",
          "18-octubre",
          "18-noviembre",
          "18-diciembre",
          "19-enero",
          "19-febrero",
          "19-marzo",
          "19-abril",
          "19-mayo",
          "19-junio",
          "19-julio",
          "19-agosto",
          "19-septiembre",
          "19-octubre",
          "19-noviembre",
          "19-diciembre"
         ],
         "y": [
          0,
          0,
          287696,
          667170,
          1104553,
          955148,
          0,
          0,
          0,
          0,
          0,
          0,
          0,
          0,
          0,
          0,
          0,
          0,
          0,
          0,
          0,
          0,
          0,
          0
         ]
        },
        {
         "name": "Telefonía  ",
         "type": "bar",
         "x": [
          "18-enero",
          "18-febrero",
          "18-marzo",
          "18-abril",
          "18-mayo",
          "18-junio",
          "18-julio",
          "18-agosto",
          "18-septiembre",
          "18-octubre",
          "18-noviembre",
          "18-diciembre",
          "19-enero",
          "19-febrero",
          "19-marzo",
          "19-abril",
          "19-mayo",
          "19-junio",
          "19-julio",
          "19-agosto",
          "19-septiembre",
          "19-octubre",
          "19-noviembre",
          "19-diciembre"
         ],
         "y": [
          0,
          0,
          53980,
          677302,
          159953,
          155380,
          155685,
          153690,
          173450,
          137406,
          137366,
          166303,
          162352,
          161797,
          159695,
          159695,
          719986,
          157892,
          0,
          0,
          0,
          0,
          0,
          0
         ]
        },
        {
         "name": "Traslación  ",
         "type": "bar",
         "x": [
          "18-enero",
          "18-febrero",
          "18-marzo",
          "18-abril",
          "18-mayo",
          "18-junio",
          "18-julio",
          "18-agosto",
          "18-septiembre",
          "18-octubre",
          "18-noviembre",
          "18-diciembre",
          "19-enero",
          "19-febrero",
          "19-marzo",
          "19-abril",
          "19-mayo",
          "19-junio",
          "19-julio",
          "19-agosto",
          "19-septiembre",
          "19-octubre",
          "19-noviembre",
          "19-diciembre"
         ],
         "y": [
          0,
          0,
          0,
          0,
          0,
          0,
          0,
          0,
          0,
          0,
          0,
          0,
          2491245,
          1131220,
          2612385,
          2924010,
          2709994,
          2854568,
          0,
          0,
          0,
          0,
          0,
          0
         ]
        },
        {
         "name": "Vehículos  ",
         "type": "bar",
         "x": [
          "18-enero",
          "18-febrero",
          "18-marzo",
          "18-abril",
          "18-mayo",
          "18-junio",
          "18-julio",
          "18-agosto",
          "18-septiembre",
          "18-octubre",
          "18-noviembre",
          "18-diciembre",
          "19-enero",
          "19-febrero",
          "19-marzo",
          "19-abril",
          "19-mayo",
          "19-junio",
          "19-julio",
          "19-agosto",
          "19-septiembre",
          "19-octubre",
          "19-noviembre",
          "19-diciembre"
         ],
         "y": [
          0,
          0,
          135100,
          993000,
          1238108,
          993000,
          800000,
          1130966,
          800000,
          1096894,
          800000,
          800000,
          0,
          0,
          0,
          0,
          0,
          0,
          0,
          0,
          0,
          0,
          0,
          0
         ]
        },
        {
         "name": "Tag y peajes  ",
         "type": "bar",
         "x": [
          "18-enero",
          "18-febrero",
          "18-marzo",
          "18-abril",
          "18-mayo",
          "18-junio",
          "18-julio",
          "18-agosto",
          "18-septiembre",
          "18-octubre",
          "18-noviembre",
          "18-diciembre",
          "19-enero",
          "19-febrero",
          "19-marzo",
          "19-abril",
          "19-mayo",
          "19-junio",
          "19-julio",
          "19-agosto",
          "19-septiembre",
          "19-octubre",
          "19-noviembre",
          "19-diciembre"
         ],
         "y": [
          0,
          0,
          87740,
          223591,
          120550,
          135238,
          191856,
          175739,
          268883,
          199574,
          83480,
          193600,
          0,
          0,
          0,
          0,
          0,
          0,
          0,
          0,
          0,
          0,
          0,
          0
         ]
        },
        {
         "name": "Combustible  ",
         "type": "bar",
         "x": [
          "18-enero",
          "18-febrero",
          "18-marzo",
          "18-abril",
          "18-mayo",
          "18-junio",
          "18-julio",
          "18-agosto",
          "18-septiembre",
          "18-octubre",
          "18-noviembre",
          "18-diciembre",
          "19-enero",
          "19-febrero",
          "19-marzo",
          "19-abril",
          "19-mayo",
          "19-junio",
          "19-julio",
          "19-agosto",
          "19-septiembre",
          "19-octubre",
          "19-noviembre",
          "19-diciembre"
         ],
         "y": [
          0,
          0,
          552178,
          631574,
          544216,
          386022,
          562059,
          734283,
          784775,
          830779,
          713375,
          470555,
          0,
          0,
          0,
          0,
          0,
          0,
          0,
          0,
          0,
          0,
          0,
          0
         ]
        },
        {
         "name": "Pasajes de movilización  ",
         "type": "bar",
         "x": [
          "18-enero",
          "18-febrero",
          "18-marzo",
          "18-abril",
          "18-mayo",
          "18-junio",
          "18-julio",
          "18-agosto",
          "18-septiembre",
          "18-octubre",
          "18-noviembre",
          "18-diciembre",
          "19-enero",
          "19-febrero",
          "19-marzo",
          "19-abril",
          "19-mayo",
          "19-junio",
          "19-julio",
          "19-agosto",
          "19-septiembre",
          "19-octubre",
          "19-noviembre",
          "19-diciembre"
         ],
         "y": [
          0,
          0,
          49520,
          127040,
          195020,
          70000,
          55300,
          0,
          0,
          0,
          0,
          0,
          0,
          0,
          0,
          0,
          0,
          0,
          0,
          0,
          0,
          0,
          0,
          0
         ]
        },
        {
         "name": "Alimentación  ",
         "type": "bar",
         "x": [
          "18-enero",
          "18-febrero",
          "18-marzo",
          "18-abril",
          "18-mayo",
          "18-junio",
          "18-julio",
          "18-agosto",
          "18-septiembre",
          "18-octubre",
          "18-noviembre",
          "18-diciembre",
          "19-enero",
          "19-febrero",
          "19-marzo",
          "19-abril",
          "19-mayo",
          "19-junio",
          "19-julio",
          "19-agosto",
          "19-septiembre",
          "19-octubre",
          "19-noviembre",
          "19-diciembre"
         ],
         "y": [
          0,
          0,
          128590,
          410175,
          147730,
          1140338,
          139760,
          260030,
          126115,
          286224,
          318827,
          258330,
          0,
          0,
          0,
          0,
          0,
          0,
          0,
          0,
          0,
          0,
          0,
          0
         ]
        },
        {
         "name": "Viáticos  ",
         "type": "bar",
         "x": [
          "18-enero",
          "18-febrero",
          "18-marzo",
          "18-abril",
          "18-mayo",
          "18-junio",
          "18-julio",
          "18-agosto",
          "18-septiembre",
          "18-octubre",
          "18-noviembre",
          "18-diciembre",
          "19-enero",
          "19-febrero",
          "19-marzo",
          "19-abril",
          "19-mayo",
          "19-junio",
          "19-julio",
          "19-agosto",
          "19-septiembre",
          "19-octubre",
          "19-noviembre",
          "19-diciembre"
         ],
         "y": [
          0,
          0,
          613640,
          920448,
          1150560,
          707589,
          0,
          0,
          0,
          0,
          0,
          0,
          0,
          0,
          0,
          0,
          0,
          0,
          0,
          0,
          0,
          0,
          0,
          0
         ]
        },
        {
         "name": "Estacionamientos  ",
         "type": "bar",
         "x": [
          "18-enero",
          "18-febrero",
          "18-marzo",
          "18-abril",
          "18-mayo",
          "18-junio",
          "18-julio",
          "18-agosto",
          "18-septiembre",
          "18-octubre",
          "18-noviembre",
          "18-diciembre",
          "19-enero",
          "19-febrero",
          "19-marzo",
          "19-abril",
          "19-mayo",
          "19-junio",
          "19-julio",
          "19-agosto",
          "19-septiembre",
          "19-octubre",
          "19-noviembre",
          "19-diciembre"
         ],
         "y": [
          0,
          0,
          19355,
          8883,
          13268,
          57013,
          0,
          0,
          0,
          0,
          0,
          0,
          0,
          0,
          0,
          0,
          0,
          0,
          0,
          0,
          0,
          0,
          0,
          0
         ]
        },
        {
         "name": "Materiales de oficina  ",
         "type": "bar",
         "x": [
          "18-enero",
          "18-febrero",
          "18-marzo",
          "18-abril",
          "18-mayo",
          "18-junio",
          "18-julio",
          "18-agosto",
          "18-septiembre",
          "18-octubre",
          "18-noviembre",
          "18-diciembre",
          "19-enero",
          "19-febrero",
          "19-marzo",
          "19-abril",
          "19-mayo",
          "19-junio",
          "19-julio",
          "19-agosto",
          "19-septiembre",
          "19-octubre",
          "19-noviembre",
          "19-diciembre"
         ],
         "y": [
          0,
          0,
          146377,
          121912,
          57282,
          0,
          0,
          0,
          0,
          0,
          0,
          0,
          78169,
          0,
          26105,
          13627,
          6666,
          23471,
          0,
          0,
          0,
          0,
          0,
          0
         ]
        },
        {
         "name": "Difusión  ",
         "type": "bar",
         "x": [
          "18-enero",
          "18-febrero",
          "18-marzo",
          "18-abril",
          "18-mayo",
          "18-junio",
          "18-julio",
          "18-agosto",
          "18-septiembre",
          "18-octubre",
          "18-noviembre",
          "18-diciembre",
          "19-enero",
          "19-febrero",
          "19-marzo",
          "19-abril",
          "19-mayo",
          "19-junio",
          "19-julio",
          "19-agosto",
          "19-septiembre",
          "19-octubre",
          "19-noviembre",
          "19-diciembre"
         ],
         "y": [
          0,
          0,
          1137,
          440361,
          417500,
          323515,
          1138911,
          557769,
          567500,
          788367,
          831764,
          772511,
          922918,
          150000,
          632148,
          1459911,
          1114907,
          953022,
          0,
          0,
          0,
          0,
          0,
          0
         ]
        },
        {
         "name": "Actividades distritales  ",
         "type": "bar",
         "x": [
          "18-enero",
          "18-febrero",
          "18-marzo",
          "18-abril",
          "18-mayo",
          "18-junio",
          "18-julio",
          "18-agosto",
          "18-septiembre",
          "18-octubre",
          "18-noviembre",
          "18-diciembre",
          "19-enero",
          "19-febrero",
          "19-marzo",
          "19-abril",
          "19-mayo",
          "19-junio",
          "19-julio",
          "19-agosto",
          "19-septiembre",
          "19-octubre",
          "19-noviembre",
          "19-diciembre"
         ],
         "y": [
          0,
          0,
          465500,
          665000,
          665000,
          665000,
          0,
          0,
          0,
          0,
          0,
          0,
          0,
          0,
          0,
          0,
          0,
          0,
          0,
          0,
          0,
          0,
          0,
          0
         ]
        },
        {
         "name": "Correspondencia  ",
         "type": "bar",
         "x": [
          "18-enero",
          "18-febrero",
          "18-marzo",
          "18-abril",
          "18-mayo",
          "18-junio",
          "18-julio",
          "18-agosto",
          "18-septiembre",
          "18-octubre",
          "18-noviembre",
          "18-diciembre",
          "19-enero",
          "19-febrero",
          "19-marzo",
          "19-abril",
          "19-mayo",
          "19-junio",
          "19-julio",
          "19-agosto",
          "19-septiembre",
          "19-octubre",
          "19-noviembre",
          "19-diciembre"
         ],
         "y": [
          0,
          0,
          0,
          7594,
          40437,
          8859,
          0,
          0,
          0,
          0,
          0,
          0,
          5738,
          0,
          0,
          11422,
          0,
          9350,
          0,
          0,
          0,
          0,
          0,
          0
         ]
        },
        {
         "name": "Actividades territoriales  ",
         "type": "bar",
         "x": [
          "18-enero",
          "18-febrero",
          "18-marzo",
          "18-abril",
          "18-mayo",
          "18-junio",
          "18-julio",
          "18-agosto",
          "18-septiembre",
          "18-octubre",
          "18-noviembre",
          "18-diciembre",
          "19-enero",
          "19-febrero",
          "19-marzo",
          "19-abril",
          "19-mayo",
          "19-junio",
          "19-julio",
          "19-agosto",
          "19-septiembre",
          "19-octubre",
          "19-noviembre",
          "19-diciembre"
         ],
         "y": [
          0,
          0,
          0,
          0,
          0,
          0,
          1238922,
          1237415,
          1217310,
          1229221,
          970891,
          1232259,
          0,
          0,
          0,
          0,
          0,
          0,
          0,
          0,
          0,
          0,
          0,
          0
         ]
        },
        {
         "name": "Vehiculos- amortizacion  ",
         "type": "bar",
         "x": [
          "18-enero",
          "18-febrero",
          "18-marzo",
          "18-abril",
          "18-mayo",
          "18-junio",
          "18-julio",
          "18-agosto",
          "18-septiembre",
          "18-octubre",
          "18-noviembre",
          "18-diciembre",
          "19-enero",
          "19-febrero",
          "19-marzo",
          "19-abril",
          "19-mayo",
          "19-junio",
          "19-julio",
          "19-agosto",
          "19-septiembre",
          "19-octubre",
          "19-noviembre",
          "19-diciembre"
         ],
         "y": [
          0,
          0,
          0,
          0,
          0,
          0,
          193000,
          193000,
          193000,
          193000,
          193000,
          193000,
          0,
          0,
          0,
          0,
          0,
          0,
          0,
          0,
          0,
          0,
          0,
          0
         ]
        },
        {
         "name": "Viáticos del diputado  ",
         "type": "bar",
         "x": [
          "18-enero",
          "18-febrero",
          "18-marzo",
          "18-abril",
          "18-mayo",
          "18-junio",
          "18-julio",
          "18-agosto",
          "18-septiembre",
          "18-octubre",
          "18-noviembre",
          "18-diciembre",
          "19-enero",
          "19-febrero",
          "19-marzo",
          "19-abril",
          "19-mayo",
          "19-junio",
          "19-julio",
          "19-agosto",
          "19-septiembre",
          "19-octubre",
          "19-noviembre",
          "19-diciembre"
         ],
         "y": [
          0,
          0,
          0,
          0,
          0,
          0,
          707589,
          912004,
          864831,
          864831,
          1179315,
          1179315,
          0,
          0,
          0,
          0,
          0,
          0,
          0,
          0,
          0,
          0,
          0,
          0
         ]
        },
        {
         "name": "Gastos a otros puntos del territorio nacional (justificado)  ",
         "type": "bar",
         "x": [
          "18-enero",
          "18-febrero",
          "18-marzo",
          "18-abril",
          "18-mayo",
          "18-junio",
          "18-julio",
          "18-agosto",
          "18-septiembre",
          "18-octubre",
          "18-noviembre",
          "18-diciembre",
          "19-enero",
          "19-febrero",
          "19-marzo",
          "19-abril",
          "19-mayo",
          "19-junio",
          "19-julio",
          "19-agosto",
          "19-septiembre",
          "19-octubre",
          "19-noviembre",
          "19-diciembre"
         ],
         "y": [
          0,
          0,
          0,
          0,
          0,
          0,
          493562,
          0,
          0,
          0,
          0,
          0,
          0,
          0,
          0,
          0,
          0,
          0,
          0,
          0,
          0,
          0,
          0,
          0
         ]
        },
        {
         "name": "Traspaso desde gastos operacionales a asignación personal de apoyo  ",
         "type": "bar",
         "x": [
          "18-enero",
          "18-febrero",
          "18-marzo",
          "18-abril",
          "18-mayo",
          "18-junio",
          "18-julio",
          "18-agosto",
          "18-septiembre",
          "18-octubre",
          "18-noviembre",
          "18-diciembre",
          "19-enero",
          "19-febrero",
          "19-marzo",
          "19-abril",
          "19-mayo",
          "19-junio",
          "19-julio",
          "19-agosto",
          "19-septiembre",
          "19-octubre",
          "19-noviembre",
          "19-diciembre"
         ],
         "y": [
          0,
          0,
          0,
          0,
          0,
          0,
          0,
          0,
          0,
          0,
          0,
          0,
          0,
          223000,
          300000,
          835891,
          0,
          0,
          0,
          0,
          0,
          0,
          0,
          0
         ]
        },
        {
         "name": "Actividades destinadas a la interacción con la comunidad  ",
         "type": "bar",
         "x": [
          "18-enero",
          "18-febrero",
          "18-marzo",
          "18-abril",
          "18-mayo",
          "18-junio",
          "18-julio",
          "18-agosto",
          "18-septiembre",
          "18-octubre",
          "18-noviembre",
          "18-diciembre",
          "19-enero",
          "19-febrero",
          "19-marzo",
          "19-abril",
          "19-mayo",
          "19-junio",
          "19-julio",
          "19-agosto",
          "19-septiembre",
          "19-octubre",
          "19-noviembre",
          "19-diciembre"
         ],
         "y": [
          0,
          0,
          0,
          0,
          0,
          0,
          0,
          0,
          0,
          0,
          0,
          0,
          0,
          0,
          0,
          0,
          0,
          0,
          0,
          0,
          0,
          0,
          0,
          0
         ]
        },
        {
         "name": "Arriendo de inmueble  ",
         "type": "bar",
         "x": [
          "18-enero",
          "18-febrero",
          "18-marzo",
          "18-abril",
          "18-mayo",
          "18-junio",
          "18-julio",
          "18-agosto",
          "18-septiembre",
          "18-octubre",
          "18-noviembre",
          "18-diciembre",
          "19-enero",
          "19-febrero",
          "19-marzo",
          "19-abril",
          "19-mayo",
          "19-junio",
          "19-julio",
          "19-agosto",
          "19-septiembre",
          "19-octubre",
          "19-noviembre",
          "19-diciembre"
         ],
         "y": [
          0,
          0,
          0,
          0,
          0,
          0,
          0,
          0,
          0,
          0,
          0,
          0,
          923223,
          922959,
          930886,
          935792,
          937105,
          938105,
          0,
          0,
          0,
          0,
          0,
          0
         ]
        },
        {
         "name": "Consumos básicos  ",
         "type": "bar",
         "x": [
          "18-enero",
          "18-febrero",
          "18-marzo",
          "18-abril",
          "18-mayo",
          "18-junio",
          "18-julio",
          "18-agosto",
          "18-septiembre",
          "18-octubre",
          "18-noviembre",
          "18-diciembre",
          "19-enero",
          "19-febrero",
          "19-marzo",
          "19-abril",
          "19-mayo",
          "19-junio",
          "19-julio",
          "19-agosto",
          "19-septiembre",
          "19-octubre",
          "19-noviembre",
          "19-diciembre"
         ],
         "y": [
          0,
          0,
          0,
          0,
          0,
          0,
          0,
          0,
          0,
          0,
          0,
          0,
          0,
          0,
          0,
          0,
          0,
          14131,
          0,
          0,
          0,
          0,
          0,
          0
         ]
        },
        {
         "name": "Equipamiento oficina parlamentaria  ",
         "type": "bar",
         "x": [
          "18-enero",
          "18-febrero",
          "18-marzo",
          "18-abril",
          "18-mayo",
          "18-junio",
          "18-julio",
          "18-agosto",
          "18-septiembre",
          "18-octubre",
          "18-noviembre",
          "18-diciembre",
          "19-enero",
          "19-febrero",
          "19-marzo",
          "19-abril",
          "19-mayo",
          "19-junio",
          "19-julio",
          "19-agosto",
          "19-septiembre",
          "19-octubre",
          "19-noviembre",
          "19-diciembre"
         ],
         "y": [
          0,
          0,
          0,
          0,
          0,
          0,
          0,
          0,
          0,
          0,
          0,
          0,
          0,
          0,
          0,
          0,
          0,
          15790,
          0,
          0,
          0,
          0,
          0,
          0
         ]
        },
        {
         "name": "Gastos de mantención oficina parlamentaria (inmueble)  ",
         "type": "bar",
         "x": [
          "18-enero",
          "18-febrero",
          "18-marzo",
          "18-abril",
          "18-mayo",
          "18-junio",
          "18-julio",
          "18-agosto",
          "18-septiembre",
          "18-octubre",
          "18-noviembre",
          "18-diciembre",
          "19-enero",
          "19-febrero",
          "19-marzo",
          "19-abril",
          "19-mayo",
          "19-junio",
          "19-julio",
          "19-agosto",
          "19-septiembre",
          "19-octubre",
          "19-noviembre",
          "19-diciembre"
         ],
         "y": [
          0,
          0,
          0,
          0,
          0,
          0,
          0,
          0,
          0,
          0,
          0,
          0,
          0,
          0,
          0,
          0,
          0,
          0,
          0,
          0,
          0,
          0,
          0,
          0
         ]
        },
        {
         "name": "Reparaciones locativas del inmueble  ",
         "type": "bar",
         "x": [
          "18-enero",
          "18-febrero",
          "18-marzo",
          "18-abril",
          "18-mayo",
          "18-junio",
          "18-julio",
          "18-agosto",
          "18-septiembre",
          "18-octubre",
          "18-noviembre",
          "18-diciembre",
          "19-enero",
          "19-febrero",
          "19-marzo",
          "19-abril",
          "19-mayo",
          "19-junio",
          "19-julio",
          "19-agosto",
          "19-septiembre",
          "19-octubre",
          "19-noviembre",
          "19-diciembre"
         ],
         "y": [
          0,
          0,
          0,
          0,
          0,
          0,
          0,
          0,
          0,
          0,
          0,
          0,
          0,
          0,
          0,
          0,
          0,
          0,
          0,
          0,
          0,
          0,
          0,
          0
         ]
        },
        {
         "name": "Habilitación de sedes parlamentarias (con autorización de crap)  ",
         "type": "bar",
         "x": [
          "18-enero",
          "18-febrero",
          "18-marzo",
          "18-abril",
          "18-mayo",
          "18-junio",
          "18-julio",
          "18-agosto",
          "18-septiembre",
          "18-octubre",
          "18-noviembre",
          "18-diciembre",
          "19-enero",
          "19-febrero",
          "19-marzo",
          "19-abril",
          "19-mayo",
          "19-junio",
          "19-julio",
          "19-agosto",
          "19-septiembre",
          "19-octubre",
          "19-noviembre",
          "19-diciembre"
         ],
         "y": [
          0,
          0,
          0,
          0,
          0,
          0,
          0,
          0,
          0,
          0,
          0,
          0,
          0,
          0,
          0,
          0,
          0,
          0,
          0,
          0,
          0,
          0,
          0,
          0
         ]
        },
        {
         "name": "Seguros de bienes  ",
         "type": "bar",
         "x": [
          "18-enero",
          "18-febrero",
          "18-marzo",
          "18-abril",
          "18-mayo",
          "18-junio",
          "18-julio",
          "18-agosto",
          "18-septiembre",
          "18-octubre",
          "18-noviembre",
          "18-diciembre",
          "19-enero",
          "19-febrero",
          "19-marzo",
          "19-abril",
          "19-mayo",
          "19-junio",
          "19-julio",
          "19-agosto",
          "19-septiembre",
          "19-octubre",
          "19-noviembre",
          "19-diciembre"
         ],
         "y": [
          0,
          0,
          0,
          0,
          0,
          0,
          0,
          0,
          0,
          0,
          0,
          0,
          0,
          0,
          0,
          0,
          0,
          0,
          0,
          0,
          0,
          0,
          0,
          0
         ]
        },
        {
         "name": "Arriendo de oficinas virtuales  ",
         "type": "bar",
         "x": [
          "18-enero",
          "18-febrero",
          "18-marzo",
          "18-abril",
          "18-mayo",
          "18-junio",
          "18-julio",
          "18-agosto",
          "18-septiembre",
          "18-octubre",
          "18-noviembre",
          "18-diciembre",
          "19-enero",
          "19-febrero",
          "19-marzo",
          "19-abril",
          "19-mayo",
          "19-junio",
          "19-julio",
          "19-agosto",
          "19-septiembre",
          "19-octubre",
          "19-noviembre",
          "19-diciembre"
         ],
         "y": [
          0,
          0,
          0,
          0,
          0,
          0,
          0,
          0,
          0,
          0,
          0,
          0,
          0,
          0,
          0,
          0,
          0,
          0,
          0,
          0,
          0,
          0,
          0,
          0
         ]
        },
        {
         "name": "Servicios web  ",
         "type": "bar",
         "x": [
          "18-enero",
          "18-febrero",
          "18-marzo",
          "18-abril",
          "18-mayo",
          "18-junio",
          "18-julio",
          "18-agosto",
          "18-septiembre",
          "18-octubre",
          "18-noviembre",
          "18-diciembre",
          "19-enero",
          "19-febrero",
          "19-marzo",
          "19-abril",
          "19-mayo",
          "19-junio",
          "19-julio",
          "19-agosto",
          "19-septiembre",
          "19-octubre",
          "19-noviembre",
          "19-diciembre"
         ],
         "y": [
          0,
          0,
          0,
          0,
          0,
          0,
          0,
          0,
          0,
          0,
          0,
          0,
          0,
          0,
          0,
          0,
          0,
          0,
          0,
          0,
          0,
          0,
          0,
          0
         ]
        },
        {
         "name": "Contratación servicio de almacenamiento  ",
         "type": "bar",
         "x": [
          "18-enero",
          "18-febrero",
          "18-marzo",
          "18-abril",
          "18-mayo",
          "18-junio",
          "18-julio",
          "18-agosto",
          "18-septiembre",
          "18-octubre",
          "18-noviembre",
          "18-diciembre",
          "19-enero",
          "19-febrero",
          "19-marzo",
          "19-abril",
          "19-mayo",
          "19-junio",
          "19-julio",
          "19-agosto",
          "19-septiembre",
          "19-octubre",
          "19-noviembre",
          "19-diciembre"
         ],
         "y": [
          0,
          0,
          0,
          0,
          0,
          0,
          0,
          0,
          0,
          0,
          0,
          0,
          0,
          0,
          0,
          0,
          0,
          0,
          0,
          0,
          0,
          0,
          0,
          0
         ]
        },
        {
         "name": "Arriendo de oficina móvil  ",
         "type": "bar",
         "x": [
          "18-enero",
          "18-febrero",
          "18-marzo",
          "18-abril",
          "18-mayo",
          "18-junio",
          "18-julio",
          "18-agosto",
          "18-septiembre",
          "18-octubre",
          "18-noviembre",
          "18-diciembre",
          "19-enero",
          "19-febrero",
          "19-marzo",
          "19-abril",
          "19-mayo",
          "19-junio",
          "19-julio",
          "19-agosto",
          "19-septiembre",
          "19-octubre",
          "19-noviembre",
          "19-diciembre"
         ],
         "y": [
          0,
          0,
          0,
          0,
          0,
          0,
          0,
          0,
          0,
          0,
          0,
          0,
          0,
          0,
          0,
          0,
          0,
          0,
          0,
          0,
          0,
          0,
          0,
          0
         ]
        },
        {
         "name": "Mantencion y reparación de oficina móvil  ",
         "type": "bar",
         "x": [
          "18-enero",
          "18-febrero",
          "18-marzo",
          "18-abril",
          "18-mayo",
          "18-junio",
          "18-julio",
          "18-agosto",
          "18-septiembre",
          "18-octubre",
          "18-noviembre",
          "18-diciembre",
          "19-enero",
          "19-febrero",
          "19-marzo",
          "19-abril",
          "19-mayo",
          "19-junio",
          "19-julio",
          "19-agosto",
          "19-septiembre",
          "19-octubre",
          "19-noviembre",
          "19-diciembre"
         ],
         "y": [
          0,
          0,
          0,
          0,
          0,
          0,
          0,
          0,
          0,
          0,
          0,
          0,
          0,
          0,
          0,
          0,
          0,
          0,
          0,
          0,
          0,
          0,
          0,
          0
         ]
        },
        {
         "name": "Servicios menores  ",
         "type": "bar",
         "x": [
          "18-enero",
          "18-febrero",
          "18-marzo",
          "18-abril",
          "18-mayo",
          "18-junio",
          "18-julio",
          "18-agosto",
          "18-septiembre",
          "18-octubre",
          "18-noviembre",
          "18-diciembre",
          "19-enero",
          "19-febrero",
          "19-marzo",
          "19-abril",
          "19-mayo",
          "19-junio",
          "19-julio",
          "19-agosto",
          "19-septiembre",
          "19-octubre",
          "19-noviembre",
          "19-diciembre"
         ],
         "y": [
          0,
          0,
          0,
          0,
          0,
          0,
          0,
          0,
          0,
          0,
          0,
          0,
          239990,
          239990,
          239990,
          239990,
          239990,
          239990,
          0,
          0,
          0,
          0,
          0,
          0
         ]
        }
       ],
       "layout": {
        "barmode": "stack",
        "showlegend": false,
        "template": {
         "data": {
          "bar": [
           {
            "error_x": {
             "color": "#2a3f5f"
            },
            "error_y": {
             "color": "#2a3f5f"
            },
            "marker": {
             "line": {
              "color": "#E5ECF6",
              "width": 0.5
             }
            },
            "type": "bar"
           }
          ],
          "barpolar": [
           {
            "marker": {
             "line": {
              "color": "#E5ECF6",
              "width": 0.5
             }
            },
            "type": "barpolar"
           }
          ],
          "carpet": [
           {
            "aaxis": {
             "endlinecolor": "#2a3f5f",
             "gridcolor": "white",
             "linecolor": "white",
             "minorgridcolor": "white",
             "startlinecolor": "#2a3f5f"
            },
            "baxis": {
             "endlinecolor": "#2a3f5f",
             "gridcolor": "white",
             "linecolor": "white",
             "minorgridcolor": "white",
             "startlinecolor": "#2a3f5f"
            },
            "type": "carpet"
           }
          ],
          "choropleth": [
           {
            "colorbar": {
             "outlinewidth": 0,
             "ticks": ""
            },
            "type": "choropleth"
           }
          ],
          "contour": [
           {
            "colorbar": {
             "outlinewidth": 0,
             "ticks": ""
            },
            "colorscale": [
             [
              0,
              "#0d0887"
             ],
             [
              0.1111111111111111,
              "#46039f"
             ],
             [
              0.2222222222222222,
              "#7201a8"
             ],
             [
              0.3333333333333333,
              "#9c179e"
             ],
             [
              0.4444444444444444,
              "#bd3786"
             ],
             [
              0.5555555555555556,
              "#d8576b"
             ],
             [
              0.6666666666666666,
              "#ed7953"
             ],
             [
              0.7777777777777778,
              "#fb9f3a"
             ],
             [
              0.8888888888888888,
              "#fdca26"
             ],
             [
              1,
              "#f0f921"
             ]
            ],
            "type": "contour"
           }
          ],
          "contourcarpet": [
           {
            "colorbar": {
             "outlinewidth": 0,
             "ticks": ""
            },
            "type": "contourcarpet"
           }
          ],
          "heatmap": [
           {
            "colorbar": {
             "outlinewidth": 0,
             "ticks": ""
            },
            "colorscale": [
             [
              0,
              "#0d0887"
             ],
             [
              0.1111111111111111,
              "#46039f"
             ],
             [
              0.2222222222222222,
              "#7201a8"
             ],
             [
              0.3333333333333333,
              "#9c179e"
             ],
             [
              0.4444444444444444,
              "#bd3786"
             ],
             [
              0.5555555555555556,
              "#d8576b"
             ],
             [
              0.6666666666666666,
              "#ed7953"
             ],
             [
              0.7777777777777778,
              "#fb9f3a"
             ],
             [
              0.8888888888888888,
              "#fdca26"
             ],
             [
              1,
              "#f0f921"
             ]
            ],
            "type": "heatmap"
           }
          ],
          "heatmapgl": [
           {
            "colorbar": {
             "outlinewidth": 0,
             "ticks": ""
            },
            "colorscale": [
             [
              0,
              "#0d0887"
             ],
             [
              0.1111111111111111,
              "#46039f"
             ],
             [
              0.2222222222222222,
              "#7201a8"
             ],
             [
              0.3333333333333333,
              "#9c179e"
             ],
             [
              0.4444444444444444,
              "#bd3786"
             ],
             [
              0.5555555555555556,
              "#d8576b"
             ],
             [
              0.6666666666666666,
              "#ed7953"
             ],
             [
              0.7777777777777778,
              "#fb9f3a"
             ],
             [
              0.8888888888888888,
              "#fdca26"
             ],
             [
              1,
              "#f0f921"
             ]
            ],
            "type": "heatmapgl"
           }
          ],
          "histogram": [
           {
            "marker": {
             "colorbar": {
              "outlinewidth": 0,
              "ticks": ""
             }
            },
            "type": "histogram"
           }
          ],
          "histogram2d": [
           {
            "colorbar": {
             "outlinewidth": 0,
             "ticks": ""
            },
            "colorscale": [
             [
              0,
              "#0d0887"
             ],
             [
              0.1111111111111111,
              "#46039f"
             ],
             [
              0.2222222222222222,
              "#7201a8"
             ],
             [
              0.3333333333333333,
              "#9c179e"
             ],
             [
              0.4444444444444444,
              "#bd3786"
             ],
             [
              0.5555555555555556,
              "#d8576b"
             ],
             [
              0.6666666666666666,
              "#ed7953"
             ],
             [
              0.7777777777777778,
              "#fb9f3a"
             ],
             [
              0.8888888888888888,
              "#fdca26"
             ],
             [
              1,
              "#f0f921"
             ]
            ],
            "type": "histogram2d"
           }
          ],
          "histogram2dcontour": [
           {
            "colorbar": {
             "outlinewidth": 0,
             "ticks": ""
            },
            "colorscale": [
             [
              0,
              "#0d0887"
             ],
             [
              0.1111111111111111,
              "#46039f"
             ],
             [
              0.2222222222222222,
              "#7201a8"
             ],
             [
              0.3333333333333333,
              "#9c179e"
             ],
             [
              0.4444444444444444,
              "#bd3786"
             ],
             [
              0.5555555555555556,
              "#d8576b"
             ],
             [
              0.6666666666666666,
              "#ed7953"
             ],
             [
              0.7777777777777778,
              "#fb9f3a"
             ],
             [
              0.8888888888888888,
              "#fdca26"
             ],
             [
              1,
              "#f0f921"
             ]
            ],
            "type": "histogram2dcontour"
           }
          ],
          "mesh3d": [
           {
            "colorbar": {
             "outlinewidth": 0,
             "ticks": ""
            },
            "type": "mesh3d"
           }
          ],
          "parcoords": [
           {
            "line": {
             "colorbar": {
              "outlinewidth": 0,
              "ticks": ""
             }
            },
            "type": "parcoords"
           }
          ],
          "scatter": [
           {
            "marker": {
             "colorbar": {
              "outlinewidth": 0,
              "ticks": ""
             }
            },
            "type": "scatter"
           }
          ],
          "scatter3d": [
           {
            "line": {
             "colorbar": {
              "outlinewidth": 0,
              "ticks": ""
             }
            },
            "marker": {
             "colorbar": {
              "outlinewidth": 0,
              "ticks": ""
             }
            },
            "type": "scatter3d"
           }
          ],
          "scattercarpet": [
           {
            "marker": {
             "colorbar": {
              "outlinewidth": 0,
              "ticks": ""
             }
            },
            "type": "scattercarpet"
           }
          ],
          "scattergeo": [
           {
            "marker": {
             "colorbar": {
              "outlinewidth": 0,
              "ticks": ""
             }
            },
            "type": "scattergeo"
           }
          ],
          "scattergl": [
           {
            "marker": {
             "colorbar": {
              "outlinewidth": 0,
              "ticks": ""
             }
            },
            "type": "scattergl"
           }
          ],
          "scattermapbox": [
           {
            "marker": {
             "colorbar": {
              "outlinewidth": 0,
              "ticks": ""
             }
            },
            "type": "scattermapbox"
           }
          ],
          "scatterpolar": [
           {
            "marker": {
             "colorbar": {
              "outlinewidth": 0,
              "ticks": ""
             }
            },
            "type": "scatterpolar"
           }
          ],
          "scatterpolargl": [
           {
            "marker": {
             "colorbar": {
              "outlinewidth": 0,
              "ticks": ""
             }
            },
            "type": "scatterpolargl"
           }
          ],
          "scatterternary": [
           {
            "marker": {
             "colorbar": {
              "outlinewidth": 0,
              "ticks": ""
             }
            },
            "type": "scatterternary"
           }
          ],
          "surface": [
           {
            "colorbar": {
             "outlinewidth": 0,
             "ticks": ""
            },
            "colorscale": [
             [
              0,
              "#0d0887"
             ],
             [
              0.1111111111111111,
              "#46039f"
             ],
             [
              0.2222222222222222,
              "#7201a8"
             ],
             [
              0.3333333333333333,
              "#9c179e"
             ],
             [
              0.4444444444444444,
              "#bd3786"
             ],
             [
              0.5555555555555556,
              "#d8576b"
             ],
             [
              0.6666666666666666,
              "#ed7953"
             ],
             [
              0.7777777777777778,
              "#fb9f3a"
             ],
             [
              0.8888888888888888,
              "#fdca26"
             ],
             [
              1,
              "#f0f921"
             ]
            ],
            "type": "surface"
           }
          ],
          "table": [
           {
            "cells": {
             "fill": {
              "color": "#EBF0F8"
             },
             "line": {
              "color": "white"
             }
            },
            "header": {
             "fill": {
              "color": "#C8D4E3"
             },
             "line": {
              "color": "white"
             }
            },
            "type": "table"
           }
          ]
         },
         "layout": {
          "annotationdefaults": {
           "arrowcolor": "#2a3f5f",
           "arrowhead": 0,
           "arrowwidth": 1
          },
          "colorscale": {
           "diverging": [
            [
             0,
             "#8e0152"
            ],
            [
             0.1,
             "#c51b7d"
            ],
            [
             0.2,
             "#de77ae"
            ],
            [
             0.3,
             "#f1b6da"
            ],
            [
             0.4,
             "#fde0ef"
            ],
            [
             0.5,
             "#f7f7f7"
            ],
            [
             0.6,
             "#e6f5d0"
            ],
            [
             0.7,
             "#b8e186"
            ],
            [
             0.8,
             "#7fbc41"
            ],
            [
             0.9,
             "#4d9221"
            ],
            [
             1,
             "#276419"
            ]
           ],
           "sequential": [
            [
             0,
             "#0d0887"
            ],
            [
             0.1111111111111111,
             "#46039f"
            ],
            [
             0.2222222222222222,
             "#7201a8"
            ],
            [
             0.3333333333333333,
             "#9c179e"
            ],
            [
             0.4444444444444444,
             "#bd3786"
            ],
            [
             0.5555555555555556,
             "#d8576b"
            ],
            [
             0.6666666666666666,
             "#ed7953"
            ],
            [
             0.7777777777777778,
             "#fb9f3a"
            ],
            [
             0.8888888888888888,
             "#fdca26"
            ],
            [
             1,
             "#f0f921"
            ]
           ],
           "sequentialminus": [
            [
             0,
             "#0d0887"
            ],
            [
             0.1111111111111111,
             "#46039f"
            ],
            [
             0.2222222222222222,
             "#7201a8"
            ],
            [
             0.3333333333333333,
             "#9c179e"
            ],
            [
             0.4444444444444444,
             "#bd3786"
            ],
            [
             0.5555555555555556,
             "#d8576b"
            ],
            [
             0.6666666666666666,
             "#ed7953"
            ],
            [
             0.7777777777777778,
             "#fb9f3a"
            ],
            [
             0.8888888888888888,
             "#fdca26"
            ],
            [
             1,
             "#f0f921"
            ]
           ]
          },
          "colorway": [
           "#636efa",
           "#EF553B",
           "#00cc96",
           "#ab63fa",
           "#FFA15A",
           "#19d3f3",
           "#FF6692",
           "#B6E880",
           "#FF97FF",
           "#FECB52"
          ],
          "font": {
           "color": "#2a3f5f"
          },
          "geo": {
           "bgcolor": "white",
           "lakecolor": "white",
           "landcolor": "#E5ECF6",
           "showlakes": true,
           "showland": true,
           "subunitcolor": "white"
          },
          "hoverlabel": {
           "align": "left"
          },
          "hovermode": "closest",
          "mapbox": {
           "style": "light"
          },
          "paper_bgcolor": "white",
          "plot_bgcolor": "#E5ECF6",
          "polar": {
           "angularaxis": {
            "gridcolor": "white",
            "linecolor": "white",
            "ticks": ""
           },
           "bgcolor": "#E5ECF6",
           "radialaxis": {
            "gridcolor": "white",
            "linecolor": "white",
            "ticks": ""
           }
          },
          "scene": {
           "xaxis": {
            "backgroundcolor": "#E5ECF6",
            "gridcolor": "white",
            "gridwidth": 2,
            "linecolor": "white",
            "showbackground": true,
            "ticks": "",
            "zerolinecolor": "white"
           },
           "yaxis": {
            "backgroundcolor": "#E5ECF6",
            "gridcolor": "white",
            "gridwidth": 2,
            "linecolor": "white",
            "showbackground": true,
            "ticks": "",
            "zerolinecolor": "white"
           },
           "zaxis": {
            "backgroundcolor": "#E5ECF6",
            "gridcolor": "white",
            "gridwidth": 2,
            "linecolor": "white",
            "showbackground": true,
            "ticks": "",
            "zerolinecolor": "white"
           }
          },
          "shapedefaults": {
           "line": {
            "color": "#2a3f5f"
           }
          },
          "ternary": {
           "aaxis": {
            "gridcolor": "white",
            "linecolor": "white",
            "ticks": ""
           },
           "baxis": {
            "gridcolor": "white",
            "linecolor": "white",
            "ticks": ""
           },
           "bgcolor": "#E5ECF6",
           "caxis": {
            "gridcolor": "white",
            "linecolor": "white",
            "ticks": ""
           }
          },
          "title": {
           "x": 0.05
          },
          "xaxis": {
           "automargin": true,
           "gridcolor": "white",
           "linecolor": "white",
           "ticks": "",
           "zerolinecolor": "white",
           "zerolinewidth": 2
          },
          "yaxis": {
           "automargin": true,
           "gridcolor": "white",
           "linecolor": "white",
           "ticks": "",
           "zerolinecolor": "white",
           "zerolinewidth": 2
          }
         }
        },
        "title": {
         "text": "Gastos de Camila Flores Oporto "
        }
       }
      },
      "text/html": [
       "<div>\n",
       "        \n",
       "        \n",
       "            <div id=\"03fdd346-37f0-495f-bacf-f2961589cb73\" class=\"plotly-graph-div\" style=\"height:525px; width:100%;\"></div>\n",
       "            <script type=\"text/javascript\">\n",
       "                require([\"plotly\"], function(Plotly) {\n",
       "                    window.PLOTLYENV=window.PLOTLYENV || {};\n",
       "                    \n",
       "                if (document.getElementById(\"03fdd346-37f0-495f-bacf-f2961589cb73\")) {\n",
       "                    Plotly.newPlot(\n",
       "                        '03fdd346-37f0-495f-bacf-f2961589cb73',\n",
       "                        [{\"name\": \"Oficinas parlamentarias (incluye arriendos, consumos b\\u00e1sicos, internet, etc.)  \", \"type\": \"bar\", \"x\": [\"18-enero\", \"18-febrero\", \"18-marzo\", \"18-abril\", \"18-mayo\", \"18-junio\", \"18-julio\", \"18-agosto\", \"18-septiembre\", \"18-octubre\", \"18-noviembre\", \"18-diciembre\", \"19-enero\", \"19-febrero\", \"19-marzo\", \"19-abril\", \"19-mayo\", \"19-junio\", \"19-julio\", \"19-agosto\", \"19-septiembre\", \"19-octubre\", \"19-noviembre\", \"19-diciembre\"], \"y\": [0, 0, 287696, 667170, 1104553, 955148, 0, 0, 0, 0, 0, 0, 0, 0, 0, 0, 0, 0, 0, 0, 0, 0, 0, 0]}, {\"name\": \"Telefon\\u00eda  \", \"type\": \"bar\", \"x\": [\"18-enero\", \"18-febrero\", \"18-marzo\", \"18-abril\", \"18-mayo\", \"18-junio\", \"18-julio\", \"18-agosto\", \"18-septiembre\", \"18-octubre\", \"18-noviembre\", \"18-diciembre\", \"19-enero\", \"19-febrero\", \"19-marzo\", \"19-abril\", \"19-mayo\", \"19-junio\", \"19-julio\", \"19-agosto\", \"19-septiembre\", \"19-octubre\", \"19-noviembre\", \"19-diciembre\"], \"y\": [0, 0, 53980, 677302, 159953, 155380, 155685, 153690, 173450, 137406, 137366, 166303, 162352, 161797, 159695, 159695, 719986, 157892, 0, 0, 0, 0, 0, 0]}, {\"name\": \"Traslaci\\u00f3n  \", \"type\": \"bar\", \"x\": [\"18-enero\", \"18-febrero\", \"18-marzo\", \"18-abril\", \"18-mayo\", \"18-junio\", \"18-julio\", \"18-agosto\", \"18-septiembre\", \"18-octubre\", \"18-noviembre\", \"18-diciembre\", \"19-enero\", \"19-febrero\", \"19-marzo\", \"19-abril\", \"19-mayo\", \"19-junio\", \"19-julio\", \"19-agosto\", \"19-septiembre\", \"19-octubre\", \"19-noviembre\", \"19-diciembre\"], \"y\": [0, 0, 0, 0, 0, 0, 0, 0, 0, 0, 0, 0, 2491245, 1131220, 2612385, 2924010, 2709994, 2854568, 0, 0, 0, 0, 0, 0]}, {\"name\": \"Veh\\u00edculos  \", \"type\": \"bar\", \"x\": [\"18-enero\", \"18-febrero\", \"18-marzo\", \"18-abril\", \"18-mayo\", \"18-junio\", \"18-julio\", \"18-agosto\", \"18-septiembre\", \"18-octubre\", \"18-noviembre\", \"18-diciembre\", \"19-enero\", \"19-febrero\", \"19-marzo\", \"19-abril\", \"19-mayo\", \"19-junio\", \"19-julio\", \"19-agosto\", \"19-septiembre\", \"19-octubre\", \"19-noviembre\", \"19-diciembre\"], \"y\": [0, 0, 135100, 993000, 1238108, 993000, 800000, 1130966, 800000, 1096894, 800000, 800000, 0, 0, 0, 0, 0, 0, 0, 0, 0, 0, 0, 0]}, {\"name\": \"Tag y peajes  \", \"type\": \"bar\", \"x\": [\"18-enero\", \"18-febrero\", \"18-marzo\", \"18-abril\", \"18-mayo\", \"18-junio\", \"18-julio\", \"18-agosto\", \"18-septiembre\", \"18-octubre\", \"18-noviembre\", \"18-diciembre\", \"19-enero\", \"19-febrero\", \"19-marzo\", \"19-abril\", \"19-mayo\", \"19-junio\", \"19-julio\", \"19-agosto\", \"19-septiembre\", \"19-octubre\", \"19-noviembre\", \"19-diciembre\"], \"y\": [0, 0, 87740, 223591, 120550, 135238, 191856, 175739, 268883, 199574, 83480, 193600, 0, 0, 0, 0, 0, 0, 0, 0, 0, 0, 0, 0]}, {\"name\": \"Combustible  \", \"type\": \"bar\", \"x\": [\"18-enero\", \"18-febrero\", \"18-marzo\", \"18-abril\", \"18-mayo\", \"18-junio\", \"18-julio\", \"18-agosto\", \"18-septiembre\", \"18-octubre\", \"18-noviembre\", \"18-diciembre\", \"19-enero\", \"19-febrero\", \"19-marzo\", \"19-abril\", \"19-mayo\", \"19-junio\", \"19-julio\", \"19-agosto\", \"19-septiembre\", \"19-octubre\", \"19-noviembre\", \"19-diciembre\"], \"y\": [0, 0, 552178, 631574, 544216, 386022, 562059, 734283, 784775, 830779, 713375, 470555, 0, 0, 0, 0, 0, 0, 0, 0, 0, 0, 0, 0]}, {\"name\": \"Pasajes de movilizaci\\u00f3n  \", \"type\": \"bar\", \"x\": [\"18-enero\", \"18-febrero\", \"18-marzo\", \"18-abril\", \"18-mayo\", \"18-junio\", \"18-julio\", \"18-agosto\", \"18-septiembre\", \"18-octubre\", \"18-noviembre\", \"18-diciembre\", \"19-enero\", \"19-febrero\", \"19-marzo\", \"19-abril\", \"19-mayo\", \"19-junio\", \"19-julio\", \"19-agosto\", \"19-septiembre\", \"19-octubre\", \"19-noviembre\", \"19-diciembre\"], \"y\": [0, 0, 49520, 127040, 195020, 70000, 55300, 0, 0, 0, 0, 0, 0, 0, 0, 0, 0, 0, 0, 0, 0, 0, 0, 0]}, {\"name\": \"Alimentaci\\u00f3n  \", \"type\": \"bar\", \"x\": [\"18-enero\", \"18-febrero\", \"18-marzo\", \"18-abril\", \"18-mayo\", \"18-junio\", \"18-julio\", \"18-agosto\", \"18-septiembre\", \"18-octubre\", \"18-noviembre\", \"18-diciembre\", \"19-enero\", \"19-febrero\", \"19-marzo\", \"19-abril\", \"19-mayo\", \"19-junio\", \"19-julio\", \"19-agosto\", \"19-septiembre\", \"19-octubre\", \"19-noviembre\", \"19-diciembre\"], \"y\": [0, 0, 128590, 410175, 147730, 1140338, 139760, 260030, 126115, 286224, 318827, 258330, 0, 0, 0, 0, 0, 0, 0, 0, 0, 0, 0, 0]}, {\"name\": \"Vi\\u00e1ticos  \", \"type\": \"bar\", \"x\": [\"18-enero\", \"18-febrero\", \"18-marzo\", \"18-abril\", \"18-mayo\", \"18-junio\", \"18-julio\", \"18-agosto\", \"18-septiembre\", \"18-octubre\", \"18-noviembre\", \"18-diciembre\", \"19-enero\", \"19-febrero\", \"19-marzo\", \"19-abril\", \"19-mayo\", \"19-junio\", \"19-julio\", \"19-agosto\", \"19-septiembre\", \"19-octubre\", \"19-noviembre\", \"19-diciembre\"], \"y\": [0, 0, 613640, 920448, 1150560, 707589, 0, 0, 0, 0, 0, 0, 0, 0, 0, 0, 0, 0, 0, 0, 0, 0, 0, 0]}, {\"name\": \"Estacionamientos  \", \"type\": \"bar\", \"x\": [\"18-enero\", \"18-febrero\", \"18-marzo\", \"18-abril\", \"18-mayo\", \"18-junio\", \"18-julio\", \"18-agosto\", \"18-septiembre\", \"18-octubre\", \"18-noviembre\", \"18-diciembre\", \"19-enero\", \"19-febrero\", \"19-marzo\", \"19-abril\", \"19-mayo\", \"19-junio\", \"19-julio\", \"19-agosto\", \"19-septiembre\", \"19-octubre\", \"19-noviembre\", \"19-diciembre\"], \"y\": [0, 0, 19355, 8883, 13268, 57013, 0, 0, 0, 0, 0, 0, 0, 0, 0, 0, 0, 0, 0, 0, 0, 0, 0, 0]}, {\"name\": \"Materiales de oficina  \", \"type\": \"bar\", \"x\": [\"18-enero\", \"18-febrero\", \"18-marzo\", \"18-abril\", \"18-mayo\", \"18-junio\", \"18-julio\", \"18-agosto\", \"18-septiembre\", \"18-octubre\", \"18-noviembre\", \"18-diciembre\", \"19-enero\", \"19-febrero\", \"19-marzo\", \"19-abril\", \"19-mayo\", \"19-junio\", \"19-julio\", \"19-agosto\", \"19-septiembre\", \"19-octubre\", \"19-noviembre\", \"19-diciembre\"], \"y\": [0, 0, 146377, 121912, 57282, 0, 0, 0, 0, 0, 0, 0, 78169, 0, 26105, 13627, 6666, 23471, 0, 0, 0, 0, 0, 0]}, {\"name\": \"Difusi\\u00f3n  \", \"type\": \"bar\", \"x\": [\"18-enero\", \"18-febrero\", \"18-marzo\", \"18-abril\", \"18-mayo\", \"18-junio\", \"18-julio\", \"18-agosto\", \"18-septiembre\", \"18-octubre\", \"18-noviembre\", \"18-diciembre\", \"19-enero\", \"19-febrero\", \"19-marzo\", \"19-abril\", \"19-mayo\", \"19-junio\", \"19-julio\", \"19-agosto\", \"19-septiembre\", \"19-octubre\", \"19-noviembre\", \"19-diciembre\"], \"y\": [0, 0, 1137, 440361, 417500, 323515, 1138911, 557769, 567500, 788367, 831764, 772511, 922918, 150000, 632148, 1459911, 1114907, 953022, 0, 0, 0, 0, 0, 0]}, {\"name\": \"Actividades distritales  \", \"type\": \"bar\", \"x\": [\"18-enero\", \"18-febrero\", \"18-marzo\", \"18-abril\", \"18-mayo\", \"18-junio\", \"18-julio\", \"18-agosto\", \"18-septiembre\", \"18-octubre\", \"18-noviembre\", \"18-diciembre\", \"19-enero\", \"19-febrero\", \"19-marzo\", \"19-abril\", \"19-mayo\", \"19-junio\", \"19-julio\", \"19-agosto\", \"19-septiembre\", \"19-octubre\", \"19-noviembre\", \"19-diciembre\"], \"y\": [0, 0, 465500, 665000, 665000, 665000, 0, 0, 0, 0, 0, 0, 0, 0, 0, 0, 0, 0, 0, 0, 0, 0, 0, 0]}, {\"name\": \"Correspondencia  \", \"type\": \"bar\", \"x\": [\"18-enero\", \"18-febrero\", \"18-marzo\", \"18-abril\", \"18-mayo\", \"18-junio\", \"18-julio\", \"18-agosto\", \"18-septiembre\", \"18-octubre\", \"18-noviembre\", \"18-diciembre\", \"19-enero\", \"19-febrero\", \"19-marzo\", \"19-abril\", \"19-mayo\", \"19-junio\", \"19-julio\", \"19-agosto\", \"19-septiembre\", \"19-octubre\", \"19-noviembre\", \"19-diciembre\"], \"y\": [0, 0, 0, 7594, 40437, 8859, 0, 0, 0, 0, 0, 0, 5738, 0, 0, 11422, 0, 9350, 0, 0, 0, 0, 0, 0]}, {\"name\": \"Actividades territoriales  \", \"type\": \"bar\", \"x\": [\"18-enero\", \"18-febrero\", \"18-marzo\", \"18-abril\", \"18-mayo\", \"18-junio\", \"18-julio\", \"18-agosto\", \"18-septiembre\", \"18-octubre\", \"18-noviembre\", \"18-diciembre\", \"19-enero\", \"19-febrero\", \"19-marzo\", \"19-abril\", \"19-mayo\", \"19-junio\", \"19-julio\", \"19-agosto\", \"19-septiembre\", \"19-octubre\", \"19-noviembre\", \"19-diciembre\"], \"y\": [0, 0, 0, 0, 0, 0, 1238922, 1237415, 1217310, 1229221, 970891, 1232259, 0, 0, 0, 0, 0, 0, 0, 0, 0, 0, 0, 0]}, {\"name\": \"Vehiculos- amortizacion  \", \"type\": \"bar\", \"x\": [\"18-enero\", \"18-febrero\", \"18-marzo\", \"18-abril\", \"18-mayo\", \"18-junio\", \"18-julio\", \"18-agosto\", \"18-septiembre\", \"18-octubre\", \"18-noviembre\", \"18-diciembre\", \"19-enero\", \"19-febrero\", \"19-marzo\", \"19-abril\", \"19-mayo\", \"19-junio\", \"19-julio\", \"19-agosto\", \"19-septiembre\", \"19-octubre\", \"19-noviembre\", \"19-diciembre\"], \"y\": [0, 0, 0, 0, 0, 0, 193000, 193000, 193000, 193000, 193000, 193000, 0, 0, 0, 0, 0, 0, 0, 0, 0, 0, 0, 0]}, {\"name\": \"Vi\\u00e1ticos del diputado  \", \"type\": \"bar\", \"x\": [\"18-enero\", \"18-febrero\", \"18-marzo\", \"18-abril\", \"18-mayo\", \"18-junio\", \"18-julio\", \"18-agosto\", \"18-septiembre\", \"18-octubre\", \"18-noviembre\", \"18-diciembre\", \"19-enero\", \"19-febrero\", \"19-marzo\", \"19-abril\", \"19-mayo\", \"19-junio\", \"19-julio\", \"19-agosto\", \"19-septiembre\", \"19-octubre\", \"19-noviembre\", \"19-diciembre\"], \"y\": [0, 0, 0, 0, 0, 0, 707589, 912004, 864831, 864831, 1179315, 1179315, 0, 0, 0, 0, 0, 0, 0, 0, 0, 0, 0, 0]}, {\"name\": \"Gastos a otros puntos del territorio nacional (justificado)  \", \"type\": \"bar\", \"x\": [\"18-enero\", \"18-febrero\", \"18-marzo\", \"18-abril\", \"18-mayo\", \"18-junio\", \"18-julio\", \"18-agosto\", \"18-septiembre\", \"18-octubre\", \"18-noviembre\", \"18-diciembre\", \"19-enero\", \"19-febrero\", \"19-marzo\", \"19-abril\", \"19-mayo\", \"19-junio\", \"19-julio\", \"19-agosto\", \"19-septiembre\", \"19-octubre\", \"19-noviembre\", \"19-diciembre\"], \"y\": [0, 0, 0, 0, 0, 0, 493562, 0, 0, 0, 0, 0, 0, 0, 0, 0, 0, 0, 0, 0, 0, 0, 0, 0]}, {\"name\": \"Traspaso desde gastos operacionales a asignaci\\u00f3n personal de apoyo  \", \"type\": \"bar\", \"x\": [\"18-enero\", \"18-febrero\", \"18-marzo\", \"18-abril\", \"18-mayo\", \"18-junio\", \"18-julio\", \"18-agosto\", \"18-septiembre\", \"18-octubre\", \"18-noviembre\", \"18-diciembre\", \"19-enero\", \"19-febrero\", \"19-marzo\", \"19-abril\", \"19-mayo\", \"19-junio\", \"19-julio\", \"19-agosto\", \"19-septiembre\", \"19-octubre\", \"19-noviembre\", \"19-diciembre\"], \"y\": [0, 0, 0, 0, 0, 0, 0, 0, 0, 0, 0, 0, 0, 223000, 300000, 835891, 0, 0, 0, 0, 0, 0, 0, 0]}, {\"name\": \"Actividades destinadas a la interacci\\u00f3n con la comunidad  \", \"type\": \"bar\", \"x\": [\"18-enero\", \"18-febrero\", \"18-marzo\", \"18-abril\", \"18-mayo\", \"18-junio\", \"18-julio\", \"18-agosto\", \"18-septiembre\", \"18-octubre\", \"18-noviembre\", \"18-diciembre\", \"19-enero\", \"19-febrero\", \"19-marzo\", \"19-abril\", \"19-mayo\", \"19-junio\", \"19-julio\", \"19-agosto\", \"19-septiembre\", \"19-octubre\", \"19-noviembre\", \"19-diciembre\"], \"y\": [0, 0, 0, 0, 0, 0, 0, 0, 0, 0, 0, 0, 0, 0, 0, 0, 0, 0, 0, 0, 0, 0, 0, 0]}, {\"name\": \"Arriendo de inmueble  \", \"type\": \"bar\", \"x\": [\"18-enero\", \"18-febrero\", \"18-marzo\", \"18-abril\", \"18-mayo\", \"18-junio\", \"18-julio\", \"18-agosto\", \"18-septiembre\", \"18-octubre\", \"18-noviembre\", \"18-diciembre\", \"19-enero\", \"19-febrero\", \"19-marzo\", \"19-abril\", \"19-mayo\", \"19-junio\", \"19-julio\", \"19-agosto\", \"19-septiembre\", \"19-octubre\", \"19-noviembre\", \"19-diciembre\"], \"y\": [0, 0, 0, 0, 0, 0, 0, 0, 0, 0, 0, 0, 923223, 922959, 930886, 935792, 937105, 938105, 0, 0, 0, 0, 0, 0]}, {\"name\": \"Consumos b\\u00e1sicos  \", \"type\": \"bar\", \"x\": [\"18-enero\", \"18-febrero\", \"18-marzo\", \"18-abril\", \"18-mayo\", \"18-junio\", \"18-julio\", \"18-agosto\", \"18-septiembre\", \"18-octubre\", \"18-noviembre\", \"18-diciembre\", \"19-enero\", \"19-febrero\", \"19-marzo\", \"19-abril\", \"19-mayo\", \"19-junio\", \"19-julio\", \"19-agosto\", \"19-septiembre\", \"19-octubre\", \"19-noviembre\", \"19-diciembre\"], \"y\": [0, 0, 0, 0, 0, 0, 0, 0, 0, 0, 0, 0, 0, 0, 0, 0, 0, 14131, 0, 0, 0, 0, 0, 0]}, {\"name\": \"Equipamiento oficina parlamentaria  \", \"type\": \"bar\", \"x\": [\"18-enero\", \"18-febrero\", \"18-marzo\", \"18-abril\", \"18-mayo\", \"18-junio\", \"18-julio\", \"18-agosto\", \"18-septiembre\", \"18-octubre\", \"18-noviembre\", \"18-diciembre\", \"19-enero\", \"19-febrero\", \"19-marzo\", \"19-abril\", \"19-mayo\", \"19-junio\", \"19-julio\", \"19-agosto\", \"19-septiembre\", \"19-octubre\", \"19-noviembre\", \"19-diciembre\"], \"y\": [0, 0, 0, 0, 0, 0, 0, 0, 0, 0, 0, 0, 0, 0, 0, 0, 0, 15790, 0, 0, 0, 0, 0, 0]}, {\"name\": \"Gastos de mantenci\\u00f3n oficina parlamentaria (inmueble)  \", \"type\": \"bar\", \"x\": [\"18-enero\", \"18-febrero\", \"18-marzo\", \"18-abril\", \"18-mayo\", \"18-junio\", \"18-julio\", \"18-agosto\", \"18-septiembre\", \"18-octubre\", \"18-noviembre\", \"18-diciembre\", \"19-enero\", \"19-febrero\", \"19-marzo\", \"19-abril\", \"19-mayo\", \"19-junio\", \"19-julio\", \"19-agosto\", \"19-septiembre\", \"19-octubre\", \"19-noviembre\", \"19-diciembre\"], \"y\": [0, 0, 0, 0, 0, 0, 0, 0, 0, 0, 0, 0, 0, 0, 0, 0, 0, 0, 0, 0, 0, 0, 0, 0]}, {\"name\": \"Reparaciones locativas del inmueble  \", \"type\": \"bar\", \"x\": [\"18-enero\", \"18-febrero\", \"18-marzo\", \"18-abril\", \"18-mayo\", \"18-junio\", \"18-julio\", \"18-agosto\", \"18-septiembre\", \"18-octubre\", \"18-noviembre\", \"18-diciembre\", \"19-enero\", \"19-febrero\", \"19-marzo\", \"19-abril\", \"19-mayo\", \"19-junio\", \"19-julio\", \"19-agosto\", \"19-septiembre\", \"19-octubre\", \"19-noviembre\", \"19-diciembre\"], \"y\": [0, 0, 0, 0, 0, 0, 0, 0, 0, 0, 0, 0, 0, 0, 0, 0, 0, 0, 0, 0, 0, 0, 0, 0]}, {\"name\": \"Habilitaci\\u00f3n de sedes parlamentarias (con autorizaci\\u00f3n de crap)  \", \"type\": \"bar\", \"x\": [\"18-enero\", \"18-febrero\", \"18-marzo\", \"18-abril\", \"18-mayo\", \"18-junio\", \"18-julio\", \"18-agosto\", \"18-septiembre\", \"18-octubre\", \"18-noviembre\", \"18-diciembre\", \"19-enero\", \"19-febrero\", \"19-marzo\", \"19-abril\", \"19-mayo\", \"19-junio\", \"19-julio\", \"19-agosto\", \"19-septiembre\", \"19-octubre\", \"19-noviembre\", \"19-diciembre\"], \"y\": [0, 0, 0, 0, 0, 0, 0, 0, 0, 0, 0, 0, 0, 0, 0, 0, 0, 0, 0, 0, 0, 0, 0, 0]}, {\"name\": \"Seguros de bienes  \", \"type\": \"bar\", \"x\": [\"18-enero\", \"18-febrero\", \"18-marzo\", \"18-abril\", \"18-mayo\", \"18-junio\", \"18-julio\", \"18-agosto\", \"18-septiembre\", \"18-octubre\", \"18-noviembre\", \"18-diciembre\", \"19-enero\", \"19-febrero\", \"19-marzo\", \"19-abril\", \"19-mayo\", \"19-junio\", \"19-julio\", \"19-agosto\", \"19-septiembre\", \"19-octubre\", \"19-noviembre\", \"19-diciembre\"], \"y\": [0, 0, 0, 0, 0, 0, 0, 0, 0, 0, 0, 0, 0, 0, 0, 0, 0, 0, 0, 0, 0, 0, 0, 0]}, {\"name\": \"Arriendo de oficinas virtuales  \", \"type\": \"bar\", \"x\": [\"18-enero\", \"18-febrero\", \"18-marzo\", \"18-abril\", \"18-mayo\", \"18-junio\", \"18-julio\", \"18-agosto\", \"18-septiembre\", \"18-octubre\", \"18-noviembre\", \"18-diciembre\", \"19-enero\", \"19-febrero\", \"19-marzo\", \"19-abril\", \"19-mayo\", \"19-junio\", \"19-julio\", \"19-agosto\", \"19-septiembre\", \"19-octubre\", \"19-noviembre\", \"19-diciembre\"], \"y\": [0, 0, 0, 0, 0, 0, 0, 0, 0, 0, 0, 0, 0, 0, 0, 0, 0, 0, 0, 0, 0, 0, 0, 0]}, {\"name\": \"Servicios web  \", \"type\": \"bar\", \"x\": [\"18-enero\", \"18-febrero\", \"18-marzo\", \"18-abril\", \"18-mayo\", \"18-junio\", \"18-julio\", \"18-agosto\", \"18-septiembre\", \"18-octubre\", \"18-noviembre\", \"18-diciembre\", \"19-enero\", \"19-febrero\", \"19-marzo\", \"19-abril\", \"19-mayo\", \"19-junio\", \"19-julio\", \"19-agosto\", \"19-septiembre\", \"19-octubre\", \"19-noviembre\", \"19-diciembre\"], \"y\": [0, 0, 0, 0, 0, 0, 0, 0, 0, 0, 0, 0, 0, 0, 0, 0, 0, 0, 0, 0, 0, 0, 0, 0]}, {\"name\": \"Contrataci\\u00f3n servicio de almacenamiento  \", \"type\": \"bar\", \"x\": [\"18-enero\", \"18-febrero\", \"18-marzo\", \"18-abril\", \"18-mayo\", \"18-junio\", \"18-julio\", \"18-agosto\", \"18-septiembre\", \"18-octubre\", \"18-noviembre\", \"18-diciembre\", \"19-enero\", \"19-febrero\", \"19-marzo\", \"19-abril\", \"19-mayo\", \"19-junio\", \"19-julio\", \"19-agosto\", \"19-septiembre\", \"19-octubre\", \"19-noviembre\", \"19-diciembre\"], \"y\": [0, 0, 0, 0, 0, 0, 0, 0, 0, 0, 0, 0, 0, 0, 0, 0, 0, 0, 0, 0, 0, 0, 0, 0]}, {\"name\": \"Arriendo de oficina m\\u00f3vil  \", \"type\": \"bar\", \"x\": [\"18-enero\", \"18-febrero\", \"18-marzo\", \"18-abril\", \"18-mayo\", \"18-junio\", \"18-julio\", \"18-agosto\", \"18-septiembre\", \"18-octubre\", \"18-noviembre\", \"18-diciembre\", \"19-enero\", \"19-febrero\", \"19-marzo\", \"19-abril\", \"19-mayo\", \"19-junio\", \"19-julio\", \"19-agosto\", \"19-septiembre\", \"19-octubre\", \"19-noviembre\", \"19-diciembre\"], \"y\": [0, 0, 0, 0, 0, 0, 0, 0, 0, 0, 0, 0, 0, 0, 0, 0, 0, 0, 0, 0, 0, 0, 0, 0]}, {\"name\": \"Mantencion y reparaci\\u00f3n de oficina m\\u00f3vil  \", \"type\": \"bar\", \"x\": [\"18-enero\", \"18-febrero\", \"18-marzo\", \"18-abril\", \"18-mayo\", \"18-junio\", \"18-julio\", \"18-agosto\", \"18-septiembre\", \"18-octubre\", \"18-noviembre\", \"18-diciembre\", \"19-enero\", \"19-febrero\", \"19-marzo\", \"19-abril\", \"19-mayo\", \"19-junio\", \"19-julio\", \"19-agosto\", \"19-septiembre\", \"19-octubre\", \"19-noviembre\", \"19-diciembre\"], \"y\": [0, 0, 0, 0, 0, 0, 0, 0, 0, 0, 0, 0, 0, 0, 0, 0, 0, 0, 0, 0, 0, 0, 0, 0]}, {\"name\": \"Servicios menores  \", \"type\": \"bar\", \"x\": [\"18-enero\", \"18-febrero\", \"18-marzo\", \"18-abril\", \"18-mayo\", \"18-junio\", \"18-julio\", \"18-agosto\", \"18-septiembre\", \"18-octubre\", \"18-noviembre\", \"18-diciembre\", \"19-enero\", \"19-febrero\", \"19-marzo\", \"19-abril\", \"19-mayo\", \"19-junio\", \"19-julio\", \"19-agosto\", \"19-septiembre\", \"19-octubre\", \"19-noviembre\", \"19-diciembre\"], \"y\": [0, 0, 0, 0, 0, 0, 0, 0, 0, 0, 0, 0, 239990, 239990, 239990, 239990, 239990, 239990, 0, 0, 0, 0, 0, 0]}],\n",
       "                        {\"barmode\": \"stack\", \"showlegend\": false, \"template\": {\"data\": {\"bar\": [{\"error_x\": {\"color\": \"#2a3f5f\"}, \"error_y\": {\"color\": \"#2a3f5f\"}, \"marker\": {\"line\": {\"color\": \"#E5ECF6\", \"width\": 0.5}}, \"type\": \"bar\"}], \"barpolar\": [{\"marker\": {\"line\": {\"color\": \"#E5ECF6\", \"width\": 0.5}}, \"type\": \"barpolar\"}], \"carpet\": [{\"aaxis\": {\"endlinecolor\": \"#2a3f5f\", \"gridcolor\": \"white\", \"linecolor\": \"white\", \"minorgridcolor\": \"white\", \"startlinecolor\": \"#2a3f5f\"}, \"baxis\": {\"endlinecolor\": \"#2a3f5f\", \"gridcolor\": \"white\", \"linecolor\": \"white\", \"minorgridcolor\": \"white\", \"startlinecolor\": \"#2a3f5f\"}, \"type\": \"carpet\"}], \"choropleth\": [{\"colorbar\": {\"outlinewidth\": 0, \"ticks\": \"\"}, \"type\": \"choropleth\"}], \"contour\": [{\"colorbar\": {\"outlinewidth\": 0, \"ticks\": \"\"}, \"colorscale\": [[0.0, \"#0d0887\"], [0.1111111111111111, \"#46039f\"], [0.2222222222222222, \"#7201a8\"], [0.3333333333333333, \"#9c179e\"], [0.4444444444444444, \"#bd3786\"], [0.5555555555555556, \"#d8576b\"], [0.6666666666666666, \"#ed7953\"], [0.7777777777777778, \"#fb9f3a\"], [0.8888888888888888, \"#fdca26\"], [1.0, \"#f0f921\"]], \"type\": \"contour\"}], \"contourcarpet\": [{\"colorbar\": {\"outlinewidth\": 0, \"ticks\": \"\"}, \"type\": \"contourcarpet\"}], \"heatmap\": [{\"colorbar\": {\"outlinewidth\": 0, \"ticks\": \"\"}, \"colorscale\": [[0.0, \"#0d0887\"], [0.1111111111111111, \"#46039f\"], [0.2222222222222222, \"#7201a8\"], [0.3333333333333333, \"#9c179e\"], [0.4444444444444444, \"#bd3786\"], [0.5555555555555556, \"#d8576b\"], [0.6666666666666666, \"#ed7953\"], [0.7777777777777778, \"#fb9f3a\"], [0.8888888888888888, \"#fdca26\"], [1.0, \"#f0f921\"]], \"type\": \"heatmap\"}], \"heatmapgl\": [{\"colorbar\": {\"outlinewidth\": 0, \"ticks\": \"\"}, \"colorscale\": [[0.0, \"#0d0887\"], [0.1111111111111111, \"#46039f\"], [0.2222222222222222, \"#7201a8\"], [0.3333333333333333, \"#9c179e\"], [0.4444444444444444, \"#bd3786\"], [0.5555555555555556, \"#d8576b\"], [0.6666666666666666, \"#ed7953\"], [0.7777777777777778, \"#fb9f3a\"], [0.8888888888888888, \"#fdca26\"], [1.0, \"#f0f921\"]], \"type\": \"heatmapgl\"}], \"histogram\": [{\"marker\": {\"colorbar\": {\"outlinewidth\": 0, \"ticks\": \"\"}}, \"type\": \"histogram\"}], \"histogram2d\": [{\"colorbar\": {\"outlinewidth\": 0, \"ticks\": \"\"}, \"colorscale\": [[0.0, \"#0d0887\"], [0.1111111111111111, \"#46039f\"], [0.2222222222222222, \"#7201a8\"], [0.3333333333333333, \"#9c179e\"], [0.4444444444444444, \"#bd3786\"], [0.5555555555555556, \"#d8576b\"], [0.6666666666666666, \"#ed7953\"], [0.7777777777777778, \"#fb9f3a\"], [0.8888888888888888, \"#fdca26\"], [1.0, \"#f0f921\"]], \"type\": \"histogram2d\"}], \"histogram2dcontour\": [{\"colorbar\": {\"outlinewidth\": 0, \"ticks\": \"\"}, \"colorscale\": [[0.0, \"#0d0887\"], [0.1111111111111111, \"#46039f\"], [0.2222222222222222, \"#7201a8\"], [0.3333333333333333, \"#9c179e\"], [0.4444444444444444, \"#bd3786\"], [0.5555555555555556, \"#d8576b\"], [0.6666666666666666, \"#ed7953\"], [0.7777777777777778, \"#fb9f3a\"], [0.8888888888888888, \"#fdca26\"], [1.0, \"#f0f921\"]], \"type\": \"histogram2dcontour\"}], \"mesh3d\": [{\"colorbar\": {\"outlinewidth\": 0, \"ticks\": \"\"}, \"type\": \"mesh3d\"}], \"parcoords\": [{\"line\": {\"colorbar\": {\"outlinewidth\": 0, \"ticks\": \"\"}}, \"type\": \"parcoords\"}], \"scatter\": [{\"marker\": {\"colorbar\": {\"outlinewidth\": 0, \"ticks\": \"\"}}, \"type\": \"scatter\"}], \"scatter3d\": [{\"line\": {\"colorbar\": {\"outlinewidth\": 0, \"ticks\": \"\"}}, \"marker\": {\"colorbar\": {\"outlinewidth\": 0, \"ticks\": \"\"}}, \"type\": \"scatter3d\"}], \"scattercarpet\": [{\"marker\": {\"colorbar\": {\"outlinewidth\": 0, \"ticks\": \"\"}}, \"type\": \"scattercarpet\"}], \"scattergeo\": [{\"marker\": {\"colorbar\": {\"outlinewidth\": 0, \"ticks\": \"\"}}, \"type\": \"scattergeo\"}], \"scattergl\": [{\"marker\": {\"colorbar\": {\"outlinewidth\": 0, \"ticks\": \"\"}}, \"type\": \"scattergl\"}], \"scattermapbox\": [{\"marker\": {\"colorbar\": {\"outlinewidth\": 0, \"ticks\": \"\"}}, \"type\": \"scattermapbox\"}], \"scatterpolar\": [{\"marker\": {\"colorbar\": {\"outlinewidth\": 0, \"ticks\": \"\"}}, \"type\": \"scatterpolar\"}], \"scatterpolargl\": [{\"marker\": {\"colorbar\": {\"outlinewidth\": 0, \"ticks\": \"\"}}, \"type\": \"scatterpolargl\"}], \"scatterternary\": [{\"marker\": {\"colorbar\": {\"outlinewidth\": 0, \"ticks\": \"\"}}, \"type\": \"scatterternary\"}], \"surface\": [{\"colorbar\": {\"outlinewidth\": 0, \"ticks\": \"\"}, \"colorscale\": [[0.0, \"#0d0887\"], [0.1111111111111111, \"#46039f\"], [0.2222222222222222, \"#7201a8\"], [0.3333333333333333, \"#9c179e\"], [0.4444444444444444, \"#bd3786\"], [0.5555555555555556, \"#d8576b\"], [0.6666666666666666, \"#ed7953\"], [0.7777777777777778, \"#fb9f3a\"], [0.8888888888888888, \"#fdca26\"], [1.0, \"#f0f921\"]], \"type\": \"surface\"}], \"table\": [{\"cells\": {\"fill\": {\"color\": \"#EBF0F8\"}, \"line\": {\"color\": \"white\"}}, \"header\": {\"fill\": {\"color\": \"#C8D4E3\"}, \"line\": {\"color\": \"white\"}}, \"type\": \"table\"}]}, \"layout\": {\"annotationdefaults\": {\"arrowcolor\": \"#2a3f5f\", \"arrowhead\": 0, \"arrowwidth\": 1}, \"colorscale\": {\"diverging\": [[0, \"#8e0152\"], [0.1, \"#c51b7d\"], [0.2, \"#de77ae\"], [0.3, \"#f1b6da\"], [0.4, \"#fde0ef\"], [0.5, \"#f7f7f7\"], [0.6, \"#e6f5d0\"], [0.7, \"#b8e186\"], [0.8, \"#7fbc41\"], [0.9, \"#4d9221\"], [1, \"#276419\"]], \"sequential\": [[0.0, \"#0d0887\"], [0.1111111111111111, \"#46039f\"], [0.2222222222222222, \"#7201a8\"], [0.3333333333333333, \"#9c179e\"], [0.4444444444444444, \"#bd3786\"], [0.5555555555555556, \"#d8576b\"], [0.6666666666666666, \"#ed7953\"], [0.7777777777777778, \"#fb9f3a\"], [0.8888888888888888, \"#fdca26\"], [1.0, \"#f0f921\"]], \"sequentialminus\": [[0.0, \"#0d0887\"], [0.1111111111111111, \"#46039f\"], [0.2222222222222222, \"#7201a8\"], [0.3333333333333333, \"#9c179e\"], [0.4444444444444444, \"#bd3786\"], [0.5555555555555556, \"#d8576b\"], [0.6666666666666666, \"#ed7953\"], [0.7777777777777778, \"#fb9f3a\"], [0.8888888888888888, \"#fdca26\"], [1.0, \"#f0f921\"]]}, \"colorway\": [\"#636efa\", \"#EF553B\", \"#00cc96\", \"#ab63fa\", \"#FFA15A\", \"#19d3f3\", \"#FF6692\", \"#B6E880\", \"#FF97FF\", \"#FECB52\"], \"font\": {\"color\": \"#2a3f5f\"}, \"geo\": {\"bgcolor\": \"white\", \"lakecolor\": \"white\", \"landcolor\": \"#E5ECF6\", \"showlakes\": true, \"showland\": true, \"subunitcolor\": \"white\"}, \"hoverlabel\": {\"align\": \"left\"}, \"hovermode\": \"closest\", \"mapbox\": {\"style\": \"light\"}, \"paper_bgcolor\": \"white\", \"plot_bgcolor\": \"#E5ECF6\", \"polar\": {\"angularaxis\": {\"gridcolor\": \"white\", \"linecolor\": \"white\", \"ticks\": \"\"}, \"bgcolor\": \"#E5ECF6\", \"radialaxis\": {\"gridcolor\": \"white\", \"linecolor\": \"white\", \"ticks\": \"\"}}, \"scene\": {\"xaxis\": {\"backgroundcolor\": \"#E5ECF6\", \"gridcolor\": \"white\", \"gridwidth\": 2, \"linecolor\": \"white\", \"showbackground\": true, \"ticks\": \"\", \"zerolinecolor\": \"white\"}, \"yaxis\": {\"backgroundcolor\": \"#E5ECF6\", \"gridcolor\": \"white\", \"gridwidth\": 2, \"linecolor\": \"white\", \"showbackground\": true, \"ticks\": \"\", \"zerolinecolor\": \"white\"}, \"zaxis\": {\"backgroundcolor\": \"#E5ECF6\", \"gridcolor\": \"white\", \"gridwidth\": 2, \"linecolor\": \"white\", \"showbackground\": true, \"ticks\": \"\", \"zerolinecolor\": \"white\"}}, \"shapedefaults\": {\"line\": {\"color\": \"#2a3f5f\"}}, \"ternary\": {\"aaxis\": {\"gridcolor\": \"white\", \"linecolor\": \"white\", \"ticks\": \"\"}, \"baxis\": {\"gridcolor\": \"white\", \"linecolor\": \"white\", \"ticks\": \"\"}, \"bgcolor\": \"#E5ECF6\", \"caxis\": {\"gridcolor\": \"white\", \"linecolor\": \"white\", \"ticks\": \"\"}}, \"title\": {\"x\": 0.05}, \"xaxis\": {\"automargin\": true, \"gridcolor\": \"white\", \"linecolor\": \"white\", \"ticks\": \"\", \"zerolinecolor\": \"white\", \"zerolinewidth\": 2}, \"yaxis\": {\"automargin\": true, \"gridcolor\": \"white\", \"linecolor\": \"white\", \"ticks\": \"\", \"zerolinecolor\": \"white\", \"zerolinewidth\": 2}}}, \"title\": {\"text\": \"Gastos de Camila Flores Oporto \"}},\n",
       "                        {\"responsive\": true}\n",
       "                    ).then(function(){\n",
       "                            \n",
       "var gd = document.getElementById('03fdd346-37f0-495f-bacf-f2961589cb73');\n",
       "var x = new MutationObserver(function (mutations, observer) {{\n",
       "        var display = window.getComputedStyle(gd).display;\n",
       "        if (!display || display === 'none') {{\n",
       "            console.log([gd, 'removed!']);\n",
       "            Plotly.purge(gd);\n",
       "            observer.disconnect();\n",
       "        }}\n",
       "}});\n",
       "\n",
       "// Listen for the removal of the full notebook cells\n",
       "var notebookContainer = gd.closest('#notebook-container');\n",
       "if (notebookContainer) {{\n",
       "    x.observe(notebookContainer, {childList: true});\n",
       "}}\n",
       "\n",
       "// Listen for the clearing of the current output cell\n",
       "var outputEl = gd.closest('.output');\n",
       "if (outputEl) {{\n",
       "    x.observe(outputEl, {childList: true});\n",
       "}}\n",
       "\n",
       "                        })\n",
       "                };\n",
       "                });\n",
       "            </script>\n",
       "        </div>"
      ]
     },
     "metadata": {},
     "output_type": "display_data"
    }
   ],
   "source": [
    "get_all_info(1030)"
   ]
  },
  {
   "cell_type": "code",
   "execution_count": 17,
   "metadata": {},
   "outputs": [
    {
     "name": "stdout",
     "output_type": "stream",
     "text": [
      "Finished getting biographical data\n",
      "Finished getting expenditure\n"
     ]
    },
    {
     "data": {
      "application/vnd.plotly.v1+json": {
       "config": {
        "plotlyServerURL": "https://plot.ly"
       },
       "data": [
        {
         "name": "Traslación  ",
         "type": "bar",
         "x": [
          "18-enero",
          "18-febrero",
          "18-marzo",
          "18-abril",
          "18-mayo",
          "18-junio",
          "18-julio",
          "18-agosto",
          "18-septiembre",
          "18-octubre",
          "18-noviembre",
          "18-diciembre",
          "19-enero",
          "19-febrero",
          "19-marzo",
          "19-abril",
          "19-mayo",
          "19-junio",
          "19-julio",
          "19-agosto",
          "19-septiembre",
          "19-octubre",
          "19-noviembre",
          "19-diciembre"
         ],
         "y": [
          0,
          0,
          0,
          0,
          0,
          0,
          0,
          0,
          0,
          0,
          0,
          0,
          1486946,
          305953,
          1256995,
          1624153,
          1375886,
          1411808,
          0,
          0,
          0,
          0,
          0,
          0
         ]
        },
        {
         "name": "Viáticos  ",
         "type": "bar",
         "x": [
          "18-enero",
          "18-febrero",
          "18-marzo",
          "18-abril",
          "18-mayo",
          "18-junio",
          "18-julio",
          "18-agosto",
          "18-septiembre",
          "18-octubre",
          "18-noviembre",
          "18-diciembre",
          "19-enero",
          "19-febrero",
          "19-marzo",
          "19-abril",
          "19-mayo",
          "19-junio",
          "19-julio",
          "19-agosto",
          "19-septiembre",
          "19-octubre",
          "19-noviembre",
          "19-diciembre"
         ],
         "y": [
          0,
          0,
          613640,
          920448,
          1150560,
          864831,
          0,
          0,
          0,
          0,
          0,
          0,
          0,
          0,
          0,
          0,
          0,
          0,
          0,
          0,
          0,
          0,
          0,
          0
         ]
        },
        {
         "name": "Materiales de oficina  ",
         "type": "bar",
         "x": [
          "18-enero",
          "18-febrero",
          "18-marzo",
          "18-abril",
          "18-mayo",
          "18-junio",
          "18-julio",
          "18-agosto",
          "18-septiembre",
          "18-octubre",
          "18-noviembre",
          "18-diciembre",
          "19-enero",
          "19-febrero",
          "19-marzo",
          "19-abril",
          "19-mayo",
          "19-junio",
          "19-julio",
          "19-agosto",
          "19-septiembre",
          "19-octubre",
          "19-noviembre",
          "19-diciembre"
         ],
         "y": [
          0,
          0,
          83742,
          59327,
          274697,
          24514,
          0,
          0,
          0,
          0,
          0,
          0,
          158975,
          0,
          111750,
          62552,
          149635,
          270998,
          0,
          0,
          0,
          0,
          0,
          0
         ]
        },
        {
         "name": "Actividades distritales  ",
         "type": "bar",
         "x": [
          "18-enero",
          "18-febrero",
          "18-marzo",
          "18-abril",
          "18-mayo",
          "18-junio",
          "18-julio",
          "18-agosto",
          "18-septiembre",
          "18-octubre",
          "18-noviembre",
          "18-diciembre",
          "19-enero",
          "19-febrero",
          "19-marzo",
          "19-abril",
          "19-mayo",
          "19-junio",
          "19-julio",
          "19-agosto",
          "19-septiembre",
          "19-octubre",
          "19-noviembre",
          "19-diciembre"
         ],
         "y": [
          0,
          0,
          465500,
          665000,
          665000,
          665000,
          0,
          0,
          0,
          0,
          0,
          0,
          0,
          0,
          0,
          0,
          0,
          0,
          0,
          0,
          0,
          0,
          0,
          0
         ]
        },
        {
         "name": "Telefonía  ",
         "type": "bar",
         "x": [
          "18-enero",
          "18-febrero",
          "18-marzo",
          "18-abril",
          "18-mayo",
          "18-junio",
          "18-julio",
          "18-agosto",
          "18-septiembre",
          "18-octubre",
          "18-noviembre",
          "18-diciembre",
          "19-enero",
          "19-febrero",
          "19-marzo",
          "19-abril",
          "19-mayo",
          "19-junio",
          "19-julio",
          "19-agosto",
          "19-septiembre",
          "19-octubre",
          "19-noviembre",
          "19-diciembre"
         ],
         "y": [
          0,
          0,
          0,
          310990,
          43393,
          43393,
          59293,
          59293,
          59293,
          56702,
          56622,
          102418,
          133690,
          137974,
          138915,
          138865,
          139477,
          135311,
          0,
          0,
          0,
          0,
          0,
          0
         ]
        },
        {
         "name": "Vehículos  ",
         "type": "bar",
         "x": [
          "18-enero",
          "18-febrero",
          "18-marzo",
          "18-abril",
          "18-mayo",
          "18-junio",
          "18-julio",
          "18-agosto",
          "18-septiembre",
          "18-octubre",
          "18-noviembre",
          "18-diciembre",
          "19-enero",
          "19-febrero",
          "19-marzo",
          "19-abril",
          "19-mayo",
          "19-junio",
          "19-julio",
          "19-agosto",
          "19-septiembre",
          "19-octubre",
          "19-noviembre",
          "19-diciembre"
         ],
         "y": [
          0,
          0,
          0,
          193000,
          193000,
          193000,
          0,
          0,
          0,
          0,
          0,
          0,
          0,
          0,
          0,
          0,
          0,
          0,
          0,
          0,
          0,
          0,
          0,
          0
         ]
        },
        {
         "name": "Pasajes de movilización  ",
         "type": "bar",
         "x": [
          "18-enero",
          "18-febrero",
          "18-marzo",
          "18-abril",
          "18-mayo",
          "18-junio",
          "18-julio",
          "18-agosto",
          "18-septiembre",
          "18-octubre",
          "18-noviembre",
          "18-diciembre",
          "19-enero",
          "19-febrero",
          "19-marzo",
          "19-abril",
          "19-mayo",
          "19-junio",
          "19-julio",
          "19-agosto",
          "19-septiembre",
          "19-octubre",
          "19-noviembre",
          "19-diciembre"
         ],
         "y": [
          0,
          0,
          0,
          35800,
          137670,
          129980,
          73400,
          112297,
          48500,
          33000,
          76200,
          26700,
          0,
          0,
          0,
          0,
          0,
          0,
          0,
          0,
          0,
          0,
          0,
          0
         ]
        },
        {
         "name": "Alojamiento  ",
         "type": "bar",
         "x": [
          "18-enero",
          "18-febrero",
          "18-marzo",
          "18-abril",
          "18-mayo",
          "18-junio",
          "18-julio",
          "18-agosto",
          "18-septiembre",
          "18-octubre",
          "18-noviembre",
          "18-diciembre",
          "19-enero",
          "19-febrero",
          "19-marzo",
          "19-abril",
          "19-mayo",
          "19-junio",
          "19-julio",
          "19-agosto",
          "19-septiembre",
          "19-octubre",
          "19-noviembre",
          "19-diciembre"
         ],
         "y": [
          0,
          0,
          0,
          181800,
          382702,
          616836,
          0,
          0,
          0,
          0,
          0,
          0,
          0,
          0,
          0,
          0,
          0,
          0,
          0,
          0,
          0,
          0,
          0,
          0
         ]
        },
        {
         "name": "Alimentación  ",
         "type": "bar",
         "x": [
          "18-enero",
          "18-febrero",
          "18-marzo",
          "18-abril",
          "18-mayo",
          "18-junio",
          "18-julio",
          "18-agosto",
          "18-septiembre",
          "18-octubre",
          "18-noviembre",
          "18-diciembre",
          "19-enero",
          "19-febrero",
          "19-marzo",
          "19-abril",
          "19-mayo",
          "19-junio",
          "19-julio",
          "19-agosto",
          "19-septiembre",
          "19-octubre",
          "19-noviembre",
          "19-diciembre"
         ],
         "y": [
          0,
          0,
          0,
          2500,
          24890,
          107301,
          369752,
          22060,
          71260,
          127940,
          63900,
          81300,
          0,
          0,
          0,
          0,
          0,
          0,
          0,
          0,
          0,
          0,
          0,
          0
         ]
        },
        {
         "name": "Correspondencia  ",
         "type": "bar",
         "x": [
          "18-enero",
          "18-febrero",
          "18-marzo",
          "18-abril",
          "18-mayo",
          "18-junio",
          "18-julio",
          "18-agosto",
          "18-septiembre",
          "18-octubre",
          "18-noviembre",
          "18-diciembre",
          "19-enero",
          "19-febrero",
          "19-marzo",
          "19-abril",
          "19-mayo",
          "19-junio",
          "19-julio",
          "19-agosto",
          "19-septiembre",
          "19-octubre",
          "19-noviembre",
          "19-diciembre"
         ],
         "y": [
          0,
          0,
          0,
          31608,
          59088,
          209426,
          0,
          0,
          0,
          0,
          0,
          0,
          117423,
          18665,
          208529,
          101206,
          171862,
          210223,
          0,
          0,
          0,
          0,
          0,
          0
         ]
        },
        {
         "name": "Difusión  ",
         "type": "bar",
         "x": [
          "18-enero",
          "18-febrero",
          "18-marzo",
          "18-abril",
          "18-mayo",
          "18-junio",
          "18-julio",
          "18-agosto",
          "18-septiembre",
          "18-octubre",
          "18-noviembre",
          "18-diciembre",
          "19-enero",
          "19-febrero",
          "19-marzo",
          "19-abril",
          "19-mayo",
          "19-junio",
          "19-julio",
          "19-agosto",
          "19-septiembre",
          "19-octubre",
          "19-noviembre",
          "19-diciembre"
         ],
         "y": [
          0,
          0,
          0,
          1364,
          71093,
          21400,
          0,
          0,
          177191,
          0,
          11960,
          0,
          0,
          0,
          0,
          21400,
          0,
          1425098,
          0,
          0,
          0,
          0,
          0,
          0
         ]
        },
        {
         "name": "Combustible  ",
         "type": "bar",
         "x": [
          "18-enero",
          "18-febrero",
          "18-marzo",
          "18-abril",
          "18-mayo",
          "18-junio",
          "18-julio",
          "18-agosto",
          "18-septiembre",
          "18-octubre",
          "18-noviembre",
          "18-diciembre",
          "19-enero",
          "19-febrero",
          "19-marzo",
          "19-abril",
          "19-mayo",
          "19-junio",
          "19-julio",
          "19-agosto",
          "19-septiembre",
          "19-octubre",
          "19-noviembre",
          "19-diciembre"
         ],
         "y": [
          0,
          0,
          0,
          0,
          53010,
          45000,
          42004,
          199271,
          236005,
          273195,
          178972,
          271512,
          0,
          0,
          0,
          0,
          0,
          0,
          0,
          0,
          0,
          0,
          0,
          0
         ]
        },
        {
         "name": "Actividades territoriales  ",
         "type": "bar",
         "x": [
          "18-enero",
          "18-febrero",
          "18-marzo",
          "18-abril",
          "18-mayo",
          "18-junio",
          "18-julio",
          "18-agosto",
          "18-septiembre",
          "18-octubre",
          "18-noviembre",
          "18-diciembre",
          "19-enero",
          "19-febrero",
          "19-marzo",
          "19-abril",
          "19-mayo",
          "19-junio",
          "19-julio",
          "19-agosto",
          "19-septiembre",
          "19-octubre",
          "19-noviembre",
          "19-diciembre"
         ],
         "y": [
          0,
          0,
          0,
          0,
          0,
          0,
          1981372,
          990067,
          1230120,
          1189118,
          1294387,
          1310683,
          0,
          0,
          0,
          0,
          0,
          0,
          0,
          0,
          0,
          0,
          0,
          0
         ]
        },
        {
         "name": "Vehiculos- amortizacion  ",
         "type": "bar",
         "x": [
          "18-enero",
          "18-febrero",
          "18-marzo",
          "18-abril",
          "18-mayo",
          "18-junio",
          "18-julio",
          "18-agosto",
          "18-septiembre",
          "18-octubre",
          "18-noviembre",
          "18-diciembre",
          "19-enero",
          "19-febrero",
          "19-marzo",
          "19-abril",
          "19-mayo",
          "19-junio",
          "19-julio",
          "19-agosto",
          "19-septiembre",
          "19-octubre",
          "19-noviembre",
          "19-diciembre"
         ],
         "y": [
          0,
          0,
          0,
          0,
          0,
          0,
          193000,
          193000,
          193000,
          193000,
          193000,
          193000,
          0,
          0,
          0,
          0,
          0,
          0,
          0,
          0,
          0,
          0,
          0,
          0
         ]
        },
        {
         "name": "Viáticos del diputado  ",
         "type": "bar",
         "x": [
          "18-enero",
          "18-febrero",
          "18-marzo",
          "18-abril",
          "18-mayo",
          "18-junio",
          "18-julio",
          "18-agosto",
          "18-septiembre",
          "18-octubre",
          "18-noviembre",
          "18-diciembre",
          "19-enero",
          "19-febrero",
          "19-marzo",
          "19-abril",
          "19-mayo",
          "19-junio",
          "19-julio",
          "19-agosto",
          "19-septiembre",
          "19-octubre",
          "19-noviembre",
          "19-diciembre"
         ],
         "y": [
          0,
          0,
          0,
          0,
          0,
          0,
          864831,
          943452,
          1022073,
          864831,
          1100694,
          1179315,
          0,
          0,
          0,
          0,
          0,
          0,
          0,
          0,
          0,
          0,
          0,
          0
         ]
        },
        {
         "name": "Traspaso desde gastos operacionales a asignación personal de apoyo  ",
         "type": "bar",
         "x": [
          "18-enero",
          "18-febrero",
          "18-marzo",
          "18-abril",
          "18-mayo",
          "18-junio",
          "18-julio",
          "18-agosto",
          "18-septiembre",
          "18-octubre",
          "18-noviembre",
          "18-diciembre",
          "19-enero",
          "19-febrero",
          "19-marzo",
          "19-abril",
          "19-mayo",
          "19-junio",
          "19-julio",
          "19-agosto",
          "19-septiembre",
          "19-octubre",
          "19-noviembre",
          "19-diciembre"
         ],
         "y": [
          0,
          0,
          0,
          0,
          0,
          0,
          0,
          0,
          0,
          0,
          0,
          0,
          0,
          0,
          0,
          0,
          0,
          0,
          0,
          0,
          0,
          0,
          0,
          0
         ]
        },
        {
         "name": "Actividades destinadas a la interacción con la comunidad  ",
         "type": "bar",
         "x": [
          "18-enero",
          "18-febrero",
          "18-marzo",
          "18-abril",
          "18-mayo",
          "18-junio",
          "18-julio",
          "18-agosto",
          "18-septiembre",
          "18-octubre",
          "18-noviembre",
          "18-diciembre",
          "19-enero",
          "19-febrero",
          "19-marzo",
          "19-abril",
          "19-mayo",
          "19-junio",
          "19-julio",
          "19-agosto",
          "19-septiembre",
          "19-octubre",
          "19-noviembre",
          "19-diciembre"
         ],
         "y": [
          0,
          0,
          0,
          0,
          0,
          0,
          0,
          0,
          0,
          0,
          0,
          0,
          0,
          0,
          0,
          0,
          0,
          0,
          0,
          0,
          0,
          0,
          0,
          0
         ]
        },
        {
         "name": "Arriendo de inmueble  ",
         "type": "bar",
         "x": [
          "18-enero",
          "18-febrero",
          "18-marzo",
          "18-abril",
          "18-mayo",
          "18-junio",
          "18-julio",
          "18-agosto",
          "18-septiembre",
          "18-octubre",
          "18-noviembre",
          "18-diciembre",
          "19-enero",
          "19-febrero",
          "19-marzo",
          "19-abril",
          "19-mayo",
          "19-junio",
          "19-julio",
          "19-agosto",
          "19-septiembre",
          "19-octubre",
          "19-noviembre",
          "19-diciembre"
         ],
         "y": [
          0,
          0,
          0,
          0,
          0,
          0,
          0,
          0,
          0,
          0,
          0,
          0,
          700000,
          700000,
          700000,
          700000,
          700000,
          700000,
          0,
          0,
          0,
          0,
          0,
          0
         ]
        },
        {
         "name": "Consumos básicos  ",
         "type": "bar",
         "x": [
          "18-enero",
          "18-febrero",
          "18-marzo",
          "18-abril",
          "18-mayo",
          "18-junio",
          "18-julio",
          "18-agosto",
          "18-septiembre",
          "18-octubre",
          "18-noviembre",
          "18-diciembre",
          "19-enero",
          "19-febrero",
          "19-marzo",
          "19-abril",
          "19-mayo",
          "19-junio",
          "19-julio",
          "19-agosto",
          "19-septiembre",
          "19-octubre",
          "19-noviembre",
          "19-diciembre"
         ],
         "y": [
          0,
          0,
          0,
          0,
          0,
          0,
          0,
          0,
          0,
          0,
          0,
          0,
          0,
          0,
          0,
          0,
          0,
          0,
          0,
          0,
          0,
          0,
          0,
          0
         ]
        },
        {
         "name": "Equipamiento oficina parlamentaria  ",
         "type": "bar",
         "x": [
          "18-enero",
          "18-febrero",
          "18-marzo",
          "18-abril",
          "18-mayo",
          "18-junio",
          "18-julio",
          "18-agosto",
          "18-septiembre",
          "18-octubre",
          "18-noviembre",
          "18-diciembre",
          "19-enero",
          "19-febrero",
          "19-marzo",
          "19-abril",
          "19-mayo",
          "19-junio",
          "19-julio",
          "19-agosto",
          "19-septiembre",
          "19-octubre",
          "19-noviembre",
          "19-diciembre"
         ],
         "y": [
          0,
          0,
          0,
          0,
          0,
          0,
          0,
          0,
          0,
          0,
          0,
          0,
          0,
          0,
          0,
          0,
          0,
          0,
          0,
          0,
          0,
          0,
          0,
          0
         ]
        },
        {
         "name": "Gastos de mantención oficina parlamentaria (inmueble)  ",
         "type": "bar",
         "x": [
          "18-enero",
          "18-febrero",
          "18-marzo",
          "18-abril",
          "18-mayo",
          "18-junio",
          "18-julio",
          "18-agosto",
          "18-septiembre",
          "18-octubre",
          "18-noviembre",
          "18-diciembre",
          "19-enero",
          "19-febrero",
          "19-marzo",
          "19-abril",
          "19-mayo",
          "19-junio",
          "19-julio",
          "19-agosto",
          "19-septiembre",
          "19-octubre",
          "19-noviembre",
          "19-diciembre"
         ],
         "y": [
          0,
          0,
          0,
          0,
          0,
          0,
          0,
          0,
          0,
          0,
          0,
          0,
          0,
          0,
          0,
          0,
          0,
          0,
          0,
          0,
          0,
          0,
          0,
          0
         ]
        },
        {
         "name": "Reparaciones locativas del inmueble  ",
         "type": "bar",
         "x": [
          "18-enero",
          "18-febrero",
          "18-marzo",
          "18-abril",
          "18-mayo",
          "18-junio",
          "18-julio",
          "18-agosto",
          "18-septiembre",
          "18-octubre",
          "18-noviembre",
          "18-diciembre",
          "19-enero",
          "19-febrero",
          "19-marzo",
          "19-abril",
          "19-mayo",
          "19-junio",
          "19-julio",
          "19-agosto",
          "19-septiembre",
          "19-octubre",
          "19-noviembre",
          "19-diciembre"
         ],
         "y": [
          0,
          0,
          0,
          0,
          0,
          0,
          0,
          0,
          0,
          0,
          0,
          0,
          0,
          0,
          0,
          0,
          0,
          0,
          0,
          0,
          0,
          0,
          0,
          0
         ]
        },
        {
         "name": "Habilitación de sedes parlamentarias (con autorización de crap)  ",
         "type": "bar",
         "x": [
          "18-enero",
          "18-febrero",
          "18-marzo",
          "18-abril",
          "18-mayo",
          "18-junio",
          "18-julio",
          "18-agosto",
          "18-septiembre",
          "18-octubre",
          "18-noviembre",
          "18-diciembre",
          "19-enero",
          "19-febrero",
          "19-marzo",
          "19-abril",
          "19-mayo",
          "19-junio",
          "19-julio",
          "19-agosto",
          "19-septiembre",
          "19-octubre",
          "19-noviembre",
          "19-diciembre"
         ],
         "y": [
          0,
          0,
          0,
          0,
          0,
          0,
          0,
          0,
          0,
          0,
          0,
          0,
          0,
          0,
          0,
          0,
          0,
          0,
          0,
          0,
          0,
          0,
          0,
          0
         ]
        },
        {
         "name": "Seguros de bienes  ",
         "type": "bar",
         "x": [
          "18-enero",
          "18-febrero",
          "18-marzo",
          "18-abril",
          "18-mayo",
          "18-junio",
          "18-julio",
          "18-agosto",
          "18-septiembre",
          "18-octubre",
          "18-noviembre",
          "18-diciembre",
          "19-enero",
          "19-febrero",
          "19-marzo",
          "19-abril",
          "19-mayo",
          "19-junio",
          "19-julio",
          "19-agosto",
          "19-septiembre",
          "19-octubre",
          "19-noviembre",
          "19-diciembre"
         ],
         "y": [
          0,
          0,
          0,
          0,
          0,
          0,
          0,
          0,
          0,
          0,
          0,
          0,
          0,
          0,
          0,
          0,
          0,
          0,
          0,
          0,
          0,
          0,
          0,
          0
         ]
        },
        {
         "name": "Arriendo de oficinas virtuales  ",
         "type": "bar",
         "x": [
          "18-enero",
          "18-febrero",
          "18-marzo",
          "18-abril",
          "18-mayo",
          "18-junio",
          "18-julio",
          "18-agosto",
          "18-septiembre",
          "18-octubre",
          "18-noviembre",
          "18-diciembre",
          "19-enero",
          "19-febrero",
          "19-marzo",
          "19-abril",
          "19-mayo",
          "19-junio",
          "19-julio",
          "19-agosto",
          "19-septiembre",
          "19-octubre",
          "19-noviembre",
          "19-diciembre"
         ],
         "y": [
          0,
          0,
          0,
          0,
          0,
          0,
          0,
          0,
          0,
          0,
          0,
          0,
          0,
          0,
          0,
          0,
          0,
          0,
          0,
          0,
          0,
          0,
          0,
          0
         ]
        },
        {
         "name": "Servicios web  ",
         "type": "bar",
         "x": [
          "18-enero",
          "18-febrero",
          "18-marzo",
          "18-abril",
          "18-mayo",
          "18-junio",
          "18-julio",
          "18-agosto",
          "18-septiembre",
          "18-octubre",
          "18-noviembre",
          "18-diciembre",
          "19-enero",
          "19-febrero",
          "19-marzo",
          "19-abril",
          "19-mayo",
          "19-junio",
          "19-julio",
          "19-agosto",
          "19-septiembre",
          "19-octubre",
          "19-noviembre",
          "19-diciembre"
         ],
         "y": [
          0,
          0,
          0,
          0,
          0,
          0,
          0,
          0,
          0,
          0,
          0,
          0,
          0,
          0,
          0,
          0,
          0,
          0,
          0,
          0,
          0,
          0,
          0,
          0
         ]
        },
        {
         "name": "Contratación servicio de almacenamiento  ",
         "type": "bar",
         "x": [
          "18-enero",
          "18-febrero",
          "18-marzo",
          "18-abril",
          "18-mayo",
          "18-junio",
          "18-julio",
          "18-agosto",
          "18-septiembre",
          "18-octubre",
          "18-noviembre",
          "18-diciembre",
          "19-enero",
          "19-febrero",
          "19-marzo",
          "19-abril",
          "19-mayo",
          "19-junio",
          "19-julio",
          "19-agosto",
          "19-septiembre",
          "19-octubre",
          "19-noviembre",
          "19-diciembre"
         ],
         "y": [
          0,
          0,
          0,
          0,
          0,
          0,
          0,
          0,
          0,
          0,
          0,
          0,
          0,
          0,
          0,
          0,
          0,
          0,
          0,
          0,
          0,
          0,
          0,
          0
         ]
        },
        {
         "name": "Arriendo de oficina móvil  ",
         "type": "bar",
         "x": [
          "18-enero",
          "18-febrero",
          "18-marzo",
          "18-abril",
          "18-mayo",
          "18-junio",
          "18-julio",
          "18-agosto",
          "18-septiembre",
          "18-octubre",
          "18-noviembre",
          "18-diciembre",
          "19-enero",
          "19-febrero",
          "19-marzo",
          "19-abril",
          "19-mayo",
          "19-junio",
          "19-julio",
          "19-agosto",
          "19-septiembre",
          "19-octubre",
          "19-noviembre",
          "19-diciembre"
         ],
         "y": [
          0,
          0,
          0,
          0,
          0,
          0,
          0,
          0,
          0,
          0,
          0,
          0,
          0,
          0,
          0,
          0,
          0,
          0,
          0,
          0,
          0,
          0,
          0,
          0
         ]
        },
        {
         "name": "Mantencion y reparación de oficina móvil  ",
         "type": "bar",
         "x": [
          "18-enero",
          "18-febrero",
          "18-marzo",
          "18-abril",
          "18-mayo",
          "18-junio",
          "18-julio",
          "18-agosto",
          "18-septiembre",
          "18-octubre",
          "18-noviembre",
          "18-diciembre",
          "19-enero",
          "19-febrero",
          "19-marzo",
          "19-abril",
          "19-mayo",
          "19-junio",
          "19-julio",
          "19-agosto",
          "19-septiembre",
          "19-octubre",
          "19-noviembre",
          "19-diciembre"
         ],
         "y": [
          0,
          0,
          0,
          0,
          0,
          0,
          0,
          0,
          0,
          0,
          0,
          0,
          0,
          0,
          0,
          0,
          0,
          0,
          0,
          0,
          0,
          0,
          0,
          0
         ]
        },
        {
         "name": "Servicios menores  ",
         "type": "bar",
         "x": [
          "18-enero",
          "18-febrero",
          "18-marzo",
          "18-abril",
          "18-mayo",
          "18-junio",
          "18-julio",
          "18-agosto",
          "18-septiembre",
          "18-octubre",
          "18-noviembre",
          "18-diciembre",
          "19-enero",
          "19-febrero",
          "19-marzo",
          "19-abril",
          "19-mayo",
          "19-junio",
          "19-julio",
          "19-agosto",
          "19-septiembre",
          "19-octubre",
          "19-noviembre",
          "19-diciembre"
         ],
         "y": [
          0,
          0,
          0,
          0,
          0,
          0,
          0,
          0,
          0,
          0,
          0,
          0,
          239990,
          239990,
          239990,
          239990,
          239990,
          239990,
          0,
          0,
          0,
          0,
          0,
          0
         ]
        }
       ],
       "layout": {
        "barmode": "stack",
        "showlegend": false,
        "template": {
         "data": {
          "bar": [
           {
            "error_x": {
             "color": "#2a3f5f"
            },
            "error_y": {
             "color": "#2a3f5f"
            },
            "marker": {
             "line": {
              "color": "#E5ECF6",
              "width": 0.5
             }
            },
            "type": "bar"
           }
          ],
          "barpolar": [
           {
            "marker": {
             "line": {
              "color": "#E5ECF6",
              "width": 0.5
             }
            },
            "type": "barpolar"
           }
          ],
          "carpet": [
           {
            "aaxis": {
             "endlinecolor": "#2a3f5f",
             "gridcolor": "white",
             "linecolor": "white",
             "minorgridcolor": "white",
             "startlinecolor": "#2a3f5f"
            },
            "baxis": {
             "endlinecolor": "#2a3f5f",
             "gridcolor": "white",
             "linecolor": "white",
             "minorgridcolor": "white",
             "startlinecolor": "#2a3f5f"
            },
            "type": "carpet"
           }
          ],
          "choropleth": [
           {
            "colorbar": {
             "outlinewidth": 0,
             "ticks": ""
            },
            "type": "choropleth"
           }
          ],
          "contour": [
           {
            "colorbar": {
             "outlinewidth": 0,
             "ticks": ""
            },
            "colorscale": [
             [
              0,
              "#0d0887"
             ],
             [
              0.1111111111111111,
              "#46039f"
             ],
             [
              0.2222222222222222,
              "#7201a8"
             ],
             [
              0.3333333333333333,
              "#9c179e"
             ],
             [
              0.4444444444444444,
              "#bd3786"
             ],
             [
              0.5555555555555556,
              "#d8576b"
             ],
             [
              0.6666666666666666,
              "#ed7953"
             ],
             [
              0.7777777777777778,
              "#fb9f3a"
             ],
             [
              0.8888888888888888,
              "#fdca26"
             ],
             [
              1,
              "#f0f921"
             ]
            ],
            "type": "contour"
           }
          ],
          "contourcarpet": [
           {
            "colorbar": {
             "outlinewidth": 0,
             "ticks": ""
            },
            "type": "contourcarpet"
           }
          ],
          "heatmap": [
           {
            "colorbar": {
             "outlinewidth": 0,
             "ticks": ""
            },
            "colorscale": [
             [
              0,
              "#0d0887"
             ],
             [
              0.1111111111111111,
              "#46039f"
             ],
             [
              0.2222222222222222,
              "#7201a8"
             ],
             [
              0.3333333333333333,
              "#9c179e"
             ],
             [
              0.4444444444444444,
              "#bd3786"
             ],
             [
              0.5555555555555556,
              "#d8576b"
             ],
             [
              0.6666666666666666,
              "#ed7953"
             ],
             [
              0.7777777777777778,
              "#fb9f3a"
             ],
             [
              0.8888888888888888,
              "#fdca26"
             ],
             [
              1,
              "#f0f921"
             ]
            ],
            "type": "heatmap"
           }
          ],
          "heatmapgl": [
           {
            "colorbar": {
             "outlinewidth": 0,
             "ticks": ""
            },
            "colorscale": [
             [
              0,
              "#0d0887"
             ],
             [
              0.1111111111111111,
              "#46039f"
             ],
             [
              0.2222222222222222,
              "#7201a8"
             ],
             [
              0.3333333333333333,
              "#9c179e"
             ],
             [
              0.4444444444444444,
              "#bd3786"
             ],
             [
              0.5555555555555556,
              "#d8576b"
             ],
             [
              0.6666666666666666,
              "#ed7953"
             ],
             [
              0.7777777777777778,
              "#fb9f3a"
             ],
             [
              0.8888888888888888,
              "#fdca26"
             ],
             [
              1,
              "#f0f921"
             ]
            ],
            "type": "heatmapgl"
           }
          ],
          "histogram": [
           {
            "marker": {
             "colorbar": {
              "outlinewidth": 0,
              "ticks": ""
             }
            },
            "type": "histogram"
           }
          ],
          "histogram2d": [
           {
            "colorbar": {
             "outlinewidth": 0,
             "ticks": ""
            },
            "colorscale": [
             [
              0,
              "#0d0887"
             ],
             [
              0.1111111111111111,
              "#46039f"
             ],
             [
              0.2222222222222222,
              "#7201a8"
             ],
             [
              0.3333333333333333,
              "#9c179e"
             ],
             [
              0.4444444444444444,
              "#bd3786"
             ],
             [
              0.5555555555555556,
              "#d8576b"
             ],
             [
              0.6666666666666666,
              "#ed7953"
             ],
             [
              0.7777777777777778,
              "#fb9f3a"
             ],
             [
              0.8888888888888888,
              "#fdca26"
             ],
             [
              1,
              "#f0f921"
             ]
            ],
            "type": "histogram2d"
           }
          ],
          "histogram2dcontour": [
           {
            "colorbar": {
             "outlinewidth": 0,
             "ticks": ""
            },
            "colorscale": [
             [
              0,
              "#0d0887"
             ],
             [
              0.1111111111111111,
              "#46039f"
             ],
             [
              0.2222222222222222,
              "#7201a8"
             ],
             [
              0.3333333333333333,
              "#9c179e"
             ],
             [
              0.4444444444444444,
              "#bd3786"
             ],
             [
              0.5555555555555556,
              "#d8576b"
             ],
             [
              0.6666666666666666,
              "#ed7953"
             ],
             [
              0.7777777777777778,
              "#fb9f3a"
             ],
             [
              0.8888888888888888,
              "#fdca26"
             ],
             [
              1,
              "#f0f921"
             ]
            ],
            "type": "histogram2dcontour"
           }
          ],
          "mesh3d": [
           {
            "colorbar": {
             "outlinewidth": 0,
             "ticks": ""
            },
            "type": "mesh3d"
           }
          ],
          "parcoords": [
           {
            "line": {
             "colorbar": {
              "outlinewidth": 0,
              "ticks": ""
             }
            },
            "type": "parcoords"
           }
          ],
          "scatter": [
           {
            "marker": {
             "colorbar": {
              "outlinewidth": 0,
              "ticks": ""
             }
            },
            "type": "scatter"
           }
          ],
          "scatter3d": [
           {
            "line": {
             "colorbar": {
              "outlinewidth": 0,
              "ticks": ""
             }
            },
            "marker": {
             "colorbar": {
              "outlinewidth": 0,
              "ticks": ""
             }
            },
            "type": "scatter3d"
           }
          ],
          "scattercarpet": [
           {
            "marker": {
             "colorbar": {
              "outlinewidth": 0,
              "ticks": ""
             }
            },
            "type": "scattercarpet"
           }
          ],
          "scattergeo": [
           {
            "marker": {
             "colorbar": {
              "outlinewidth": 0,
              "ticks": ""
             }
            },
            "type": "scattergeo"
           }
          ],
          "scattergl": [
           {
            "marker": {
             "colorbar": {
              "outlinewidth": 0,
              "ticks": ""
             }
            },
            "type": "scattergl"
           }
          ],
          "scattermapbox": [
           {
            "marker": {
             "colorbar": {
              "outlinewidth": 0,
              "ticks": ""
             }
            },
            "type": "scattermapbox"
           }
          ],
          "scatterpolar": [
           {
            "marker": {
             "colorbar": {
              "outlinewidth": 0,
              "ticks": ""
             }
            },
            "type": "scatterpolar"
           }
          ],
          "scatterpolargl": [
           {
            "marker": {
             "colorbar": {
              "outlinewidth": 0,
              "ticks": ""
             }
            },
            "type": "scatterpolargl"
           }
          ],
          "scatterternary": [
           {
            "marker": {
             "colorbar": {
              "outlinewidth": 0,
              "ticks": ""
             }
            },
            "type": "scatterternary"
           }
          ],
          "surface": [
           {
            "colorbar": {
             "outlinewidth": 0,
             "ticks": ""
            },
            "colorscale": [
             [
              0,
              "#0d0887"
             ],
             [
              0.1111111111111111,
              "#46039f"
             ],
             [
              0.2222222222222222,
              "#7201a8"
             ],
             [
              0.3333333333333333,
              "#9c179e"
             ],
             [
              0.4444444444444444,
              "#bd3786"
             ],
             [
              0.5555555555555556,
              "#d8576b"
             ],
             [
              0.6666666666666666,
              "#ed7953"
             ],
             [
              0.7777777777777778,
              "#fb9f3a"
             ],
             [
              0.8888888888888888,
              "#fdca26"
             ],
             [
              1,
              "#f0f921"
             ]
            ],
            "type": "surface"
           }
          ],
          "table": [
           {
            "cells": {
             "fill": {
              "color": "#EBF0F8"
             },
             "line": {
              "color": "white"
             }
            },
            "header": {
             "fill": {
              "color": "#C8D4E3"
             },
             "line": {
              "color": "white"
             }
            },
            "type": "table"
           }
          ]
         },
         "layout": {
          "annotationdefaults": {
           "arrowcolor": "#2a3f5f",
           "arrowhead": 0,
           "arrowwidth": 1
          },
          "colorscale": {
           "diverging": [
            [
             0,
             "#8e0152"
            ],
            [
             0.1,
             "#c51b7d"
            ],
            [
             0.2,
             "#de77ae"
            ],
            [
             0.3,
             "#f1b6da"
            ],
            [
             0.4,
             "#fde0ef"
            ],
            [
             0.5,
             "#f7f7f7"
            ],
            [
             0.6,
             "#e6f5d0"
            ],
            [
             0.7,
             "#b8e186"
            ],
            [
             0.8,
             "#7fbc41"
            ],
            [
             0.9,
             "#4d9221"
            ],
            [
             1,
             "#276419"
            ]
           ],
           "sequential": [
            [
             0,
             "#0d0887"
            ],
            [
             0.1111111111111111,
             "#46039f"
            ],
            [
             0.2222222222222222,
             "#7201a8"
            ],
            [
             0.3333333333333333,
             "#9c179e"
            ],
            [
             0.4444444444444444,
             "#bd3786"
            ],
            [
             0.5555555555555556,
             "#d8576b"
            ],
            [
             0.6666666666666666,
             "#ed7953"
            ],
            [
             0.7777777777777778,
             "#fb9f3a"
            ],
            [
             0.8888888888888888,
             "#fdca26"
            ],
            [
             1,
             "#f0f921"
            ]
           ],
           "sequentialminus": [
            [
             0,
             "#0d0887"
            ],
            [
             0.1111111111111111,
             "#46039f"
            ],
            [
             0.2222222222222222,
             "#7201a8"
            ],
            [
             0.3333333333333333,
             "#9c179e"
            ],
            [
             0.4444444444444444,
             "#bd3786"
            ],
            [
             0.5555555555555556,
             "#d8576b"
            ],
            [
             0.6666666666666666,
             "#ed7953"
            ],
            [
             0.7777777777777778,
             "#fb9f3a"
            ],
            [
             0.8888888888888888,
             "#fdca26"
            ],
            [
             1,
             "#f0f921"
            ]
           ]
          },
          "colorway": [
           "#636efa",
           "#EF553B",
           "#00cc96",
           "#ab63fa",
           "#FFA15A",
           "#19d3f3",
           "#FF6692",
           "#B6E880",
           "#FF97FF",
           "#FECB52"
          ],
          "font": {
           "color": "#2a3f5f"
          },
          "geo": {
           "bgcolor": "white",
           "lakecolor": "white",
           "landcolor": "#E5ECF6",
           "showlakes": true,
           "showland": true,
           "subunitcolor": "white"
          },
          "hoverlabel": {
           "align": "left"
          },
          "hovermode": "closest",
          "mapbox": {
           "style": "light"
          },
          "paper_bgcolor": "white",
          "plot_bgcolor": "#E5ECF6",
          "polar": {
           "angularaxis": {
            "gridcolor": "white",
            "linecolor": "white",
            "ticks": ""
           },
           "bgcolor": "#E5ECF6",
           "radialaxis": {
            "gridcolor": "white",
            "linecolor": "white",
            "ticks": ""
           }
          },
          "scene": {
           "xaxis": {
            "backgroundcolor": "#E5ECF6",
            "gridcolor": "white",
            "gridwidth": 2,
            "linecolor": "white",
            "showbackground": true,
            "ticks": "",
            "zerolinecolor": "white"
           },
           "yaxis": {
            "backgroundcolor": "#E5ECF6",
            "gridcolor": "white",
            "gridwidth": 2,
            "linecolor": "white",
            "showbackground": true,
            "ticks": "",
            "zerolinecolor": "white"
           },
           "zaxis": {
            "backgroundcolor": "#E5ECF6",
            "gridcolor": "white",
            "gridwidth": 2,
            "linecolor": "white",
            "showbackground": true,
            "ticks": "",
            "zerolinecolor": "white"
           }
          },
          "shapedefaults": {
           "line": {
            "color": "#2a3f5f"
           }
          },
          "ternary": {
           "aaxis": {
            "gridcolor": "white",
            "linecolor": "white",
            "ticks": ""
           },
           "baxis": {
            "gridcolor": "white",
            "linecolor": "white",
            "ticks": ""
           },
           "bgcolor": "#E5ECF6",
           "caxis": {
            "gridcolor": "white",
            "linecolor": "white",
            "ticks": ""
           }
          },
          "title": {
           "x": 0.05
          },
          "xaxis": {
           "automargin": true,
           "gridcolor": "white",
           "linecolor": "white",
           "ticks": "",
           "zerolinecolor": "white",
           "zerolinewidth": 2
          },
          "yaxis": {
           "automargin": true,
           "gridcolor": "white",
           "linecolor": "white",
           "ticks": "",
           "zerolinecolor": "white",
           "zerolinewidth": 2
          }
         }
        },
        "title": {
         "text": "Gastos de Nino Baltolu Rasera "
        }
       }
      },
      "text/html": [
       "<div>\n",
       "        \n",
       "        \n",
       "            <div id=\"315000b4-7f82-411d-b544-07c7e22ed068\" class=\"plotly-graph-div\" style=\"height:525px; width:100%;\"></div>\n",
       "            <script type=\"text/javascript\">\n",
       "                require([\"plotly\"], function(Plotly) {\n",
       "                    window.PLOTLYENV=window.PLOTLYENV || {};\n",
       "                    \n",
       "                if (document.getElementById(\"315000b4-7f82-411d-b544-07c7e22ed068\")) {\n",
       "                    Plotly.newPlot(\n",
       "                        '315000b4-7f82-411d-b544-07c7e22ed068',\n",
       "                        [{\"name\": \"Traslaci\\u00f3n  \", \"type\": \"bar\", \"x\": [\"18-enero\", \"18-febrero\", \"18-marzo\", \"18-abril\", \"18-mayo\", \"18-junio\", \"18-julio\", \"18-agosto\", \"18-septiembre\", \"18-octubre\", \"18-noviembre\", \"18-diciembre\", \"19-enero\", \"19-febrero\", \"19-marzo\", \"19-abril\", \"19-mayo\", \"19-junio\", \"19-julio\", \"19-agosto\", \"19-septiembre\", \"19-octubre\", \"19-noviembre\", \"19-diciembre\"], \"y\": [0, 0, 0, 0, 0, 0, 0, 0, 0, 0, 0, 0, 1486946, 305953, 1256995, 1624153, 1375886, 1411808, 0, 0, 0, 0, 0, 0]}, {\"name\": \"Vi\\u00e1ticos  \", \"type\": \"bar\", \"x\": [\"18-enero\", \"18-febrero\", \"18-marzo\", \"18-abril\", \"18-mayo\", \"18-junio\", \"18-julio\", \"18-agosto\", \"18-septiembre\", \"18-octubre\", \"18-noviembre\", \"18-diciembre\", \"19-enero\", \"19-febrero\", \"19-marzo\", \"19-abril\", \"19-mayo\", \"19-junio\", \"19-julio\", \"19-agosto\", \"19-septiembre\", \"19-octubre\", \"19-noviembre\", \"19-diciembre\"], \"y\": [0, 0, 613640, 920448, 1150560, 864831, 0, 0, 0, 0, 0, 0, 0, 0, 0, 0, 0, 0, 0, 0, 0, 0, 0, 0]}, {\"name\": \"Materiales de oficina  \", \"type\": \"bar\", \"x\": [\"18-enero\", \"18-febrero\", \"18-marzo\", \"18-abril\", \"18-mayo\", \"18-junio\", \"18-julio\", \"18-agosto\", \"18-septiembre\", \"18-octubre\", \"18-noviembre\", \"18-diciembre\", \"19-enero\", \"19-febrero\", \"19-marzo\", \"19-abril\", \"19-mayo\", \"19-junio\", \"19-julio\", \"19-agosto\", \"19-septiembre\", \"19-octubre\", \"19-noviembre\", \"19-diciembre\"], \"y\": [0, 0, 83742, 59327, 274697, 24514, 0, 0, 0, 0, 0, 0, 158975, 0, 111750, 62552, 149635, 270998, 0, 0, 0, 0, 0, 0]}, {\"name\": \"Actividades distritales  \", \"type\": \"bar\", \"x\": [\"18-enero\", \"18-febrero\", \"18-marzo\", \"18-abril\", \"18-mayo\", \"18-junio\", \"18-julio\", \"18-agosto\", \"18-septiembre\", \"18-octubre\", \"18-noviembre\", \"18-diciembre\", \"19-enero\", \"19-febrero\", \"19-marzo\", \"19-abril\", \"19-mayo\", \"19-junio\", \"19-julio\", \"19-agosto\", \"19-septiembre\", \"19-octubre\", \"19-noviembre\", \"19-diciembre\"], \"y\": [0, 0, 465500, 665000, 665000, 665000, 0, 0, 0, 0, 0, 0, 0, 0, 0, 0, 0, 0, 0, 0, 0, 0, 0, 0]}, {\"name\": \"Telefon\\u00eda  \", \"type\": \"bar\", \"x\": [\"18-enero\", \"18-febrero\", \"18-marzo\", \"18-abril\", \"18-mayo\", \"18-junio\", \"18-julio\", \"18-agosto\", \"18-septiembre\", \"18-octubre\", \"18-noviembre\", \"18-diciembre\", \"19-enero\", \"19-febrero\", \"19-marzo\", \"19-abril\", \"19-mayo\", \"19-junio\", \"19-julio\", \"19-agosto\", \"19-septiembre\", \"19-octubre\", \"19-noviembre\", \"19-diciembre\"], \"y\": [0, 0, 0, 310990, 43393, 43393, 59293, 59293, 59293, 56702, 56622, 102418, 133690, 137974, 138915, 138865, 139477, 135311, 0, 0, 0, 0, 0, 0]}, {\"name\": \"Veh\\u00edculos  \", \"type\": \"bar\", \"x\": [\"18-enero\", \"18-febrero\", \"18-marzo\", \"18-abril\", \"18-mayo\", \"18-junio\", \"18-julio\", \"18-agosto\", \"18-septiembre\", \"18-octubre\", \"18-noviembre\", \"18-diciembre\", \"19-enero\", \"19-febrero\", \"19-marzo\", \"19-abril\", \"19-mayo\", \"19-junio\", \"19-julio\", \"19-agosto\", \"19-septiembre\", \"19-octubre\", \"19-noviembre\", \"19-diciembre\"], \"y\": [0, 0, 0, 193000, 193000, 193000, 0, 0, 0, 0, 0, 0, 0, 0, 0, 0, 0, 0, 0, 0, 0, 0, 0, 0]}, {\"name\": \"Pasajes de movilizaci\\u00f3n  \", \"type\": \"bar\", \"x\": [\"18-enero\", \"18-febrero\", \"18-marzo\", \"18-abril\", \"18-mayo\", \"18-junio\", \"18-julio\", \"18-agosto\", \"18-septiembre\", \"18-octubre\", \"18-noviembre\", \"18-diciembre\", \"19-enero\", \"19-febrero\", \"19-marzo\", \"19-abril\", \"19-mayo\", \"19-junio\", \"19-julio\", \"19-agosto\", \"19-septiembre\", \"19-octubre\", \"19-noviembre\", \"19-diciembre\"], \"y\": [0, 0, 0, 35800, 137670, 129980, 73400, 112297, 48500, 33000, 76200, 26700, 0, 0, 0, 0, 0, 0, 0, 0, 0, 0, 0, 0]}, {\"name\": \"Alojamiento  \", \"type\": \"bar\", \"x\": [\"18-enero\", \"18-febrero\", \"18-marzo\", \"18-abril\", \"18-mayo\", \"18-junio\", \"18-julio\", \"18-agosto\", \"18-septiembre\", \"18-octubre\", \"18-noviembre\", \"18-diciembre\", \"19-enero\", \"19-febrero\", \"19-marzo\", \"19-abril\", \"19-mayo\", \"19-junio\", \"19-julio\", \"19-agosto\", \"19-septiembre\", \"19-octubre\", \"19-noviembre\", \"19-diciembre\"], \"y\": [0, 0, 0, 181800, 382702, 616836, 0, 0, 0, 0, 0, 0, 0, 0, 0, 0, 0, 0, 0, 0, 0, 0, 0, 0]}, {\"name\": \"Alimentaci\\u00f3n  \", \"type\": \"bar\", \"x\": [\"18-enero\", \"18-febrero\", \"18-marzo\", \"18-abril\", \"18-mayo\", \"18-junio\", \"18-julio\", \"18-agosto\", \"18-septiembre\", \"18-octubre\", \"18-noviembre\", \"18-diciembre\", \"19-enero\", \"19-febrero\", \"19-marzo\", \"19-abril\", \"19-mayo\", \"19-junio\", \"19-julio\", \"19-agosto\", \"19-septiembre\", \"19-octubre\", \"19-noviembre\", \"19-diciembre\"], \"y\": [0, 0, 0, 2500, 24890, 107301, 369752, 22060, 71260, 127940, 63900, 81300, 0, 0, 0, 0, 0, 0, 0, 0, 0, 0, 0, 0]}, {\"name\": \"Correspondencia  \", \"type\": \"bar\", \"x\": [\"18-enero\", \"18-febrero\", \"18-marzo\", \"18-abril\", \"18-mayo\", \"18-junio\", \"18-julio\", \"18-agosto\", \"18-septiembre\", \"18-octubre\", \"18-noviembre\", \"18-diciembre\", \"19-enero\", \"19-febrero\", \"19-marzo\", \"19-abril\", \"19-mayo\", \"19-junio\", \"19-julio\", \"19-agosto\", \"19-septiembre\", \"19-octubre\", \"19-noviembre\", \"19-diciembre\"], \"y\": [0, 0, 0, 31608, 59088, 209426, 0, 0, 0, 0, 0, 0, 117423, 18665, 208529, 101206, 171862, 210223, 0, 0, 0, 0, 0, 0]}, {\"name\": \"Difusi\\u00f3n  \", \"type\": \"bar\", \"x\": [\"18-enero\", \"18-febrero\", \"18-marzo\", \"18-abril\", \"18-mayo\", \"18-junio\", \"18-julio\", \"18-agosto\", \"18-septiembre\", \"18-octubre\", \"18-noviembre\", \"18-diciembre\", \"19-enero\", \"19-febrero\", \"19-marzo\", \"19-abril\", \"19-mayo\", \"19-junio\", \"19-julio\", \"19-agosto\", \"19-septiembre\", \"19-octubre\", \"19-noviembre\", \"19-diciembre\"], \"y\": [0, 0, 0, 1364, 71093, 21400, 0, 0, 177191, 0, 11960, 0, 0, 0, 0, 21400, 0, 1425098, 0, 0, 0, 0, 0, 0]}, {\"name\": \"Combustible  \", \"type\": \"bar\", \"x\": [\"18-enero\", \"18-febrero\", \"18-marzo\", \"18-abril\", \"18-mayo\", \"18-junio\", \"18-julio\", \"18-agosto\", \"18-septiembre\", \"18-octubre\", \"18-noviembre\", \"18-diciembre\", \"19-enero\", \"19-febrero\", \"19-marzo\", \"19-abril\", \"19-mayo\", \"19-junio\", \"19-julio\", \"19-agosto\", \"19-septiembre\", \"19-octubre\", \"19-noviembre\", \"19-diciembre\"], \"y\": [0, 0, 0, 0, 53010, 45000, 42004, 199271, 236005, 273195, 178972, 271512, 0, 0, 0, 0, 0, 0, 0, 0, 0, 0, 0, 0]}, {\"name\": \"Actividades territoriales  \", \"type\": \"bar\", \"x\": [\"18-enero\", \"18-febrero\", \"18-marzo\", \"18-abril\", \"18-mayo\", \"18-junio\", \"18-julio\", \"18-agosto\", \"18-septiembre\", \"18-octubre\", \"18-noviembre\", \"18-diciembre\", \"19-enero\", \"19-febrero\", \"19-marzo\", \"19-abril\", \"19-mayo\", \"19-junio\", \"19-julio\", \"19-agosto\", \"19-septiembre\", \"19-octubre\", \"19-noviembre\", \"19-diciembre\"], \"y\": [0, 0, 0, 0, 0, 0, 1981372, 990067, 1230120, 1189118, 1294387, 1310683, 0, 0, 0, 0, 0, 0, 0, 0, 0, 0, 0, 0]}, {\"name\": \"Vehiculos- amortizacion  \", \"type\": \"bar\", \"x\": [\"18-enero\", \"18-febrero\", \"18-marzo\", \"18-abril\", \"18-mayo\", \"18-junio\", \"18-julio\", \"18-agosto\", \"18-septiembre\", \"18-octubre\", \"18-noviembre\", \"18-diciembre\", \"19-enero\", \"19-febrero\", \"19-marzo\", \"19-abril\", \"19-mayo\", \"19-junio\", \"19-julio\", \"19-agosto\", \"19-septiembre\", \"19-octubre\", \"19-noviembre\", \"19-diciembre\"], \"y\": [0, 0, 0, 0, 0, 0, 193000, 193000, 193000, 193000, 193000, 193000, 0, 0, 0, 0, 0, 0, 0, 0, 0, 0, 0, 0]}, {\"name\": \"Vi\\u00e1ticos del diputado  \", \"type\": \"bar\", \"x\": [\"18-enero\", \"18-febrero\", \"18-marzo\", \"18-abril\", \"18-mayo\", \"18-junio\", \"18-julio\", \"18-agosto\", \"18-septiembre\", \"18-octubre\", \"18-noviembre\", \"18-diciembre\", \"19-enero\", \"19-febrero\", \"19-marzo\", \"19-abril\", \"19-mayo\", \"19-junio\", \"19-julio\", \"19-agosto\", \"19-septiembre\", \"19-octubre\", \"19-noviembre\", \"19-diciembre\"], \"y\": [0, 0, 0, 0, 0, 0, 864831, 943452, 1022073, 864831, 1100694, 1179315, 0, 0, 0, 0, 0, 0, 0, 0, 0, 0, 0, 0]}, {\"name\": \"Traspaso desde gastos operacionales a asignaci\\u00f3n personal de apoyo  \", \"type\": \"bar\", \"x\": [\"18-enero\", \"18-febrero\", \"18-marzo\", \"18-abril\", \"18-mayo\", \"18-junio\", \"18-julio\", \"18-agosto\", \"18-septiembre\", \"18-octubre\", \"18-noviembre\", \"18-diciembre\", \"19-enero\", \"19-febrero\", \"19-marzo\", \"19-abril\", \"19-mayo\", \"19-junio\", \"19-julio\", \"19-agosto\", \"19-septiembre\", \"19-octubre\", \"19-noviembre\", \"19-diciembre\"], \"y\": [0, 0, 0, 0, 0, 0, 0, 0, 0, 0, 0, 0, 0, 0, 0, 0, 0, 0, 0, 0, 0, 0, 0, 0]}, {\"name\": \"Actividades destinadas a la interacci\\u00f3n con la comunidad  \", \"type\": \"bar\", \"x\": [\"18-enero\", \"18-febrero\", \"18-marzo\", \"18-abril\", \"18-mayo\", \"18-junio\", \"18-julio\", \"18-agosto\", \"18-septiembre\", \"18-octubre\", \"18-noviembre\", \"18-diciembre\", \"19-enero\", \"19-febrero\", \"19-marzo\", \"19-abril\", \"19-mayo\", \"19-junio\", \"19-julio\", \"19-agosto\", \"19-septiembre\", \"19-octubre\", \"19-noviembre\", \"19-diciembre\"], \"y\": [0, 0, 0, 0, 0, 0, 0, 0, 0, 0, 0, 0, 0, 0, 0, 0, 0, 0, 0, 0, 0, 0, 0, 0]}, {\"name\": \"Arriendo de inmueble  \", \"type\": \"bar\", \"x\": [\"18-enero\", \"18-febrero\", \"18-marzo\", \"18-abril\", \"18-mayo\", \"18-junio\", \"18-julio\", \"18-agosto\", \"18-septiembre\", \"18-octubre\", \"18-noviembre\", \"18-diciembre\", \"19-enero\", \"19-febrero\", \"19-marzo\", \"19-abril\", \"19-mayo\", \"19-junio\", \"19-julio\", \"19-agosto\", \"19-septiembre\", \"19-octubre\", \"19-noviembre\", \"19-diciembre\"], \"y\": [0, 0, 0, 0, 0, 0, 0, 0, 0, 0, 0, 0, 700000, 700000, 700000, 700000, 700000, 700000, 0, 0, 0, 0, 0, 0]}, {\"name\": \"Consumos b\\u00e1sicos  \", \"type\": \"bar\", \"x\": [\"18-enero\", \"18-febrero\", \"18-marzo\", \"18-abril\", \"18-mayo\", \"18-junio\", \"18-julio\", \"18-agosto\", \"18-septiembre\", \"18-octubre\", \"18-noviembre\", \"18-diciembre\", \"19-enero\", \"19-febrero\", \"19-marzo\", \"19-abril\", \"19-mayo\", \"19-junio\", \"19-julio\", \"19-agosto\", \"19-septiembre\", \"19-octubre\", \"19-noviembre\", \"19-diciembre\"], \"y\": [0, 0, 0, 0, 0, 0, 0, 0, 0, 0, 0, 0, 0, 0, 0, 0, 0, 0, 0, 0, 0, 0, 0, 0]}, {\"name\": \"Equipamiento oficina parlamentaria  \", \"type\": \"bar\", \"x\": [\"18-enero\", \"18-febrero\", \"18-marzo\", \"18-abril\", \"18-mayo\", \"18-junio\", \"18-julio\", \"18-agosto\", \"18-septiembre\", \"18-octubre\", \"18-noviembre\", \"18-diciembre\", \"19-enero\", \"19-febrero\", \"19-marzo\", \"19-abril\", \"19-mayo\", \"19-junio\", \"19-julio\", \"19-agosto\", \"19-septiembre\", \"19-octubre\", \"19-noviembre\", \"19-diciembre\"], \"y\": [0, 0, 0, 0, 0, 0, 0, 0, 0, 0, 0, 0, 0, 0, 0, 0, 0, 0, 0, 0, 0, 0, 0, 0]}, {\"name\": \"Gastos de mantenci\\u00f3n oficina parlamentaria (inmueble)  \", \"type\": \"bar\", \"x\": [\"18-enero\", \"18-febrero\", \"18-marzo\", \"18-abril\", \"18-mayo\", \"18-junio\", \"18-julio\", \"18-agosto\", \"18-septiembre\", \"18-octubre\", \"18-noviembre\", \"18-diciembre\", \"19-enero\", \"19-febrero\", \"19-marzo\", \"19-abril\", \"19-mayo\", \"19-junio\", \"19-julio\", \"19-agosto\", \"19-septiembre\", \"19-octubre\", \"19-noviembre\", \"19-diciembre\"], \"y\": [0, 0, 0, 0, 0, 0, 0, 0, 0, 0, 0, 0, 0, 0, 0, 0, 0, 0, 0, 0, 0, 0, 0, 0]}, {\"name\": \"Reparaciones locativas del inmueble  \", \"type\": \"bar\", \"x\": [\"18-enero\", \"18-febrero\", \"18-marzo\", \"18-abril\", \"18-mayo\", \"18-junio\", \"18-julio\", \"18-agosto\", \"18-septiembre\", \"18-octubre\", \"18-noviembre\", \"18-diciembre\", \"19-enero\", \"19-febrero\", \"19-marzo\", \"19-abril\", \"19-mayo\", \"19-junio\", \"19-julio\", \"19-agosto\", \"19-septiembre\", \"19-octubre\", \"19-noviembre\", \"19-diciembre\"], \"y\": [0, 0, 0, 0, 0, 0, 0, 0, 0, 0, 0, 0, 0, 0, 0, 0, 0, 0, 0, 0, 0, 0, 0, 0]}, {\"name\": \"Habilitaci\\u00f3n de sedes parlamentarias (con autorizaci\\u00f3n de crap)  \", \"type\": \"bar\", \"x\": [\"18-enero\", \"18-febrero\", \"18-marzo\", \"18-abril\", \"18-mayo\", \"18-junio\", \"18-julio\", \"18-agosto\", \"18-septiembre\", \"18-octubre\", \"18-noviembre\", \"18-diciembre\", \"19-enero\", \"19-febrero\", \"19-marzo\", \"19-abril\", \"19-mayo\", \"19-junio\", \"19-julio\", \"19-agosto\", \"19-septiembre\", \"19-octubre\", \"19-noviembre\", \"19-diciembre\"], \"y\": [0, 0, 0, 0, 0, 0, 0, 0, 0, 0, 0, 0, 0, 0, 0, 0, 0, 0, 0, 0, 0, 0, 0, 0]}, {\"name\": \"Seguros de bienes  \", \"type\": \"bar\", \"x\": [\"18-enero\", \"18-febrero\", \"18-marzo\", \"18-abril\", \"18-mayo\", \"18-junio\", \"18-julio\", \"18-agosto\", \"18-septiembre\", \"18-octubre\", \"18-noviembre\", \"18-diciembre\", \"19-enero\", \"19-febrero\", \"19-marzo\", \"19-abril\", \"19-mayo\", \"19-junio\", \"19-julio\", \"19-agosto\", \"19-septiembre\", \"19-octubre\", \"19-noviembre\", \"19-diciembre\"], \"y\": [0, 0, 0, 0, 0, 0, 0, 0, 0, 0, 0, 0, 0, 0, 0, 0, 0, 0, 0, 0, 0, 0, 0, 0]}, {\"name\": \"Arriendo de oficinas virtuales  \", \"type\": \"bar\", \"x\": [\"18-enero\", \"18-febrero\", \"18-marzo\", \"18-abril\", \"18-mayo\", \"18-junio\", \"18-julio\", \"18-agosto\", \"18-septiembre\", \"18-octubre\", \"18-noviembre\", \"18-diciembre\", \"19-enero\", \"19-febrero\", \"19-marzo\", \"19-abril\", \"19-mayo\", \"19-junio\", \"19-julio\", \"19-agosto\", \"19-septiembre\", \"19-octubre\", \"19-noviembre\", \"19-diciembre\"], \"y\": [0, 0, 0, 0, 0, 0, 0, 0, 0, 0, 0, 0, 0, 0, 0, 0, 0, 0, 0, 0, 0, 0, 0, 0]}, {\"name\": \"Servicios web  \", \"type\": \"bar\", \"x\": [\"18-enero\", \"18-febrero\", \"18-marzo\", \"18-abril\", \"18-mayo\", \"18-junio\", \"18-julio\", \"18-agosto\", \"18-septiembre\", \"18-octubre\", \"18-noviembre\", \"18-diciembre\", \"19-enero\", \"19-febrero\", \"19-marzo\", \"19-abril\", \"19-mayo\", \"19-junio\", \"19-julio\", \"19-agosto\", \"19-septiembre\", \"19-octubre\", \"19-noviembre\", \"19-diciembre\"], \"y\": [0, 0, 0, 0, 0, 0, 0, 0, 0, 0, 0, 0, 0, 0, 0, 0, 0, 0, 0, 0, 0, 0, 0, 0]}, {\"name\": \"Contrataci\\u00f3n servicio de almacenamiento  \", \"type\": \"bar\", \"x\": [\"18-enero\", \"18-febrero\", \"18-marzo\", \"18-abril\", \"18-mayo\", \"18-junio\", \"18-julio\", \"18-agosto\", \"18-septiembre\", \"18-octubre\", \"18-noviembre\", \"18-diciembre\", \"19-enero\", \"19-febrero\", \"19-marzo\", \"19-abril\", \"19-mayo\", \"19-junio\", \"19-julio\", \"19-agosto\", \"19-septiembre\", \"19-octubre\", \"19-noviembre\", \"19-diciembre\"], \"y\": [0, 0, 0, 0, 0, 0, 0, 0, 0, 0, 0, 0, 0, 0, 0, 0, 0, 0, 0, 0, 0, 0, 0, 0]}, {\"name\": \"Arriendo de oficina m\\u00f3vil  \", \"type\": \"bar\", \"x\": [\"18-enero\", \"18-febrero\", \"18-marzo\", \"18-abril\", \"18-mayo\", \"18-junio\", \"18-julio\", \"18-agosto\", \"18-septiembre\", \"18-octubre\", \"18-noviembre\", \"18-diciembre\", \"19-enero\", \"19-febrero\", \"19-marzo\", \"19-abril\", \"19-mayo\", \"19-junio\", \"19-julio\", \"19-agosto\", \"19-septiembre\", \"19-octubre\", \"19-noviembre\", \"19-diciembre\"], \"y\": [0, 0, 0, 0, 0, 0, 0, 0, 0, 0, 0, 0, 0, 0, 0, 0, 0, 0, 0, 0, 0, 0, 0, 0]}, {\"name\": \"Mantencion y reparaci\\u00f3n de oficina m\\u00f3vil  \", \"type\": \"bar\", \"x\": [\"18-enero\", \"18-febrero\", \"18-marzo\", \"18-abril\", \"18-mayo\", \"18-junio\", \"18-julio\", \"18-agosto\", \"18-septiembre\", \"18-octubre\", \"18-noviembre\", \"18-diciembre\", \"19-enero\", \"19-febrero\", \"19-marzo\", \"19-abril\", \"19-mayo\", \"19-junio\", \"19-julio\", \"19-agosto\", \"19-septiembre\", \"19-octubre\", \"19-noviembre\", \"19-diciembre\"], \"y\": [0, 0, 0, 0, 0, 0, 0, 0, 0, 0, 0, 0, 0, 0, 0, 0, 0, 0, 0, 0, 0, 0, 0, 0]}, {\"name\": \"Servicios menores  \", \"type\": \"bar\", \"x\": [\"18-enero\", \"18-febrero\", \"18-marzo\", \"18-abril\", \"18-mayo\", \"18-junio\", \"18-julio\", \"18-agosto\", \"18-septiembre\", \"18-octubre\", \"18-noviembre\", \"18-diciembre\", \"19-enero\", \"19-febrero\", \"19-marzo\", \"19-abril\", \"19-mayo\", \"19-junio\", \"19-julio\", \"19-agosto\", \"19-septiembre\", \"19-octubre\", \"19-noviembre\", \"19-diciembre\"], \"y\": [0, 0, 0, 0, 0, 0, 0, 0, 0, 0, 0, 0, 239990, 239990, 239990, 239990, 239990, 239990, 0, 0, 0, 0, 0, 0]}],\n",
       "                        {\"barmode\": \"stack\", \"showlegend\": false, \"template\": {\"data\": {\"bar\": [{\"error_x\": {\"color\": \"#2a3f5f\"}, \"error_y\": {\"color\": \"#2a3f5f\"}, \"marker\": {\"line\": {\"color\": \"#E5ECF6\", \"width\": 0.5}}, \"type\": \"bar\"}], \"barpolar\": [{\"marker\": {\"line\": {\"color\": \"#E5ECF6\", \"width\": 0.5}}, \"type\": \"barpolar\"}], \"carpet\": [{\"aaxis\": {\"endlinecolor\": \"#2a3f5f\", \"gridcolor\": \"white\", \"linecolor\": \"white\", \"minorgridcolor\": \"white\", \"startlinecolor\": \"#2a3f5f\"}, \"baxis\": {\"endlinecolor\": \"#2a3f5f\", \"gridcolor\": \"white\", \"linecolor\": \"white\", \"minorgridcolor\": \"white\", \"startlinecolor\": \"#2a3f5f\"}, \"type\": \"carpet\"}], \"choropleth\": [{\"colorbar\": {\"outlinewidth\": 0, \"ticks\": \"\"}, \"type\": \"choropleth\"}], \"contour\": [{\"colorbar\": {\"outlinewidth\": 0, \"ticks\": \"\"}, \"colorscale\": [[0.0, \"#0d0887\"], [0.1111111111111111, \"#46039f\"], [0.2222222222222222, \"#7201a8\"], [0.3333333333333333, \"#9c179e\"], [0.4444444444444444, \"#bd3786\"], [0.5555555555555556, \"#d8576b\"], [0.6666666666666666, \"#ed7953\"], [0.7777777777777778, \"#fb9f3a\"], [0.8888888888888888, \"#fdca26\"], [1.0, \"#f0f921\"]], \"type\": \"contour\"}], \"contourcarpet\": [{\"colorbar\": {\"outlinewidth\": 0, \"ticks\": \"\"}, \"type\": \"contourcarpet\"}], \"heatmap\": [{\"colorbar\": {\"outlinewidth\": 0, \"ticks\": \"\"}, \"colorscale\": [[0.0, \"#0d0887\"], [0.1111111111111111, \"#46039f\"], [0.2222222222222222, \"#7201a8\"], [0.3333333333333333, \"#9c179e\"], [0.4444444444444444, \"#bd3786\"], [0.5555555555555556, \"#d8576b\"], [0.6666666666666666, \"#ed7953\"], [0.7777777777777778, \"#fb9f3a\"], [0.8888888888888888, \"#fdca26\"], [1.0, \"#f0f921\"]], \"type\": \"heatmap\"}], \"heatmapgl\": [{\"colorbar\": {\"outlinewidth\": 0, \"ticks\": \"\"}, \"colorscale\": [[0.0, \"#0d0887\"], [0.1111111111111111, \"#46039f\"], [0.2222222222222222, \"#7201a8\"], [0.3333333333333333, \"#9c179e\"], [0.4444444444444444, \"#bd3786\"], [0.5555555555555556, \"#d8576b\"], [0.6666666666666666, \"#ed7953\"], [0.7777777777777778, \"#fb9f3a\"], [0.8888888888888888, \"#fdca26\"], [1.0, \"#f0f921\"]], \"type\": \"heatmapgl\"}], \"histogram\": [{\"marker\": {\"colorbar\": {\"outlinewidth\": 0, \"ticks\": \"\"}}, \"type\": \"histogram\"}], \"histogram2d\": [{\"colorbar\": {\"outlinewidth\": 0, \"ticks\": \"\"}, \"colorscale\": [[0.0, \"#0d0887\"], [0.1111111111111111, \"#46039f\"], [0.2222222222222222, \"#7201a8\"], [0.3333333333333333, \"#9c179e\"], [0.4444444444444444, \"#bd3786\"], [0.5555555555555556, \"#d8576b\"], [0.6666666666666666, \"#ed7953\"], [0.7777777777777778, \"#fb9f3a\"], [0.8888888888888888, \"#fdca26\"], [1.0, \"#f0f921\"]], \"type\": \"histogram2d\"}], \"histogram2dcontour\": [{\"colorbar\": {\"outlinewidth\": 0, \"ticks\": \"\"}, \"colorscale\": [[0.0, \"#0d0887\"], [0.1111111111111111, \"#46039f\"], [0.2222222222222222, \"#7201a8\"], [0.3333333333333333, \"#9c179e\"], [0.4444444444444444, \"#bd3786\"], [0.5555555555555556, \"#d8576b\"], [0.6666666666666666, \"#ed7953\"], [0.7777777777777778, \"#fb9f3a\"], [0.8888888888888888, \"#fdca26\"], [1.0, \"#f0f921\"]], \"type\": \"histogram2dcontour\"}], \"mesh3d\": [{\"colorbar\": {\"outlinewidth\": 0, \"ticks\": \"\"}, \"type\": \"mesh3d\"}], \"parcoords\": [{\"line\": {\"colorbar\": {\"outlinewidth\": 0, \"ticks\": \"\"}}, \"type\": \"parcoords\"}], \"scatter\": [{\"marker\": {\"colorbar\": {\"outlinewidth\": 0, \"ticks\": \"\"}}, \"type\": \"scatter\"}], \"scatter3d\": [{\"line\": {\"colorbar\": {\"outlinewidth\": 0, \"ticks\": \"\"}}, \"marker\": {\"colorbar\": {\"outlinewidth\": 0, \"ticks\": \"\"}}, \"type\": \"scatter3d\"}], \"scattercarpet\": [{\"marker\": {\"colorbar\": {\"outlinewidth\": 0, \"ticks\": \"\"}}, \"type\": \"scattercarpet\"}], \"scattergeo\": [{\"marker\": {\"colorbar\": {\"outlinewidth\": 0, \"ticks\": \"\"}}, \"type\": \"scattergeo\"}], \"scattergl\": [{\"marker\": {\"colorbar\": {\"outlinewidth\": 0, \"ticks\": \"\"}}, \"type\": \"scattergl\"}], \"scattermapbox\": [{\"marker\": {\"colorbar\": {\"outlinewidth\": 0, \"ticks\": \"\"}}, \"type\": \"scattermapbox\"}], \"scatterpolar\": [{\"marker\": {\"colorbar\": {\"outlinewidth\": 0, \"ticks\": \"\"}}, \"type\": \"scatterpolar\"}], \"scatterpolargl\": [{\"marker\": {\"colorbar\": {\"outlinewidth\": 0, \"ticks\": \"\"}}, \"type\": \"scatterpolargl\"}], \"scatterternary\": [{\"marker\": {\"colorbar\": {\"outlinewidth\": 0, \"ticks\": \"\"}}, \"type\": \"scatterternary\"}], \"surface\": [{\"colorbar\": {\"outlinewidth\": 0, \"ticks\": \"\"}, \"colorscale\": [[0.0, \"#0d0887\"], [0.1111111111111111, \"#46039f\"], [0.2222222222222222, \"#7201a8\"], [0.3333333333333333, \"#9c179e\"], [0.4444444444444444, \"#bd3786\"], [0.5555555555555556, \"#d8576b\"], [0.6666666666666666, \"#ed7953\"], [0.7777777777777778, \"#fb9f3a\"], [0.8888888888888888, \"#fdca26\"], [1.0, \"#f0f921\"]], \"type\": \"surface\"}], \"table\": [{\"cells\": {\"fill\": {\"color\": \"#EBF0F8\"}, \"line\": {\"color\": \"white\"}}, \"header\": {\"fill\": {\"color\": \"#C8D4E3\"}, \"line\": {\"color\": \"white\"}}, \"type\": \"table\"}]}, \"layout\": {\"annotationdefaults\": {\"arrowcolor\": \"#2a3f5f\", \"arrowhead\": 0, \"arrowwidth\": 1}, \"colorscale\": {\"diverging\": [[0, \"#8e0152\"], [0.1, \"#c51b7d\"], [0.2, \"#de77ae\"], [0.3, \"#f1b6da\"], [0.4, \"#fde0ef\"], [0.5, \"#f7f7f7\"], [0.6, \"#e6f5d0\"], [0.7, \"#b8e186\"], [0.8, \"#7fbc41\"], [0.9, \"#4d9221\"], [1, \"#276419\"]], \"sequential\": [[0.0, \"#0d0887\"], [0.1111111111111111, \"#46039f\"], [0.2222222222222222, \"#7201a8\"], [0.3333333333333333, \"#9c179e\"], [0.4444444444444444, \"#bd3786\"], [0.5555555555555556, \"#d8576b\"], [0.6666666666666666, \"#ed7953\"], [0.7777777777777778, \"#fb9f3a\"], [0.8888888888888888, \"#fdca26\"], [1.0, \"#f0f921\"]], \"sequentialminus\": [[0.0, \"#0d0887\"], [0.1111111111111111, \"#46039f\"], [0.2222222222222222, \"#7201a8\"], [0.3333333333333333, \"#9c179e\"], [0.4444444444444444, \"#bd3786\"], [0.5555555555555556, \"#d8576b\"], [0.6666666666666666, \"#ed7953\"], [0.7777777777777778, \"#fb9f3a\"], [0.8888888888888888, \"#fdca26\"], [1.0, \"#f0f921\"]]}, \"colorway\": [\"#636efa\", \"#EF553B\", \"#00cc96\", \"#ab63fa\", \"#FFA15A\", \"#19d3f3\", \"#FF6692\", \"#B6E880\", \"#FF97FF\", \"#FECB52\"], \"font\": {\"color\": \"#2a3f5f\"}, \"geo\": {\"bgcolor\": \"white\", \"lakecolor\": \"white\", \"landcolor\": \"#E5ECF6\", \"showlakes\": true, \"showland\": true, \"subunitcolor\": \"white\"}, \"hoverlabel\": {\"align\": \"left\"}, \"hovermode\": \"closest\", \"mapbox\": {\"style\": \"light\"}, \"paper_bgcolor\": \"white\", \"plot_bgcolor\": \"#E5ECF6\", \"polar\": {\"angularaxis\": {\"gridcolor\": \"white\", \"linecolor\": \"white\", \"ticks\": \"\"}, \"bgcolor\": \"#E5ECF6\", \"radialaxis\": {\"gridcolor\": \"white\", \"linecolor\": \"white\", \"ticks\": \"\"}}, \"scene\": {\"xaxis\": {\"backgroundcolor\": \"#E5ECF6\", \"gridcolor\": \"white\", \"gridwidth\": 2, \"linecolor\": \"white\", \"showbackground\": true, \"ticks\": \"\", \"zerolinecolor\": \"white\"}, \"yaxis\": {\"backgroundcolor\": \"#E5ECF6\", \"gridcolor\": \"white\", \"gridwidth\": 2, \"linecolor\": \"white\", \"showbackground\": true, \"ticks\": \"\", \"zerolinecolor\": \"white\"}, \"zaxis\": {\"backgroundcolor\": \"#E5ECF6\", \"gridcolor\": \"white\", \"gridwidth\": 2, \"linecolor\": \"white\", \"showbackground\": true, \"ticks\": \"\", \"zerolinecolor\": \"white\"}}, \"shapedefaults\": {\"line\": {\"color\": \"#2a3f5f\"}}, \"ternary\": {\"aaxis\": {\"gridcolor\": \"white\", \"linecolor\": \"white\", \"ticks\": \"\"}, \"baxis\": {\"gridcolor\": \"white\", \"linecolor\": \"white\", \"ticks\": \"\"}, \"bgcolor\": \"#E5ECF6\", \"caxis\": {\"gridcolor\": \"white\", \"linecolor\": \"white\", \"ticks\": \"\"}}, \"title\": {\"x\": 0.05}, \"xaxis\": {\"automargin\": true, \"gridcolor\": \"white\", \"linecolor\": \"white\", \"ticks\": \"\", \"zerolinecolor\": \"white\", \"zerolinewidth\": 2}, \"yaxis\": {\"automargin\": true, \"gridcolor\": \"white\", \"linecolor\": \"white\", \"ticks\": \"\", \"zerolinecolor\": \"white\", \"zerolinewidth\": 2}}}, \"title\": {\"text\": \"Gastos de Nino Baltolu Rasera \"}},\n",
       "                        {\"responsive\": true}\n",
       "                    ).then(function(){\n",
       "                            \n",
       "var gd = document.getElementById('315000b4-7f82-411d-b544-07c7e22ed068');\n",
       "var x = new MutationObserver(function (mutations, observer) {{\n",
       "        var display = window.getComputedStyle(gd).display;\n",
       "        if (!display || display === 'none') {{\n",
       "            console.log([gd, 'removed!']);\n",
       "            Plotly.purge(gd);\n",
       "            observer.disconnect();\n",
       "        }}\n",
       "}});\n",
       "\n",
       "// Listen for the removal of the full notebook cells\n",
       "var notebookContainer = gd.closest('#notebook-container');\n",
       "if (notebookContainer) {{\n",
       "    x.observe(notebookContainer, {childList: true});\n",
       "}}\n",
       "\n",
       "// Listen for the clearing of the current output cell\n",
       "var outputEl = gd.closest('.output');\n",
       "if (outputEl) {{\n",
       "    x.observe(outputEl, {childList: true});\n",
       "}}\n",
       "\n",
       "                        })\n",
       "                };\n",
       "                });\n",
       "            </script>\n",
       "        </div>"
      ]
     },
     "metadata": {},
     "output_type": "display_data"
    }
   ],
   "source": [
    "get_all_info(926)"
   ]
  },
  {
   "cell_type": "code",
   "execution_count": 18,
   "metadata": {},
   "outputs": [
    {
     "name": "stdout",
     "output_type": "stream",
     "text": [
      "Finished getting biographical data\n",
      "Finished getting expenditure\n"
     ]
    },
    {
     "data": {
      "application/vnd.plotly.v1+json": {
       "config": {
        "plotlyServerURL": "https://plot.ly"
       },
       "data": [
        {
         "name": "Oficinas parlamentarias (incluye arriendos, consumos básicos, internet, etc.)  ",
         "type": "bar",
         "x": [
          "18-enero",
          "18-febrero",
          "18-marzo",
          "18-abril",
          "18-mayo",
          "18-junio",
          "18-julio",
          "18-agosto",
          "18-septiembre",
          "18-octubre",
          "18-noviembre",
          "18-diciembre",
          "19-enero",
          "19-febrero",
          "19-marzo",
          "19-abril",
          "19-mayo",
          "19-junio",
          "19-julio",
          "19-agosto",
          "19-septiembre",
          "19-octubre",
          "19-noviembre",
          "19-diciembre"
         ],
         "y": [
          0,
          0,
          1035000,
          1485000,
          1602150,
          1723889,
          0,
          0,
          0,
          0,
          0,
          0,
          0,
          0,
          0,
          0,
          0,
          0,
          0,
          0,
          0,
          0,
          0,
          0
         ]
        },
        {
         "name": "Telefonía  ",
         "type": "bar",
         "x": [
          "18-enero",
          "18-febrero",
          "18-marzo",
          "18-abril",
          "18-mayo",
          "18-junio",
          "18-julio",
          "18-agosto",
          "18-septiembre",
          "18-octubre",
          "18-noviembre",
          "18-diciembre",
          "19-enero",
          "19-febrero",
          "19-marzo",
          "19-abril",
          "19-mayo",
          "19-junio",
          "19-julio",
          "19-agosto",
          "19-septiembre",
          "19-octubre",
          "19-noviembre",
          "19-diciembre"
         ],
         "y": [
          0,
          0,
          263532,
          270852,
          131679,
          131707,
          131927,
          132541,
          346161,
          131679,
          131825,
          131771,
          131679,
          267453,
          155683,
          161179,
          131679,
          137853,
          0,
          0,
          0,
          0,
          0,
          0
         ]
        },
        {
         "name": "Traslación  ",
         "type": "bar",
         "x": [
          "18-enero",
          "18-febrero",
          "18-marzo",
          "18-abril",
          "18-mayo",
          "18-junio",
          "18-julio",
          "18-agosto",
          "18-septiembre",
          "18-octubre",
          "18-noviembre",
          "18-diciembre",
          "19-enero",
          "19-febrero",
          "19-marzo",
          "19-abril",
          "19-mayo",
          "19-junio",
          "19-julio",
          "19-agosto",
          "19-septiembre",
          "19-octubre",
          "19-noviembre",
          "19-diciembre"
         ],
         "y": [
          0,
          0,
          0,
          0,
          0,
          0,
          0,
          0,
          0,
          0,
          0,
          0,
          2410004,
          1165845,
          1857051,
          2131877,
          2081307,
          1735534,
          0,
          0,
          0,
          0,
          0,
          0
         ]
        },
        {
         "name": "Vehículos  ",
         "type": "bar",
         "x": [
          "18-enero",
          "18-febrero",
          "18-marzo",
          "18-abril",
          "18-mayo",
          "18-junio",
          "18-julio",
          "18-agosto",
          "18-septiembre",
          "18-octubre",
          "18-noviembre",
          "18-diciembre",
          "19-enero",
          "19-febrero",
          "19-marzo",
          "19-abril",
          "19-mayo",
          "19-junio",
          "19-julio",
          "19-agosto",
          "19-septiembre",
          "19-octubre",
          "19-noviembre",
          "19-diciembre"
         ],
         "y": [
          0,
          0,
          135100,
          396557,
          800000,
          993000,
          1600000,
          844278,
          846440,
          848750,
          851865,
          0,
          0,
          0,
          0,
          0,
          0,
          0,
          0,
          0,
          0,
          0,
          0,
          0
         ]
        },
        {
         "name": "Combustible  ",
         "type": "bar",
         "x": [
          "18-enero",
          "18-febrero",
          "18-marzo",
          "18-abril",
          "18-mayo",
          "18-junio",
          "18-julio",
          "18-agosto",
          "18-septiembre",
          "18-octubre",
          "18-noviembre",
          "18-diciembre",
          "19-enero",
          "19-febrero",
          "19-marzo",
          "19-abril",
          "19-mayo",
          "19-junio",
          "19-julio",
          "19-agosto",
          "19-septiembre",
          "19-octubre",
          "19-noviembre",
          "19-diciembre"
         ],
         "y": [
          0,
          0,
          200079,
          228247,
          24531,
          80003,
          95276,
          217333,
          182357,
          247025,
          301835,
          122891,
          0,
          0,
          0,
          0,
          0,
          0,
          0,
          0,
          0,
          0,
          0,
          0
         ]
        },
        {
         "name": "Alojamiento  ",
         "type": "bar",
         "x": [
          "18-enero",
          "18-febrero",
          "18-marzo",
          "18-abril",
          "18-mayo",
          "18-junio",
          "18-julio",
          "18-agosto",
          "18-septiembre",
          "18-octubre",
          "18-noviembre",
          "18-diciembre",
          "19-enero",
          "19-febrero",
          "19-marzo",
          "19-abril",
          "19-mayo",
          "19-junio",
          "19-julio",
          "19-agosto",
          "19-septiembre",
          "19-octubre",
          "19-noviembre",
          "19-diciembre"
         ],
         "y": [
          0,
          0,
          80000,
          530936,
          0,
          0,
          293351,
          80000,
          40000,
          120000,
          0,
          183260,
          0,
          0,
          0,
          0,
          0,
          0,
          0,
          0,
          0,
          0,
          0,
          0
         ]
        },
        {
         "name": "Alimentación  ",
         "type": "bar",
         "x": [
          "18-enero",
          "18-febrero",
          "18-marzo",
          "18-abril",
          "18-mayo",
          "18-junio",
          "18-julio",
          "18-agosto",
          "18-septiembre",
          "18-octubre",
          "18-noviembre",
          "18-diciembre",
          "19-enero",
          "19-febrero",
          "19-marzo",
          "19-abril",
          "19-mayo",
          "19-junio",
          "19-julio",
          "19-agosto",
          "19-septiembre",
          "19-octubre",
          "19-noviembre",
          "19-diciembre"
         ],
         "y": [
          0,
          0,
          98850,
          241900,
          0,
          35800,
          55430,
          289490,
          19500,
          89980,
          2200,
          16670,
          0,
          0,
          0,
          0,
          0,
          0,
          0,
          0,
          0,
          0,
          0,
          0
         ]
        },
        {
         "name": "Viáticos  ",
         "type": "bar",
         "x": [
          "18-enero",
          "18-febrero",
          "18-marzo",
          "18-abril",
          "18-mayo",
          "18-junio",
          "18-julio",
          "18-agosto",
          "18-septiembre",
          "18-octubre",
          "18-noviembre",
          "18-diciembre",
          "19-enero",
          "19-febrero",
          "19-marzo",
          "19-abril",
          "19-mayo",
          "19-junio",
          "19-julio",
          "19-agosto",
          "19-septiembre",
          "19-octubre",
          "19-noviembre",
          "19-diciembre"
         ],
         "y": [
          0,
          0,
          613640,
          920448,
          0,
          0,
          0,
          0,
          0,
          0,
          0,
          0,
          0,
          0,
          0,
          0,
          0,
          0,
          0,
          0,
          0,
          0,
          0,
          0
         ]
        },
        {
         "name": "Correspondencia  ",
         "type": "bar",
         "x": [
          "18-enero",
          "18-febrero",
          "18-marzo",
          "18-abril",
          "18-mayo",
          "18-junio",
          "18-julio",
          "18-agosto",
          "18-septiembre",
          "18-octubre",
          "18-noviembre",
          "18-diciembre",
          "19-enero",
          "19-febrero",
          "19-marzo",
          "19-abril",
          "19-mayo",
          "19-junio",
          "19-julio",
          "19-agosto",
          "19-septiembre",
          "19-octubre",
          "19-noviembre",
          "19-diciembre"
         ],
         "y": [
          0,
          0,
          352217,
          34137,
          119800,
          68924,
          0,
          0,
          0,
          0,
          0,
          0,
          16483,
          0,
          0,
          0,
          0,
          0,
          0,
          0,
          0,
          0,
          0,
          0
         ]
        },
        {
         "name": "Materiales de oficina  ",
         "type": "bar",
         "x": [
          "18-enero",
          "18-febrero",
          "18-marzo",
          "18-abril",
          "18-mayo",
          "18-junio",
          "18-julio",
          "18-agosto",
          "18-septiembre",
          "18-octubre",
          "18-noviembre",
          "18-diciembre",
          "19-enero",
          "19-febrero",
          "19-marzo",
          "19-abril",
          "19-mayo",
          "19-junio",
          "19-julio",
          "19-agosto",
          "19-septiembre",
          "19-octubre",
          "19-noviembre",
          "19-diciembre"
         ],
         "y": [
          0,
          0,
          209308,
          141015,
          63722,
          9900,
          0,
          0,
          0,
          0,
          0,
          0,
          120389,
          0,
          191650,
          317732,
          0,
          184210,
          0,
          0,
          0,
          0,
          0,
          0
         ]
        },
        {
         "name": "Difusión  ",
         "type": "bar",
         "x": [
          "18-enero",
          "18-febrero",
          "18-marzo",
          "18-abril",
          "18-mayo",
          "18-junio",
          "18-julio",
          "18-agosto",
          "18-septiembre",
          "18-octubre",
          "18-noviembre",
          "18-diciembre",
          "19-enero",
          "19-febrero",
          "19-marzo",
          "19-abril",
          "19-mayo",
          "19-junio",
          "19-julio",
          "19-agosto",
          "19-septiembre",
          "19-octubre",
          "19-noviembre",
          "19-diciembre"
         ],
         "y": [
          0,
          0,
          200000,
          0,
          296000,
          278500,
          100000,
          0,
          15000,
          115000,
          129352,
          157168,
          1115000,
          0,
          136204,
          432131,
          500484,
          1497344,
          0,
          0,
          0,
          0,
          0,
          0
         ]
        },
        {
         "name": "Actividades distritales  ",
         "type": "bar",
         "x": [
          "18-enero",
          "18-febrero",
          "18-marzo",
          "18-abril",
          "18-mayo",
          "18-junio",
          "18-julio",
          "18-agosto",
          "18-septiembre",
          "18-octubre",
          "18-noviembre",
          "18-diciembre",
          "19-enero",
          "19-febrero",
          "19-marzo",
          "19-abril",
          "19-mayo",
          "19-junio",
          "19-julio",
          "19-agosto",
          "19-septiembre",
          "19-octubre",
          "19-noviembre",
          "19-diciembre"
         ],
         "y": [
          0,
          0,
          465500,
          665000,
          665000,
          665000,
          0,
          0,
          0,
          0,
          0,
          0,
          0,
          0,
          0,
          0,
          0,
          0,
          0,
          0,
          0,
          0,
          0,
          0
         ]
        },
        {
         "name": "Tag y peajes  ",
         "type": "bar",
         "x": [
          "18-enero",
          "18-febrero",
          "18-marzo",
          "18-abril",
          "18-mayo",
          "18-junio",
          "18-julio",
          "18-agosto",
          "18-septiembre",
          "18-octubre",
          "18-noviembre",
          "18-diciembre",
          "19-enero",
          "19-febrero",
          "19-marzo",
          "19-abril",
          "19-mayo",
          "19-junio",
          "19-julio",
          "19-agosto",
          "19-septiembre",
          "19-octubre",
          "19-noviembre",
          "19-diciembre"
         ],
         "y": [
          0,
          0,
          0,
          59700,
          3547,
          82521,
          0,
          107422,
          72862,
          0,
          97067,
          0,
          0,
          0,
          0,
          0,
          0,
          0,
          0,
          0,
          0,
          0,
          0,
          0
         ]
        },
        {
         "name": "Pasajes de movilización  ",
         "type": "bar",
         "x": [
          "18-enero",
          "18-febrero",
          "18-marzo",
          "18-abril",
          "18-mayo",
          "18-junio",
          "18-julio",
          "18-agosto",
          "18-septiembre",
          "18-octubre",
          "18-noviembre",
          "18-diciembre",
          "19-enero",
          "19-febrero",
          "19-marzo",
          "19-abril",
          "19-mayo",
          "19-junio",
          "19-julio",
          "19-agosto",
          "19-septiembre",
          "19-octubre",
          "19-noviembre",
          "19-diciembre"
         ],
         "y": [
          0,
          0,
          0,
          19350,
          0,
          0,
          247784,
          66900,
          0,
          0,
          0,
          13600,
          0,
          0,
          0,
          0,
          0,
          0,
          0,
          0,
          0,
          0,
          0,
          0
         ]
        },
        {
         "name": "Estacionamientos  ",
         "type": "bar",
         "x": [
          "18-enero",
          "18-febrero",
          "18-marzo",
          "18-abril",
          "18-mayo",
          "18-junio",
          "18-julio",
          "18-agosto",
          "18-septiembre",
          "18-octubre",
          "18-noviembre",
          "18-diciembre",
          "19-enero",
          "19-febrero",
          "19-marzo",
          "19-abril",
          "19-mayo",
          "19-junio",
          "19-julio",
          "19-agosto",
          "19-septiembre",
          "19-octubre",
          "19-noviembre",
          "19-diciembre"
         ],
         "y": [
          0,
          0,
          0,
          10248,
          4500,
          0,
          0,
          0,
          0,
          0,
          0,
          0,
          0,
          0,
          0,
          0,
          0,
          0,
          0,
          0,
          0,
          0,
          0,
          0
         ]
        },
        {
         "name": "Servicios y gastos menores  ",
         "type": "bar",
         "x": [
          "18-enero",
          "18-febrero",
          "18-marzo",
          "18-abril",
          "18-mayo",
          "18-junio",
          "18-julio",
          "18-agosto",
          "18-septiembre",
          "18-octubre",
          "18-noviembre",
          "18-diciembre",
          "19-enero",
          "19-febrero",
          "19-marzo",
          "19-abril",
          "19-mayo",
          "19-junio",
          "19-julio",
          "19-agosto",
          "19-septiembre",
          "19-octubre",
          "19-noviembre",
          "19-diciembre"
         ],
         "y": [
          0,
          0,
          0,
          5000,
          0,
          99960,
          0,
          0,
          0,
          0,
          0,
          0,
          0,
          0,
          0,
          0,
          0,
          0,
          0,
          0,
          0,
          0,
          0,
          0
         ]
        },
        {
         "name": "Actividades territoriales  ",
         "type": "bar",
         "x": [
          "18-enero",
          "18-febrero",
          "18-marzo",
          "18-abril",
          "18-mayo",
          "18-junio",
          "18-julio",
          "18-agosto",
          "18-septiembre",
          "18-octubre",
          "18-noviembre",
          "18-diciembre",
          "19-enero",
          "19-febrero",
          "19-marzo",
          "19-abril",
          "19-mayo",
          "19-junio",
          "19-julio",
          "19-agosto",
          "19-septiembre",
          "19-octubre",
          "19-noviembre",
          "19-diciembre"
         ],
         "y": [
          0,
          0,
          0,
          0,
          0,
          0,
          2503473,
          2243085,
          2251307,
          3671524,
          1887752,
          1905439,
          0,
          0,
          0,
          0,
          0,
          0,
          0,
          0,
          0,
          0,
          0,
          0
         ]
        },
        {
         "name": "Vehiculos- amortizacion  ",
         "type": "bar",
         "x": [
          "18-enero",
          "18-febrero",
          "18-marzo",
          "18-abril",
          "18-mayo",
          "18-junio",
          "18-julio",
          "18-agosto",
          "18-septiembre",
          "18-octubre",
          "18-noviembre",
          "18-diciembre",
          "19-enero",
          "19-febrero",
          "19-marzo",
          "19-abril",
          "19-mayo",
          "19-junio",
          "19-julio",
          "19-agosto",
          "19-septiembre",
          "19-octubre",
          "19-noviembre",
          "19-diciembre"
         ],
         "y": [
          0,
          0,
          0,
          0,
          0,
          0,
          193000,
          193000,
          193000,
          193000,
          193000,
          193000,
          0,
          0,
          0,
          0,
          0,
          0,
          0,
          0,
          0,
          0,
          0,
          0
         ]
        },
        {
         "name": "Viáticos del diputado  ",
         "type": "bar",
         "x": [
          "18-enero",
          "18-febrero",
          "18-marzo",
          "18-abril",
          "18-mayo",
          "18-junio",
          "18-julio",
          "18-agosto",
          "18-septiembre",
          "18-octubre",
          "18-noviembre",
          "18-diciembre",
          "19-enero",
          "19-febrero",
          "19-marzo",
          "19-abril",
          "19-mayo",
          "19-junio",
          "19-julio",
          "19-agosto",
          "19-septiembre",
          "19-octubre",
          "19-noviembre",
          "19-diciembre"
         ],
         "y": [
          0,
          0,
          0,
          0,
          0,
          0,
          786210,
          630492,
          786210,
          707589,
          864831,
          1022073,
          0,
          0,
          0,
          0,
          0,
          0,
          0,
          0,
          0,
          0,
          0,
          0
         ]
        },
        {
         "name": "Traspaso desde gastos operacionales a asignación personal de apoyo  ",
         "type": "bar",
         "x": [
          "18-enero",
          "18-febrero",
          "18-marzo",
          "18-abril",
          "18-mayo",
          "18-junio",
          "18-julio",
          "18-agosto",
          "18-septiembre",
          "18-octubre",
          "18-noviembre",
          "18-diciembre",
          "19-enero",
          "19-febrero",
          "19-marzo",
          "19-abril",
          "19-mayo",
          "19-junio",
          "19-julio",
          "19-agosto",
          "19-septiembre",
          "19-octubre",
          "19-noviembre",
          "19-diciembre"
         ],
         "y": [
          0,
          0,
          0,
          0,
          0,
          0,
          0,
          0,
          0,
          0,
          0,
          0,
          0,
          0,
          0,
          0,
          0,
          1000000,
          0,
          0,
          0,
          0,
          0,
          0
         ]
        },
        {
         "name": "Actividades destinadas a la interacción con la comunidad  ",
         "type": "bar",
         "x": [
          "18-enero",
          "18-febrero",
          "18-marzo",
          "18-abril",
          "18-mayo",
          "18-junio",
          "18-julio",
          "18-agosto",
          "18-septiembre",
          "18-octubre",
          "18-noviembre",
          "18-diciembre",
          "19-enero",
          "19-febrero",
          "19-marzo",
          "19-abril",
          "19-mayo",
          "19-junio",
          "19-julio",
          "19-agosto",
          "19-septiembre",
          "19-octubre",
          "19-noviembre",
          "19-diciembre"
         ],
         "y": [
          0,
          0,
          0,
          0,
          0,
          0,
          0,
          0,
          0,
          0,
          0,
          0,
          0,
          0,
          0,
          0,
          0,
          0,
          0,
          0,
          0,
          0,
          0,
          0
         ]
        },
        {
         "name": "Arriendo de inmueble  ",
         "type": "bar",
         "x": [
          "18-enero",
          "18-febrero",
          "18-marzo",
          "18-abril",
          "18-mayo",
          "18-junio",
          "18-julio",
          "18-agosto",
          "18-septiembre",
          "18-octubre",
          "18-noviembre",
          "18-diciembre",
          "19-enero",
          "19-febrero",
          "19-marzo",
          "19-abril",
          "19-mayo",
          "19-junio",
          "19-julio",
          "19-agosto",
          "19-septiembre",
          "19-octubre",
          "19-noviembre",
          "19-diciembre"
         ],
         "y": [
          0,
          0,
          0,
          0,
          0,
          0,
          0,
          0,
          0,
          0,
          0,
          0,
          980000,
          980000,
          980000,
          980000,
          980000,
          980000,
          0,
          0,
          0,
          0,
          0,
          0
         ]
        },
        {
         "name": "Consumos básicos  ",
         "type": "bar",
         "x": [
          "18-enero",
          "18-febrero",
          "18-marzo",
          "18-abril",
          "18-mayo",
          "18-junio",
          "18-julio",
          "18-agosto",
          "18-septiembre",
          "18-octubre",
          "18-noviembre",
          "18-diciembre",
          "19-enero",
          "19-febrero",
          "19-marzo",
          "19-abril",
          "19-mayo",
          "19-junio",
          "19-julio",
          "19-agosto",
          "19-septiembre",
          "19-octubre",
          "19-noviembre",
          "19-diciembre"
         ],
         "y": [
          0,
          0,
          0,
          0,
          0,
          0,
          0,
          0,
          0,
          0,
          0,
          0,
          54100,
          98900,
          43950,
          57850,
          115900,
          108950,
          0,
          0,
          0,
          0,
          0,
          0
         ]
        },
        {
         "name": "Equipamiento oficina parlamentaria  ",
         "type": "bar",
         "x": [
          "18-enero",
          "18-febrero",
          "18-marzo",
          "18-abril",
          "18-mayo",
          "18-junio",
          "18-julio",
          "18-agosto",
          "18-septiembre",
          "18-octubre",
          "18-noviembre",
          "18-diciembre",
          "19-enero",
          "19-febrero",
          "19-marzo",
          "19-abril",
          "19-mayo",
          "19-junio",
          "19-julio",
          "19-agosto",
          "19-septiembre",
          "19-octubre",
          "19-noviembre",
          "19-diciembre"
         ],
         "y": [
          0,
          0,
          0,
          0,
          0,
          0,
          0,
          0,
          0,
          0,
          0,
          0,
          0,
          0,
          0,
          199000,
          0,
          508780,
          0,
          0,
          0,
          0,
          0,
          0
         ]
        },
        {
         "name": "Gastos de mantención oficina parlamentaria (inmueble)  ",
         "type": "bar",
         "x": [
          "18-enero",
          "18-febrero",
          "18-marzo",
          "18-abril",
          "18-mayo",
          "18-junio",
          "18-julio",
          "18-agosto",
          "18-septiembre",
          "18-octubre",
          "18-noviembre",
          "18-diciembre",
          "19-enero",
          "19-febrero",
          "19-marzo",
          "19-abril",
          "19-mayo",
          "19-junio",
          "19-julio",
          "19-agosto",
          "19-septiembre",
          "19-octubre",
          "19-noviembre",
          "19-diciembre"
         ],
         "y": [
          0,
          0,
          0,
          0,
          0,
          0,
          0,
          0,
          0,
          0,
          0,
          0,
          0,
          0,
          0,
          40000,
          0,
          0,
          0,
          0,
          0,
          0,
          0,
          0
         ]
        },
        {
         "name": "Reparaciones locativas del inmueble  ",
         "type": "bar",
         "x": [
          "18-enero",
          "18-febrero",
          "18-marzo",
          "18-abril",
          "18-mayo",
          "18-junio",
          "18-julio",
          "18-agosto",
          "18-septiembre",
          "18-octubre",
          "18-noviembre",
          "18-diciembre",
          "19-enero",
          "19-febrero",
          "19-marzo",
          "19-abril",
          "19-mayo",
          "19-junio",
          "19-julio",
          "19-agosto",
          "19-septiembre",
          "19-octubre",
          "19-noviembre",
          "19-diciembre"
         ],
         "y": [
          0,
          0,
          0,
          0,
          0,
          0,
          0,
          0,
          0,
          0,
          0,
          0,
          0,
          0,
          0,
          0,
          0,
          0,
          0,
          0,
          0,
          0,
          0,
          0
         ]
        },
        {
         "name": "Habilitación de sedes parlamentarias (con autorización de crap)  ",
         "type": "bar",
         "x": [
          "18-enero",
          "18-febrero",
          "18-marzo",
          "18-abril",
          "18-mayo",
          "18-junio",
          "18-julio",
          "18-agosto",
          "18-septiembre",
          "18-octubre",
          "18-noviembre",
          "18-diciembre",
          "19-enero",
          "19-febrero",
          "19-marzo",
          "19-abril",
          "19-mayo",
          "19-junio",
          "19-julio",
          "19-agosto",
          "19-septiembre",
          "19-octubre",
          "19-noviembre",
          "19-diciembre"
         ],
         "y": [
          0,
          0,
          0,
          0,
          0,
          0,
          0,
          0,
          0,
          0,
          0,
          0,
          0,
          0,
          0,
          0,
          0,
          0,
          0,
          0,
          0,
          0,
          0,
          0
         ]
        },
        {
         "name": "Seguros de bienes  ",
         "type": "bar",
         "x": [
          "18-enero",
          "18-febrero",
          "18-marzo",
          "18-abril",
          "18-mayo",
          "18-junio",
          "18-julio",
          "18-agosto",
          "18-septiembre",
          "18-octubre",
          "18-noviembre",
          "18-diciembre",
          "19-enero",
          "19-febrero",
          "19-marzo",
          "19-abril",
          "19-mayo",
          "19-junio",
          "19-julio",
          "19-agosto",
          "19-septiembre",
          "19-octubre",
          "19-noviembre",
          "19-diciembre"
         ],
         "y": [
          0,
          0,
          0,
          0,
          0,
          0,
          0,
          0,
          0,
          0,
          0,
          0,
          0,
          0,
          0,
          0,
          0,
          0,
          0,
          0,
          0,
          0,
          0,
          0
         ]
        },
        {
         "name": "Arriendo de oficinas virtuales  ",
         "type": "bar",
         "x": [
          "18-enero",
          "18-febrero",
          "18-marzo",
          "18-abril",
          "18-mayo",
          "18-junio",
          "18-julio",
          "18-agosto",
          "18-septiembre",
          "18-octubre",
          "18-noviembre",
          "18-diciembre",
          "19-enero",
          "19-febrero",
          "19-marzo",
          "19-abril",
          "19-mayo",
          "19-junio",
          "19-julio",
          "19-agosto",
          "19-septiembre",
          "19-octubre",
          "19-noviembre",
          "19-diciembre"
         ],
         "y": [
          0,
          0,
          0,
          0,
          0,
          0,
          0,
          0,
          0,
          0,
          0,
          0,
          0,
          0,
          0,
          0,
          0,
          0,
          0,
          0,
          0,
          0,
          0,
          0
         ]
        },
        {
         "name": "Servicios web  ",
         "type": "bar",
         "x": [
          "18-enero",
          "18-febrero",
          "18-marzo",
          "18-abril",
          "18-mayo",
          "18-junio",
          "18-julio",
          "18-agosto",
          "18-septiembre",
          "18-octubre",
          "18-noviembre",
          "18-diciembre",
          "19-enero",
          "19-febrero",
          "19-marzo",
          "19-abril",
          "19-mayo",
          "19-junio",
          "19-julio",
          "19-agosto",
          "19-septiembre",
          "19-octubre",
          "19-noviembre",
          "19-diciembre"
         ],
         "y": [
          0,
          0,
          0,
          0,
          0,
          0,
          0,
          0,
          0,
          0,
          0,
          0,
          0,
          0,
          0,
          350000,
          105042,
          350000,
          0,
          0,
          0,
          0,
          0,
          0
         ]
        },
        {
         "name": "Contratación servicio de almacenamiento  ",
         "type": "bar",
         "x": [
          "18-enero",
          "18-febrero",
          "18-marzo",
          "18-abril",
          "18-mayo",
          "18-junio",
          "18-julio",
          "18-agosto",
          "18-septiembre",
          "18-octubre",
          "18-noviembre",
          "18-diciembre",
          "19-enero",
          "19-febrero",
          "19-marzo",
          "19-abril",
          "19-mayo",
          "19-junio",
          "19-julio",
          "19-agosto",
          "19-septiembre",
          "19-octubre",
          "19-noviembre",
          "19-diciembre"
         ],
         "y": [
          0,
          0,
          0,
          0,
          0,
          0,
          0,
          0,
          0,
          0,
          0,
          0,
          0,
          0,
          0,
          0,
          0,
          0,
          0,
          0,
          0,
          0,
          0,
          0
         ]
        },
        {
         "name": "Arriendo de oficina móvil  ",
         "type": "bar",
         "x": [
          "18-enero",
          "18-febrero",
          "18-marzo",
          "18-abril",
          "18-mayo",
          "18-junio",
          "18-julio",
          "18-agosto",
          "18-septiembre",
          "18-octubre",
          "18-noviembre",
          "18-diciembre",
          "19-enero",
          "19-febrero",
          "19-marzo",
          "19-abril",
          "19-mayo",
          "19-junio",
          "19-julio",
          "19-agosto",
          "19-septiembre",
          "19-octubre",
          "19-noviembre",
          "19-diciembre"
         ],
         "y": [
          0,
          0,
          0,
          0,
          0,
          0,
          0,
          0,
          0,
          0,
          0,
          0,
          0,
          0,
          0,
          0,
          0,
          0,
          0,
          0,
          0,
          0,
          0,
          0
         ]
        },
        {
         "name": "Mantencion y reparación de oficina móvil  ",
         "type": "bar",
         "x": [
          "18-enero",
          "18-febrero",
          "18-marzo",
          "18-abril",
          "18-mayo",
          "18-junio",
          "18-julio",
          "18-agosto",
          "18-septiembre",
          "18-octubre",
          "18-noviembre",
          "18-diciembre",
          "19-enero",
          "19-febrero",
          "19-marzo",
          "19-abril",
          "19-mayo",
          "19-junio",
          "19-julio",
          "19-agosto",
          "19-septiembre",
          "19-octubre",
          "19-noviembre",
          "19-diciembre"
         ],
         "y": [
          0,
          0,
          0,
          0,
          0,
          0,
          0,
          0,
          0,
          0,
          0,
          0,
          0,
          0,
          0,
          0,
          0,
          0,
          0,
          0,
          0,
          0,
          0,
          0
         ]
        },
        {
         "name": "Servicios menores  ",
         "type": "bar",
         "x": [
          "18-enero",
          "18-febrero",
          "18-marzo",
          "18-abril",
          "18-mayo",
          "18-junio",
          "18-julio",
          "18-agosto",
          "18-septiembre",
          "18-octubre",
          "18-noviembre",
          "18-diciembre",
          "19-enero",
          "19-febrero",
          "19-marzo",
          "19-abril",
          "19-mayo",
          "19-junio",
          "19-julio",
          "19-agosto",
          "19-septiembre",
          "19-octubre",
          "19-noviembre",
          "19-diciembre"
         ],
         "y": [
          0,
          0,
          0,
          0,
          0,
          0,
          0,
          0,
          0,
          0,
          0,
          0,
          239990,
          0,
          239990,
          239990,
          239990,
          239990,
          0,
          0,
          0,
          0,
          0,
          0
         ]
        }
       ],
       "layout": {
        "barmode": "stack",
        "showlegend": false,
        "template": {
         "data": {
          "bar": [
           {
            "error_x": {
             "color": "#2a3f5f"
            },
            "error_y": {
             "color": "#2a3f5f"
            },
            "marker": {
             "line": {
              "color": "#E5ECF6",
              "width": 0.5
             }
            },
            "type": "bar"
           }
          ],
          "barpolar": [
           {
            "marker": {
             "line": {
              "color": "#E5ECF6",
              "width": 0.5
             }
            },
            "type": "barpolar"
           }
          ],
          "carpet": [
           {
            "aaxis": {
             "endlinecolor": "#2a3f5f",
             "gridcolor": "white",
             "linecolor": "white",
             "minorgridcolor": "white",
             "startlinecolor": "#2a3f5f"
            },
            "baxis": {
             "endlinecolor": "#2a3f5f",
             "gridcolor": "white",
             "linecolor": "white",
             "minorgridcolor": "white",
             "startlinecolor": "#2a3f5f"
            },
            "type": "carpet"
           }
          ],
          "choropleth": [
           {
            "colorbar": {
             "outlinewidth": 0,
             "ticks": ""
            },
            "type": "choropleth"
           }
          ],
          "contour": [
           {
            "colorbar": {
             "outlinewidth": 0,
             "ticks": ""
            },
            "colorscale": [
             [
              0,
              "#0d0887"
             ],
             [
              0.1111111111111111,
              "#46039f"
             ],
             [
              0.2222222222222222,
              "#7201a8"
             ],
             [
              0.3333333333333333,
              "#9c179e"
             ],
             [
              0.4444444444444444,
              "#bd3786"
             ],
             [
              0.5555555555555556,
              "#d8576b"
             ],
             [
              0.6666666666666666,
              "#ed7953"
             ],
             [
              0.7777777777777778,
              "#fb9f3a"
             ],
             [
              0.8888888888888888,
              "#fdca26"
             ],
             [
              1,
              "#f0f921"
             ]
            ],
            "type": "contour"
           }
          ],
          "contourcarpet": [
           {
            "colorbar": {
             "outlinewidth": 0,
             "ticks": ""
            },
            "type": "contourcarpet"
           }
          ],
          "heatmap": [
           {
            "colorbar": {
             "outlinewidth": 0,
             "ticks": ""
            },
            "colorscale": [
             [
              0,
              "#0d0887"
             ],
             [
              0.1111111111111111,
              "#46039f"
             ],
             [
              0.2222222222222222,
              "#7201a8"
             ],
             [
              0.3333333333333333,
              "#9c179e"
             ],
             [
              0.4444444444444444,
              "#bd3786"
             ],
             [
              0.5555555555555556,
              "#d8576b"
             ],
             [
              0.6666666666666666,
              "#ed7953"
             ],
             [
              0.7777777777777778,
              "#fb9f3a"
             ],
             [
              0.8888888888888888,
              "#fdca26"
             ],
             [
              1,
              "#f0f921"
             ]
            ],
            "type": "heatmap"
           }
          ],
          "heatmapgl": [
           {
            "colorbar": {
             "outlinewidth": 0,
             "ticks": ""
            },
            "colorscale": [
             [
              0,
              "#0d0887"
             ],
             [
              0.1111111111111111,
              "#46039f"
             ],
             [
              0.2222222222222222,
              "#7201a8"
             ],
             [
              0.3333333333333333,
              "#9c179e"
             ],
             [
              0.4444444444444444,
              "#bd3786"
             ],
             [
              0.5555555555555556,
              "#d8576b"
             ],
             [
              0.6666666666666666,
              "#ed7953"
             ],
             [
              0.7777777777777778,
              "#fb9f3a"
             ],
             [
              0.8888888888888888,
              "#fdca26"
             ],
             [
              1,
              "#f0f921"
             ]
            ],
            "type": "heatmapgl"
           }
          ],
          "histogram": [
           {
            "marker": {
             "colorbar": {
              "outlinewidth": 0,
              "ticks": ""
             }
            },
            "type": "histogram"
           }
          ],
          "histogram2d": [
           {
            "colorbar": {
             "outlinewidth": 0,
             "ticks": ""
            },
            "colorscale": [
             [
              0,
              "#0d0887"
             ],
             [
              0.1111111111111111,
              "#46039f"
             ],
             [
              0.2222222222222222,
              "#7201a8"
             ],
             [
              0.3333333333333333,
              "#9c179e"
             ],
             [
              0.4444444444444444,
              "#bd3786"
             ],
             [
              0.5555555555555556,
              "#d8576b"
             ],
             [
              0.6666666666666666,
              "#ed7953"
             ],
             [
              0.7777777777777778,
              "#fb9f3a"
             ],
             [
              0.8888888888888888,
              "#fdca26"
             ],
             [
              1,
              "#f0f921"
             ]
            ],
            "type": "histogram2d"
           }
          ],
          "histogram2dcontour": [
           {
            "colorbar": {
             "outlinewidth": 0,
             "ticks": ""
            },
            "colorscale": [
             [
              0,
              "#0d0887"
             ],
             [
              0.1111111111111111,
              "#46039f"
             ],
             [
              0.2222222222222222,
              "#7201a8"
             ],
             [
              0.3333333333333333,
              "#9c179e"
             ],
             [
              0.4444444444444444,
              "#bd3786"
             ],
             [
              0.5555555555555556,
              "#d8576b"
             ],
             [
              0.6666666666666666,
              "#ed7953"
             ],
             [
              0.7777777777777778,
              "#fb9f3a"
             ],
             [
              0.8888888888888888,
              "#fdca26"
             ],
             [
              1,
              "#f0f921"
             ]
            ],
            "type": "histogram2dcontour"
           }
          ],
          "mesh3d": [
           {
            "colorbar": {
             "outlinewidth": 0,
             "ticks": ""
            },
            "type": "mesh3d"
           }
          ],
          "parcoords": [
           {
            "line": {
             "colorbar": {
              "outlinewidth": 0,
              "ticks": ""
             }
            },
            "type": "parcoords"
           }
          ],
          "scatter": [
           {
            "marker": {
             "colorbar": {
              "outlinewidth": 0,
              "ticks": ""
             }
            },
            "type": "scatter"
           }
          ],
          "scatter3d": [
           {
            "line": {
             "colorbar": {
              "outlinewidth": 0,
              "ticks": ""
             }
            },
            "marker": {
             "colorbar": {
              "outlinewidth": 0,
              "ticks": ""
             }
            },
            "type": "scatter3d"
           }
          ],
          "scattercarpet": [
           {
            "marker": {
             "colorbar": {
              "outlinewidth": 0,
              "ticks": ""
             }
            },
            "type": "scattercarpet"
           }
          ],
          "scattergeo": [
           {
            "marker": {
             "colorbar": {
              "outlinewidth": 0,
              "ticks": ""
             }
            },
            "type": "scattergeo"
           }
          ],
          "scattergl": [
           {
            "marker": {
             "colorbar": {
              "outlinewidth": 0,
              "ticks": ""
             }
            },
            "type": "scattergl"
           }
          ],
          "scattermapbox": [
           {
            "marker": {
             "colorbar": {
              "outlinewidth": 0,
              "ticks": ""
             }
            },
            "type": "scattermapbox"
           }
          ],
          "scatterpolar": [
           {
            "marker": {
             "colorbar": {
              "outlinewidth": 0,
              "ticks": ""
             }
            },
            "type": "scatterpolar"
           }
          ],
          "scatterpolargl": [
           {
            "marker": {
             "colorbar": {
              "outlinewidth": 0,
              "ticks": ""
             }
            },
            "type": "scatterpolargl"
           }
          ],
          "scatterternary": [
           {
            "marker": {
             "colorbar": {
              "outlinewidth": 0,
              "ticks": ""
             }
            },
            "type": "scatterternary"
           }
          ],
          "surface": [
           {
            "colorbar": {
             "outlinewidth": 0,
             "ticks": ""
            },
            "colorscale": [
             [
              0,
              "#0d0887"
             ],
             [
              0.1111111111111111,
              "#46039f"
             ],
             [
              0.2222222222222222,
              "#7201a8"
             ],
             [
              0.3333333333333333,
              "#9c179e"
             ],
             [
              0.4444444444444444,
              "#bd3786"
             ],
             [
              0.5555555555555556,
              "#d8576b"
             ],
             [
              0.6666666666666666,
              "#ed7953"
             ],
             [
              0.7777777777777778,
              "#fb9f3a"
             ],
             [
              0.8888888888888888,
              "#fdca26"
             ],
             [
              1,
              "#f0f921"
             ]
            ],
            "type": "surface"
           }
          ],
          "table": [
           {
            "cells": {
             "fill": {
              "color": "#EBF0F8"
             },
             "line": {
              "color": "white"
             }
            },
            "header": {
             "fill": {
              "color": "#C8D4E3"
             },
             "line": {
              "color": "white"
             }
            },
            "type": "table"
           }
          ]
         },
         "layout": {
          "annotationdefaults": {
           "arrowcolor": "#2a3f5f",
           "arrowhead": 0,
           "arrowwidth": 1
          },
          "colorscale": {
           "diverging": [
            [
             0,
             "#8e0152"
            ],
            [
             0.1,
             "#c51b7d"
            ],
            [
             0.2,
             "#de77ae"
            ],
            [
             0.3,
             "#f1b6da"
            ],
            [
             0.4,
             "#fde0ef"
            ],
            [
             0.5,
             "#f7f7f7"
            ],
            [
             0.6,
             "#e6f5d0"
            ],
            [
             0.7,
             "#b8e186"
            ],
            [
             0.8,
             "#7fbc41"
            ],
            [
             0.9,
             "#4d9221"
            ],
            [
             1,
             "#276419"
            ]
           ],
           "sequential": [
            [
             0,
             "#0d0887"
            ],
            [
             0.1111111111111111,
             "#46039f"
            ],
            [
             0.2222222222222222,
             "#7201a8"
            ],
            [
             0.3333333333333333,
             "#9c179e"
            ],
            [
             0.4444444444444444,
             "#bd3786"
            ],
            [
             0.5555555555555556,
             "#d8576b"
            ],
            [
             0.6666666666666666,
             "#ed7953"
            ],
            [
             0.7777777777777778,
             "#fb9f3a"
            ],
            [
             0.8888888888888888,
             "#fdca26"
            ],
            [
             1,
             "#f0f921"
            ]
           ],
           "sequentialminus": [
            [
             0,
             "#0d0887"
            ],
            [
             0.1111111111111111,
             "#46039f"
            ],
            [
             0.2222222222222222,
             "#7201a8"
            ],
            [
             0.3333333333333333,
             "#9c179e"
            ],
            [
             0.4444444444444444,
             "#bd3786"
            ],
            [
             0.5555555555555556,
             "#d8576b"
            ],
            [
             0.6666666666666666,
             "#ed7953"
            ],
            [
             0.7777777777777778,
             "#fb9f3a"
            ],
            [
             0.8888888888888888,
             "#fdca26"
            ],
            [
             1,
             "#f0f921"
            ]
           ]
          },
          "colorway": [
           "#636efa",
           "#EF553B",
           "#00cc96",
           "#ab63fa",
           "#FFA15A",
           "#19d3f3",
           "#FF6692",
           "#B6E880",
           "#FF97FF",
           "#FECB52"
          ],
          "font": {
           "color": "#2a3f5f"
          },
          "geo": {
           "bgcolor": "white",
           "lakecolor": "white",
           "landcolor": "#E5ECF6",
           "showlakes": true,
           "showland": true,
           "subunitcolor": "white"
          },
          "hoverlabel": {
           "align": "left"
          },
          "hovermode": "closest",
          "mapbox": {
           "style": "light"
          },
          "paper_bgcolor": "white",
          "plot_bgcolor": "#E5ECF6",
          "polar": {
           "angularaxis": {
            "gridcolor": "white",
            "linecolor": "white",
            "ticks": ""
           },
           "bgcolor": "#E5ECF6",
           "radialaxis": {
            "gridcolor": "white",
            "linecolor": "white",
            "ticks": ""
           }
          },
          "scene": {
           "xaxis": {
            "backgroundcolor": "#E5ECF6",
            "gridcolor": "white",
            "gridwidth": 2,
            "linecolor": "white",
            "showbackground": true,
            "ticks": "",
            "zerolinecolor": "white"
           },
           "yaxis": {
            "backgroundcolor": "#E5ECF6",
            "gridcolor": "white",
            "gridwidth": 2,
            "linecolor": "white",
            "showbackground": true,
            "ticks": "",
            "zerolinecolor": "white"
           },
           "zaxis": {
            "backgroundcolor": "#E5ECF6",
            "gridcolor": "white",
            "gridwidth": 2,
            "linecolor": "white",
            "showbackground": true,
            "ticks": "",
            "zerolinecolor": "white"
           }
          },
          "shapedefaults": {
           "line": {
            "color": "#2a3f5f"
           }
          },
          "ternary": {
           "aaxis": {
            "gridcolor": "white",
            "linecolor": "white",
            "ticks": ""
           },
           "baxis": {
            "gridcolor": "white",
            "linecolor": "white",
            "ticks": ""
           },
           "bgcolor": "#E5ECF6",
           "caxis": {
            "gridcolor": "white",
            "linecolor": "white",
            "ticks": ""
           }
          },
          "title": {
           "x": 0.05
          },
          "xaxis": {
           "automargin": true,
           "gridcolor": "white",
           "linecolor": "white",
           "ticks": "",
           "zerolinecolor": "white",
           "zerolinewidth": 2
          },
          "yaxis": {
           "automargin": true,
           "gridcolor": "white",
           "linecolor": "white",
           "ticks": "",
           "zerolinecolor": "white",
           "zerolinewidth": 2
          }
         }
        },
        "title": {
         "text": "Gastos de Sandra Amar Mancilla "
        }
       }
      },
      "text/html": [
       "<div>\n",
       "        \n",
       "        \n",
       "            <div id=\"3760c3e8-4e5c-43a1-b4d4-26e567ee47d5\" class=\"plotly-graph-div\" style=\"height:525px; width:100%;\"></div>\n",
       "            <script type=\"text/javascript\">\n",
       "                require([\"plotly\"], function(Plotly) {\n",
       "                    window.PLOTLYENV=window.PLOTLYENV || {};\n",
       "                    \n",
       "                if (document.getElementById(\"3760c3e8-4e5c-43a1-b4d4-26e567ee47d5\")) {\n",
       "                    Plotly.newPlot(\n",
       "                        '3760c3e8-4e5c-43a1-b4d4-26e567ee47d5',\n",
       "                        [{\"name\": \"Oficinas parlamentarias (incluye arriendos, consumos b\\u00e1sicos, internet, etc.)  \", \"type\": \"bar\", \"x\": [\"18-enero\", \"18-febrero\", \"18-marzo\", \"18-abril\", \"18-mayo\", \"18-junio\", \"18-julio\", \"18-agosto\", \"18-septiembre\", \"18-octubre\", \"18-noviembre\", \"18-diciembre\", \"19-enero\", \"19-febrero\", \"19-marzo\", \"19-abril\", \"19-mayo\", \"19-junio\", \"19-julio\", \"19-agosto\", \"19-septiembre\", \"19-octubre\", \"19-noviembre\", \"19-diciembre\"], \"y\": [0, 0, 1035000, 1485000, 1602150, 1723889, 0, 0, 0, 0, 0, 0, 0, 0, 0, 0, 0, 0, 0, 0, 0, 0, 0, 0]}, {\"name\": \"Telefon\\u00eda  \", \"type\": \"bar\", \"x\": [\"18-enero\", \"18-febrero\", \"18-marzo\", \"18-abril\", \"18-mayo\", \"18-junio\", \"18-julio\", \"18-agosto\", \"18-septiembre\", \"18-octubre\", \"18-noviembre\", \"18-diciembre\", \"19-enero\", \"19-febrero\", \"19-marzo\", \"19-abril\", \"19-mayo\", \"19-junio\", \"19-julio\", \"19-agosto\", \"19-septiembre\", \"19-octubre\", \"19-noviembre\", \"19-diciembre\"], \"y\": [0, 0, 263532, 270852, 131679, 131707, 131927, 132541, 346161, 131679, 131825, 131771, 131679, 267453, 155683, 161179, 131679, 137853, 0, 0, 0, 0, 0, 0]}, {\"name\": \"Traslaci\\u00f3n  \", \"type\": \"bar\", \"x\": [\"18-enero\", \"18-febrero\", \"18-marzo\", \"18-abril\", \"18-mayo\", \"18-junio\", \"18-julio\", \"18-agosto\", \"18-septiembre\", \"18-octubre\", \"18-noviembre\", \"18-diciembre\", \"19-enero\", \"19-febrero\", \"19-marzo\", \"19-abril\", \"19-mayo\", \"19-junio\", \"19-julio\", \"19-agosto\", \"19-septiembre\", \"19-octubre\", \"19-noviembre\", \"19-diciembre\"], \"y\": [0, 0, 0, 0, 0, 0, 0, 0, 0, 0, 0, 0, 2410004, 1165845, 1857051, 2131877, 2081307, 1735534, 0, 0, 0, 0, 0, 0]}, {\"name\": \"Veh\\u00edculos  \", \"type\": \"bar\", \"x\": [\"18-enero\", \"18-febrero\", \"18-marzo\", \"18-abril\", \"18-mayo\", \"18-junio\", \"18-julio\", \"18-agosto\", \"18-septiembre\", \"18-octubre\", \"18-noviembre\", \"18-diciembre\", \"19-enero\", \"19-febrero\", \"19-marzo\", \"19-abril\", \"19-mayo\", \"19-junio\", \"19-julio\", \"19-agosto\", \"19-septiembre\", \"19-octubre\", \"19-noviembre\", \"19-diciembre\"], \"y\": [0, 0, 135100, 396557, 800000, 993000, 1600000, 844278, 846440, 848750, 851865, 0, 0, 0, 0, 0, 0, 0, 0, 0, 0, 0, 0, 0]}, {\"name\": \"Combustible  \", \"type\": \"bar\", \"x\": [\"18-enero\", \"18-febrero\", \"18-marzo\", \"18-abril\", \"18-mayo\", \"18-junio\", \"18-julio\", \"18-agosto\", \"18-septiembre\", \"18-octubre\", \"18-noviembre\", \"18-diciembre\", \"19-enero\", \"19-febrero\", \"19-marzo\", \"19-abril\", \"19-mayo\", \"19-junio\", \"19-julio\", \"19-agosto\", \"19-septiembre\", \"19-octubre\", \"19-noviembre\", \"19-diciembre\"], \"y\": [0, 0, 200079, 228247, 24531, 80003, 95276, 217333, 182357, 247025, 301835, 122891, 0, 0, 0, 0, 0, 0, 0, 0, 0, 0, 0, 0]}, {\"name\": \"Alojamiento  \", \"type\": \"bar\", \"x\": [\"18-enero\", \"18-febrero\", \"18-marzo\", \"18-abril\", \"18-mayo\", \"18-junio\", \"18-julio\", \"18-agosto\", \"18-septiembre\", \"18-octubre\", \"18-noviembre\", \"18-diciembre\", \"19-enero\", \"19-febrero\", \"19-marzo\", \"19-abril\", \"19-mayo\", \"19-junio\", \"19-julio\", \"19-agosto\", \"19-septiembre\", \"19-octubre\", \"19-noviembre\", \"19-diciembre\"], \"y\": [0, 0, 80000, 530936, 0, 0, 293351, 80000, 40000, 120000, 0, 183260, 0, 0, 0, 0, 0, 0, 0, 0, 0, 0, 0, 0]}, {\"name\": \"Alimentaci\\u00f3n  \", \"type\": \"bar\", \"x\": [\"18-enero\", \"18-febrero\", \"18-marzo\", \"18-abril\", \"18-mayo\", \"18-junio\", \"18-julio\", \"18-agosto\", \"18-septiembre\", \"18-octubre\", \"18-noviembre\", \"18-diciembre\", \"19-enero\", \"19-febrero\", \"19-marzo\", \"19-abril\", \"19-mayo\", \"19-junio\", \"19-julio\", \"19-agosto\", \"19-septiembre\", \"19-octubre\", \"19-noviembre\", \"19-diciembre\"], \"y\": [0, 0, 98850, 241900, 0, 35800, 55430, 289490, 19500, 89980, 2200, 16670, 0, 0, 0, 0, 0, 0, 0, 0, 0, 0, 0, 0]}, {\"name\": \"Vi\\u00e1ticos  \", \"type\": \"bar\", \"x\": [\"18-enero\", \"18-febrero\", \"18-marzo\", \"18-abril\", \"18-mayo\", \"18-junio\", \"18-julio\", \"18-agosto\", \"18-septiembre\", \"18-octubre\", \"18-noviembre\", \"18-diciembre\", \"19-enero\", \"19-febrero\", \"19-marzo\", \"19-abril\", \"19-mayo\", \"19-junio\", \"19-julio\", \"19-agosto\", \"19-septiembre\", \"19-octubre\", \"19-noviembre\", \"19-diciembre\"], \"y\": [0, 0, 613640, 920448, 0, 0, 0, 0, 0, 0, 0, 0, 0, 0, 0, 0, 0, 0, 0, 0, 0, 0, 0, 0]}, {\"name\": \"Correspondencia  \", \"type\": \"bar\", \"x\": [\"18-enero\", \"18-febrero\", \"18-marzo\", \"18-abril\", \"18-mayo\", \"18-junio\", \"18-julio\", \"18-agosto\", \"18-septiembre\", \"18-octubre\", \"18-noviembre\", \"18-diciembre\", \"19-enero\", \"19-febrero\", \"19-marzo\", \"19-abril\", \"19-mayo\", \"19-junio\", \"19-julio\", \"19-agosto\", \"19-septiembre\", \"19-octubre\", \"19-noviembre\", \"19-diciembre\"], \"y\": [0, 0, 352217, 34137, 119800, 68924, 0, 0, 0, 0, 0, 0, 16483, 0, 0, 0, 0, 0, 0, 0, 0, 0, 0, 0]}, {\"name\": \"Materiales de oficina  \", \"type\": \"bar\", \"x\": [\"18-enero\", \"18-febrero\", \"18-marzo\", \"18-abril\", \"18-mayo\", \"18-junio\", \"18-julio\", \"18-agosto\", \"18-septiembre\", \"18-octubre\", \"18-noviembre\", \"18-diciembre\", \"19-enero\", \"19-febrero\", \"19-marzo\", \"19-abril\", \"19-mayo\", \"19-junio\", \"19-julio\", \"19-agosto\", \"19-septiembre\", \"19-octubre\", \"19-noviembre\", \"19-diciembre\"], \"y\": [0, 0, 209308, 141015, 63722, 9900, 0, 0, 0, 0, 0, 0, 120389, 0, 191650, 317732, 0, 184210, 0, 0, 0, 0, 0, 0]}, {\"name\": \"Difusi\\u00f3n  \", \"type\": \"bar\", \"x\": [\"18-enero\", \"18-febrero\", \"18-marzo\", \"18-abril\", \"18-mayo\", \"18-junio\", \"18-julio\", \"18-agosto\", \"18-septiembre\", \"18-octubre\", \"18-noviembre\", \"18-diciembre\", \"19-enero\", \"19-febrero\", \"19-marzo\", \"19-abril\", \"19-mayo\", \"19-junio\", \"19-julio\", \"19-agosto\", \"19-septiembre\", \"19-octubre\", \"19-noviembre\", \"19-diciembre\"], \"y\": [0, 0, 200000, 0, 296000, 278500, 100000, 0, 15000, 115000, 129352, 157168, 1115000, 0, 136204, 432131, 500484, 1497344, 0, 0, 0, 0, 0, 0]}, {\"name\": \"Actividades distritales  \", \"type\": \"bar\", \"x\": [\"18-enero\", \"18-febrero\", \"18-marzo\", \"18-abril\", \"18-mayo\", \"18-junio\", \"18-julio\", \"18-agosto\", \"18-septiembre\", \"18-octubre\", \"18-noviembre\", \"18-diciembre\", \"19-enero\", \"19-febrero\", \"19-marzo\", \"19-abril\", \"19-mayo\", \"19-junio\", \"19-julio\", \"19-agosto\", \"19-septiembre\", \"19-octubre\", \"19-noviembre\", \"19-diciembre\"], \"y\": [0, 0, 465500, 665000, 665000, 665000, 0, 0, 0, 0, 0, 0, 0, 0, 0, 0, 0, 0, 0, 0, 0, 0, 0, 0]}, {\"name\": \"Tag y peajes  \", \"type\": \"bar\", \"x\": [\"18-enero\", \"18-febrero\", \"18-marzo\", \"18-abril\", \"18-mayo\", \"18-junio\", \"18-julio\", \"18-agosto\", \"18-septiembre\", \"18-octubre\", \"18-noviembre\", \"18-diciembre\", \"19-enero\", \"19-febrero\", \"19-marzo\", \"19-abril\", \"19-mayo\", \"19-junio\", \"19-julio\", \"19-agosto\", \"19-septiembre\", \"19-octubre\", \"19-noviembre\", \"19-diciembre\"], \"y\": [0, 0, 0, 59700, 3547, 82521, 0, 107422, 72862, 0, 97067, 0, 0, 0, 0, 0, 0, 0, 0, 0, 0, 0, 0, 0]}, {\"name\": \"Pasajes de movilizaci\\u00f3n  \", \"type\": \"bar\", \"x\": [\"18-enero\", \"18-febrero\", \"18-marzo\", \"18-abril\", \"18-mayo\", \"18-junio\", \"18-julio\", \"18-agosto\", \"18-septiembre\", \"18-octubre\", \"18-noviembre\", \"18-diciembre\", \"19-enero\", \"19-febrero\", \"19-marzo\", \"19-abril\", \"19-mayo\", \"19-junio\", \"19-julio\", \"19-agosto\", \"19-septiembre\", \"19-octubre\", \"19-noviembre\", \"19-diciembre\"], \"y\": [0, 0, 0, 19350, 0, 0, 247784, 66900, 0, 0, 0, 13600, 0, 0, 0, 0, 0, 0, 0, 0, 0, 0, 0, 0]}, {\"name\": \"Estacionamientos  \", \"type\": \"bar\", \"x\": [\"18-enero\", \"18-febrero\", \"18-marzo\", \"18-abril\", \"18-mayo\", \"18-junio\", \"18-julio\", \"18-agosto\", \"18-septiembre\", \"18-octubre\", \"18-noviembre\", \"18-diciembre\", \"19-enero\", \"19-febrero\", \"19-marzo\", \"19-abril\", \"19-mayo\", \"19-junio\", \"19-julio\", \"19-agosto\", \"19-septiembre\", \"19-octubre\", \"19-noviembre\", \"19-diciembre\"], \"y\": [0, 0, 0, 10248, 4500, 0, 0, 0, 0, 0, 0, 0, 0, 0, 0, 0, 0, 0, 0, 0, 0, 0, 0, 0]}, {\"name\": \"Servicios y gastos menores  \", \"type\": \"bar\", \"x\": [\"18-enero\", \"18-febrero\", \"18-marzo\", \"18-abril\", \"18-mayo\", \"18-junio\", \"18-julio\", \"18-agosto\", \"18-septiembre\", \"18-octubre\", \"18-noviembre\", \"18-diciembre\", \"19-enero\", \"19-febrero\", \"19-marzo\", \"19-abril\", \"19-mayo\", \"19-junio\", \"19-julio\", \"19-agosto\", \"19-septiembre\", \"19-octubre\", \"19-noviembre\", \"19-diciembre\"], \"y\": [0, 0, 0, 5000, 0, 99960, 0, 0, 0, 0, 0, 0, 0, 0, 0, 0, 0, 0, 0, 0, 0, 0, 0, 0]}, {\"name\": \"Actividades territoriales  \", \"type\": \"bar\", \"x\": [\"18-enero\", \"18-febrero\", \"18-marzo\", \"18-abril\", \"18-mayo\", \"18-junio\", \"18-julio\", \"18-agosto\", \"18-septiembre\", \"18-octubre\", \"18-noviembre\", \"18-diciembre\", \"19-enero\", \"19-febrero\", \"19-marzo\", \"19-abril\", \"19-mayo\", \"19-junio\", \"19-julio\", \"19-agosto\", \"19-septiembre\", \"19-octubre\", \"19-noviembre\", \"19-diciembre\"], \"y\": [0, 0, 0, 0, 0, 0, 2503473, 2243085, 2251307, 3671524, 1887752, 1905439, 0, 0, 0, 0, 0, 0, 0, 0, 0, 0, 0, 0]}, {\"name\": \"Vehiculos- amortizacion  \", \"type\": \"bar\", \"x\": [\"18-enero\", \"18-febrero\", \"18-marzo\", \"18-abril\", \"18-mayo\", \"18-junio\", \"18-julio\", \"18-agosto\", \"18-septiembre\", \"18-octubre\", \"18-noviembre\", \"18-diciembre\", \"19-enero\", \"19-febrero\", \"19-marzo\", \"19-abril\", \"19-mayo\", \"19-junio\", \"19-julio\", \"19-agosto\", \"19-septiembre\", \"19-octubre\", \"19-noviembre\", \"19-diciembre\"], \"y\": [0, 0, 0, 0, 0, 0, 193000, 193000, 193000, 193000, 193000, 193000, 0, 0, 0, 0, 0, 0, 0, 0, 0, 0, 0, 0]}, {\"name\": \"Vi\\u00e1ticos del diputado  \", \"type\": \"bar\", \"x\": [\"18-enero\", \"18-febrero\", \"18-marzo\", \"18-abril\", \"18-mayo\", \"18-junio\", \"18-julio\", \"18-agosto\", \"18-septiembre\", \"18-octubre\", \"18-noviembre\", \"18-diciembre\", \"19-enero\", \"19-febrero\", \"19-marzo\", \"19-abril\", \"19-mayo\", \"19-junio\", \"19-julio\", \"19-agosto\", \"19-septiembre\", \"19-octubre\", \"19-noviembre\", \"19-diciembre\"], \"y\": [0, 0, 0, 0, 0, 0, 786210, 630492, 786210, 707589, 864831, 1022073, 0, 0, 0, 0, 0, 0, 0, 0, 0, 0, 0, 0]}, {\"name\": \"Traspaso desde gastos operacionales a asignaci\\u00f3n personal de apoyo  \", \"type\": \"bar\", \"x\": [\"18-enero\", \"18-febrero\", \"18-marzo\", \"18-abril\", \"18-mayo\", \"18-junio\", \"18-julio\", \"18-agosto\", \"18-septiembre\", \"18-octubre\", \"18-noviembre\", \"18-diciembre\", \"19-enero\", \"19-febrero\", \"19-marzo\", \"19-abril\", \"19-mayo\", \"19-junio\", \"19-julio\", \"19-agosto\", \"19-septiembre\", \"19-octubre\", \"19-noviembre\", \"19-diciembre\"], \"y\": [0, 0, 0, 0, 0, 0, 0, 0, 0, 0, 0, 0, 0, 0, 0, 0, 0, 1000000, 0, 0, 0, 0, 0, 0]}, {\"name\": \"Actividades destinadas a la interacci\\u00f3n con la comunidad  \", \"type\": \"bar\", \"x\": [\"18-enero\", \"18-febrero\", \"18-marzo\", \"18-abril\", \"18-mayo\", \"18-junio\", \"18-julio\", \"18-agosto\", \"18-septiembre\", \"18-octubre\", \"18-noviembre\", \"18-diciembre\", \"19-enero\", \"19-febrero\", \"19-marzo\", \"19-abril\", \"19-mayo\", \"19-junio\", \"19-julio\", \"19-agosto\", \"19-septiembre\", \"19-octubre\", \"19-noviembre\", \"19-diciembre\"], \"y\": [0, 0, 0, 0, 0, 0, 0, 0, 0, 0, 0, 0, 0, 0, 0, 0, 0, 0, 0, 0, 0, 0, 0, 0]}, {\"name\": \"Arriendo de inmueble  \", \"type\": \"bar\", \"x\": [\"18-enero\", \"18-febrero\", \"18-marzo\", \"18-abril\", \"18-mayo\", \"18-junio\", \"18-julio\", \"18-agosto\", \"18-septiembre\", \"18-octubre\", \"18-noviembre\", \"18-diciembre\", \"19-enero\", \"19-febrero\", \"19-marzo\", \"19-abril\", \"19-mayo\", \"19-junio\", \"19-julio\", \"19-agosto\", \"19-septiembre\", \"19-octubre\", \"19-noviembre\", \"19-diciembre\"], \"y\": [0, 0, 0, 0, 0, 0, 0, 0, 0, 0, 0, 0, 980000, 980000, 980000, 980000, 980000, 980000, 0, 0, 0, 0, 0, 0]}, {\"name\": \"Consumos b\\u00e1sicos  \", \"type\": \"bar\", \"x\": [\"18-enero\", \"18-febrero\", \"18-marzo\", \"18-abril\", \"18-mayo\", \"18-junio\", \"18-julio\", \"18-agosto\", \"18-septiembre\", \"18-octubre\", \"18-noviembre\", \"18-diciembre\", \"19-enero\", \"19-febrero\", \"19-marzo\", \"19-abril\", \"19-mayo\", \"19-junio\", \"19-julio\", \"19-agosto\", \"19-septiembre\", \"19-octubre\", \"19-noviembre\", \"19-diciembre\"], \"y\": [0, 0, 0, 0, 0, 0, 0, 0, 0, 0, 0, 0, 54100, 98900, 43950, 57850, 115900, 108950, 0, 0, 0, 0, 0, 0]}, {\"name\": \"Equipamiento oficina parlamentaria  \", \"type\": \"bar\", \"x\": [\"18-enero\", \"18-febrero\", \"18-marzo\", \"18-abril\", \"18-mayo\", \"18-junio\", \"18-julio\", \"18-agosto\", \"18-septiembre\", \"18-octubre\", \"18-noviembre\", \"18-diciembre\", \"19-enero\", \"19-febrero\", \"19-marzo\", \"19-abril\", \"19-mayo\", \"19-junio\", \"19-julio\", \"19-agosto\", \"19-septiembre\", \"19-octubre\", \"19-noviembre\", \"19-diciembre\"], \"y\": [0, 0, 0, 0, 0, 0, 0, 0, 0, 0, 0, 0, 0, 0, 0, 199000, 0, 508780, 0, 0, 0, 0, 0, 0]}, {\"name\": \"Gastos de mantenci\\u00f3n oficina parlamentaria (inmueble)  \", \"type\": \"bar\", \"x\": [\"18-enero\", \"18-febrero\", \"18-marzo\", \"18-abril\", \"18-mayo\", \"18-junio\", \"18-julio\", \"18-agosto\", \"18-septiembre\", \"18-octubre\", \"18-noviembre\", \"18-diciembre\", \"19-enero\", \"19-febrero\", \"19-marzo\", \"19-abril\", \"19-mayo\", \"19-junio\", \"19-julio\", \"19-agosto\", \"19-septiembre\", \"19-octubre\", \"19-noviembre\", \"19-diciembre\"], \"y\": [0, 0, 0, 0, 0, 0, 0, 0, 0, 0, 0, 0, 0, 0, 0, 40000, 0, 0, 0, 0, 0, 0, 0, 0]}, {\"name\": \"Reparaciones locativas del inmueble  \", \"type\": \"bar\", \"x\": [\"18-enero\", \"18-febrero\", \"18-marzo\", \"18-abril\", \"18-mayo\", \"18-junio\", \"18-julio\", \"18-agosto\", \"18-septiembre\", \"18-octubre\", \"18-noviembre\", \"18-diciembre\", \"19-enero\", \"19-febrero\", \"19-marzo\", \"19-abril\", \"19-mayo\", \"19-junio\", \"19-julio\", \"19-agosto\", \"19-septiembre\", \"19-octubre\", \"19-noviembre\", \"19-diciembre\"], \"y\": [0, 0, 0, 0, 0, 0, 0, 0, 0, 0, 0, 0, 0, 0, 0, 0, 0, 0, 0, 0, 0, 0, 0, 0]}, {\"name\": \"Habilitaci\\u00f3n de sedes parlamentarias (con autorizaci\\u00f3n de crap)  \", \"type\": \"bar\", \"x\": [\"18-enero\", \"18-febrero\", \"18-marzo\", \"18-abril\", \"18-mayo\", \"18-junio\", \"18-julio\", \"18-agosto\", \"18-septiembre\", \"18-octubre\", \"18-noviembre\", \"18-diciembre\", \"19-enero\", \"19-febrero\", \"19-marzo\", \"19-abril\", \"19-mayo\", \"19-junio\", \"19-julio\", \"19-agosto\", \"19-septiembre\", \"19-octubre\", \"19-noviembre\", \"19-diciembre\"], \"y\": [0, 0, 0, 0, 0, 0, 0, 0, 0, 0, 0, 0, 0, 0, 0, 0, 0, 0, 0, 0, 0, 0, 0, 0]}, {\"name\": \"Seguros de bienes  \", \"type\": \"bar\", \"x\": [\"18-enero\", \"18-febrero\", \"18-marzo\", \"18-abril\", \"18-mayo\", \"18-junio\", \"18-julio\", \"18-agosto\", \"18-septiembre\", \"18-octubre\", \"18-noviembre\", \"18-diciembre\", \"19-enero\", \"19-febrero\", \"19-marzo\", \"19-abril\", \"19-mayo\", \"19-junio\", \"19-julio\", \"19-agosto\", \"19-septiembre\", \"19-octubre\", \"19-noviembre\", \"19-diciembre\"], \"y\": [0, 0, 0, 0, 0, 0, 0, 0, 0, 0, 0, 0, 0, 0, 0, 0, 0, 0, 0, 0, 0, 0, 0, 0]}, {\"name\": \"Arriendo de oficinas virtuales  \", \"type\": \"bar\", \"x\": [\"18-enero\", \"18-febrero\", \"18-marzo\", \"18-abril\", \"18-mayo\", \"18-junio\", \"18-julio\", \"18-agosto\", \"18-septiembre\", \"18-octubre\", \"18-noviembre\", \"18-diciembre\", \"19-enero\", \"19-febrero\", \"19-marzo\", \"19-abril\", \"19-mayo\", \"19-junio\", \"19-julio\", \"19-agosto\", \"19-septiembre\", \"19-octubre\", \"19-noviembre\", \"19-diciembre\"], \"y\": [0, 0, 0, 0, 0, 0, 0, 0, 0, 0, 0, 0, 0, 0, 0, 0, 0, 0, 0, 0, 0, 0, 0, 0]}, {\"name\": \"Servicios web  \", \"type\": \"bar\", \"x\": [\"18-enero\", \"18-febrero\", \"18-marzo\", \"18-abril\", \"18-mayo\", \"18-junio\", \"18-julio\", \"18-agosto\", \"18-septiembre\", \"18-octubre\", \"18-noviembre\", \"18-diciembre\", \"19-enero\", \"19-febrero\", \"19-marzo\", \"19-abril\", \"19-mayo\", \"19-junio\", \"19-julio\", \"19-agosto\", \"19-septiembre\", \"19-octubre\", \"19-noviembre\", \"19-diciembre\"], \"y\": [0, 0, 0, 0, 0, 0, 0, 0, 0, 0, 0, 0, 0, 0, 0, 350000, 105042, 350000, 0, 0, 0, 0, 0, 0]}, {\"name\": \"Contrataci\\u00f3n servicio de almacenamiento  \", \"type\": \"bar\", \"x\": [\"18-enero\", \"18-febrero\", \"18-marzo\", \"18-abril\", \"18-mayo\", \"18-junio\", \"18-julio\", \"18-agosto\", \"18-septiembre\", \"18-octubre\", \"18-noviembre\", \"18-diciembre\", \"19-enero\", \"19-febrero\", \"19-marzo\", \"19-abril\", \"19-mayo\", \"19-junio\", \"19-julio\", \"19-agosto\", \"19-septiembre\", \"19-octubre\", \"19-noviembre\", \"19-diciembre\"], \"y\": [0, 0, 0, 0, 0, 0, 0, 0, 0, 0, 0, 0, 0, 0, 0, 0, 0, 0, 0, 0, 0, 0, 0, 0]}, {\"name\": \"Arriendo de oficina m\\u00f3vil  \", \"type\": \"bar\", \"x\": [\"18-enero\", \"18-febrero\", \"18-marzo\", \"18-abril\", \"18-mayo\", \"18-junio\", \"18-julio\", \"18-agosto\", \"18-septiembre\", \"18-octubre\", \"18-noviembre\", \"18-diciembre\", \"19-enero\", \"19-febrero\", \"19-marzo\", \"19-abril\", \"19-mayo\", \"19-junio\", \"19-julio\", \"19-agosto\", \"19-septiembre\", \"19-octubre\", \"19-noviembre\", \"19-diciembre\"], \"y\": [0, 0, 0, 0, 0, 0, 0, 0, 0, 0, 0, 0, 0, 0, 0, 0, 0, 0, 0, 0, 0, 0, 0, 0]}, {\"name\": \"Mantencion y reparaci\\u00f3n de oficina m\\u00f3vil  \", \"type\": \"bar\", \"x\": [\"18-enero\", \"18-febrero\", \"18-marzo\", \"18-abril\", \"18-mayo\", \"18-junio\", \"18-julio\", \"18-agosto\", \"18-septiembre\", \"18-octubre\", \"18-noviembre\", \"18-diciembre\", \"19-enero\", \"19-febrero\", \"19-marzo\", \"19-abril\", \"19-mayo\", \"19-junio\", \"19-julio\", \"19-agosto\", \"19-septiembre\", \"19-octubre\", \"19-noviembre\", \"19-diciembre\"], \"y\": [0, 0, 0, 0, 0, 0, 0, 0, 0, 0, 0, 0, 0, 0, 0, 0, 0, 0, 0, 0, 0, 0, 0, 0]}, {\"name\": \"Servicios menores  \", \"type\": \"bar\", \"x\": [\"18-enero\", \"18-febrero\", \"18-marzo\", \"18-abril\", \"18-mayo\", \"18-junio\", \"18-julio\", \"18-agosto\", \"18-septiembre\", \"18-octubre\", \"18-noviembre\", \"18-diciembre\", \"19-enero\", \"19-febrero\", \"19-marzo\", \"19-abril\", \"19-mayo\", \"19-junio\", \"19-julio\", \"19-agosto\", \"19-septiembre\", \"19-octubre\", \"19-noviembre\", \"19-diciembre\"], \"y\": [0, 0, 0, 0, 0, 0, 0, 0, 0, 0, 0, 0, 239990, 0, 239990, 239990, 239990, 239990, 0, 0, 0, 0, 0, 0]}],\n",
       "                        {\"barmode\": \"stack\", \"showlegend\": false, \"template\": {\"data\": {\"bar\": [{\"error_x\": {\"color\": \"#2a3f5f\"}, \"error_y\": {\"color\": \"#2a3f5f\"}, \"marker\": {\"line\": {\"color\": \"#E5ECF6\", \"width\": 0.5}}, \"type\": \"bar\"}], \"barpolar\": [{\"marker\": {\"line\": {\"color\": \"#E5ECF6\", \"width\": 0.5}}, \"type\": \"barpolar\"}], \"carpet\": [{\"aaxis\": {\"endlinecolor\": \"#2a3f5f\", \"gridcolor\": \"white\", \"linecolor\": \"white\", \"minorgridcolor\": \"white\", \"startlinecolor\": \"#2a3f5f\"}, \"baxis\": {\"endlinecolor\": \"#2a3f5f\", \"gridcolor\": \"white\", \"linecolor\": \"white\", \"minorgridcolor\": \"white\", \"startlinecolor\": \"#2a3f5f\"}, \"type\": \"carpet\"}], \"choropleth\": [{\"colorbar\": {\"outlinewidth\": 0, \"ticks\": \"\"}, \"type\": \"choropleth\"}], \"contour\": [{\"colorbar\": {\"outlinewidth\": 0, \"ticks\": \"\"}, \"colorscale\": [[0.0, \"#0d0887\"], [0.1111111111111111, \"#46039f\"], [0.2222222222222222, \"#7201a8\"], [0.3333333333333333, \"#9c179e\"], [0.4444444444444444, \"#bd3786\"], [0.5555555555555556, \"#d8576b\"], [0.6666666666666666, \"#ed7953\"], [0.7777777777777778, \"#fb9f3a\"], [0.8888888888888888, \"#fdca26\"], [1.0, \"#f0f921\"]], \"type\": \"contour\"}], \"contourcarpet\": [{\"colorbar\": {\"outlinewidth\": 0, \"ticks\": \"\"}, \"type\": \"contourcarpet\"}], \"heatmap\": [{\"colorbar\": {\"outlinewidth\": 0, \"ticks\": \"\"}, \"colorscale\": [[0.0, \"#0d0887\"], [0.1111111111111111, \"#46039f\"], [0.2222222222222222, \"#7201a8\"], [0.3333333333333333, \"#9c179e\"], [0.4444444444444444, \"#bd3786\"], [0.5555555555555556, \"#d8576b\"], [0.6666666666666666, \"#ed7953\"], [0.7777777777777778, \"#fb9f3a\"], [0.8888888888888888, \"#fdca26\"], [1.0, \"#f0f921\"]], \"type\": \"heatmap\"}], \"heatmapgl\": [{\"colorbar\": {\"outlinewidth\": 0, \"ticks\": \"\"}, \"colorscale\": [[0.0, \"#0d0887\"], [0.1111111111111111, \"#46039f\"], [0.2222222222222222, \"#7201a8\"], [0.3333333333333333, \"#9c179e\"], [0.4444444444444444, \"#bd3786\"], [0.5555555555555556, \"#d8576b\"], [0.6666666666666666, \"#ed7953\"], [0.7777777777777778, \"#fb9f3a\"], [0.8888888888888888, \"#fdca26\"], [1.0, \"#f0f921\"]], \"type\": \"heatmapgl\"}], \"histogram\": [{\"marker\": {\"colorbar\": {\"outlinewidth\": 0, \"ticks\": \"\"}}, \"type\": \"histogram\"}], \"histogram2d\": [{\"colorbar\": {\"outlinewidth\": 0, \"ticks\": \"\"}, \"colorscale\": [[0.0, \"#0d0887\"], [0.1111111111111111, \"#46039f\"], [0.2222222222222222, \"#7201a8\"], [0.3333333333333333, \"#9c179e\"], [0.4444444444444444, \"#bd3786\"], [0.5555555555555556, \"#d8576b\"], [0.6666666666666666, \"#ed7953\"], [0.7777777777777778, \"#fb9f3a\"], [0.8888888888888888, \"#fdca26\"], [1.0, \"#f0f921\"]], \"type\": \"histogram2d\"}], \"histogram2dcontour\": [{\"colorbar\": {\"outlinewidth\": 0, \"ticks\": \"\"}, \"colorscale\": [[0.0, \"#0d0887\"], [0.1111111111111111, \"#46039f\"], [0.2222222222222222, \"#7201a8\"], [0.3333333333333333, \"#9c179e\"], [0.4444444444444444, \"#bd3786\"], [0.5555555555555556, \"#d8576b\"], [0.6666666666666666, \"#ed7953\"], [0.7777777777777778, \"#fb9f3a\"], [0.8888888888888888, \"#fdca26\"], [1.0, \"#f0f921\"]], \"type\": \"histogram2dcontour\"}], \"mesh3d\": [{\"colorbar\": {\"outlinewidth\": 0, \"ticks\": \"\"}, \"type\": \"mesh3d\"}], \"parcoords\": [{\"line\": {\"colorbar\": {\"outlinewidth\": 0, \"ticks\": \"\"}}, \"type\": \"parcoords\"}], \"scatter\": [{\"marker\": {\"colorbar\": {\"outlinewidth\": 0, \"ticks\": \"\"}}, \"type\": \"scatter\"}], \"scatter3d\": [{\"line\": {\"colorbar\": {\"outlinewidth\": 0, \"ticks\": \"\"}}, \"marker\": {\"colorbar\": {\"outlinewidth\": 0, \"ticks\": \"\"}}, \"type\": \"scatter3d\"}], \"scattercarpet\": [{\"marker\": {\"colorbar\": {\"outlinewidth\": 0, \"ticks\": \"\"}}, \"type\": \"scattercarpet\"}], \"scattergeo\": [{\"marker\": {\"colorbar\": {\"outlinewidth\": 0, \"ticks\": \"\"}}, \"type\": \"scattergeo\"}], \"scattergl\": [{\"marker\": {\"colorbar\": {\"outlinewidth\": 0, \"ticks\": \"\"}}, \"type\": \"scattergl\"}], \"scattermapbox\": [{\"marker\": {\"colorbar\": {\"outlinewidth\": 0, \"ticks\": \"\"}}, \"type\": \"scattermapbox\"}], \"scatterpolar\": [{\"marker\": {\"colorbar\": {\"outlinewidth\": 0, \"ticks\": \"\"}}, \"type\": \"scatterpolar\"}], \"scatterpolargl\": [{\"marker\": {\"colorbar\": {\"outlinewidth\": 0, \"ticks\": \"\"}}, \"type\": \"scatterpolargl\"}], \"scatterternary\": [{\"marker\": {\"colorbar\": {\"outlinewidth\": 0, \"ticks\": \"\"}}, \"type\": \"scatterternary\"}], \"surface\": [{\"colorbar\": {\"outlinewidth\": 0, \"ticks\": \"\"}, \"colorscale\": [[0.0, \"#0d0887\"], [0.1111111111111111, \"#46039f\"], [0.2222222222222222, \"#7201a8\"], [0.3333333333333333, \"#9c179e\"], [0.4444444444444444, \"#bd3786\"], [0.5555555555555556, \"#d8576b\"], [0.6666666666666666, \"#ed7953\"], [0.7777777777777778, \"#fb9f3a\"], [0.8888888888888888, \"#fdca26\"], [1.0, \"#f0f921\"]], \"type\": \"surface\"}], \"table\": [{\"cells\": {\"fill\": {\"color\": \"#EBF0F8\"}, \"line\": {\"color\": \"white\"}}, \"header\": {\"fill\": {\"color\": \"#C8D4E3\"}, \"line\": {\"color\": \"white\"}}, \"type\": \"table\"}]}, \"layout\": {\"annotationdefaults\": {\"arrowcolor\": \"#2a3f5f\", \"arrowhead\": 0, \"arrowwidth\": 1}, \"colorscale\": {\"diverging\": [[0, \"#8e0152\"], [0.1, \"#c51b7d\"], [0.2, \"#de77ae\"], [0.3, \"#f1b6da\"], [0.4, \"#fde0ef\"], [0.5, \"#f7f7f7\"], [0.6, \"#e6f5d0\"], [0.7, \"#b8e186\"], [0.8, \"#7fbc41\"], [0.9, \"#4d9221\"], [1, \"#276419\"]], \"sequential\": [[0.0, \"#0d0887\"], [0.1111111111111111, \"#46039f\"], [0.2222222222222222, \"#7201a8\"], [0.3333333333333333, \"#9c179e\"], [0.4444444444444444, \"#bd3786\"], [0.5555555555555556, \"#d8576b\"], [0.6666666666666666, \"#ed7953\"], [0.7777777777777778, \"#fb9f3a\"], [0.8888888888888888, \"#fdca26\"], [1.0, \"#f0f921\"]], \"sequentialminus\": [[0.0, \"#0d0887\"], [0.1111111111111111, \"#46039f\"], [0.2222222222222222, \"#7201a8\"], [0.3333333333333333, \"#9c179e\"], [0.4444444444444444, \"#bd3786\"], [0.5555555555555556, \"#d8576b\"], [0.6666666666666666, \"#ed7953\"], [0.7777777777777778, \"#fb9f3a\"], [0.8888888888888888, \"#fdca26\"], [1.0, \"#f0f921\"]]}, \"colorway\": [\"#636efa\", \"#EF553B\", \"#00cc96\", \"#ab63fa\", \"#FFA15A\", \"#19d3f3\", \"#FF6692\", \"#B6E880\", \"#FF97FF\", \"#FECB52\"], \"font\": {\"color\": \"#2a3f5f\"}, \"geo\": {\"bgcolor\": \"white\", \"lakecolor\": \"white\", \"landcolor\": \"#E5ECF6\", \"showlakes\": true, \"showland\": true, \"subunitcolor\": \"white\"}, \"hoverlabel\": {\"align\": \"left\"}, \"hovermode\": \"closest\", \"mapbox\": {\"style\": \"light\"}, \"paper_bgcolor\": \"white\", \"plot_bgcolor\": \"#E5ECF6\", \"polar\": {\"angularaxis\": {\"gridcolor\": \"white\", \"linecolor\": \"white\", \"ticks\": \"\"}, \"bgcolor\": \"#E5ECF6\", \"radialaxis\": {\"gridcolor\": \"white\", \"linecolor\": \"white\", \"ticks\": \"\"}}, \"scene\": {\"xaxis\": {\"backgroundcolor\": \"#E5ECF6\", \"gridcolor\": \"white\", \"gridwidth\": 2, \"linecolor\": \"white\", \"showbackground\": true, \"ticks\": \"\", \"zerolinecolor\": \"white\"}, \"yaxis\": {\"backgroundcolor\": \"#E5ECF6\", \"gridcolor\": \"white\", \"gridwidth\": 2, \"linecolor\": \"white\", \"showbackground\": true, \"ticks\": \"\", \"zerolinecolor\": \"white\"}, \"zaxis\": {\"backgroundcolor\": \"#E5ECF6\", \"gridcolor\": \"white\", \"gridwidth\": 2, \"linecolor\": \"white\", \"showbackground\": true, \"ticks\": \"\", \"zerolinecolor\": \"white\"}}, \"shapedefaults\": {\"line\": {\"color\": \"#2a3f5f\"}}, \"ternary\": {\"aaxis\": {\"gridcolor\": \"white\", \"linecolor\": \"white\", \"ticks\": \"\"}, \"baxis\": {\"gridcolor\": \"white\", \"linecolor\": \"white\", \"ticks\": \"\"}, \"bgcolor\": \"#E5ECF6\", \"caxis\": {\"gridcolor\": \"white\", \"linecolor\": \"white\", \"ticks\": \"\"}}, \"title\": {\"x\": 0.05}, \"xaxis\": {\"automargin\": true, \"gridcolor\": \"white\", \"linecolor\": \"white\", \"ticks\": \"\", \"zerolinecolor\": \"white\", \"zerolinewidth\": 2}, \"yaxis\": {\"automargin\": true, \"gridcolor\": \"white\", \"linecolor\": \"white\", \"ticks\": \"\", \"zerolinecolor\": \"white\", \"zerolinewidth\": 2}}}, \"title\": {\"text\": \"Gastos de Sandra Amar Mancilla \"}},\n",
       "                        {\"responsive\": true}\n",
       "                    ).then(function(){\n",
       "                            \n",
       "var gd = document.getElementById('3760c3e8-4e5c-43a1-b4d4-26e567ee47d5');\n",
       "var x = new MutationObserver(function (mutations, observer) {{\n",
       "        var display = window.getComputedStyle(gd).display;\n",
       "        if (!display || display === 'none') {{\n",
       "            console.log([gd, 'removed!']);\n",
       "            Plotly.purge(gd);\n",
       "            observer.disconnect();\n",
       "        }}\n",
       "}});\n",
       "\n",
       "// Listen for the removal of the full notebook cells\n",
       "var notebookContainer = gd.closest('#notebook-container');\n",
       "if (notebookContainer) {{\n",
       "    x.observe(notebookContainer, {childList: true});\n",
       "}}\n",
       "\n",
       "// Listen for the clearing of the current output cell\n",
       "var outputEl = gd.closest('.output');\n",
       "if (outputEl) {{\n",
       "    x.observe(outputEl, {childList: true});\n",
       "}}\n",
       "\n",
       "                        })\n",
       "                };\n",
       "                });\n",
       "            </script>\n",
       "        </div>"
      ]
     },
     "metadata": {},
     "output_type": "display_data"
    }
   ],
   "source": [
    "get_all_info(1011)"
   ]
  },
  {
   "cell_type": "code",
   "execution_count": 33,
   "metadata": {},
   "outputs": [
    {
     "name": "stdout",
     "output_type": "stream",
     "text": [
      "Finished getting biographical data\n",
      "Finished getting expenditure\n"
     ]
    },
    {
     "data": {
      "application/vnd.plotly.v1+json": {
       "config": {
        "plotlyServerURL": "https://plot.ly"
       },
       "data": [
        {
         "name": "Oficinas parlamentarias (incluye arriendos, consumos básicos, internet, etc.)  ",
         "type": "bar",
         "x": [
          "18-enero",
          "18-febrero",
          "18-marzo",
          "18-abril",
          "18-mayo",
          "18-junio",
          "18-julio",
          "18-agosto",
          "18-septiembre",
          "18-octubre",
          "18-noviembre",
          "18-diciembre",
          "19-enero",
          "19-febrero",
          "19-marzo",
          "19-abril",
          "19-mayo",
          "19-junio",
          "19-julio",
          "19-agosto",
          "19-septiembre",
          "19-octubre",
          "19-noviembre",
          "19-diciembre"
         ],
         "y": [
          0,
          0,
          306667,
          719000,
          615847,
          597041,
          0,
          0,
          0,
          0,
          0,
          0,
          0,
          0,
          0,
          0,
          0,
          0,
          0,
          0,
          0,
          0,
          0,
          0
         ]
        },
        {
         "name": "Traslación  ",
         "type": "bar",
         "x": [
          "18-enero",
          "18-febrero",
          "18-marzo",
          "18-abril",
          "18-mayo",
          "18-junio",
          "18-julio",
          "18-agosto",
          "18-septiembre",
          "18-octubre",
          "18-noviembre",
          "18-diciembre",
          "19-enero",
          "19-febrero",
          "19-marzo",
          "19-abril",
          "19-mayo",
          "19-junio",
          "19-julio",
          "19-agosto",
          "19-septiembre",
          "19-octubre",
          "19-noviembre",
          "19-diciembre"
         ],
         "y": [
          0,
          0,
          0,
          0,
          0,
          0,
          0,
          0,
          0,
          0,
          0,
          0,
          2598763,
          1279105,
          1859509,
          2107267,
          2166894,
          2350016,
          0,
          0,
          0,
          0,
          0,
          0
         ]
        },
        {
         "name": "Vehículos  ",
         "type": "bar",
         "x": [
          "18-enero",
          "18-febrero",
          "18-marzo",
          "18-abril",
          "18-mayo",
          "18-junio",
          "18-julio",
          "18-agosto",
          "18-septiembre",
          "18-octubre",
          "18-noviembre",
          "18-diciembre",
          "19-enero",
          "19-febrero",
          "19-marzo",
          "19-abril",
          "19-mayo",
          "19-junio",
          "19-julio",
          "19-agosto",
          "19-septiembre",
          "19-octubre",
          "19-noviembre",
          "19-diciembre"
         ],
         "y": [
          0,
          0,
          633022,
          993000,
          993000,
          993000,
          800000,
          800000,
          813884,
          816106,
          819101,
          820083,
          0,
          0,
          0,
          0,
          0,
          0,
          0,
          0,
          0,
          0,
          0,
          0
         ]
        },
        {
         "name": "Tag y peajes  ",
         "type": "bar",
         "x": [
          "18-enero",
          "18-febrero",
          "18-marzo",
          "18-abril",
          "18-mayo",
          "18-junio",
          "18-julio",
          "18-agosto",
          "18-septiembre",
          "18-octubre",
          "18-noviembre",
          "18-diciembre",
          "19-enero",
          "19-febrero",
          "19-marzo",
          "19-abril",
          "19-mayo",
          "19-junio",
          "19-julio",
          "19-agosto",
          "19-septiembre",
          "19-octubre",
          "19-noviembre",
          "19-diciembre"
         ],
         "y": [
          0,
          0,
          13850,
          39385,
          222705,
          268297,
          248287,
          236954,
          286973,
          199381,
          254910,
          264872,
          0,
          0,
          0,
          0,
          0,
          0,
          0,
          0,
          0,
          0,
          0,
          0
         ]
        },
        {
         "name": "Combustible  ",
         "type": "bar",
         "x": [
          "18-enero",
          "18-febrero",
          "18-marzo",
          "18-abril",
          "18-mayo",
          "18-junio",
          "18-julio",
          "18-agosto",
          "18-septiembre",
          "18-octubre",
          "18-noviembre",
          "18-diciembre",
          "19-enero",
          "19-febrero",
          "19-marzo",
          "19-abril",
          "19-mayo",
          "19-junio",
          "19-julio",
          "19-agosto",
          "19-septiembre",
          "19-octubre",
          "19-noviembre",
          "19-diciembre"
         ],
         "y": [
          0,
          0,
          182508,
          179151,
          271975,
          287138,
          289468,
          338409,
          212808,
          339346,
          335464,
          277864,
          0,
          0,
          0,
          0,
          0,
          0,
          0,
          0,
          0,
          0,
          0,
          0
         ]
        },
        {
         "name": "Viáticos  ",
         "type": "bar",
         "x": [
          "18-enero",
          "18-febrero",
          "18-marzo",
          "18-abril",
          "18-mayo",
          "18-junio",
          "18-julio",
          "18-agosto",
          "18-septiembre",
          "18-octubre",
          "18-noviembre",
          "18-diciembre",
          "19-enero",
          "19-febrero",
          "19-marzo",
          "19-abril",
          "19-mayo",
          "19-junio",
          "19-julio",
          "19-agosto",
          "19-septiembre",
          "19-octubre",
          "19-noviembre",
          "19-diciembre"
         ],
         "y": [
          0,
          0,
          613640,
          920448,
          1150560,
          943452,
          0,
          0,
          0,
          0,
          0,
          0,
          0,
          0,
          0,
          0,
          0,
          0,
          0,
          0,
          0,
          0,
          0,
          0
         ]
        },
        {
         "name": "Materiales de oficina  ",
         "type": "bar",
         "x": [
          "18-enero",
          "18-febrero",
          "18-marzo",
          "18-abril",
          "18-mayo",
          "18-junio",
          "18-julio",
          "18-agosto",
          "18-septiembre",
          "18-octubre",
          "18-noviembre",
          "18-diciembre",
          "19-enero",
          "19-febrero",
          "19-marzo",
          "19-abril",
          "19-mayo",
          "19-junio",
          "19-julio",
          "19-agosto",
          "19-septiembre",
          "19-octubre",
          "19-noviembre",
          "19-diciembre"
         ],
         "y": [
          0,
          0,
          46752,
          42393,
          166710,
          13292,
          0,
          0,
          0,
          0,
          0,
          0,
          49234,
          0,
          0,
          12852,
          33541,
          9844,
          0,
          0,
          0,
          0,
          0,
          0
         ]
        },
        {
         "name": "Difusión  ",
         "type": "bar",
         "x": [
          "18-enero",
          "18-febrero",
          "18-marzo",
          "18-abril",
          "18-mayo",
          "18-junio",
          "18-julio",
          "18-agosto",
          "18-septiembre",
          "18-octubre",
          "18-noviembre",
          "18-diciembre",
          "19-enero",
          "19-febrero",
          "19-marzo",
          "19-abril",
          "19-mayo",
          "19-junio",
          "19-julio",
          "19-agosto",
          "19-septiembre",
          "19-octubre",
          "19-noviembre",
          "19-diciembre"
         ],
         "y": [
          0,
          0,
          392700,
          0,
          109374,
          0,
          416500,
          464832,
          0,
          2804830,
          145910,
          95000,
          0,
          0,
          3390000,
          696150,
          3390000,
          0,
          0,
          0,
          0,
          0,
          0,
          0
         ]
        },
        {
         "name": "Actividades distritales  ",
         "type": "bar",
         "x": [
          "18-enero",
          "18-febrero",
          "18-marzo",
          "18-abril",
          "18-mayo",
          "18-junio",
          "18-julio",
          "18-agosto",
          "18-septiembre",
          "18-octubre",
          "18-noviembre",
          "18-diciembre",
          "19-enero",
          "19-febrero",
          "19-marzo",
          "19-abril",
          "19-mayo",
          "19-junio",
          "19-julio",
          "19-agosto",
          "19-septiembre",
          "19-octubre",
          "19-noviembre",
          "19-diciembre"
         ],
         "y": [
          0,
          0,
          465500,
          665000,
          665000,
          665000,
          0,
          0,
          0,
          0,
          0,
          0,
          0,
          0,
          0,
          0,
          0,
          0,
          0,
          0,
          0,
          0,
          0,
          0
         ]
        },
        {
         "name": "Telefonía  ",
         "type": "bar",
         "x": [
          "18-enero",
          "18-febrero",
          "18-marzo",
          "18-abril",
          "18-mayo",
          "18-junio",
          "18-julio",
          "18-agosto",
          "18-septiembre",
          "18-octubre",
          "18-noviembre",
          "18-diciembre",
          "19-enero",
          "19-febrero",
          "19-marzo",
          "19-abril",
          "19-mayo",
          "19-junio",
          "19-julio",
          "19-agosto",
          "19-septiembre",
          "19-octubre",
          "19-noviembre",
          "19-diciembre"
         ],
         "y": [
          0,
          0,
          0,
          703903,
          92357,
          100310,
          111347,
          134513,
          136218,
          262501,
          128192,
          101682,
          127818,
          100982,
          108469,
          183411,
          633622,
          261122,
          0,
          0,
          0,
          0,
          0,
          0
         ]
        },
        {
         "name": "Servicios y gastos menores  ",
         "type": "bar",
         "x": [
          "18-enero",
          "18-febrero",
          "18-marzo",
          "18-abril",
          "18-mayo",
          "18-junio",
          "18-julio",
          "18-agosto",
          "18-septiembre",
          "18-octubre",
          "18-noviembre",
          "18-diciembre",
          "19-enero",
          "19-febrero",
          "19-marzo",
          "19-abril",
          "19-mayo",
          "19-junio",
          "19-julio",
          "19-agosto",
          "19-septiembre",
          "19-octubre",
          "19-noviembre",
          "19-diciembre"
         ],
         "y": [
          0,
          0,
          0,
          100000,
          65000,
          87200,
          0,
          0,
          0,
          0,
          0,
          0,
          0,
          0,
          0,
          0,
          0,
          0,
          0,
          0,
          0,
          0,
          0,
          0
         ]
        },
        {
         "name": "Correspondencia  ",
         "type": "bar",
         "x": [
          "18-enero",
          "18-febrero",
          "18-marzo",
          "18-abril",
          "18-mayo",
          "18-junio",
          "18-julio",
          "18-agosto",
          "18-septiembre",
          "18-octubre",
          "18-noviembre",
          "18-diciembre",
          "19-enero",
          "19-febrero",
          "19-marzo",
          "19-abril",
          "19-mayo",
          "19-junio",
          "19-julio",
          "19-agosto",
          "19-septiembre",
          "19-octubre",
          "19-noviembre",
          "19-diciembre"
         ],
         "y": [
          0,
          0,
          0,
          0,
          24720,
          31002,
          0,
          0,
          0,
          0,
          0,
          0,
          0,
          0,
          0,
          78143,
          79853,
          565316,
          0,
          0,
          0,
          0,
          0,
          0
         ]
        },
        {
         "name": "Alojamiento  ",
         "type": "bar",
         "x": [
          "18-enero",
          "18-febrero",
          "18-marzo",
          "18-abril",
          "18-mayo",
          "18-junio",
          "18-julio",
          "18-agosto",
          "18-septiembre",
          "18-octubre",
          "18-noviembre",
          "18-diciembre",
          "19-enero",
          "19-febrero",
          "19-marzo",
          "19-abril",
          "19-mayo",
          "19-junio",
          "19-julio",
          "19-agosto",
          "19-septiembre",
          "19-octubre",
          "19-noviembre",
          "19-diciembre"
         ],
         "y": [
          0,
          0,
          0,
          0,
          0,
          78540,
          258579,
          0,
          0,
          0,
          118400,
          26990,
          0,
          0,
          0,
          0,
          0,
          0,
          0,
          0,
          0,
          0,
          0,
          0
         ]
        },
        {
         "name": "Alimentación  ",
         "type": "bar",
         "x": [
          "18-enero",
          "18-febrero",
          "18-marzo",
          "18-abril",
          "18-mayo",
          "18-junio",
          "18-julio",
          "18-agosto",
          "18-septiembre",
          "18-octubre",
          "18-noviembre",
          "18-diciembre",
          "19-enero",
          "19-febrero",
          "19-marzo",
          "19-abril",
          "19-mayo",
          "19-junio",
          "19-julio",
          "19-agosto",
          "19-septiembre",
          "19-octubre",
          "19-noviembre",
          "19-diciembre"
         ],
         "y": [
          0,
          0,
          0,
          0,
          0,
          6680,
          21179,
          9990,
          90670,
          44350,
          57190,
          47190,
          0,
          0,
          0,
          0,
          0,
          0,
          0,
          0,
          0,
          0,
          0,
          0
         ]
        },
        {
         "name": "Actividades territoriales  ",
         "type": "bar",
         "x": [
          "18-enero",
          "18-febrero",
          "18-marzo",
          "18-abril",
          "18-mayo",
          "18-junio",
          "18-julio",
          "18-agosto",
          "18-septiembre",
          "18-octubre",
          "18-noviembre",
          "18-diciembre",
          "19-enero",
          "19-febrero",
          "19-marzo",
          "19-abril",
          "19-mayo",
          "19-junio",
          "19-julio",
          "19-agosto",
          "19-septiembre",
          "19-octubre",
          "19-noviembre",
          "19-diciembre"
         ],
         "y": [
          0,
          0,
          0,
          0,
          0,
          0,
          1457526,
          1054040,
          1033881,
          841051,
          1825666,
          1131959,
          0,
          0,
          0,
          0,
          0,
          0,
          0,
          0,
          0,
          0,
          0,
          0
         ]
        },
        {
         "name": "Vehiculos- amortizacion  ",
         "type": "bar",
         "x": [
          "18-enero",
          "18-febrero",
          "18-marzo",
          "18-abril",
          "18-mayo",
          "18-junio",
          "18-julio",
          "18-agosto",
          "18-septiembre",
          "18-octubre",
          "18-noviembre",
          "18-diciembre",
          "19-enero",
          "19-febrero",
          "19-marzo",
          "19-abril",
          "19-mayo",
          "19-junio",
          "19-julio",
          "19-agosto",
          "19-septiembre",
          "19-octubre",
          "19-noviembre",
          "19-diciembre"
         ],
         "y": [
          0,
          0,
          0,
          0,
          0,
          0,
          193000,
          193000,
          193000,
          193000,
          193000,
          193000,
          0,
          0,
          0,
          0,
          0,
          0,
          0,
          0,
          0,
          0,
          0,
          0
         ]
        },
        {
         "name": "Pasajes de movilización  ",
         "type": "bar",
         "x": [
          "18-enero",
          "18-febrero",
          "18-marzo",
          "18-abril",
          "18-mayo",
          "18-junio",
          "18-julio",
          "18-agosto",
          "18-septiembre",
          "18-octubre",
          "18-noviembre",
          "18-diciembre",
          "19-enero",
          "19-febrero",
          "19-marzo",
          "19-abril",
          "19-mayo",
          "19-junio",
          "19-julio",
          "19-agosto",
          "19-septiembre",
          "19-octubre",
          "19-noviembre",
          "19-diciembre"
         ],
         "y": [
          0,
          0,
          0,
          0,
          0,
          0,
          2700,
          0,
          0,
          3500,
          16900,
          9300,
          0,
          0,
          0,
          0,
          0,
          0,
          0,
          0,
          0,
          0,
          0,
          0
         ]
        },
        {
         "name": "Viáticos del diputado  ",
         "type": "bar",
         "x": [
          "18-enero",
          "18-febrero",
          "18-marzo",
          "18-abril",
          "18-mayo",
          "18-junio",
          "18-julio",
          "18-agosto",
          "18-septiembre",
          "18-octubre",
          "18-noviembre",
          "18-diciembre",
          "19-enero",
          "19-febrero",
          "19-marzo",
          "19-abril",
          "19-mayo",
          "19-junio",
          "19-julio",
          "19-agosto",
          "19-septiembre",
          "19-octubre",
          "19-noviembre",
          "19-diciembre"
         ],
         "y": [
          0,
          0,
          0,
          0,
          0,
          0,
          707589,
          943452,
          786210,
          471726,
          1022073,
          943452,
          0,
          0,
          0,
          0,
          0,
          0,
          0,
          0,
          0,
          0,
          0,
          0
         ]
        },
        {
         "name": "Traspaso desde gastos operacionales a asignación personal de apoyo  ",
         "type": "bar",
         "x": [
          "18-enero",
          "18-febrero",
          "18-marzo",
          "18-abril",
          "18-mayo",
          "18-junio",
          "18-julio",
          "18-agosto",
          "18-septiembre",
          "18-octubre",
          "18-noviembre",
          "18-diciembre",
          "19-enero",
          "19-febrero",
          "19-marzo",
          "19-abril",
          "19-mayo",
          "19-junio",
          "19-julio",
          "19-agosto",
          "19-septiembre",
          "19-octubre",
          "19-noviembre",
          "19-diciembre"
         ],
         "y": [
          0,
          0,
          0,
          0,
          0,
          0,
          0,
          0,
          0,
          0,
          0,
          0,
          0,
          0,
          0,
          0,
          0,
          0,
          0,
          0,
          0,
          0,
          0,
          0
         ]
        },
        {
         "name": "Actividades destinadas a la interacción con la comunidad  ",
         "type": "bar",
         "x": [
          "18-enero",
          "18-febrero",
          "18-marzo",
          "18-abril",
          "18-mayo",
          "18-junio",
          "18-julio",
          "18-agosto",
          "18-septiembre",
          "18-octubre",
          "18-noviembre",
          "18-diciembre",
          "19-enero",
          "19-febrero",
          "19-marzo",
          "19-abril",
          "19-mayo",
          "19-junio",
          "19-julio",
          "19-agosto",
          "19-septiembre",
          "19-octubre",
          "19-noviembre",
          "19-diciembre"
         ],
         "y": [
          0,
          0,
          0,
          0,
          0,
          0,
          0,
          0,
          0,
          0,
          0,
          0,
          0,
          0,
          0,
          0,
          0,
          0,
          0,
          0,
          0,
          0,
          0,
          0
         ]
        },
        {
         "name": "Arriendo de inmueble  ",
         "type": "bar",
         "x": [
          "18-enero",
          "18-febrero",
          "18-marzo",
          "18-abril",
          "18-mayo",
          "18-junio",
          "18-julio",
          "18-agosto",
          "18-septiembre",
          "18-octubre",
          "18-noviembre",
          "18-diciembre",
          "19-enero",
          "19-febrero",
          "19-marzo",
          "19-abril",
          "19-mayo",
          "19-junio",
          "19-julio",
          "19-agosto",
          "19-septiembre",
          "19-octubre",
          "19-noviembre",
          "19-diciembre"
         ],
         "y": [
          0,
          0,
          0,
          0,
          0,
          0,
          0,
          0,
          0,
          0,
          0,
          0,
          400000,
          400000,
          408112,
          408112,
          408112,
          408112,
          0,
          0,
          0,
          0,
          0,
          0
         ]
        },
        {
         "name": "Consumos básicos  ",
         "type": "bar",
         "x": [
          "18-enero",
          "18-febrero",
          "18-marzo",
          "18-abril",
          "18-mayo",
          "18-junio",
          "18-julio",
          "18-agosto",
          "18-septiembre",
          "18-octubre",
          "18-noviembre",
          "18-diciembre",
          "19-enero",
          "19-febrero",
          "19-marzo",
          "19-abril",
          "19-mayo",
          "19-junio",
          "19-julio",
          "19-agosto",
          "19-septiembre",
          "19-octubre",
          "19-noviembre",
          "19-diciembre"
         ],
         "y": [
          0,
          0,
          0,
          0,
          0,
          0,
          0,
          0,
          0,
          0,
          0,
          0,
          108904,
          131999,
          124582,
          133496,
          136487,
          141500,
          0,
          0,
          0,
          0,
          0,
          0
         ]
        },
        {
         "name": "Equipamiento oficina parlamentaria  ",
         "type": "bar",
         "x": [
          "18-enero",
          "18-febrero",
          "18-marzo",
          "18-abril",
          "18-mayo",
          "18-junio",
          "18-julio",
          "18-agosto",
          "18-septiembre",
          "18-octubre",
          "18-noviembre",
          "18-diciembre",
          "19-enero",
          "19-febrero",
          "19-marzo",
          "19-abril",
          "19-mayo",
          "19-junio",
          "19-julio",
          "19-agosto",
          "19-septiembre",
          "19-octubre",
          "19-noviembre",
          "19-diciembre"
         ],
         "y": [
          0,
          0,
          0,
          0,
          0,
          0,
          0,
          0,
          0,
          0,
          0,
          0,
          0,
          0,
          81580,
          0,
          84980,
          0,
          0,
          0,
          0,
          0,
          0,
          0
         ]
        },
        {
         "name": "Gastos de mantención oficina parlamentaria (inmueble)  ",
         "type": "bar",
         "x": [
          "18-enero",
          "18-febrero",
          "18-marzo",
          "18-abril",
          "18-mayo",
          "18-junio",
          "18-julio",
          "18-agosto",
          "18-septiembre",
          "18-octubre",
          "18-noviembre",
          "18-diciembre",
          "19-enero",
          "19-febrero",
          "19-marzo",
          "19-abril",
          "19-mayo",
          "19-junio",
          "19-julio",
          "19-agosto",
          "19-septiembre",
          "19-octubre",
          "19-noviembre",
          "19-diciembre"
         ],
         "y": [
          0,
          0,
          0,
          0,
          0,
          0,
          0,
          0,
          0,
          0,
          0,
          0,
          0,
          0,
          0,
          0,
          0,
          0,
          0,
          0,
          0,
          0,
          0,
          0
         ]
        },
        {
         "name": "Reparaciones locativas del inmueble  ",
         "type": "bar",
         "x": [
          "18-enero",
          "18-febrero",
          "18-marzo",
          "18-abril",
          "18-mayo",
          "18-junio",
          "18-julio",
          "18-agosto",
          "18-septiembre",
          "18-octubre",
          "18-noviembre",
          "18-diciembre",
          "19-enero",
          "19-febrero",
          "19-marzo",
          "19-abril",
          "19-mayo",
          "19-junio",
          "19-julio",
          "19-agosto",
          "19-septiembre",
          "19-octubre",
          "19-noviembre",
          "19-diciembre"
         ],
         "y": [
          0,
          0,
          0,
          0,
          0,
          0,
          0,
          0,
          0,
          0,
          0,
          0,
          0,
          0,
          0,
          0,
          0,
          0,
          0,
          0,
          0,
          0,
          0,
          0
         ]
        },
        {
         "name": "Habilitación de sedes parlamentarias (con autorización de crap)  ",
         "type": "bar",
         "x": [
          "18-enero",
          "18-febrero",
          "18-marzo",
          "18-abril",
          "18-mayo",
          "18-junio",
          "18-julio",
          "18-agosto",
          "18-septiembre",
          "18-octubre",
          "18-noviembre",
          "18-diciembre",
          "19-enero",
          "19-febrero",
          "19-marzo",
          "19-abril",
          "19-mayo",
          "19-junio",
          "19-julio",
          "19-agosto",
          "19-septiembre",
          "19-octubre",
          "19-noviembre",
          "19-diciembre"
         ],
         "y": [
          0,
          0,
          0,
          0,
          0,
          0,
          0,
          0,
          0,
          0,
          0,
          0,
          0,
          0,
          0,
          0,
          0,
          0,
          0,
          0,
          0,
          0,
          0,
          0
         ]
        },
        {
         "name": "Seguros de bienes  ",
         "type": "bar",
         "x": [
          "18-enero",
          "18-febrero",
          "18-marzo",
          "18-abril",
          "18-mayo",
          "18-junio",
          "18-julio",
          "18-agosto",
          "18-septiembre",
          "18-octubre",
          "18-noviembre",
          "18-diciembre",
          "19-enero",
          "19-febrero",
          "19-marzo",
          "19-abril",
          "19-mayo",
          "19-junio",
          "19-julio",
          "19-agosto",
          "19-septiembre",
          "19-octubre",
          "19-noviembre",
          "19-diciembre"
         ],
         "y": [
          0,
          0,
          0,
          0,
          0,
          0,
          0,
          0,
          0,
          0,
          0,
          0,
          0,
          0,
          0,
          0,
          0,
          0,
          0,
          0,
          0,
          0,
          0,
          0
         ]
        },
        {
         "name": "Arriendo de oficinas virtuales  ",
         "type": "bar",
         "x": [
          "18-enero",
          "18-febrero",
          "18-marzo",
          "18-abril",
          "18-mayo",
          "18-junio",
          "18-julio",
          "18-agosto",
          "18-septiembre",
          "18-octubre",
          "18-noviembre",
          "18-diciembre",
          "19-enero",
          "19-febrero",
          "19-marzo",
          "19-abril",
          "19-mayo",
          "19-junio",
          "19-julio",
          "19-agosto",
          "19-septiembre",
          "19-octubre",
          "19-noviembre",
          "19-diciembre"
         ],
         "y": [
          0,
          0,
          0,
          0,
          0,
          0,
          0,
          0,
          0,
          0,
          0,
          0,
          0,
          0,
          0,
          0,
          0,
          0,
          0,
          0,
          0,
          0,
          0,
          0
         ]
        },
        {
         "name": "Servicios web  ",
         "type": "bar",
         "x": [
          "18-enero",
          "18-febrero",
          "18-marzo",
          "18-abril",
          "18-mayo",
          "18-junio",
          "18-julio",
          "18-agosto",
          "18-septiembre",
          "18-octubre",
          "18-noviembre",
          "18-diciembre",
          "19-enero",
          "19-febrero",
          "19-marzo",
          "19-abril",
          "19-mayo",
          "19-junio",
          "19-julio",
          "19-agosto",
          "19-septiembre",
          "19-octubre",
          "19-noviembre",
          "19-diciembre"
         ],
         "y": [
          0,
          0,
          0,
          0,
          0,
          0,
          0,
          0,
          0,
          0,
          0,
          0,
          0,
          0,
          0,
          0,
          0,
          0,
          0,
          0,
          0,
          0,
          0,
          0
         ]
        },
        {
         "name": "Contratación servicio de almacenamiento  ",
         "type": "bar",
         "x": [
          "18-enero",
          "18-febrero",
          "18-marzo",
          "18-abril",
          "18-mayo",
          "18-junio",
          "18-julio",
          "18-agosto",
          "18-septiembre",
          "18-octubre",
          "18-noviembre",
          "18-diciembre",
          "19-enero",
          "19-febrero",
          "19-marzo",
          "19-abril",
          "19-mayo",
          "19-junio",
          "19-julio",
          "19-agosto",
          "19-septiembre",
          "19-octubre",
          "19-noviembre",
          "19-diciembre"
         ],
         "y": [
          0,
          0,
          0,
          0,
          0,
          0,
          0,
          0,
          0,
          0,
          0,
          0,
          0,
          0,
          0,
          0,
          0,
          0,
          0,
          0,
          0,
          0,
          0,
          0
         ]
        },
        {
         "name": "Arriendo de oficina móvil  ",
         "type": "bar",
         "x": [
          "18-enero",
          "18-febrero",
          "18-marzo",
          "18-abril",
          "18-mayo",
          "18-junio",
          "18-julio",
          "18-agosto",
          "18-septiembre",
          "18-octubre",
          "18-noviembre",
          "18-diciembre",
          "19-enero",
          "19-febrero",
          "19-marzo",
          "19-abril",
          "19-mayo",
          "19-junio",
          "19-julio",
          "19-agosto",
          "19-septiembre",
          "19-octubre",
          "19-noviembre",
          "19-diciembre"
         ],
         "y": [
          0,
          0,
          0,
          0,
          0,
          0,
          0,
          0,
          0,
          0,
          0,
          0,
          0,
          0,
          0,
          0,
          0,
          0,
          0,
          0,
          0,
          0,
          0,
          0
         ]
        },
        {
         "name": "Mantencion y reparación de oficina móvil  ",
         "type": "bar",
         "x": [
          "18-enero",
          "18-febrero",
          "18-marzo",
          "18-abril",
          "18-mayo",
          "18-junio",
          "18-julio",
          "18-agosto",
          "18-septiembre",
          "18-octubre",
          "18-noviembre",
          "18-diciembre",
          "19-enero",
          "19-febrero",
          "19-marzo",
          "19-abril",
          "19-mayo",
          "19-junio",
          "19-julio",
          "19-agosto",
          "19-septiembre",
          "19-octubre",
          "19-noviembre",
          "19-diciembre"
         ],
         "y": [
          0,
          0,
          0,
          0,
          0,
          0,
          0,
          0,
          0,
          0,
          0,
          0,
          0,
          0,
          0,
          0,
          0,
          0,
          0,
          0,
          0,
          0,
          0,
          0
         ]
        },
        {
         "name": "Servicios menores  ",
         "type": "bar",
         "x": [
          "18-enero",
          "18-febrero",
          "18-marzo",
          "18-abril",
          "18-mayo",
          "18-junio",
          "18-julio",
          "18-agosto",
          "18-septiembre",
          "18-octubre",
          "18-noviembre",
          "18-diciembre",
          "19-enero",
          "19-febrero",
          "19-marzo",
          "19-abril",
          "19-mayo",
          "19-junio",
          "19-julio",
          "19-agosto",
          "19-septiembre",
          "19-octubre",
          "19-noviembre",
          "19-diciembre"
         ],
         "y": [
          0,
          0,
          0,
          0,
          0,
          0,
          0,
          0,
          0,
          0,
          0,
          0,
          239990,
          0,
          239990,
          239990,
          239990,
          239990,
          0,
          0,
          0,
          0,
          0,
          0
         ]
        }
       ],
       "layout": {
        "autosize": true,
        "barmode": "stack",
        "showlegend": false,
        "template": {
         "data": {
          "bar": [
           {
            "error_x": {
             "color": "#2a3f5f"
            },
            "error_y": {
             "color": "#2a3f5f"
            },
            "marker": {
             "line": {
              "color": "#E5ECF6",
              "width": 0.5
             }
            },
            "type": "bar"
           }
          ],
          "barpolar": [
           {
            "marker": {
             "line": {
              "color": "#E5ECF6",
              "width": 0.5
             }
            },
            "type": "barpolar"
           }
          ],
          "carpet": [
           {
            "aaxis": {
             "endlinecolor": "#2a3f5f",
             "gridcolor": "white",
             "linecolor": "white",
             "minorgridcolor": "white",
             "startlinecolor": "#2a3f5f"
            },
            "baxis": {
             "endlinecolor": "#2a3f5f",
             "gridcolor": "white",
             "linecolor": "white",
             "minorgridcolor": "white",
             "startlinecolor": "#2a3f5f"
            },
            "type": "carpet"
           }
          ],
          "choropleth": [
           {
            "colorbar": {
             "outlinewidth": 0,
             "ticks": ""
            },
            "type": "choropleth"
           }
          ],
          "contour": [
           {
            "colorbar": {
             "outlinewidth": 0,
             "ticks": ""
            },
            "colorscale": [
             [
              0,
              "#0d0887"
             ],
             [
              0.1111111111111111,
              "#46039f"
             ],
             [
              0.2222222222222222,
              "#7201a8"
             ],
             [
              0.3333333333333333,
              "#9c179e"
             ],
             [
              0.4444444444444444,
              "#bd3786"
             ],
             [
              0.5555555555555556,
              "#d8576b"
             ],
             [
              0.6666666666666666,
              "#ed7953"
             ],
             [
              0.7777777777777778,
              "#fb9f3a"
             ],
             [
              0.8888888888888888,
              "#fdca26"
             ],
             [
              1,
              "#f0f921"
             ]
            ],
            "type": "contour"
           }
          ],
          "contourcarpet": [
           {
            "colorbar": {
             "outlinewidth": 0,
             "ticks": ""
            },
            "type": "contourcarpet"
           }
          ],
          "heatmap": [
           {
            "colorbar": {
             "outlinewidth": 0,
             "ticks": ""
            },
            "colorscale": [
             [
              0,
              "#0d0887"
             ],
             [
              0.1111111111111111,
              "#46039f"
             ],
             [
              0.2222222222222222,
              "#7201a8"
             ],
             [
              0.3333333333333333,
              "#9c179e"
             ],
             [
              0.4444444444444444,
              "#bd3786"
             ],
             [
              0.5555555555555556,
              "#d8576b"
             ],
             [
              0.6666666666666666,
              "#ed7953"
             ],
             [
              0.7777777777777778,
              "#fb9f3a"
             ],
             [
              0.8888888888888888,
              "#fdca26"
             ],
             [
              1,
              "#f0f921"
             ]
            ],
            "type": "heatmap"
           }
          ],
          "heatmapgl": [
           {
            "colorbar": {
             "outlinewidth": 0,
             "ticks": ""
            },
            "colorscale": [
             [
              0,
              "#0d0887"
             ],
             [
              0.1111111111111111,
              "#46039f"
             ],
             [
              0.2222222222222222,
              "#7201a8"
             ],
             [
              0.3333333333333333,
              "#9c179e"
             ],
             [
              0.4444444444444444,
              "#bd3786"
             ],
             [
              0.5555555555555556,
              "#d8576b"
             ],
             [
              0.6666666666666666,
              "#ed7953"
             ],
             [
              0.7777777777777778,
              "#fb9f3a"
             ],
             [
              0.8888888888888888,
              "#fdca26"
             ],
             [
              1,
              "#f0f921"
             ]
            ],
            "type": "heatmapgl"
           }
          ],
          "histogram": [
           {
            "marker": {
             "colorbar": {
              "outlinewidth": 0,
              "ticks": ""
             }
            },
            "type": "histogram"
           }
          ],
          "histogram2d": [
           {
            "colorbar": {
             "outlinewidth": 0,
             "ticks": ""
            },
            "colorscale": [
             [
              0,
              "#0d0887"
             ],
             [
              0.1111111111111111,
              "#46039f"
             ],
             [
              0.2222222222222222,
              "#7201a8"
             ],
             [
              0.3333333333333333,
              "#9c179e"
             ],
             [
              0.4444444444444444,
              "#bd3786"
             ],
             [
              0.5555555555555556,
              "#d8576b"
             ],
             [
              0.6666666666666666,
              "#ed7953"
             ],
             [
              0.7777777777777778,
              "#fb9f3a"
             ],
             [
              0.8888888888888888,
              "#fdca26"
             ],
             [
              1,
              "#f0f921"
             ]
            ],
            "type": "histogram2d"
           }
          ],
          "histogram2dcontour": [
           {
            "colorbar": {
             "outlinewidth": 0,
             "ticks": ""
            },
            "colorscale": [
             [
              0,
              "#0d0887"
             ],
             [
              0.1111111111111111,
              "#46039f"
             ],
             [
              0.2222222222222222,
              "#7201a8"
             ],
             [
              0.3333333333333333,
              "#9c179e"
             ],
             [
              0.4444444444444444,
              "#bd3786"
             ],
             [
              0.5555555555555556,
              "#d8576b"
             ],
             [
              0.6666666666666666,
              "#ed7953"
             ],
             [
              0.7777777777777778,
              "#fb9f3a"
             ],
             [
              0.8888888888888888,
              "#fdca26"
             ],
             [
              1,
              "#f0f921"
             ]
            ],
            "type": "histogram2dcontour"
           }
          ],
          "mesh3d": [
           {
            "colorbar": {
             "outlinewidth": 0,
             "ticks": ""
            },
            "type": "mesh3d"
           }
          ],
          "parcoords": [
           {
            "line": {
             "colorbar": {
              "outlinewidth": 0,
              "ticks": ""
             }
            },
            "type": "parcoords"
           }
          ],
          "scatter": [
           {
            "marker": {
             "colorbar": {
              "outlinewidth": 0,
              "ticks": ""
             }
            },
            "type": "scatter"
           }
          ],
          "scatter3d": [
           {
            "line": {
             "colorbar": {
              "outlinewidth": 0,
              "ticks": ""
             }
            },
            "marker": {
             "colorbar": {
              "outlinewidth": 0,
              "ticks": ""
             }
            },
            "type": "scatter3d"
           }
          ],
          "scattercarpet": [
           {
            "marker": {
             "colorbar": {
              "outlinewidth": 0,
              "ticks": ""
             }
            },
            "type": "scattercarpet"
           }
          ],
          "scattergeo": [
           {
            "marker": {
             "colorbar": {
              "outlinewidth": 0,
              "ticks": ""
             }
            },
            "type": "scattergeo"
           }
          ],
          "scattergl": [
           {
            "marker": {
             "colorbar": {
              "outlinewidth": 0,
              "ticks": ""
             }
            },
            "type": "scattergl"
           }
          ],
          "scattermapbox": [
           {
            "marker": {
             "colorbar": {
              "outlinewidth": 0,
              "ticks": ""
             }
            },
            "type": "scattermapbox"
           }
          ],
          "scatterpolar": [
           {
            "marker": {
             "colorbar": {
              "outlinewidth": 0,
              "ticks": ""
             }
            },
            "type": "scatterpolar"
           }
          ],
          "scatterpolargl": [
           {
            "marker": {
             "colorbar": {
              "outlinewidth": 0,
              "ticks": ""
             }
            },
            "type": "scatterpolargl"
           }
          ],
          "scatterternary": [
           {
            "marker": {
             "colorbar": {
              "outlinewidth": 0,
              "ticks": ""
             }
            },
            "type": "scatterternary"
           }
          ],
          "surface": [
           {
            "colorbar": {
             "outlinewidth": 0,
             "ticks": ""
            },
            "colorscale": [
             [
              0,
              "#0d0887"
             ],
             [
              0.1111111111111111,
              "#46039f"
             ],
             [
              0.2222222222222222,
              "#7201a8"
             ],
             [
              0.3333333333333333,
              "#9c179e"
             ],
             [
              0.4444444444444444,
              "#bd3786"
             ],
             [
              0.5555555555555556,
              "#d8576b"
             ],
             [
              0.6666666666666666,
              "#ed7953"
             ],
             [
              0.7777777777777778,
              "#fb9f3a"
             ],
             [
              0.8888888888888888,
              "#fdca26"
             ],
             [
              1,
              "#f0f921"
             ]
            ],
            "type": "surface"
           }
          ],
          "table": [
           {
            "cells": {
             "fill": {
              "color": "#EBF0F8"
             },
             "line": {
              "color": "white"
             }
            },
            "header": {
             "fill": {
              "color": "#C8D4E3"
             },
             "line": {
              "color": "white"
             }
            },
            "type": "table"
           }
          ]
         },
         "layout": {
          "annotationdefaults": {
           "arrowcolor": "#2a3f5f",
           "arrowhead": 0,
           "arrowwidth": 1
          },
          "colorscale": {
           "diverging": [
            [
             0,
             "#8e0152"
            ],
            [
             0.1,
             "#c51b7d"
            ],
            [
             0.2,
             "#de77ae"
            ],
            [
             0.3,
             "#f1b6da"
            ],
            [
             0.4,
             "#fde0ef"
            ],
            [
             0.5,
             "#f7f7f7"
            ],
            [
             0.6,
             "#e6f5d0"
            ],
            [
             0.7,
             "#b8e186"
            ],
            [
             0.8,
             "#7fbc41"
            ],
            [
             0.9,
             "#4d9221"
            ],
            [
             1,
             "#276419"
            ]
           ],
           "sequential": [
            [
             0,
             "#0d0887"
            ],
            [
             0.1111111111111111,
             "#46039f"
            ],
            [
             0.2222222222222222,
             "#7201a8"
            ],
            [
             0.3333333333333333,
             "#9c179e"
            ],
            [
             0.4444444444444444,
             "#bd3786"
            ],
            [
             0.5555555555555556,
             "#d8576b"
            ],
            [
             0.6666666666666666,
             "#ed7953"
            ],
            [
             0.7777777777777778,
             "#fb9f3a"
            ],
            [
             0.8888888888888888,
             "#fdca26"
            ],
            [
             1,
             "#f0f921"
            ]
           ],
           "sequentialminus": [
            [
             0,
             "#0d0887"
            ],
            [
             0.1111111111111111,
             "#46039f"
            ],
            [
             0.2222222222222222,
             "#7201a8"
            ],
            [
             0.3333333333333333,
             "#9c179e"
            ],
            [
             0.4444444444444444,
             "#bd3786"
            ],
            [
             0.5555555555555556,
             "#d8576b"
            ],
            [
             0.6666666666666666,
             "#ed7953"
            ],
            [
             0.7777777777777778,
             "#fb9f3a"
            ],
            [
             0.8888888888888888,
             "#fdca26"
            ],
            [
             1,
             "#f0f921"
            ]
           ]
          },
          "colorway": [
           "#636efa",
           "#EF553B",
           "#00cc96",
           "#ab63fa",
           "#FFA15A",
           "#19d3f3",
           "#FF6692",
           "#B6E880",
           "#FF97FF",
           "#FECB52"
          ],
          "font": {
           "color": "#2a3f5f"
          },
          "geo": {
           "bgcolor": "white",
           "lakecolor": "white",
           "landcolor": "#E5ECF6",
           "showlakes": true,
           "showland": true,
           "subunitcolor": "white"
          },
          "hoverlabel": {
           "align": "left"
          },
          "hovermode": "closest",
          "mapbox": {
           "style": "light"
          },
          "paper_bgcolor": "white",
          "plot_bgcolor": "#E5ECF6",
          "polar": {
           "angularaxis": {
            "gridcolor": "white",
            "linecolor": "white",
            "ticks": ""
           },
           "bgcolor": "#E5ECF6",
           "radialaxis": {
            "gridcolor": "white",
            "linecolor": "white",
            "ticks": ""
           }
          },
          "scene": {
           "xaxis": {
            "backgroundcolor": "#E5ECF6",
            "gridcolor": "white",
            "gridwidth": 2,
            "linecolor": "white",
            "showbackground": true,
            "ticks": "",
            "zerolinecolor": "white"
           },
           "yaxis": {
            "backgroundcolor": "#E5ECF6",
            "gridcolor": "white",
            "gridwidth": 2,
            "linecolor": "white",
            "showbackground": true,
            "ticks": "",
            "zerolinecolor": "white"
           },
           "zaxis": {
            "backgroundcolor": "#E5ECF6",
            "gridcolor": "white",
            "gridwidth": 2,
            "linecolor": "white",
            "showbackground": true,
            "ticks": "",
            "zerolinecolor": "white"
           }
          },
          "shapedefaults": {
           "line": {
            "color": "#2a3f5f"
           }
          },
          "ternary": {
           "aaxis": {
            "gridcolor": "white",
            "linecolor": "white",
            "ticks": ""
           },
           "baxis": {
            "gridcolor": "white",
            "linecolor": "white",
            "ticks": ""
           },
           "bgcolor": "#E5ECF6",
           "caxis": {
            "gridcolor": "white",
            "linecolor": "white",
            "ticks": ""
           }
          },
          "title": {
           "x": 0.05
          },
          "xaxis": {
           "automargin": true,
           "gridcolor": "white",
           "linecolor": "white",
           "ticks": "",
           "zerolinecolor": "white",
           "zerolinewidth": 2
          },
          "yaxis": {
           "automargin": true,
           "gridcolor": "white",
           "linecolor": "white",
           "ticks": "",
           "zerolinecolor": "white",
           "zerolinewidth": 2
          }
         }
        },
        "title": {
         "text": "Gastos de Francisco Undurraga Gazitúa "
        }
       }
      },
      "text/html": [
       "<div>\n",
       "        \n",
       "        \n",
       "            <div id=\"e37f94af-83c8-4467-88aa-23b722813771\" class=\"plotly-graph-div\" style=\"height:525px; width:100%;\"></div>\n",
       "            <script type=\"text/javascript\">\n",
       "                require([\"plotly\"], function(Plotly) {\n",
       "                    window.PLOTLYENV=window.PLOTLYENV || {};\n",
       "                    \n",
       "                if (document.getElementById(\"e37f94af-83c8-4467-88aa-23b722813771\")) {\n",
       "                    Plotly.newPlot(\n",
       "                        'e37f94af-83c8-4467-88aa-23b722813771',\n",
       "                        [{\"name\": \"Oficinas parlamentarias (incluye arriendos, consumos b\\u00e1sicos, internet, etc.)  \", \"type\": \"bar\", \"x\": [\"18-enero\", \"18-febrero\", \"18-marzo\", \"18-abril\", \"18-mayo\", \"18-junio\", \"18-julio\", \"18-agosto\", \"18-septiembre\", \"18-octubre\", \"18-noviembre\", \"18-diciembre\", \"19-enero\", \"19-febrero\", \"19-marzo\", \"19-abril\", \"19-mayo\", \"19-junio\", \"19-julio\", \"19-agosto\", \"19-septiembre\", \"19-octubre\", \"19-noviembre\", \"19-diciembre\"], \"y\": [0, 0, 306667, 719000, 615847, 597041, 0, 0, 0, 0, 0, 0, 0, 0, 0, 0, 0, 0, 0, 0, 0, 0, 0, 0]}, {\"name\": \"Traslaci\\u00f3n  \", \"type\": \"bar\", \"x\": [\"18-enero\", \"18-febrero\", \"18-marzo\", \"18-abril\", \"18-mayo\", \"18-junio\", \"18-julio\", \"18-agosto\", \"18-septiembre\", \"18-octubre\", \"18-noviembre\", \"18-diciembre\", \"19-enero\", \"19-febrero\", \"19-marzo\", \"19-abril\", \"19-mayo\", \"19-junio\", \"19-julio\", \"19-agosto\", \"19-septiembre\", \"19-octubre\", \"19-noviembre\", \"19-diciembre\"], \"y\": [0, 0, 0, 0, 0, 0, 0, 0, 0, 0, 0, 0, 2598763, 1279105, 1859509, 2107267, 2166894, 2350016, 0, 0, 0, 0, 0, 0]}, {\"name\": \"Veh\\u00edculos  \", \"type\": \"bar\", \"x\": [\"18-enero\", \"18-febrero\", \"18-marzo\", \"18-abril\", \"18-mayo\", \"18-junio\", \"18-julio\", \"18-agosto\", \"18-septiembre\", \"18-octubre\", \"18-noviembre\", \"18-diciembre\", \"19-enero\", \"19-febrero\", \"19-marzo\", \"19-abril\", \"19-mayo\", \"19-junio\", \"19-julio\", \"19-agosto\", \"19-septiembre\", \"19-octubre\", \"19-noviembre\", \"19-diciembre\"], \"y\": [0, 0, 633022, 993000, 993000, 993000, 800000, 800000, 813884, 816106, 819101, 820083, 0, 0, 0, 0, 0, 0, 0, 0, 0, 0, 0, 0]}, {\"name\": \"Tag y peajes  \", \"type\": \"bar\", \"x\": [\"18-enero\", \"18-febrero\", \"18-marzo\", \"18-abril\", \"18-mayo\", \"18-junio\", \"18-julio\", \"18-agosto\", \"18-septiembre\", \"18-octubre\", \"18-noviembre\", \"18-diciembre\", \"19-enero\", \"19-febrero\", \"19-marzo\", \"19-abril\", \"19-mayo\", \"19-junio\", \"19-julio\", \"19-agosto\", \"19-septiembre\", \"19-octubre\", \"19-noviembre\", \"19-diciembre\"], \"y\": [0, 0, 13850, 39385, 222705, 268297, 248287, 236954, 286973, 199381, 254910, 264872, 0, 0, 0, 0, 0, 0, 0, 0, 0, 0, 0, 0]}, {\"name\": \"Combustible  \", \"type\": \"bar\", \"x\": [\"18-enero\", \"18-febrero\", \"18-marzo\", \"18-abril\", \"18-mayo\", \"18-junio\", \"18-julio\", \"18-agosto\", \"18-septiembre\", \"18-octubre\", \"18-noviembre\", \"18-diciembre\", \"19-enero\", \"19-febrero\", \"19-marzo\", \"19-abril\", \"19-mayo\", \"19-junio\", \"19-julio\", \"19-agosto\", \"19-septiembre\", \"19-octubre\", \"19-noviembre\", \"19-diciembre\"], \"y\": [0, 0, 182508, 179151, 271975, 287138, 289468, 338409, 212808, 339346, 335464, 277864, 0, 0, 0, 0, 0, 0, 0, 0, 0, 0, 0, 0]}, {\"name\": \"Vi\\u00e1ticos  \", \"type\": \"bar\", \"x\": [\"18-enero\", \"18-febrero\", \"18-marzo\", \"18-abril\", \"18-mayo\", \"18-junio\", \"18-julio\", \"18-agosto\", \"18-septiembre\", \"18-octubre\", \"18-noviembre\", \"18-diciembre\", \"19-enero\", \"19-febrero\", \"19-marzo\", \"19-abril\", \"19-mayo\", \"19-junio\", \"19-julio\", \"19-agosto\", \"19-septiembre\", \"19-octubre\", \"19-noviembre\", \"19-diciembre\"], \"y\": [0, 0, 613640, 920448, 1150560, 943452, 0, 0, 0, 0, 0, 0, 0, 0, 0, 0, 0, 0, 0, 0, 0, 0, 0, 0]}, {\"name\": \"Materiales de oficina  \", \"type\": \"bar\", \"x\": [\"18-enero\", \"18-febrero\", \"18-marzo\", \"18-abril\", \"18-mayo\", \"18-junio\", \"18-julio\", \"18-agosto\", \"18-septiembre\", \"18-octubre\", \"18-noviembre\", \"18-diciembre\", \"19-enero\", \"19-febrero\", \"19-marzo\", \"19-abril\", \"19-mayo\", \"19-junio\", \"19-julio\", \"19-agosto\", \"19-septiembre\", \"19-octubre\", \"19-noviembre\", \"19-diciembre\"], \"y\": [0, 0, 46752, 42393, 166710, 13292, 0, 0, 0, 0, 0, 0, 49234, 0, 0, 12852, 33541, 9844, 0, 0, 0, 0, 0, 0]}, {\"name\": \"Difusi\\u00f3n  \", \"type\": \"bar\", \"x\": [\"18-enero\", \"18-febrero\", \"18-marzo\", \"18-abril\", \"18-mayo\", \"18-junio\", \"18-julio\", \"18-agosto\", \"18-septiembre\", \"18-octubre\", \"18-noviembre\", \"18-diciembre\", \"19-enero\", \"19-febrero\", \"19-marzo\", \"19-abril\", \"19-mayo\", \"19-junio\", \"19-julio\", \"19-agosto\", \"19-septiembre\", \"19-octubre\", \"19-noviembre\", \"19-diciembre\"], \"y\": [0, 0, 392700, 0, 109374, 0, 416500, 464832, 0, 2804830, 145910, 95000, 0, 0, 3390000, 696150, 3390000, 0, 0, 0, 0, 0, 0, 0]}, {\"name\": \"Actividades distritales  \", \"type\": \"bar\", \"x\": [\"18-enero\", \"18-febrero\", \"18-marzo\", \"18-abril\", \"18-mayo\", \"18-junio\", \"18-julio\", \"18-agosto\", \"18-septiembre\", \"18-octubre\", \"18-noviembre\", \"18-diciembre\", \"19-enero\", \"19-febrero\", \"19-marzo\", \"19-abril\", \"19-mayo\", \"19-junio\", \"19-julio\", \"19-agosto\", \"19-septiembre\", \"19-octubre\", \"19-noviembre\", \"19-diciembre\"], \"y\": [0, 0, 465500, 665000, 665000, 665000, 0, 0, 0, 0, 0, 0, 0, 0, 0, 0, 0, 0, 0, 0, 0, 0, 0, 0]}, {\"name\": \"Telefon\\u00eda  \", \"type\": \"bar\", \"x\": [\"18-enero\", \"18-febrero\", \"18-marzo\", \"18-abril\", \"18-mayo\", \"18-junio\", \"18-julio\", \"18-agosto\", \"18-septiembre\", \"18-octubre\", \"18-noviembre\", \"18-diciembre\", \"19-enero\", \"19-febrero\", \"19-marzo\", \"19-abril\", \"19-mayo\", \"19-junio\", \"19-julio\", \"19-agosto\", \"19-septiembre\", \"19-octubre\", \"19-noviembre\", \"19-diciembre\"], \"y\": [0, 0, 0, 703903, 92357, 100310, 111347, 134513, 136218, 262501, 128192, 101682, 127818, 100982, 108469, 183411, 633622, 261122, 0, 0, 0, 0, 0, 0]}, {\"name\": \"Servicios y gastos menores  \", \"type\": \"bar\", \"x\": [\"18-enero\", \"18-febrero\", \"18-marzo\", \"18-abril\", \"18-mayo\", \"18-junio\", \"18-julio\", \"18-agosto\", \"18-septiembre\", \"18-octubre\", \"18-noviembre\", \"18-diciembre\", \"19-enero\", \"19-febrero\", \"19-marzo\", \"19-abril\", \"19-mayo\", \"19-junio\", \"19-julio\", \"19-agosto\", \"19-septiembre\", \"19-octubre\", \"19-noviembre\", \"19-diciembre\"], \"y\": [0, 0, 0, 100000, 65000, 87200, 0, 0, 0, 0, 0, 0, 0, 0, 0, 0, 0, 0, 0, 0, 0, 0, 0, 0]}, {\"name\": \"Correspondencia  \", \"type\": \"bar\", \"x\": [\"18-enero\", \"18-febrero\", \"18-marzo\", \"18-abril\", \"18-mayo\", \"18-junio\", \"18-julio\", \"18-agosto\", \"18-septiembre\", \"18-octubre\", \"18-noviembre\", \"18-diciembre\", \"19-enero\", \"19-febrero\", \"19-marzo\", \"19-abril\", \"19-mayo\", \"19-junio\", \"19-julio\", \"19-agosto\", \"19-septiembre\", \"19-octubre\", \"19-noviembre\", \"19-diciembre\"], \"y\": [0, 0, 0, 0, 24720, 31002, 0, 0, 0, 0, 0, 0, 0, 0, 0, 78143, 79853, 565316, 0, 0, 0, 0, 0, 0]}, {\"name\": \"Alojamiento  \", \"type\": \"bar\", \"x\": [\"18-enero\", \"18-febrero\", \"18-marzo\", \"18-abril\", \"18-mayo\", \"18-junio\", \"18-julio\", \"18-agosto\", \"18-septiembre\", \"18-octubre\", \"18-noviembre\", \"18-diciembre\", \"19-enero\", \"19-febrero\", \"19-marzo\", \"19-abril\", \"19-mayo\", \"19-junio\", \"19-julio\", \"19-agosto\", \"19-septiembre\", \"19-octubre\", \"19-noviembre\", \"19-diciembre\"], \"y\": [0, 0, 0, 0, 0, 78540, 258579, 0, 0, 0, 118400, 26990, 0, 0, 0, 0, 0, 0, 0, 0, 0, 0, 0, 0]}, {\"name\": \"Alimentaci\\u00f3n  \", \"type\": \"bar\", \"x\": [\"18-enero\", \"18-febrero\", \"18-marzo\", \"18-abril\", \"18-mayo\", \"18-junio\", \"18-julio\", \"18-agosto\", \"18-septiembre\", \"18-octubre\", \"18-noviembre\", \"18-diciembre\", \"19-enero\", \"19-febrero\", \"19-marzo\", \"19-abril\", \"19-mayo\", \"19-junio\", \"19-julio\", \"19-agosto\", \"19-septiembre\", \"19-octubre\", \"19-noviembre\", \"19-diciembre\"], \"y\": [0, 0, 0, 0, 0, 6680, 21179, 9990, 90670, 44350, 57190, 47190, 0, 0, 0, 0, 0, 0, 0, 0, 0, 0, 0, 0]}, {\"name\": \"Actividades territoriales  \", \"type\": \"bar\", \"x\": [\"18-enero\", \"18-febrero\", \"18-marzo\", \"18-abril\", \"18-mayo\", \"18-junio\", \"18-julio\", \"18-agosto\", \"18-septiembre\", \"18-octubre\", \"18-noviembre\", \"18-diciembre\", \"19-enero\", \"19-febrero\", \"19-marzo\", \"19-abril\", \"19-mayo\", \"19-junio\", \"19-julio\", \"19-agosto\", \"19-septiembre\", \"19-octubre\", \"19-noviembre\", \"19-diciembre\"], \"y\": [0, 0, 0, 0, 0, 0, 1457526, 1054040, 1033881, 841051, 1825666, 1131959, 0, 0, 0, 0, 0, 0, 0, 0, 0, 0, 0, 0]}, {\"name\": \"Vehiculos- amortizacion  \", \"type\": \"bar\", \"x\": [\"18-enero\", \"18-febrero\", \"18-marzo\", \"18-abril\", \"18-mayo\", \"18-junio\", \"18-julio\", \"18-agosto\", \"18-septiembre\", \"18-octubre\", \"18-noviembre\", \"18-diciembre\", \"19-enero\", \"19-febrero\", \"19-marzo\", \"19-abril\", \"19-mayo\", \"19-junio\", \"19-julio\", \"19-agosto\", \"19-septiembre\", \"19-octubre\", \"19-noviembre\", \"19-diciembre\"], \"y\": [0, 0, 0, 0, 0, 0, 193000, 193000, 193000, 193000, 193000, 193000, 0, 0, 0, 0, 0, 0, 0, 0, 0, 0, 0, 0]}, {\"name\": \"Pasajes de movilizaci\\u00f3n  \", \"type\": \"bar\", \"x\": [\"18-enero\", \"18-febrero\", \"18-marzo\", \"18-abril\", \"18-mayo\", \"18-junio\", \"18-julio\", \"18-agosto\", \"18-septiembre\", \"18-octubre\", \"18-noviembre\", \"18-diciembre\", \"19-enero\", \"19-febrero\", \"19-marzo\", \"19-abril\", \"19-mayo\", \"19-junio\", \"19-julio\", \"19-agosto\", \"19-septiembre\", \"19-octubre\", \"19-noviembre\", \"19-diciembre\"], \"y\": [0, 0, 0, 0, 0, 0, 2700, 0, 0, 3500, 16900, 9300, 0, 0, 0, 0, 0, 0, 0, 0, 0, 0, 0, 0]}, {\"name\": \"Vi\\u00e1ticos del diputado  \", \"type\": \"bar\", \"x\": [\"18-enero\", \"18-febrero\", \"18-marzo\", \"18-abril\", \"18-mayo\", \"18-junio\", \"18-julio\", \"18-agosto\", \"18-septiembre\", \"18-octubre\", \"18-noviembre\", \"18-diciembre\", \"19-enero\", \"19-febrero\", \"19-marzo\", \"19-abril\", \"19-mayo\", \"19-junio\", \"19-julio\", \"19-agosto\", \"19-septiembre\", \"19-octubre\", \"19-noviembre\", \"19-diciembre\"], \"y\": [0, 0, 0, 0, 0, 0, 707589, 943452, 786210, 471726, 1022073, 943452, 0, 0, 0, 0, 0, 0, 0, 0, 0, 0, 0, 0]}, {\"name\": \"Traspaso desde gastos operacionales a asignaci\\u00f3n personal de apoyo  \", \"type\": \"bar\", \"x\": [\"18-enero\", \"18-febrero\", \"18-marzo\", \"18-abril\", \"18-mayo\", \"18-junio\", \"18-julio\", \"18-agosto\", \"18-septiembre\", \"18-octubre\", \"18-noviembre\", \"18-diciembre\", \"19-enero\", \"19-febrero\", \"19-marzo\", \"19-abril\", \"19-mayo\", \"19-junio\", \"19-julio\", \"19-agosto\", \"19-septiembre\", \"19-octubre\", \"19-noviembre\", \"19-diciembre\"], \"y\": [0, 0, 0, 0, 0, 0, 0, 0, 0, 0, 0, 0, 0, 0, 0, 0, 0, 0, 0, 0, 0, 0, 0, 0]}, {\"name\": \"Actividades destinadas a la interacci\\u00f3n con la comunidad  \", \"type\": \"bar\", \"x\": [\"18-enero\", \"18-febrero\", \"18-marzo\", \"18-abril\", \"18-mayo\", \"18-junio\", \"18-julio\", \"18-agosto\", \"18-septiembre\", \"18-octubre\", \"18-noviembre\", \"18-diciembre\", \"19-enero\", \"19-febrero\", \"19-marzo\", \"19-abril\", \"19-mayo\", \"19-junio\", \"19-julio\", \"19-agosto\", \"19-septiembre\", \"19-octubre\", \"19-noviembre\", \"19-diciembre\"], \"y\": [0, 0, 0, 0, 0, 0, 0, 0, 0, 0, 0, 0, 0, 0, 0, 0, 0, 0, 0, 0, 0, 0, 0, 0]}, {\"name\": \"Arriendo de inmueble  \", \"type\": \"bar\", \"x\": [\"18-enero\", \"18-febrero\", \"18-marzo\", \"18-abril\", \"18-mayo\", \"18-junio\", \"18-julio\", \"18-agosto\", \"18-septiembre\", \"18-octubre\", \"18-noviembre\", \"18-diciembre\", \"19-enero\", \"19-febrero\", \"19-marzo\", \"19-abril\", \"19-mayo\", \"19-junio\", \"19-julio\", \"19-agosto\", \"19-septiembre\", \"19-octubre\", \"19-noviembre\", \"19-diciembre\"], \"y\": [0, 0, 0, 0, 0, 0, 0, 0, 0, 0, 0, 0, 400000, 400000, 408112, 408112, 408112, 408112, 0, 0, 0, 0, 0, 0]}, {\"name\": \"Consumos b\\u00e1sicos  \", \"type\": \"bar\", \"x\": [\"18-enero\", \"18-febrero\", \"18-marzo\", \"18-abril\", \"18-mayo\", \"18-junio\", \"18-julio\", \"18-agosto\", \"18-septiembre\", \"18-octubre\", \"18-noviembre\", \"18-diciembre\", \"19-enero\", \"19-febrero\", \"19-marzo\", \"19-abril\", \"19-mayo\", \"19-junio\", \"19-julio\", \"19-agosto\", \"19-septiembre\", \"19-octubre\", \"19-noviembre\", \"19-diciembre\"], \"y\": [0, 0, 0, 0, 0, 0, 0, 0, 0, 0, 0, 0, 108904, 131999, 124582, 133496, 136487, 141500, 0, 0, 0, 0, 0, 0]}, {\"name\": \"Equipamiento oficina parlamentaria  \", \"type\": \"bar\", \"x\": [\"18-enero\", \"18-febrero\", \"18-marzo\", \"18-abril\", \"18-mayo\", \"18-junio\", \"18-julio\", \"18-agosto\", \"18-septiembre\", \"18-octubre\", \"18-noviembre\", \"18-diciembre\", \"19-enero\", \"19-febrero\", \"19-marzo\", \"19-abril\", \"19-mayo\", \"19-junio\", \"19-julio\", \"19-agosto\", \"19-septiembre\", \"19-octubre\", \"19-noviembre\", \"19-diciembre\"], \"y\": [0, 0, 0, 0, 0, 0, 0, 0, 0, 0, 0, 0, 0, 0, 81580, 0, 84980, 0, 0, 0, 0, 0, 0, 0]}, {\"name\": \"Gastos de mantenci\\u00f3n oficina parlamentaria (inmueble)  \", \"type\": \"bar\", \"x\": [\"18-enero\", \"18-febrero\", \"18-marzo\", \"18-abril\", \"18-mayo\", \"18-junio\", \"18-julio\", \"18-agosto\", \"18-septiembre\", \"18-octubre\", \"18-noviembre\", \"18-diciembre\", \"19-enero\", \"19-febrero\", \"19-marzo\", \"19-abril\", \"19-mayo\", \"19-junio\", \"19-julio\", \"19-agosto\", \"19-septiembre\", \"19-octubre\", \"19-noviembre\", \"19-diciembre\"], \"y\": [0, 0, 0, 0, 0, 0, 0, 0, 0, 0, 0, 0, 0, 0, 0, 0, 0, 0, 0, 0, 0, 0, 0, 0]}, {\"name\": \"Reparaciones locativas del inmueble  \", \"type\": \"bar\", \"x\": [\"18-enero\", \"18-febrero\", \"18-marzo\", \"18-abril\", \"18-mayo\", \"18-junio\", \"18-julio\", \"18-agosto\", \"18-septiembre\", \"18-octubre\", \"18-noviembre\", \"18-diciembre\", \"19-enero\", \"19-febrero\", \"19-marzo\", \"19-abril\", \"19-mayo\", \"19-junio\", \"19-julio\", \"19-agosto\", \"19-septiembre\", \"19-octubre\", \"19-noviembre\", \"19-diciembre\"], \"y\": [0, 0, 0, 0, 0, 0, 0, 0, 0, 0, 0, 0, 0, 0, 0, 0, 0, 0, 0, 0, 0, 0, 0, 0]}, {\"name\": \"Habilitaci\\u00f3n de sedes parlamentarias (con autorizaci\\u00f3n de crap)  \", \"type\": \"bar\", \"x\": [\"18-enero\", \"18-febrero\", \"18-marzo\", \"18-abril\", \"18-mayo\", \"18-junio\", \"18-julio\", \"18-agosto\", \"18-septiembre\", \"18-octubre\", \"18-noviembre\", \"18-diciembre\", \"19-enero\", \"19-febrero\", \"19-marzo\", \"19-abril\", \"19-mayo\", \"19-junio\", \"19-julio\", \"19-agosto\", \"19-septiembre\", \"19-octubre\", \"19-noviembre\", \"19-diciembre\"], \"y\": [0, 0, 0, 0, 0, 0, 0, 0, 0, 0, 0, 0, 0, 0, 0, 0, 0, 0, 0, 0, 0, 0, 0, 0]}, {\"name\": \"Seguros de bienes  \", \"type\": \"bar\", \"x\": [\"18-enero\", \"18-febrero\", \"18-marzo\", \"18-abril\", \"18-mayo\", \"18-junio\", \"18-julio\", \"18-agosto\", \"18-septiembre\", \"18-octubre\", \"18-noviembre\", \"18-diciembre\", \"19-enero\", \"19-febrero\", \"19-marzo\", \"19-abril\", \"19-mayo\", \"19-junio\", \"19-julio\", \"19-agosto\", \"19-septiembre\", \"19-octubre\", \"19-noviembre\", \"19-diciembre\"], \"y\": [0, 0, 0, 0, 0, 0, 0, 0, 0, 0, 0, 0, 0, 0, 0, 0, 0, 0, 0, 0, 0, 0, 0, 0]}, {\"name\": \"Arriendo de oficinas virtuales  \", \"type\": \"bar\", \"x\": [\"18-enero\", \"18-febrero\", \"18-marzo\", \"18-abril\", \"18-mayo\", \"18-junio\", \"18-julio\", \"18-agosto\", \"18-septiembre\", \"18-octubre\", \"18-noviembre\", \"18-diciembre\", \"19-enero\", \"19-febrero\", \"19-marzo\", \"19-abril\", \"19-mayo\", \"19-junio\", \"19-julio\", \"19-agosto\", \"19-septiembre\", \"19-octubre\", \"19-noviembre\", \"19-diciembre\"], \"y\": [0, 0, 0, 0, 0, 0, 0, 0, 0, 0, 0, 0, 0, 0, 0, 0, 0, 0, 0, 0, 0, 0, 0, 0]}, {\"name\": \"Servicios web  \", \"type\": \"bar\", \"x\": [\"18-enero\", \"18-febrero\", \"18-marzo\", \"18-abril\", \"18-mayo\", \"18-junio\", \"18-julio\", \"18-agosto\", \"18-septiembre\", \"18-octubre\", \"18-noviembre\", \"18-diciembre\", \"19-enero\", \"19-febrero\", \"19-marzo\", \"19-abril\", \"19-mayo\", \"19-junio\", \"19-julio\", \"19-agosto\", \"19-septiembre\", \"19-octubre\", \"19-noviembre\", \"19-diciembre\"], \"y\": [0, 0, 0, 0, 0, 0, 0, 0, 0, 0, 0, 0, 0, 0, 0, 0, 0, 0, 0, 0, 0, 0, 0, 0]}, {\"name\": \"Contrataci\\u00f3n servicio de almacenamiento  \", \"type\": \"bar\", \"x\": [\"18-enero\", \"18-febrero\", \"18-marzo\", \"18-abril\", \"18-mayo\", \"18-junio\", \"18-julio\", \"18-agosto\", \"18-septiembre\", \"18-octubre\", \"18-noviembre\", \"18-diciembre\", \"19-enero\", \"19-febrero\", \"19-marzo\", \"19-abril\", \"19-mayo\", \"19-junio\", \"19-julio\", \"19-agosto\", \"19-septiembre\", \"19-octubre\", \"19-noviembre\", \"19-diciembre\"], \"y\": [0, 0, 0, 0, 0, 0, 0, 0, 0, 0, 0, 0, 0, 0, 0, 0, 0, 0, 0, 0, 0, 0, 0, 0]}, {\"name\": \"Arriendo de oficina m\\u00f3vil  \", \"type\": \"bar\", \"x\": [\"18-enero\", \"18-febrero\", \"18-marzo\", \"18-abril\", \"18-mayo\", \"18-junio\", \"18-julio\", \"18-agosto\", \"18-septiembre\", \"18-octubre\", \"18-noviembre\", \"18-diciembre\", \"19-enero\", \"19-febrero\", \"19-marzo\", \"19-abril\", \"19-mayo\", \"19-junio\", \"19-julio\", \"19-agosto\", \"19-septiembre\", \"19-octubre\", \"19-noviembre\", \"19-diciembre\"], \"y\": [0, 0, 0, 0, 0, 0, 0, 0, 0, 0, 0, 0, 0, 0, 0, 0, 0, 0, 0, 0, 0, 0, 0, 0]}, {\"name\": \"Mantencion y reparaci\\u00f3n de oficina m\\u00f3vil  \", \"type\": \"bar\", \"x\": [\"18-enero\", \"18-febrero\", \"18-marzo\", \"18-abril\", \"18-mayo\", \"18-junio\", \"18-julio\", \"18-agosto\", \"18-septiembre\", \"18-octubre\", \"18-noviembre\", \"18-diciembre\", \"19-enero\", \"19-febrero\", \"19-marzo\", \"19-abril\", \"19-mayo\", \"19-junio\", \"19-julio\", \"19-agosto\", \"19-septiembre\", \"19-octubre\", \"19-noviembre\", \"19-diciembre\"], \"y\": [0, 0, 0, 0, 0, 0, 0, 0, 0, 0, 0, 0, 0, 0, 0, 0, 0, 0, 0, 0, 0, 0, 0, 0]}, {\"name\": \"Servicios menores  \", \"type\": \"bar\", \"x\": [\"18-enero\", \"18-febrero\", \"18-marzo\", \"18-abril\", \"18-mayo\", \"18-junio\", \"18-julio\", \"18-agosto\", \"18-septiembre\", \"18-octubre\", \"18-noviembre\", \"18-diciembre\", \"19-enero\", \"19-febrero\", \"19-marzo\", \"19-abril\", \"19-mayo\", \"19-junio\", \"19-julio\", \"19-agosto\", \"19-septiembre\", \"19-octubre\", \"19-noviembre\", \"19-diciembre\"], \"y\": [0, 0, 0, 0, 0, 0, 0, 0, 0, 0, 0, 0, 239990, 0, 239990, 239990, 239990, 239990, 0, 0, 0, 0, 0, 0]}],\n",
       "                        {\"autosize\": true, \"barmode\": \"stack\", \"showlegend\": false, \"template\": {\"data\": {\"bar\": [{\"error_x\": {\"color\": \"#2a3f5f\"}, \"error_y\": {\"color\": \"#2a3f5f\"}, \"marker\": {\"line\": {\"color\": \"#E5ECF6\", \"width\": 0.5}}, \"type\": \"bar\"}], \"barpolar\": [{\"marker\": {\"line\": {\"color\": \"#E5ECF6\", \"width\": 0.5}}, \"type\": \"barpolar\"}], \"carpet\": [{\"aaxis\": {\"endlinecolor\": \"#2a3f5f\", \"gridcolor\": \"white\", \"linecolor\": \"white\", \"minorgridcolor\": \"white\", \"startlinecolor\": \"#2a3f5f\"}, \"baxis\": {\"endlinecolor\": \"#2a3f5f\", \"gridcolor\": \"white\", \"linecolor\": \"white\", \"minorgridcolor\": \"white\", \"startlinecolor\": \"#2a3f5f\"}, \"type\": \"carpet\"}], \"choropleth\": [{\"colorbar\": {\"outlinewidth\": 0, \"ticks\": \"\"}, \"type\": \"choropleth\"}], \"contour\": [{\"colorbar\": {\"outlinewidth\": 0, \"ticks\": \"\"}, \"colorscale\": [[0.0, \"#0d0887\"], [0.1111111111111111, \"#46039f\"], [0.2222222222222222, \"#7201a8\"], [0.3333333333333333, \"#9c179e\"], [0.4444444444444444, \"#bd3786\"], [0.5555555555555556, \"#d8576b\"], [0.6666666666666666, \"#ed7953\"], [0.7777777777777778, \"#fb9f3a\"], [0.8888888888888888, \"#fdca26\"], [1.0, \"#f0f921\"]], \"type\": \"contour\"}], \"contourcarpet\": [{\"colorbar\": {\"outlinewidth\": 0, \"ticks\": \"\"}, \"type\": \"contourcarpet\"}], \"heatmap\": [{\"colorbar\": {\"outlinewidth\": 0, \"ticks\": \"\"}, \"colorscale\": [[0.0, \"#0d0887\"], [0.1111111111111111, \"#46039f\"], [0.2222222222222222, \"#7201a8\"], [0.3333333333333333, \"#9c179e\"], [0.4444444444444444, \"#bd3786\"], [0.5555555555555556, \"#d8576b\"], [0.6666666666666666, \"#ed7953\"], [0.7777777777777778, \"#fb9f3a\"], [0.8888888888888888, \"#fdca26\"], [1.0, \"#f0f921\"]], \"type\": \"heatmap\"}], \"heatmapgl\": [{\"colorbar\": {\"outlinewidth\": 0, \"ticks\": \"\"}, \"colorscale\": [[0.0, \"#0d0887\"], [0.1111111111111111, \"#46039f\"], [0.2222222222222222, \"#7201a8\"], [0.3333333333333333, \"#9c179e\"], [0.4444444444444444, \"#bd3786\"], [0.5555555555555556, \"#d8576b\"], [0.6666666666666666, \"#ed7953\"], [0.7777777777777778, \"#fb9f3a\"], [0.8888888888888888, \"#fdca26\"], [1.0, \"#f0f921\"]], \"type\": \"heatmapgl\"}], \"histogram\": [{\"marker\": {\"colorbar\": {\"outlinewidth\": 0, \"ticks\": \"\"}}, \"type\": \"histogram\"}], \"histogram2d\": [{\"colorbar\": {\"outlinewidth\": 0, \"ticks\": \"\"}, \"colorscale\": [[0.0, \"#0d0887\"], [0.1111111111111111, \"#46039f\"], [0.2222222222222222, \"#7201a8\"], [0.3333333333333333, \"#9c179e\"], [0.4444444444444444, \"#bd3786\"], [0.5555555555555556, \"#d8576b\"], [0.6666666666666666, \"#ed7953\"], [0.7777777777777778, \"#fb9f3a\"], [0.8888888888888888, \"#fdca26\"], [1.0, \"#f0f921\"]], \"type\": \"histogram2d\"}], \"histogram2dcontour\": [{\"colorbar\": {\"outlinewidth\": 0, \"ticks\": \"\"}, \"colorscale\": [[0.0, \"#0d0887\"], [0.1111111111111111, \"#46039f\"], [0.2222222222222222, \"#7201a8\"], [0.3333333333333333, \"#9c179e\"], [0.4444444444444444, \"#bd3786\"], [0.5555555555555556, \"#d8576b\"], [0.6666666666666666, \"#ed7953\"], [0.7777777777777778, \"#fb9f3a\"], [0.8888888888888888, \"#fdca26\"], [1.0, \"#f0f921\"]], \"type\": \"histogram2dcontour\"}], \"mesh3d\": [{\"colorbar\": {\"outlinewidth\": 0, \"ticks\": \"\"}, \"type\": \"mesh3d\"}], \"parcoords\": [{\"line\": {\"colorbar\": {\"outlinewidth\": 0, \"ticks\": \"\"}}, \"type\": \"parcoords\"}], \"scatter\": [{\"marker\": {\"colorbar\": {\"outlinewidth\": 0, \"ticks\": \"\"}}, \"type\": \"scatter\"}], \"scatter3d\": [{\"line\": {\"colorbar\": {\"outlinewidth\": 0, \"ticks\": \"\"}}, \"marker\": {\"colorbar\": {\"outlinewidth\": 0, \"ticks\": \"\"}}, \"type\": \"scatter3d\"}], \"scattercarpet\": [{\"marker\": {\"colorbar\": {\"outlinewidth\": 0, \"ticks\": \"\"}}, \"type\": \"scattercarpet\"}], \"scattergeo\": [{\"marker\": {\"colorbar\": {\"outlinewidth\": 0, \"ticks\": \"\"}}, \"type\": \"scattergeo\"}], \"scattergl\": [{\"marker\": {\"colorbar\": {\"outlinewidth\": 0, \"ticks\": \"\"}}, \"type\": \"scattergl\"}], \"scattermapbox\": [{\"marker\": {\"colorbar\": {\"outlinewidth\": 0, \"ticks\": \"\"}}, \"type\": \"scattermapbox\"}], \"scatterpolar\": [{\"marker\": {\"colorbar\": {\"outlinewidth\": 0, \"ticks\": \"\"}}, \"type\": \"scatterpolar\"}], \"scatterpolargl\": [{\"marker\": {\"colorbar\": {\"outlinewidth\": 0, \"ticks\": \"\"}}, \"type\": \"scatterpolargl\"}], \"scatterternary\": [{\"marker\": {\"colorbar\": {\"outlinewidth\": 0, \"ticks\": \"\"}}, \"type\": \"scatterternary\"}], \"surface\": [{\"colorbar\": {\"outlinewidth\": 0, \"ticks\": \"\"}, \"colorscale\": [[0.0, \"#0d0887\"], [0.1111111111111111, \"#46039f\"], [0.2222222222222222, \"#7201a8\"], [0.3333333333333333, \"#9c179e\"], [0.4444444444444444, \"#bd3786\"], [0.5555555555555556, \"#d8576b\"], [0.6666666666666666, \"#ed7953\"], [0.7777777777777778, \"#fb9f3a\"], [0.8888888888888888, \"#fdca26\"], [1.0, \"#f0f921\"]], \"type\": \"surface\"}], \"table\": [{\"cells\": {\"fill\": {\"color\": \"#EBF0F8\"}, \"line\": {\"color\": \"white\"}}, \"header\": {\"fill\": {\"color\": \"#C8D4E3\"}, \"line\": {\"color\": \"white\"}}, \"type\": \"table\"}]}, \"layout\": {\"annotationdefaults\": {\"arrowcolor\": \"#2a3f5f\", \"arrowhead\": 0, \"arrowwidth\": 1}, \"colorscale\": {\"diverging\": [[0, \"#8e0152\"], [0.1, \"#c51b7d\"], [0.2, \"#de77ae\"], [0.3, \"#f1b6da\"], [0.4, \"#fde0ef\"], [0.5, \"#f7f7f7\"], [0.6, \"#e6f5d0\"], [0.7, \"#b8e186\"], [0.8, \"#7fbc41\"], [0.9, \"#4d9221\"], [1, \"#276419\"]], \"sequential\": [[0.0, \"#0d0887\"], [0.1111111111111111, \"#46039f\"], [0.2222222222222222, \"#7201a8\"], [0.3333333333333333, \"#9c179e\"], [0.4444444444444444, \"#bd3786\"], [0.5555555555555556, \"#d8576b\"], [0.6666666666666666, \"#ed7953\"], [0.7777777777777778, \"#fb9f3a\"], [0.8888888888888888, \"#fdca26\"], [1.0, \"#f0f921\"]], \"sequentialminus\": [[0.0, \"#0d0887\"], [0.1111111111111111, \"#46039f\"], [0.2222222222222222, \"#7201a8\"], [0.3333333333333333, \"#9c179e\"], [0.4444444444444444, \"#bd3786\"], [0.5555555555555556, \"#d8576b\"], [0.6666666666666666, \"#ed7953\"], [0.7777777777777778, \"#fb9f3a\"], [0.8888888888888888, \"#fdca26\"], [1.0, \"#f0f921\"]]}, \"colorway\": [\"#636efa\", \"#EF553B\", \"#00cc96\", \"#ab63fa\", \"#FFA15A\", \"#19d3f3\", \"#FF6692\", \"#B6E880\", \"#FF97FF\", \"#FECB52\"], \"font\": {\"color\": \"#2a3f5f\"}, \"geo\": {\"bgcolor\": \"white\", \"lakecolor\": \"white\", \"landcolor\": \"#E5ECF6\", \"showlakes\": true, \"showland\": true, \"subunitcolor\": \"white\"}, \"hoverlabel\": {\"align\": \"left\"}, \"hovermode\": \"closest\", \"mapbox\": {\"style\": \"light\"}, \"paper_bgcolor\": \"white\", \"plot_bgcolor\": \"#E5ECF6\", \"polar\": {\"angularaxis\": {\"gridcolor\": \"white\", \"linecolor\": \"white\", \"ticks\": \"\"}, \"bgcolor\": \"#E5ECF6\", \"radialaxis\": {\"gridcolor\": \"white\", \"linecolor\": \"white\", \"ticks\": \"\"}}, \"scene\": {\"xaxis\": {\"backgroundcolor\": \"#E5ECF6\", \"gridcolor\": \"white\", \"gridwidth\": 2, \"linecolor\": \"white\", \"showbackground\": true, \"ticks\": \"\", \"zerolinecolor\": \"white\"}, \"yaxis\": {\"backgroundcolor\": \"#E5ECF6\", \"gridcolor\": \"white\", \"gridwidth\": 2, \"linecolor\": \"white\", \"showbackground\": true, \"ticks\": \"\", \"zerolinecolor\": \"white\"}, \"zaxis\": {\"backgroundcolor\": \"#E5ECF6\", \"gridcolor\": \"white\", \"gridwidth\": 2, \"linecolor\": \"white\", \"showbackground\": true, \"ticks\": \"\", \"zerolinecolor\": \"white\"}}, \"shapedefaults\": {\"line\": {\"color\": \"#2a3f5f\"}}, \"ternary\": {\"aaxis\": {\"gridcolor\": \"white\", \"linecolor\": \"white\", \"ticks\": \"\"}, \"baxis\": {\"gridcolor\": \"white\", \"linecolor\": \"white\", \"ticks\": \"\"}, \"bgcolor\": \"#E5ECF6\", \"caxis\": {\"gridcolor\": \"white\", \"linecolor\": \"white\", \"ticks\": \"\"}}, \"title\": {\"x\": 0.05}, \"xaxis\": {\"automargin\": true, \"gridcolor\": \"white\", \"linecolor\": \"white\", \"ticks\": \"\", \"zerolinecolor\": \"white\", \"zerolinewidth\": 2}, \"yaxis\": {\"automargin\": true, \"gridcolor\": \"white\", \"linecolor\": \"white\", \"ticks\": \"\", \"zerolinecolor\": \"white\", \"zerolinewidth\": 2}}}, \"title\": {\"text\": \"Gastos de Francisco Undurraga Gazit\\u00faa \"}},\n",
       "                        {\"responsive\": true}\n",
       "                    ).then(function(){\n",
       "                            \n",
       "var gd = document.getElementById('e37f94af-83c8-4467-88aa-23b722813771');\n",
       "var x = new MutationObserver(function (mutations, observer) {{\n",
       "        var display = window.getComputedStyle(gd).display;\n",
       "        if (!display || display === 'none') {{\n",
       "            console.log([gd, 'removed!']);\n",
       "            Plotly.purge(gd);\n",
       "            observer.disconnect();\n",
       "        }}\n",
       "}});\n",
       "\n",
       "// Listen for the removal of the full notebook cells\n",
       "var notebookContainer = gd.closest('#notebook-container');\n",
       "if (notebookContainer) {{\n",
       "    x.observe(notebookContainer, {childList: true});\n",
       "}}\n",
       "\n",
       "// Listen for the clearing of the current output cell\n",
       "var outputEl = gd.closest('.output');\n",
       "if (outputEl) {{\n",
       "    x.observe(outputEl, {childList: true});\n",
       "}}\n",
       "\n",
       "                        })\n",
       "                };\n",
       "                });\n",
       "            </script>\n",
       "        </div>"
      ]
     },
     "metadata": {},
     "output_type": "display_data"
    }
   ],
   "source": [
    "get_all_info(1081)"
   ]
  },
  {
   "cell_type": "code",
   "execution_count": null,
   "metadata": {},
   "outputs": [],
   "source": []
  }
 ],
 "metadata": {
  "kernelspec": {
   "display_name": "Python 3",
   "language": "python",
   "name": "python3"
  },
  "language_info": {
   "codemirror_mode": {
    "name": "ipython",
    "version": 3
   },
   "file_extension": ".py",
   "mimetype": "text/x-python",
   "name": "python",
   "nbconvert_exporter": "python",
   "pygments_lexer": "ipython3",
   "version": "3.7.3"
  }
 },
 "nbformat": 4,
 "nbformat_minor": 2
}
